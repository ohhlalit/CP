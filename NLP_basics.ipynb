{
 "cells": [
  {
   "cell_type": "code",
   "execution_count": 7,
   "metadata": {},
   "outputs": [],
   "source": [
    "import nltk\n"
   ]
  },
  {
   "cell_type": "code",
   "execution_count": 6,
   "metadata": {},
   "outputs": [],
   "source": [
    "para = \"\"\"Excellencies Honourable Minister Mr. Harbers; \n",
    "Special Representative of the United Nations Secretary General, Ms. Mami Mizutori\n",
    "Honourable Deputy Minister Dr. Jati,\n",
    "Representatives from the Coalition Members and honourable delegates from across the globe; \n",
    "Ladies and Gentlemen;\n",
    "Greetings!\n",
    "I am delighted to be here with you at the 5th edition of the International Conference on Disaster Resilient Infrastructure. Over the last five years, ICDRI and other similar forums have sustained and amplified the conversation on disaster resilient infrastructure. \n",
    "\n",
    "It is no longer a niche subject. It has come to the centre stage of the global and national development discourse.\n",
    "\n",
    "Over the past few years, we have developed a better appreciation of the problem. The modern Infrastructure systems are interconnected. We need to rapidly provide infrastructure services to millions who have never had access to these services while also ensuring resilience of these systems.  This has to be achieved in the midst of rapidly changing social, economic, and natural systems.\n",
    "\n",
    "The natural progression of this discourse would be to go beyond describing the problem to finding solutions.\n",
    "\n",
    "I would like to congratulate CDRI for focusing this edition of their annual conference on the search for solutions.\n",
    "\n",
    "Let me highlight five themes, that in my view, should underpin our search for solutions:\n",
    "\n",
    "First, we must recognise that modern institutions that imbibe systemic thinking are the most important pre-requisite for success. We cannot use the institutional approaches of the 20th century to solve the problems of the 21st century. Let me illustrate this with an example. India’s National Master Plan for Multi-modal Connectivity (Pradhānmantrī Gatī Shaktī) is a unique conceptual and operational framework that brings together all relevant ministries and departments of Government of India and even State governments for a more holistic and integrated planning of projects.\n",
    "\n",
    "It is not easy to interconnect ministries of roadways, railways, airways, and waterways -- each with a century or more of established institutions and ways of doing business. But without the hard work of building future-ready institutions we will achieve neither efficiency nor resilience over the long term. In essence, we must focus as much, if not more, on institutional innovation as on technological innovation.\n",
    "\n",
    "Second, we have to carefully think about optionality in our infrastructure systems. In the midst of multiple transitions, we must be able to pursue an iterative approach and respond to emerging scenarios. If the future is uncertain, then we cannot lock ourselves into only one way of doing things.\n",
    "\n",
    "Third, modernizing our institutions and being nimble footed would require the type of capacities that the world – both in the south and in the north – presently lacks. We need professionals that are deeply steeped in their disciplines but that are comfortable to work at the intersection of multiple and diverse disciplines.\n",
    "\n",
    "We need engineers who understand social and economic concerns and we need social scientists who appreciate the promise of technology. In this regard, the CDRI initiative to launch a multi-disciplinary academic network for resilient infrastructure can play a pivotal role.\n",
    "\n",
    "Fourth, while we want to facilitate north-south, south-south, north-north exchange, a large part of the infrastructure services will have to be delivered in the south.  Therefore, in our search for solutions we must focus on affordability, scalability and sustainability for the emerging economies.\n",
    "\n",
    "And finally, as is being increasingly recognized, it is important to measure outcomes in terms of reliable infrastructure services to people as opposed to only in terms of creation of hard assets.\n",
    "\n",
    "In summary, if we focus on modernising our institutions, maintain optionality, create multi-disciplinary capacities, focus on what works for emerging economies, and put people at the centre, we will be able to develop pathways for resilient infrastructure for our future generations.\n",
    "\n",
    "We are living through unprecedented times, marked by complex challenges and uncertainties. At the same time we have unparalleled possibilities. There is global momentum on resilience issues.\n",
    "\n",
    "Just last week G20 countries met for the first time to discuss disaster risk reduction issues. In less than two months the UN will convene the high-level political forum to discuss progress on Sendai Framework. \n",
    "\n",
    "This is a moment of great opportunity. Let us seize it.\n",
    "\n",
    "Thank you!\"\"\""
   ]
  },
  {
   "cell_type": "code",
   "execution_count": 9,
   "metadata": {},
   "outputs": [
    {
     "name": "stderr",
     "output_type": "stream",
     "text": [
      "[nltk_data] Downloading package punkt to\n",
      "[nltk_data]     C:\\Users\\hp\\AppData\\Roaming\\nltk_data...\n",
      "[nltk_data]   Package punkt is already up-to-date!\n"
     ]
    },
    {
     "data": {
      "text/plain": [
       "True"
      ]
     },
     "execution_count": 9,
     "metadata": {},
     "output_type": "execute_result"
    }
   ],
   "source": [
    "nltk.download(\"punkt\")"
   ]
  },
  {
   "cell_type": "code",
   "execution_count": 33,
   "metadata": {},
   "outputs": [],
   "source": [
    "sentence = nltk.sent_tokenize(para)"
   ]
  },
  {
   "cell_type": "code",
   "execution_count": 34,
   "metadata": {},
   "outputs": [
    {
     "data": {
      "text/plain": [
       "['Excellencies Honourable Minister Mr. Harbers; \\nSpecial Representative of the United Nations Secretary General, Ms. Mami Mizutori\\nHonourable Deputy Minister Dr. Jati,\\nRepresentatives from the Coalition Members and honourable delegates from across the globe; \\nLadies and Gentlemen;\\nGreetings!',\n",
       " 'I am delighted to be here with you at the 5th edition of the International Conference on Disaster Resilient Infrastructure.',\n",
       " 'Over the last five years, ICDRI and other similar forums have sustained and amplified the conversation on disaster resilient infrastructure.',\n",
       " 'It is no longer a niche subject.',\n",
       " 'It has come to the centre stage of the global and national development discourse.',\n",
       " 'Over the past few years, we have developed a better appreciation of the problem.',\n",
       " 'The modern Infrastructure systems are interconnected.',\n",
       " 'We need to rapidly provide infrastructure services to millions who have never had access to these services while also ensuring resilience of these systems.',\n",
       " 'This has to be achieved in the midst of rapidly changing social, economic, and natural systems.',\n",
       " 'The natural progression of this discourse would be to go beyond describing the problem to finding solutions.',\n",
       " 'I would like to congratulate CDRI for focusing this edition of their annual conference on the search for solutions.',\n",
       " 'Let me highlight five themes, that in my view, should underpin our search for solutions:\\n\\nFirst, we must recognise that modern institutions that imbibe systemic thinking are the most important pre-requisite for success.',\n",
       " 'We cannot use the institutional approaches of the 20th century to solve the problems of the 21st century.',\n",
       " 'Let me illustrate this with an example.',\n",
       " 'India’s National Master Plan for Multi-modal Connectivity (Pradhānmantrī Gatī Shaktī) is a unique conceptual and operational framework that brings together all relevant ministries and departments of Government of India and even State governments for a more holistic and integrated planning of projects.',\n",
       " 'It is not easy to interconnect ministries of roadways, railways, airways, and waterways -- each with a century or more of established institutions and ways of doing business.',\n",
       " 'But without the hard work of building future-ready institutions we will achieve neither efficiency nor resilience over the long term.',\n",
       " 'In essence, we must focus as much, if not more, on institutional innovation as on technological innovation.',\n",
       " 'Second, we have to carefully think about optionality in our infrastructure systems.',\n",
       " 'In the midst of multiple transitions, we must be able to pursue an iterative approach and respond to emerging scenarios.',\n",
       " 'If the future is uncertain, then we cannot lock ourselves into only one way of doing things.',\n",
       " 'Third, modernizing our institutions and being nimble footed would require the type of capacities that the world – both in the south and in the north – presently lacks.',\n",
       " 'We need professionals that are deeply steeped in their disciplines but that are comfortable to work at the intersection of multiple and diverse disciplines.',\n",
       " 'We need engineers who understand social and economic concerns and we need social scientists who appreciate the promise of technology.',\n",
       " 'In this regard, the CDRI initiative to launch a multi-disciplinary academic network for resilient infrastructure can play a pivotal role.',\n",
       " 'Fourth, while we want to facilitate north-south, south-south, north-north exchange, a large part of the infrastructure services will have to be delivered in the south.',\n",
       " 'Therefore, in our search for solutions we must focus on affordability, scalability and sustainability for the emerging economies.',\n",
       " 'And finally, as is being increasingly recognized, it is important to measure outcomes in terms of reliable infrastructure services to people as opposed to only in terms of creation of hard assets.',\n",
       " 'In summary, if we focus on modernising our institutions, maintain optionality, create multi-disciplinary capacities, focus on what works for emerging economies, and put people at the centre, we will be able to develop pathways for resilient infrastructure for our future generations.',\n",
       " 'We are living through unprecedented times, marked by complex challenges and uncertainties.',\n",
       " 'At the same time we have unparalleled possibilities.',\n",
       " 'There is global momentum on resilience issues.',\n",
       " 'Just last week G20 countries met for the first time to discuss disaster risk reduction issues.',\n",
       " 'In less than two months the UN will convene the high-level political forum to discuss progress on Sendai Framework.',\n",
       " 'This is a moment of great opportunity.',\n",
       " 'Let us seize it.',\n",
       " 'Thank you!']"
      ]
     },
     "execution_count": 34,
     "metadata": {},
     "output_type": "execute_result"
    }
   ],
   "source": [
    "sentence"
   ]
  },
  {
   "cell_type": "code",
   "execution_count": 13,
   "metadata": {},
   "outputs": [
    {
     "name": "stdout",
     "output_type": "stream",
     "text": [
      "['Excellencies', 'Honourable', 'Minister', 'Mr.', 'Harbers', ';', 'Special', 'Representative', 'of', 'the', 'United', 'Nations', 'Secretary', 'General', ',', 'Ms.', 'Mami', 'Mizutori', 'Honourable', 'Deputy', 'Minister', 'Dr.', 'Jati', ',', 'Representatives', 'from', 'the', 'Coalition', 'Members', 'and', 'honourable', 'delegates', 'from', 'across', 'the', 'globe', ';', 'Ladies', 'and', 'Gentlemen', ';', 'Greetings', '!']\n",
      "['I', 'am', 'delighted', 'to', 'be', 'here', 'with', 'you', 'at', 'the', '5th', 'edition', 'of', 'the', 'International', 'Conference', 'on', 'Disaster', 'Resilient', 'Infrastructure', '.']\n",
      "['Over', 'the', 'last', 'five', 'years', ',', 'ICDRI', 'and', 'other', 'similar', 'forums', 'have', 'sustained', 'and', 'amplified', 'the', 'conversation', 'on', 'disaster', 'resilient', 'infrastructure', '.']\n",
      "['It', 'is', 'no', 'longer', 'a', 'niche', 'subject', '.']\n",
      "['It', 'has', 'come', 'to', 'the', 'centre', 'stage', 'of', 'the', 'global', 'and', 'national', 'development', 'discourse', '.']\n",
      "['Over', 'the', 'past', 'few', 'years', ',', 'we', 'have', 'developed', 'a', 'better', 'appreciation', 'of', 'the', 'problem', '.']\n",
      "['The', 'modern', 'Infrastructure', 'systems', 'are', 'interconnected', '.']\n",
      "['We', 'need', 'to', 'rapidly', 'provide', 'infrastructure', 'services', 'to', 'millions', 'who', 'have', 'never', 'had', 'access', 'to', 'these', 'services', 'while', 'also', 'ensuring', 'resilience', 'of', 'these', 'systems', '.']\n",
      "['This', 'has', 'to', 'be', 'achieved', 'in', 'the', 'midst', 'of', 'rapidly', 'changing', 'social', ',', 'economic', ',', 'and', 'natural', 'systems', '.']\n",
      "['The', 'natural', 'progression', 'of', 'this', 'discourse', 'would', 'be', 'to', 'go', 'beyond', 'describing', 'the', 'problem', 'to', 'finding', 'solutions', '.']\n",
      "['I', 'would', 'like', 'to', 'congratulate', 'CDRI', 'for', 'focusing', 'this', 'edition', 'of', 'their', 'annual', 'conference', 'on', 'the', 'search', 'for', 'solutions', '.']\n",
      "['Let', 'me', 'highlight', 'five', 'themes', ',', 'that', 'in', 'my', 'view', ',', 'should', 'underpin', 'our', 'search', 'for', 'solutions', ':', 'First', ',', 'we', 'must', 'recognise', 'that', 'modern', 'institutions', 'that', 'imbibe', 'systemic', 'thinking', 'are', 'the', 'most', 'important', 'pre-requisite', 'for', 'success', '.']\n",
      "['We', 'can', 'not', 'use', 'the', 'institutional', 'approaches', 'of', 'the', '20th', 'century', 'to', 'solve', 'the', 'problems', 'of', 'the', '21st', 'century', '.']\n",
      "['Let', 'me', 'illustrate', 'this', 'with', 'an', 'example', '.']\n",
      "['India', '’', 's', 'National', 'Master', 'Plan', 'for', 'Multi-modal', 'Connectivity', '(', 'Pradhānmantrī', 'Gatī', 'Shaktī', ')', 'is', 'a', 'unique', 'conceptual', 'and', 'operational', 'framework', 'that', 'brings', 'together', 'all', 'relevant', 'ministries', 'and', 'departments', 'of', 'Government', 'of', 'India', 'and', 'even', 'State', 'governments', 'for', 'a', 'more', 'holistic', 'and', 'integrated', 'planning', 'of', 'projects', '.']\n",
      "['It', 'is', 'not', 'easy', 'to', 'interconnect', 'ministries', 'of', 'roadways', ',', 'railways', ',', 'airways', ',', 'and', 'waterways', '--', 'each', 'with', 'a', 'century', 'or', 'more', 'of', 'established', 'institutions', 'and', 'ways', 'of', 'doing', 'business', '.']\n",
      "['But', 'without', 'the', 'hard', 'work', 'of', 'building', 'future-ready', 'institutions', 'we', 'will', 'achieve', 'neither', 'efficiency', 'nor', 'resilience', 'over', 'the', 'long', 'term', '.']\n",
      "['In', 'essence', ',', 'we', 'must', 'focus', 'as', 'much', ',', 'if', 'not', 'more', ',', 'on', 'institutional', 'innovation', 'as', 'on', 'technological', 'innovation', '.']\n",
      "['Second', ',', 'we', 'have', 'to', 'carefully', 'think', 'about', 'optionality', 'in', 'our', 'infrastructure', 'systems', '.']\n",
      "['In', 'the', 'midst', 'of', 'multiple', 'transitions', ',', 'we', 'must', 'be', 'able', 'to', 'pursue', 'an', 'iterative', 'approach', 'and', 'respond', 'to', 'emerging', 'scenarios', '.']\n",
      "['If', 'the', 'future', 'is', 'uncertain', ',', 'then', 'we', 'can', 'not', 'lock', 'ourselves', 'into', 'only', 'one', 'way', 'of', 'doing', 'things', '.']\n",
      "['Third', ',', 'modernizing', 'our', 'institutions', 'and', 'being', 'nimble', 'footed', 'would', 'require', 'the', 'type', 'of', 'capacities', 'that', 'the', 'world', '–', 'both', 'in', 'the', 'south', 'and', 'in', 'the', 'north', '–', 'presently', 'lacks', '.']\n",
      "['We', 'need', 'professionals', 'that', 'are', 'deeply', 'steeped', 'in', 'their', 'disciplines', 'but', 'that', 'are', 'comfortable', 'to', 'work', 'at', 'the', 'intersection', 'of', 'multiple', 'and', 'diverse', 'disciplines', '.']\n",
      "['We', 'need', 'engineers', 'who', 'understand', 'social', 'and', 'economic', 'concerns', 'and', 'we', 'need', 'social', 'scientists', 'who', 'appreciate', 'the', 'promise', 'of', 'technology', '.']\n",
      "['In', 'this', 'regard', ',', 'the', 'CDRI', 'initiative', 'to', 'launch', 'a', 'multi-disciplinary', 'academic', 'network', 'for', 'resilient', 'infrastructure', 'can', 'play', 'a', 'pivotal', 'role', '.']\n",
      "['Fourth', ',', 'while', 'we', 'want', 'to', 'facilitate', 'north-south', ',', 'south-south', ',', 'north-north', 'exchange', ',', 'a', 'large', 'part', 'of', 'the', 'infrastructure', 'services', 'will', 'have', 'to', 'be', 'delivered', 'in', 'the', 'south', '.']\n",
      "['Therefore', ',', 'in', 'our', 'search', 'for', 'solutions', 'we', 'must', 'focus', 'on', 'affordability', ',', 'scalability', 'and', 'sustainability', 'for', 'the', 'emerging', 'economies', '.']\n",
      "['And', 'finally', ',', 'as', 'is', 'being', 'increasingly', 'recognized', ',', 'it', 'is', 'important', 'to', 'measure', 'outcomes', 'in', 'terms', 'of', 'reliable', 'infrastructure', 'services', 'to', 'people', 'as', 'opposed', 'to', 'only', 'in', 'terms', 'of', 'creation', 'of', 'hard', 'assets', '.']\n",
      "['In', 'summary', ',', 'if', 'we', 'focus', 'on', 'modernising', 'our', 'institutions', ',', 'maintain', 'optionality', ',', 'create', 'multi-disciplinary', 'capacities', ',', 'focus', 'on', 'what', 'works', 'for', 'emerging', 'economies', ',', 'and', 'put', 'people', 'at', 'the', 'centre', ',', 'we', 'will', 'be', 'able', 'to', 'develop', 'pathways', 'for', 'resilient', 'infrastructure', 'for', 'our', 'future', 'generations', '.']\n",
      "['We', 'are', 'living', 'through', 'unprecedented', 'times', ',', 'marked', 'by', 'complex', 'challenges', 'and', 'uncertainties', '.']\n",
      "['At', 'the', 'same', 'time', 'we', 'have', 'unparalleled', 'possibilities', '.']\n",
      "['There', 'is', 'global', 'momentum', 'on', 'resilience', 'issues', '.']\n",
      "['Just', 'last', 'week', 'G20', 'countries', 'met', 'for', 'the', 'first', 'time', 'to', 'discuss', 'disaster', 'risk', 'reduction', 'issues', '.']\n",
      "['In', 'less', 'than', 'two', 'months', 'the', 'UN', 'will', 'convene', 'the', 'high-level', 'political', 'forum', 'to', 'discuss', 'progress', 'on', 'Sendai', 'Framework', '.']\n",
      "['This', 'is', 'a', 'moment', 'of', 'great', 'opportunity', '.']\n",
      "['Let', 'us', 'seize', 'it', '.']\n",
      "['Thank', 'you', '!']\n"
     ]
    }
   ],
   "source": [
    "\n",
    "for word in sentence:\n",
    "    print(nltk.word_tokenize(str(word))) "
   ]
  },
  {
   "cell_type": "code",
   "execution_count": 16,
   "metadata": {},
   "outputs": [
    {
     "name": "stderr",
     "output_type": "stream",
     "text": [
      "[nltk_data] Downloading package stopwords to\n",
      "[nltk_data]     C:\\Users\\hp\\AppData\\Roaming\\nltk_data...\n",
      "[nltk_data]   Unzipping corpora\\stopwords.zip.\n"
     ]
    },
    {
     "data": {
      "text/plain": [
       "True"
      ]
     },
     "execution_count": 16,
     "metadata": {},
     "output_type": "execute_result"
    }
   ],
   "source": [
    "nltk.download(\"stopwords\")"
   ]
  },
  {
   "cell_type": "code",
   "execution_count": 17,
   "metadata": {},
   "outputs": [],
   "source": [
    "from nltk.stem import PorterStemmer\n",
    "from nltk.corpus import stopwords"
   ]
  },
  {
   "cell_type": "code",
   "execution_count": 18,
   "metadata": {},
   "outputs": [
    {
     "data": {
      "text/plain": [
       "['i',\n",
       " 'me',\n",
       " 'my',\n",
       " 'myself',\n",
       " 'we',\n",
       " 'our',\n",
       " 'ours',\n",
       " 'ourselves',\n",
       " 'you',\n",
       " \"you're\",\n",
       " \"you've\",\n",
       " \"you'll\",\n",
       " \"you'd\",\n",
       " 'your',\n",
       " 'yours',\n",
       " 'yourself',\n",
       " 'yourselves',\n",
       " 'he',\n",
       " 'him',\n",
       " 'his',\n",
       " 'himself',\n",
       " 'she',\n",
       " \"she's\",\n",
       " 'her',\n",
       " 'hers',\n",
       " 'herself',\n",
       " 'it',\n",
       " \"it's\",\n",
       " 'its',\n",
       " 'itself',\n",
       " 'they',\n",
       " 'them',\n",
       " 'their',\n",
       " 'theirs',\n",
       " 'themselves',\n",
       " 'what',\n",
       " 'which',\n",
       " 'who',\n",
       " 'whom',\n",
       " 'this',\n",
       " 'that',\n",
       " \"that'll\",\n",
       " 'these',\n",
       " 'those',\n",
       " 'am',\n",
       " 'is',\n",
       " 'are',\n",
       " 'was',\n",
       " 'were',\n",
       " 'be',\n",
       " 'been',\n",
       " 'being',\n",
       " 'have',\n",
       " 'has',\n",
       " 'had',\n",
       " 'having',\n",
       " 'do',\n",
       " 'does',\n",
       " 'did',\n",
       " 'doing',\n",
       " 'a',\n",
       " 'an',\n",
       " 'the',\n",
       " 'and',\n",
       " 'but',\n",
       " 'if',\n",
       " 'or',\n",
       " 'because',\n",
       " 'as',\n",
       " 'until',\n",
       " 'while',\n",
       " 'of',\n",
       " 'at',\n",
       " 'by',\n",
       " 'for',\n",
       " 'with',\n",
       " 'about',\n",
       " 'against',\n",
       " 'between',\n",
       " 'into',\n",
       " 'through',\n",
       " 'during',\n",
       " 'before',\n",
       " 'after',\n",
       " 'above',\n",
       " 'below',\n",
       " 'to',\n",
       " 'from',\n",
       " 'up',\n",
       " 'down',\n",
       " 'in',\n",
       " 'out',\n",
       " 'on',\n",
       " 'off',\n",
       " 'over',\n",
       " 'under',\n",
       " 'again',\n",
       " 'further',\n",
       " 'then',\n",
       " 'once',\n",
       " 'here',\n",
       " 'there',\n",
       " 'when',\n",
       " 'where',\n",
       " 'why',\n",
       " 'how',\n",
       " 'all',\n",
       " 'any',\n",
       " 'both',\n",
       " 'each',\n",
       " 'few',\n",
       " 'more',\n",
       " 'most',\n",
       " 'other',\n",
       " 'some',\n",
       " 'such',\n",
       " 'no',\n",
       " 'nor',\n",
       " 'not',\n",
       " 'only',\n",
       " 'own',\n",
       " 'same',\n",
       " 'so',\n",
       " 'than',\n",
       " 'too',\n",
       " 'very',\n",
       " 's',\n",
       " 't',\n",
       " 'can',\n",
       " 'will',\n",
       " 'just',\n",
       " 'don',\n",
       " \"don't\",\n",
       " 'should',\n",
       " \"should've\",\n",
       " 'now',\n",
       " 'd',\n",
       " 'll',\n",
       " 'm',\n",
       " 'o',\n",
       " 're',\n",
       " 've',\n",
       " 'y',\n",
       " 'ain',\n",
       " 'aren',\n",
       " \"aren't\",\n",
       " 'couldn',\n",
       " \"couldn't\",\n",
       " 'didn',\n",
       " \"didn't\",\n",
       " 'doesn',\n",
       " \"doesn't\",\n",
       " 'hadn',\n",
       " \"hadn't\",\n",
       " 'hasn',\n",
       " \"hasn't\",\n",
       " 'haven',\n",
       " \"haven't\",\n",
       " 'isn',\n",
       " \"isn't\",\n",
       " 'ma',\n",
       " 'mightn',\n",
       " \"mightn't\",\n",
       " 'mustn',\n",
       " \"mustn't\",\n",
       " 'needn',\n",
       " \"needn't\",\n",
       " 'shan',\n",
       " \"shan't\",\n",
       " 'shouldn',\n",
       " \"shouldn't\",\n",
       " 'wasn',\n",
       " \"wasn't\",\n",
       " 'weren',\n",
       " \"weren't\",\n",
       " 'won',\n",
       " \"won't\",\n",
       " 'wouldn',\n",
       " \"wouldn't\"]"
      ]
     },
     "execution_count": 18,
     "metadata": {},
     "output_type": "execute_result"
    }
   ],
   "source": [
    "stopwords.words(\"english\")"
   ]
  },
  {
   "cell_type": "code",
   "execution_count": 20,
   "metadata": {},
   "outputs": [],
   "source": [
    "# Create an object stemmer \n",
    "stemmer = PorterStemmer()"
   ]
  },
  {
   "cell_type": "code",
   "execution_count": 21,
   "metadata": {},
   "outputs": [],
   "source": [
    "for i in range(len(sentence)):\n",
    "    words = nltk.word_tokenize(sentence[i])\n",
    "    words = [stemmer.stem(word) for word in words if word  not in set(stopwords.words(\"english\"))]\n",
    "    sentence[i] = \" \".join(words)"
   ]
  },
  {
   "cell_type": "code",
   "execution_count": 23,
   "metadata": {},
   "outputs": [
    {
     "data": {
      "text/plain": [
       "['excel honour minist mr. harber ; special repres unit nation secretari gener , ms. mami mizutori honour deputi minist dr. jati , repres coalit member honour deleg across globe ; ladi gentlemen ; greet !',\n",
       " 'i delight 5th edit intern confer disast resili infrastructur .',\n",
       " 'over last five year , icdri similar forum sustain amplifi convers disast resili infrastructur .',\n",
       " 'it longer nich subject .',\n",
       " 'it come centr stage global nation develop discours .',\n",
       " 'over past year , develop better appreci problem .',\n",
       " 'the modern infrastructur system interconnect .',\n",
       " 'we need rapidli provid infrastructur servic million never access servic also ensur resili system .',\n",
       " 'thi achiev midst rapidli chang social , econom , natur system .',\n",
       " 'the natur progress discours would go beyond describ problem find solut .',\n",
       " 'i would like congratul cdri focus edit annual confer search solut .',\n",
       " 'let highlight five theme , view , underpin search solut : first , must recognis modern institut imbib system think import pre-requisit success .',\n",
       " 'we use institut approach 20th centuri solv problem 21st centuri .',\n",
       " 'let illustr exampl .',\n",
       " 'india ’ nation master plan multi-mod connect ( pradhānmantrī gatī shaktī ) uniqu conceptu oper framework bring togeth relev ministri depart govern india even state govern holist integr plan project .',\n",
       " 'it easi interconnect ministri roadway , railway , airway , waterway -- centuri establish institut way busi .',\n",
       " 'but without hard work build future-readi institut achiev neither effici resili long term .',\n",
       " 'in essenc , must focu much , , institut innov technolog innov .',\n",
       " 'second , care think option infrastructur system .',\n",
       " 'in midst multipl transit , must abl pursu iter approach respond emerg scenario .',\n",
       " 'if futur uncertain , lock one way thing .',\n",
       " 'third , modern institut nimbl foot would requir type capac world – south north – present lack .',\n",
       " 'we need profession deepli steep disciplin comfort work intersect multipl divers disciplin .',\n",
       " 'we need engin understand social econom concern need social scientist appreci promis technolog .',\n",
       " 'in regard , cdri initi launch multi-disciplinari academ network resili infrastructur play pivot role .',\n",
       " 'fourth , want facilit north-south , south-south , north-north exchang , larg part infrastructur servic deliv south .',\n",
       " 'therefor , search solut must focu afford , scalabl sustain emerg economi .',\n",
       " 'and final , increasingli recogn , import measur outcom term reliabl infrastructur servic peopl oppos term creation hard asset .',\n",
       " 'in summari , focu modernis institut , maintain option , creat multi-disciplinari capac , focu work emerg economi , put peopl centr , abl develop pathway resili infrastructur futur gener .',\n",
       " 'we live unpreced time , mark complex challeng uncertainti .',\n",
       " 'at time unparallel possibl .',\n",
       " 'there global momentum resili issu .',\n",
       " 'just last week g20 countri met first time discuss disast risk reduct issu .',\n",
       " 'in less two month un conven high-level polit forum discuss progress sendai framework .',\n",
       " 'thi moment great opportun .',\n",
       " 'let us seiz .',\n",
       " 'thank !']"
      ]
     },
     "execution_count": 23,
     "metadata": {},
     "output_type": "execute_result"
    }
   ],
   "source": [
    "sentence"
   ]
  },
  {
   "cell_type": "code",
   "execution_count": 27,
   "metadata": {},
   "outputs": [
    {
     "name": "stderr",
     "output_type": "stream",
     "text": [
      "[nltk_data] Downloading package wordnet to\n",
      "[nltk_data]     C:\\Users\\hp\\AppData\\Roaming\\nltk_data...\n"
     ]
    },
    {
     "data": {
      "text/plain": [
       "True"
      ]
     },
     "execution_count": 27,
     "metadata": {},
     "output_type": "execute_result"
    }
   ],
   "source": [
    "nltk.download('wordnet')"
   ]
  },
  {
   "cell_type": "code",
   "execution_count": 24,
   "metadata": {},
   "outputs": [],
   "source": [
    "# Lemmatizaion \n",
    "from nltk.stem import WordNetLemmatizer"
   ]
  },
  {
   "cell_type": "code",
   "execution_count": 25,
   "metadata": {},
   "outputs": [],
   "source": [
    "# Initiate an object \n",
    "lemmatizer = WordNetLemmatizer()"
   ]
  },
  {
   "cell_type": "code",
   "execution_count": 28,
   "metadata": {},
   "outputs": [],
   "source": [
    "for i in range(len(sentence)):\n",
    "    words = nltk.word_tokenize(sentence[i])\n",
    "    words = [lemmatizer.lemmatize(word) for word in words if word  not in set(stopwords.words(\"english\"))]\n",
    "    sentence[i] = \" \".join(words)"
   ]
  },
  {
   "cell_type": "code",
   "execution_count": 29,
   "metadata": {},
   "outputs": [
    {
     "data": {
      "text/plain": [
       "['excel honour minist mr. harber ; special repres unit nation secretari gener , ms. mami mizutori honour deputi minist dr. jati , repres coalit member honour deleg across globe ; ladi gentleman ; greet !',\n",
       " 'delight 5th edit intern confer disast resili infrastructur .',\n",
       " 'last five year , icdri similar forum sustain amplifi convers disast resili infrastructur .',\n",
       " 'longer nich subject .',\n",
       " 'come centr stage global nation develop discours .',\n",
       " 'past year , develop better appreci problem .',\n",
       " 'modern infrastructur system interconnect .',\n",
       " 'need rapidli provid infrastructur servic million never access servic also ensur resili system .',\n",
       " 'thi achiev midst rapidli chang social , econom , natur system .',\n",
       " 'natur progress discours would go beyond describ problem find solut .',\n",
       " 'would like congratul cdri focus edit annual confer search solut .',\n",
       " 'let highlight five theme , view , underpin search solut : first , must recognis modern institut imbib system think import pre-requisit success .',\n",
       " 'use institut approach 20th centuri solv problem 21st centuri .',\n",
       " 'let illustr exampl .',\n",
       " 'india ’ nation master plan multi-mod connect ( pradhānmantrī gatī shaktī ) uniqu conceptu oper framework bring togeth relev ministri depart govern india even state govern holist integr plan project .',\n",
       " 'easi interconnect ministri roadway , railway , airway , waterway -- centuri establish institut way busi .',\n",
       " 'without hard work build future-readi institut achiev neither effici resili long term .',\n",
       " 'essenc , must focu much , , institut innov technolog innov .',\n",
       " 'second , care think option infrastructur system .',\n",
       " 'midst multipl transit , must abl pursu iter approach respond emerg scenario .',\n",
       " 'futur uncertain , lock one way thing .',\n",
       " 'third , modern institut nimbl foot would requir type capac world – south north – present lack .',\n",
       " 'need profession deepli steep disciplin comfort work intersect multipl diver disciplin .',\n",
       " 'need engin understand social econom concern need social scientist appreci promis technolog .',\n",
       " 'regard , cdri initi launch multi-disciplinari academ network resili infrastructur play pivot role .',\n",
       " 'fourth , want facilit north-south , south-south , north-north exchang , larg part infrastructur servic deliv south .',\n",
       " 'therefor , search solut must focu afford , scalabl sustain emerg economi .',\n",
       " 'final , increasingli recogn , import measur outcom term reliabl infrastructur servic peopl oppos term creation hard asset .',\n",
       " 'summari , focu modernis institut , maintain option , creat multi-disciplinari capac , focu work emerg economi , put peopl centr , abl develop pathway resili infrastructur futur gener .',\n",
       " 'live unpreced time , mark complex challeng uncertainti .',\n",
       " 'time unparallel possibl .',\n",
       " 'global momentum resili issu .',\n",
       " 'last week g20 countri met first time discus disast risk reduct issu .',\n",
       " 'le two month un conven high-level polit forum discus progress sendai framework .',\n",
       " 'thi moment great opportun .',\n",
       " 'let u seiz .',\n",
       " 'thank !']"
      ]
     },
     "execution_count": 29,
     "metadata": {},
     "output_type": "execute_result"
    }
   ],
   "source": [
    "sentence"
   ]
  },
  {
   "attachments": {},
   "cell_type": "markdown",
   "metadata": {},
   "source": [
    "Bag Of Words"
   ]
  },
  {
   "cell_type": "code",
   "execution_count": 30,
   "metadata": {},
   "outputs": [],
   "source": [
    "import re "
   ]
  },
  {
   "cell_type": "code",
   "execution_count": 40,
   "metadata": {},
   "outputs": [],
   "source": [
    "corpus = []\n",
    "\n",
    "for i in range(len(sentence)):\n",
    "    review = re.sub(\"[^a-zA-Z]\", \" \", sentence[i])\n",
    "    review = review.lower()\n",
    "    review = review.split()\n",
    "    review = [lemmatizer.lemmatize(word) for word in review if word not in set(stopwords.words(\"english\"))]\n",
    "    review = ' '.join(review)\n",
    "    corpus.append(review)"
   ]
  },
  {
   "cell_type": "code",
   "execution_count": 41,
   "metadata": {},
   "outputs": [
    {
     "data": {
      "text/plain": [
       "['Excellencies Honourable Minister Mr. Harbers; \\nSpecial Representative of the United Nations Secretary General, Ms. Mami Mizutori\\nHonourable Deputy Minister Dr. Jati,\\nRepresentatives from the Coalition Members and honourable delegates from across the globe; \\nLadies and Gentlemen;\\nGreetings!',\n",
       " 'I am delighted to be here with you at the 5th edition of the International Conference on Disaster Resilient Infrastructure.',\n",
       " 'Over the last five years, ICDRI and other similar forums have sustained and amplified the conversation on disaster resilient infrastructure.',\n",
       " 'It is no longer a niche subject.',\n",
       " 'It has come to the centre stage of the global and national development discourse.',\n",
       " 'Over the past few years, we have developed a better appreciation of the problem.',\n",
       " 'The modern Infrastructure systems are interconnected.',\n",
       " 'We need to rapidly provide infrastructure services to millions who have never had access to these services while also ensuring resilience of these systems.',\n",
       " 'This has to be achieved in the midst of rapidly changing social, economic, and natural systems.',\n",
       " 'The natural progression of this discourse would be to go beyond describing the problem to finding solutions.',\n",
       " 'I would like to congratulate CDRI for focusing this edition of their annual conference on the search for solutions.',\n",
       " 'Let me highlight five themes, that in my view, should underpin our search for solutions:\\n\\nFirst, we must recognise that modern institutions that imbibe systemic thinking are the most important pre-requisite for success.',\n",
       " 'We cannot use the institutional approaches of the 20th century to solve the problems of the 21st century.',\n",
       " 'Let me illustrate this with an example.',\n",
       " 'India’s National Master Plan for Multi-modal Connectivity (Pradhānmantrī Gatī Shaktī) is a unique conceptual and operational framework that brings together all relevant ministries and departments of Government of India and even State governments for a more holistic and integrated planning of projects.',\n",
       " 'It is not easy to interconnect ministries of roadways, railways, airways, and waterways -- each with a century or more of established institutions and ways of doing business.',\n",
       " 'But without the hard work of building future-ready institutions we will achieve neither efficiency nor resilience over the long term.',\n",
       " 'In essence, we must focus as much, if not more, on institutional innovation as on technological innovation.',\n",
       " 'Second, we have to carefully think about optionality in our infrastructure systems.',\n",
       " 'In the midst of multiple transitions, we must be able to pursue an iterative approach and respond to emerging scenarios.',\n",
       " 'If the future is uncertain, then we cannot lock ourselves into only one way of doing things.',\n",
       " 'Third, modernizing our institutions and being nimble footed would require the type of capacities that the world – both in the south and in the north – presently lacks.',\n",
       " 'We need professionals that are deeply steeped in their disciplines but that are comfortable to work at the intersection of multiple and diverse disciplines.',\n",
       " 'We need engineers who understand social and economic concerns and we need social scientists who appreciate the promise of technology.',\n",
       " 'In this regard, the CDRI initiative to launch a multi-disciplinary academic network for resilient infrastructure can play a pivotal role.',\n",
       " 'Fourth, while we want to facilitate north-south, south-south, north-north exchange, a large part of the infrastructure services will have to be delivered in the south.',\n",
       " 'Therefore, in our search for solutions we must focus on affordability, scalability and sustainability for the emerging economies.',\n",
       " 'And finally, as is being increasingly recognized, it is important to measure outcomes in terms of reliable infrastructure services to people as opposed to only in terms of creation of hard assets.',\n",
       " 'In summary, if we focus on modernising our institutions, maintain optionality, create multi-disciplinary capacities, focus on what works for emerging economies, and put people at the centre, we will be able to develop pathways for resilient infrastructure for our future generations.',\n",
       " 'We are living through unprecedented times, marked by complex challenges and uncertainties.',\n",
       " 'At the same time we have unparalleled possibilities.',\n",
       " 'There is global momentum on resilience issues.',\n",
       " 'Just last week G20 countries met for the first time to discuss disaster risk reduction issues.',\n",
       " 'In less than two months the UN will convene the high-level political forum to discuss progress on Sendai Framework.',\n",
       " 'This is a moment of great opportunity.',\n",
       " 'Let us seize it.',\n",
       " 'Thank you!']"
      ]
     },
     "execution_count": 41,
     "metadata": {},
     "output_type": "execute_result"
    }
   ],
   "source": [
    " sentence"
   ]
  },
  {
   "cell_type": "code",
   "execution_count": 42,
   "metadata": {},
   "outputs": [
    {
     "data": {
      "text/plain": [
       "['excellency honourable minister mr harbers special representative united nation secretary general m mami mizutori honourable deputy minister dr jati representative coalition member honourable delegate across globe lady gentleman greeting',\n",
       " 'delighted th edition international conference disaster resilient infrastructure',\n",
       " 'last five year icdri similar forum sustained amplified conversation disaster resilient infrastructure',\n",
       " 'longer niche subject',\n",
       " 'come centre stage global national development discourse',\n",
       " 'past year developed better appreciation problem',\n",
       " 'modern infrastructure system interconnected',\n",
       " 'need rapidly provide infrastructure service million never access service also ensuring resilience system',\n",
       " 'achieved midst rapidly changing social economic natural system',\n",
       " 'natural progression discourse would go beyond describing problem finding solution',\n",
       " 'would like congratulate cdri focusing edition annual conference search solution',\n",
       " 'let highlight five theme view underpin search solution first must recognise modern institution imbibe systemic thinking important pre requisite success',\n",
       " 'cannot use institutional approach th century solve problem st century',\n",
       " 'let illustrate example',\n",
       " 'india national master plan multi modal connectivity pradh nmantr gat shakt unique conceptual operational framework brings together relevant ministry department government india even state government holistic integrated planning project',\n",
       " 'easy interconnect ministry roadway railway airway waterway century established institution way business',\n",
       " 'without hard work building future ready institution achieve neither efficiency resilience long term',\n",
       " 'essence must focus much institutional innovation technological innovation',\n",
       " 'second carefully think optionality infrastructure system',\n",
       " 'midst multiple transition must able pursue iterative approach respond emerging scenario',\n",
       " 'future uncertain cannot lock one way thing',\n",
       " 'third modernizing institution nimble footed would require type capacity world south north presently lack',\n",
       " 'need professional deeply steeped discipline comfortable work intersection multiple diverse discipline',\n",
       " 'need engineer understand social economic concern need social scientist appreciate promise technology',\n",
       " 'regard cdri initiative launch multi disciplinary academic network resilient infrastructure play pivotal role',\n",
       " 'fourth want facilitate north south south south north north exchange large part infrastructure service delivered south',\n",
       " 'therefore search solution must focus affordability scalability sustainability emerging economy',\n",
       " 'finally increasingly recognized important measure outcome term reliable infrastructure service people opposed term creation hard asset',\n",
       " 'summary focus modernising institution maintain optionality create multi disciplinary capacity focus work emerging economy put people centre able develop pathway resilient infrastructure future generation',\n",
       " 'living unprecedented time marked complex challenge uncertainty',\n",
       " 'time unparalleled possibility',\n",
       " 'global momentum resilience issue',\n",
       " 'last week g country met first time discus disaster risk reduction issue',\n",
       " 'le two month un convene high level political forum discus progress sendai framework',\n",
       " 'moment great opportunity',\n",
       " 'let u seize',\n",
       " 'thank']"
      ]
     },
     "execution_count": 42,
     "metadata": {},
     "output_type": "execute_result"
    }
   ],
   "source": [
    "corpus"
   ]
  },
  {
   "cell_type": "code",
   "execution_count": 44,
   "metadata": {},
   "outputs": [
    {
     "name": "stdout",
     "output_type": "stream",
     "text": [
      "Collecting sklearn"
     ]
    },
    {
     "name": "stderr",
     "output_type": "stream",
     "text": [
      "  DEPRECATION: sklearn is being installed using the legacy 'setup.py install' method, because it does not have a 'pyproject.toml' and the 'wheel' package is not installed. pip 23.1 will enforce this behaviour change. A possible replacement is to enable the '--use-pep517' option. Discussion can be found at https://github.com/pypa/pip/issues/8559\n",
      "\n",
      "[notice] A new release of pip available: 22.3.1 -> 23.0.1\n",
      "[notice] To update, run: python.exe -m pip install --upgrade pip\n"
     ]
    },
    {
     "name": "stdout",
     "output_type": "stream",
     "text": [
      "\n",
      "  Downloading sklearn-0.0.post1.tar.gz (3.6 kB)\n",
      "  Preparing metadata (setup.py): started\n",
      "  Preparing metadata (setup.py): finished with status 'done'\n",
      "Installing collected packages: sklearn\n",
      "  Running setup.py install for sklearn: started\n",
      "  Running setup.py install for sklearn: finished with status 'done'\n",
      "Successfully installed sklearn-0.0.post1\n"
     ]
    }
   ],
   "source": [
    "! pip install sklearn"
   ]
  },
  {
   "cell_type": "code",
   "execution_count": 46,
   "metadata": {},
   "outputs": [
    {
     "name": "stdout",
     "output_type": "stream",
     "text": [
      "Requirement already satisfied: sklearn in c:\\users\\hp\\appdata\\local\\programs\\python\\python311\\lib\\site-packages (0.0.post1)\n",
      "Note: you may need to restart the kernel to use updated packages.\n"
     ]
    },
    {
     "name": "stderr",
     "output_type": "stream",
     "text": [
      "\n",
      "[notice] A new release of pip available: 22.3.1 -> 23.0.1\n",
      "[notice] To update, run: python.exe -m pip install --upgrade pip\n"
     ]
    }
   ],
   "source": [
    "%pip install sklearn"
   ]
  },
  {
   "cell_type": "code",
   "execution_count": 48,
   "metadata": {},
   "outputs": [
    {
     "name": "stdout",
     "output_type": "stream",
     "text": [
      "Collecting scikit-learn"
     ]
    },
    {
     "name": "stderr",
     "output_type": "stream",
     "text": [
      "\n",
      "[notice] A new release of pip available: 22.3.1 -> 23.0.1\n",
      "[notice] To update, run: python.exe -m pip install --upgrade pip\n"
     ]
    },
    {
     "name": "stdout",
     "output_type": "stream",
     "text": [
      "\n",
      "  Downloading scikit_learn-1.2.2-cp311-cp311-win_amd64.whl (8.3 MB)\n",
      "     ---------------------------------------- 8.3/8.3 MB 1.3 MB/s eta 0:00:00\n",
      "Requirement already satisfied: numpy>=1.17.3 in c:\\users\\hp\\appdata\\local\\programs\\python\\python311\\lib\\site-packages (from scikit-learn) (1.24.2)\n",
      "Collecting scipy>=1.3.2\n",
      "  Downloading scipy-1.10.1-cp311-cp311-win_amd64.whl (42.2 MB)\n",
      "     ---------------------------------------- 42.2/42.2 MB 1.6 MB/s eta 0:00:00\n",
      "Requirement already satisfied: joblib>=1.1.1 in c:\\users\\hp\\appdata\\local\\programs\\python\\python311\\lib\\site-packages (from scikit-learn) (1.2.0)\n",
      "Collecting threadpoolctl>=2.0.0\n",
      "  Downloading threadpoolctl-3.1.0-py3-none-any.whl (14 kB)\n",
      "Installing collected packages: threadpoolctl, scipy, scikit-learn\n",
      "Successfully installed scikit-learn-1.2.2 scipy-1.10.1 threadpoolctl-3.1.0\n"
     ]
    }
   ],
   "source": [
    "! pip install scikit-learn"
   ]
  },
  {
   "cell_type": "code",
   "execution_count": 49,
   "metadata": {},
   "outputs": [],
   "source": [
    "# creating the bag of words\n",
    "from sklearn.feature_extraction.text import CountVectorizer\n"
   ]
  },
  {
   "cell_type": "code",
   "execution_count": 54,
   "metadata": {},
   "outputs": [],
   "source": [
    "cv = CountVectorizer()\n",
    "X = cv.fit_transform(corpus).toarray()"
   ]
  },
  {
   "cell_type": "code",
   "execution_count": 55,
   "metadata": {},
   "outputs": [
    {
     "data": {
      "text/plain": [
       "array([[0, 0, 0, ..., 0, 0, 0],\n",
       "       [0, 0, 0, ..., 0, 0, 0],\n",
       "       [0, 0, 0, ..., 0, 0, 1],\n",
       "       ...,\n",
       "       [0, 0, 0, ..., 0, 0, 0],\n",
       "       [0, 0, 0, ..., 0, 0, 0],\n",
       "       [0, 0, 0, ..., 0, 0, 0]], dtype=int64)"
      ]
     },
     "execution_count": 55,
     "metadata": {},
     "output_type": "execute_result"
    }
   ],
   "source": [
    "X"
   ]
  },
  {
   "cell_type": "code",
   "execution_count": 56,
   "metadata": {},
   "outputs": [
    {
     "name": "stdout",
     "output_type": "stream",
     "text": [
      "37\n",
      "37\n"
     ]
    }
   ],
   "source": [
    "print(len(corpus))\n",
    "print(len(X))"
   ]
  },
  {
   "attachments": {},
   "cell_type": "markdown",
   "metadata": {},
   "source": [
    "TF - DIF"
   ]
  },
  {
   "cell_type": "code",
   "execution_count": 58,
   "metadata": {},
   "outputs": [],
   "source": [
    "from sklearn.feature_extraction.text import TfidfVectorizer\n",
    "cv = TfidfVectorizer()\n",
    "X = cv.fit_transform(corpus).toarray()"
   ]
  },
  {
   "cell_type": "code",
   "execution_count": 59,
   "metadata": {},
   "outputs": [
    {
     "data": {
      "text/plain": [
       "array([[0.        , 0.        , 0.        , ..., 0.        , 0.        ,\n",
       "        0.        ],\n",
       "       [0.        , 0.        , 0.        , ..., 0.        , 0.        ,\n",
       "        0.        ],\n",
       "       [0.        , 0.        , 0.        , ..., 0.        , 0.        ,\n",
       "        0.28603137],\n",
       "       ...,\n",
       "       [0.        , 0.        , 0.        , ..., 0.        , 0.        ,\n",
       "        0.        ],\n",
       "       [0.        , 0.        , 0.        , ..., 0.        , 0.        ,\n",
       "        0.        ],\n",
       "       [0.        , 0.        , 0.        , ..., 0.        , 0.        ,\n",
       "        0.        ]])"
      ]
     },
     "execution_count": 59,
     "metadata": {},
     "output_type": "execute_result"
    }
   ],
   "source": [
    "X"
   ]
  },
  {
   "attachments": {},
   "cell_type": "markdown",
   "metadata": {},
   "source": [
    "Word2Vec"
   ]
  },
  {
   "cell_type": "code",
   "execution_count": 3,
   "metadata": {},
   "outputs": [
    {
     "name": "stdout",
     "output_type": "stream",
     "text": [
      "Collecting gensim"
     ]
    },
    {
     "name": "stderr",
     "output_type": "stream",
     "text": [
      "\n",
      "[notice] A new release of pip available: 22.3.1 -> 23.0.1\n",
      "[notice] To update, run: python.exe -m pip install --upgrade pip\n"
     ]
    },
    {
     "name": "stdout",
     "output_type": "stream",
     "text": [
      "\n",
      "  Downloading gensim-4.3.1-cp311-cp311-win_amd64.whl (23.9 MB)\n",
      "     ---------------------------------------- 23.9/23.9 MB 4.1 MB/s eta 0:00:00\n",
      "Requirement already satisfied: numpy>=1.18.5 in c:\\users\\hp\\appdata\\local\\programs\\python\\python311\\lib\\site-packages (from gensim) (1.24.2)\n",
      "Requirement already satisfied: scipy>=1.7.0 in c:\\users\\hp\\appdata\\local\\programs\\python\\python311\\lib\\site-packages (from gensim) (1.10.1)\n",
      "Requirement already satisfied: smart-open>=1.8.1 in c:\\users\\hp\\appdata\\local\\programs\\python\\python311\\lib\\site-packages (from gensim) (6.3.0)\n",
      "Installing collected packages: gensim\n",
      "Successfully installed gensim-4.3.1\n"
     ]
    }
   ],
   "source": [
    "! pip install gensim "
   ]
  },
  {
   "cell_type": "code",
   "execution_count": 4,
   "metadata": {},
   "outputs": [],
   "source": [
    "from gensim.models import Word2Vec"
   ]
  },
  {
   "cell_type": "code",
   "execution_count": null,
   "metadata": {},
   "outputs": [],
   "source": [
    "  \n"
   ]
  },
  {
   "cell_type": "code",
   "execution_count": null,
   "metadata": {},
   "outputs": [],
   "source": []
  },
  {
   "cell_type": "code",
   "execution_count": null,
   "metadata": {},
   "outputs": [],
   "source": []
  }
 ],
 "metadata": {
  "kernelspec": {
   "display_name": "Python 3",
   "language": "python",
   "name": "python3"
  },
  "language_info": {
   "codemirror_mode": {
    "name": "ipython",
    "version": 3
   },
   "file_extension": ".py",
   "mimetype": "text/x-python",
   "name": "python",
   "nbconvert_exporter": "python",
   "pygments_lexer": "ipython3",
   "version": "3.11.1"
  },
  "orig_nbformat": 4
 },
 "nbformat": 4,
 "nbformat_minor": 2
}
