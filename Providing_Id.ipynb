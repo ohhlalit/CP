{
 "cells": [
  {
   "cell_type": "code",
   "execution_count": 1,
   "metadata": {},
   "outputs": [],
   "source": [
    "import pandas as pd"
   ]
  },
  {
   "cell_type": "code",
   "execution_count": 20,
   "metadata": {},
   "outputs": [],
   "source": [
    "df = pd.read_csv(\"C:/Users/HP/Downloads/PM_Modi_Speech_Cleaned_string.csv\")"
   ]
  },
  {
   "cell_type": "code",
   "execution_count": 27,
   "metadata": {},
   "outputs": [
    {
     "data": {
      "text/html": [
       "<div>\n",
       "<style scoped>\n",
       "    .dataframe tbody tr th:only-of-type {\n",
       "        vertical-align: middle;\n",
       "    }\n",
       "\n",
       "    .dataframe tbody tr th {\n",
       "        vertical-align: top;\n",
       "    }\n",
       "\n",
       "    .dataframe thead th {\n",
       "        text-align: right;\n",
       "    }\n",
       "</style>\n",
       "<table border=\"1\" class=\"dataframe\">\n",
       "  <thead>\n",
       "    <tr style=\"text-align: right;\">\n",
       "      <th></th>\n",
       "      <th>Unnamed: 0.1</th>\n",
       "      <th>Unnamed: 0</th>\n",
       "      <th>Date</th>\n",
       "      <th>Speech</th>\n",
       "      <th>Title</th>\n",
       "      <th>Cleaned_Speech</th>\n",
       "      <th>Cleaned_Speech_string</th>\n",
       "    </tr>\n",
       "  </thead>\n",
       "  <tbody>\n",
       "    <tr>\n",
       "      <th>0</th>\n",
       "      <td>0</td>\n",
       "      <td>2</td>\n",
       "      <td>09 JAN 2017</td>\n",
       "      <td>Chief Minister of Gujarat Shri Vijay Rupani ji...</td>\n",
       "      <td>Text of PM's address at the Inauguration of No...</td>\n",
       "      <td>['chief minister gujarat shri vijay rupani ji ...</td>\n",
       "      <td>chief minister gujarat shri vijay rupani ji co...</td>\n",
       "    </tr>\n",
       "    <tr>\n",
       "      <th>1</th>\n",
       "      <td>1</td>\n",
       "      <td>3</td>\n",
       "      <td>09 JAN 2017</td>\n",
       "      <td>I  am delighted to be here at Gift City to ina...</td>\n",
       "      <td>Text of PM’s address on the occasion of Inaugu...</td>\n",
       "      <td>['delighted gift city inaugurate india first i...</td>\n",
       "      <td>delighted gift city inaugurate india first int...</td>\n",
       "    </tr>\n",
       "    <tr>\n",
       "      <th>2</th>\n",
       "      <td>2</td>\n",
       "      <td>5</td>\n",
       "      <td>03 JAN 2017</td>\n",
       "      <td>Governor of Andhra Pradesh, Shri E. S. L. Nara...</td>\n",
       "      <td>PM's Address at the Inauguration of the 104th ...</td>\n",
       "      <td>['governor andhra pradesh shri e l narasimhan ...</td>\n",
       "      <td>governor andhra pradesh shri e l narasimhan ch...</td>\n",
       "    </tr>\n",
       "    <tr>\n",
       "      <th>3</th>\n",
       "      <td>3</td>\n",
       "      <td>6</td>\n",
       "      <td>26 FEB 2017</td>\n",
       "      <td>My dear countrymen, Namaskar. Winter is on its...</td>\n",
       "      <td>English Translation of the text of PM’s ‘Mann ...</td>\n",
       "      <td>['dear countryman namaskar', 'winter way', 'va...</td>\n",
       "      <td>dear countryman namaskar winter way vasant sea...</td>\n",
       "    </tr>\n",
       "    <tr>\n",
       "      <th>4</th>\n",
       "      <td>4</td>\n",
       "      <td>8</td>\n",
       "      <td>21 FEB 2017</td>\n",
       "      <td>Namaskaram. Greetings to everyone. Swami Nirvi...</td>\n",
       "      <td>Text of PM’s inaugural address (via video conf...</td>\n",
       "      <td>['namaskaram', 'greeting everyone', 'swami nir...</td>\n",
       "      <td>namaskaram greeting everyone swami nirvinanand...</td>\n",
       "    </tr>\n",
       "  </tbody>\n",
       "</table>\n",
       "</div>"
      ],
      "text/plain": [
       "   Unnamed: 0.1  Unnamed: 0         Date  \\\n",
       "0             0           2  09 JAN 2017   \n",
       "1             1           3  09 JAN 2017   \n",
       "2             2           5  03 JAN 2017   \n",
       "3             3           6  26 FEB 2017   \n",
       "4             4           8  21 FEB 2017   \n",
       "\n",
       "                                              Speech  \\\n",
       "0  Chief Minister of Gujarat Shri Vijay Rupani ji...   \n",
       "1  I  am delighted to be here at Gift City to ina...   \n",
       "2  Governor of Andhra Pradesh, Shri E. S. L. Nara...   \n",
       "3  My dear countrymen, Namaskar. Winter is on its...   \n",
       "4  Namaskaram. Greetings to everyone. Swami Nirvi...   \n",
       "\n",
       "                                               Title  \\\n",
       "0  Text of PM's address at the Inauguration of No...   \n",
       "1  Text of PM’s address on the occasion of Inaugu...   \n",
       "2  PM's Address at the Inauguration of the 104th ...   \n",
       "3  English Translation of the text of PM’s ‘Mann ...   \n",
       "4  Text of PM’s inaugural address (via video conf...   \n",
       "\n",
       "                                      Cleaned_Speech  \\\n",
       "0  ['chief minister gujarat shri vijay rupani ji ...   \n",
       "1  ['delighted gift city inaugurate india first i...   \n",
       "2  ['governor andhra pradesh shri e l narasimhan ...   \n",
       "3  ['dear countryman namaskar', 'winter way', 'va...   \n",
       "4  ['namaskaram', 'greeting everyone', 'swami nir...   \n",
       "\n",
       "                               Cleaned_Speech_string  \n",
       "0  chief minister gujarat shri vijay rupani ji co...  \n",
       "1  delighted gift city inaugurate india first int...  \n",
       "2  governor andhra pradesh shri e l narasimhan ch...  \n",
       "3  dear countryman namaskar winter way vasant sea...  \n",
       "4  namaskaram greeting everyone swami nirvinanand...  "
      ]
     },
     "execution_count": 27,
     "metadata": {},
     "output_type": "execute_result"
    }
   ],
   "source": [
    "df.head()"
   ]
  },
  {
   "cell_type": "code",
   "execution_count": 25,
   "metadata": {},
   "outputs": [
    {
     "data": {
      "text/plain": [
       "\"['chief minister gujarat shri vijay rupani ji colleague union minister dr harshvardhan ji excellency m anna ekstrom minister sweden deputy chief minister shri nitinbhai patel ji distinguished nobel laureate dr', 'goran hansson vice president nobel foundation dear scientist lady gentleman', 'good evening', 'let first congratulate department biotechnology government india government gujarat nobel medium brought exhibition science city five week', 'declare exhibition open hope opportunity experience', 'nobel prize world recognition highest level creative idea thought work fundamental science', 'earlier occasion one two three nobel laureate visited india interaction student scientist limited manner', 'today making history galaxy nobel laureate gujarat', 'extend hearty welcome laureate present', 'valued friend india', 'earlier several time', 'one born actually grew vadodara', 'delighted see many young student today', 'ask urge friend family visit science city coming week', 'student cherish extraordinary experience interacting', 'inspire undertake new significant challenge hold key shared sustainable future', 'hopeful exhibition series become strong link student science teacher scientist', 'government clear vision want india next 15 year', 'science technology pivot vision translate strategy action', 'vision science technology make sure opportunity available youth', 'training future preparedness make youth employable best place', 'india great science destination', 'take major inspirational challenge deep sea exploration cyber system', 'plan take vision action', 'scientist asked develop programme science teaching school across country', 'also involve training teacher', 'next level asked create new programme skilling high tech training', 'programme make employable new knowledge economy make effective entrepreneur thinking scientist', 'able compete position job anywhere world', 'next scientist link laboratory city', 'share idea seminar resource equipment', 'allow u better collaborative science', 'science agency expand science driven entrepreneurship commercialisation big way state according local need', 'start ups industry compete globally', 'seed must planted year see fruit come steadily', 'young friend future india world', 'india offer enabling unique opportunity large demographic dividend best teacher', 'young student stream charge well knowledge expertise', 'training future', 'thanks science technology human race flourished', 'large number enjoying quality life unparalleled human history', 'yet india great challenge raise many poverty', 'scientist soon must neglect challenge', 'maturity science also judged responsible treatment planet wise use science technology', 'scientist soon guardian planet', 'must clear outcome nobel exhibition science city', 'globally science technology emerged one major driver socio economic development', 'fast growing indian economy increasing expectation scientific intervention', 'three outcome would like see nobel prize series', 'first follow student teacher', 'student teacher come national ideathon competition hail country', 'lose track', 'exhibition period may also session school teacher gujarat', 'second stimulate entrepreneurship locally', 'great entrepreneurial zeal amongst youth', 'science ministry incubator gujarat', 'next five week workshop cutting edge science technology driven start ups boosted', 'told ten nobel prize winning discovery gone making smart phone', 'prize winning physic save electricity bill planet', '2014 nobel prize physic blue led', 'came basic research three japanese scientist akasaki amano nakamura', 'combined previously known red green led white light device made last hundred thousand hour', 'many exciting discovery made apply enterprise', 'third impact society many nobel prize winning discovery huge impact society health agriculture', 'example precision medicine using tool gene technology reality', 'must use tool study cancer diabetes infectious disease', 'india already generic bio similar leader major hub gujarat must strive become leader new bio tech discovery well', 'happy exhibition planned science city connects community science', 'ideal platform engage citizen learn solution global challenge face', 'strive make science city truly attractive world class place young student science teacher country world come inspired exhibit', 'centre state collaborate take challenge year', 'young friend', 'laureate represent peak science must learn', 'remember peak rise great mountain range stand alone', 'foundation future india', 'build new range peak arise', 'focus foundation school college teacher miracle happen', 'hundred peak india', 'neglect hard work base peak magically appear', 'inspired daring courage person imitative', 'honoured guest succeeded learn', 'take opportunity thank nobel medium foundation department biotechnology government india government gujarat organising innovative programme wish exhibition grand success sure benefit', 'akt akchief minister gujarat shri vijay rupani ji colleague union minister dr harshvardhan ji excellency m anna ekstrom minister sweden deputy chief minister shri nitinbhai patel ji distinguished nobel laureate dr', 'goran hansson vice president nobel foundation dear scientist lady gentleman', 'good evening', 'let first congratulate department biotechnology government india government gujarat nobel medium brought exhibition science city five week', 'declare exhibition open hope opportunity experience', 'nobel prize world recognition highest level creative idea thought work fundamental science', 'earlier occasion one two three nobel laureate visited india interaction student scientist limited manner', 'today making history galaxy nobel laureate gujarat', 'extend hearty welcome laureate present', 'valued friend india', 'earlier several time', 'one born actually grew vadodara', 'delighted see many young student today', 'ask urge friend family visit science city coming week', 'student cherish extraordinary experience interacting', 'inspire undertake new significant challenge hold key shared sustainable future', 'hopeful exhibition series become strong link student science teacher scientist', 'government clear vision want india next 15 year', 'science technology pivot vision translate strategy action', 'vision science technology make sure opportunity available youth', 'training future preparedness make youth employable best place', 'india great science destination', 'take major inspirational challenge deep sea exploration cyber system', 'plan take vision action', 'scientist asked develop programme science teaching school across country', 'also involve training teacher', 'next level asked create new programme skilling high tech training', 'programme make employable new knowledge economy make effective entrepreneur thinking scientist', 'able compete position job anywhere world', 'next scientist link laboratory city', 'share idea seminar resource equipment', 'allow u better collaborative science', 'science agency expand science driven entrepreneurship commercialisation big way state according local need', 'start ups industry compete globally', 'seed must planted year see fruit come steadily', 'young friend future india world', 'india offer enabling unique opportunity large demographic dividend best teacher', 'young student stream charge well knowledge expertise', 'training future', 'thanks science technology human race flourished', 'large number enjoying quality life unparalleled human history', 'yet india great challenge raise many poverty', 'scientist soon must neglect challenge', 'maturity science also judged responsible treatment planet wise use science technology', 'scientist soon guardian planet', 'must clear outcome nobel exhibition science city', 'globally science technology emerged one major driver socio economic development', 'fast growing indian economy increasing expectation scientific intervention', 'three outcome would like see nobel prize series', 'first follow student teacher', 'student teacher come national ideathon competition hail country', 'lose track', 'exhibition period may also session school teacher gujarat', 'second stimulate entrepreneurship locally', 'great entrepreneurial zeal amongst youth', 'science ministry incubator gujarat', 'next five week workshop cutting edge science technology driven start ups boosted', 'told ten nobel prize winning discovery gone making smart phone', 'prize winning physic save electricity bill planet', '2014 nobel prize physic blue led', 'came basic research three japanese scientist akasaki amano nakamura', 'combined previously known red green led white light device made last hundred thousand hour', 'many exciting discovery made apply enterprise', 'third impact society many nobel prize winning discovery huge impact society health agriculture', 'example precision medicine using tool gene technology reality', 'must use tool study cancer diabetes infectious disease', 'india already generic bio similar leader major hub gujarat must strive become leader new bio tech discovery well', 'happy exhibition planned science city connects community science', 'ideal platform engage citizen learn solution global challenge face', 'strive make science city truly attractive world class place young student science teacher country world come inspired exhibit', 'centre state collaborate take challenge year', 'young friend', 'laureate represent peak science must learn', 'remember peak rise great mountain range stand alone', 'foundation future india', 'build new range peak arise', 'focus foundation school college teacher miracle happen', 'hundred peak india', 'neglect hard work base peak magically appear', 'inspired daring courage person imitative', 'honoured guest succeeded learn', 'take opportunity thank nobel medium foundation department biotechnology government india government gujarat organising innovative programme wish exhibition grand success sure benefit']\""
      ]
     },
     "execution_count": 25,
     "metadata": {},
     "output_type": "execute_result"
    }
   ],
   "source": [
    "df[\"Cleaned_Speech\"][0]"
   ]
  },
  {
   "cell_type": "code",
   "execution_count": 5,
   "metadata": {},
   "outputs": [],
   "source": [
    "import spacy"
   ]
  },
  {
   "cell_type": "code",
   "execution_count": 3,
   "metadata": {},
   "outputs": [
    {
     "name": "stdout",
     "output_type": "stream",
     "text": [
      "Collecting sent2vec\n",
      "  Downloading sent2vec-0.3.0-py3-none-any.whl (8.1 kB)\n",
      "Requirement already satisfied: transformers in c:\\users\\yatika arora\\appdata\\local\\packages\\pythonsoftwarefoundation.python.3.11_qbz5n2kfra8p0\\localcache\\local-packages\\python311\\site-packages (from sent2vec) (4.28.0)\n",
      "Requirement already satisfied: torch in c:\\users\\yatika arora\\appdata\\local\\packages\\pythonsoftwarefoundation.python.3.11_qbz5n2kfra8p0\\localcache\\local-packages\\python311\\site-packages (from sent2vec) (2.0.0)\n",
      "Requirement already satisfied: numpy in c:\\users\\yatika arora\\appdata\\local\\packages\\pythonsoftwarefoundation.python.3.11_qbz5n2kfra8p0\\localcache\\local-packages\\python311\\site-packages (from sent2vec) (1.24.2)\n",
      "Requirement already satisfied: gensim in c:\\users\\yatika arora\\appdata\\local\\packages\\pythonsoftwarefoundation.python.3.11_qbz5n2kfra8p0\\localcache\\local-packages\\python311\\site-packages (from sent2vec) (4.3.1)\n",
      "Requirement already satisfied: spacy in c:\\users\\yatika arora\\appdata\\local\\packages\\pythonsoftwarefoundation.python.3.11_qbz5n2kfra8p0\\localcache\\local-packages\\python311\\site-packages (from sent2vec) (3.4.4)\n",
      "Collecting pytest\n",
      "  Downloading pytest-7.3.1-py3-none-any.whl (320 kB)\n",
      "     ---------------------------------------- 0.0/320.5 kB ? eta -:--:--\n",
      "     ---------------- --------------------- 143.4/320.5 kB 4.3 MB/s eta 0:00:01\n",
      "     --------------------------------- ---- 286.7/320.5 kB 4.5 MB/s eta 0:00:01\n",
      "     -------------------------------------- 320.5/320.5 kB 3.3 MB/s eta 0:00:00\n",
      "Requirement already satisfied: scipy>=1.7.0 in c:\\users\\yatika arora\\appdata\\local\\packages\\pythonsoftwarefoundation.python.3.11_qbz5n2kfra8p0\\localcache\\local-packages\\python311\\site-packages (from gensim->sent2vec) (1.10.1)\n",
      "Requirement already satisfied: smart-open>=1.8.1 in c:\\users\\yatika arora\\appdata\\local\\packages\\pythonsoftwarefoundation.python.3.11_qbz5n2kfra8p0\\localcache\\local-packages\\python311\\site-packages (from gensim->sent2vec) (6.3.0)\n",
      "Collecting iniconfig\n",
      "  Downloading iniconfig-2.0.0-py3-none-any.whl (5.9 kB)\n",
      "Requirement already satisfied: packaging in c:\\users\\yatika arora\\appdata\\local\\packages\\pythonsoftwarefoundation.python.3.11_qbz5n2kfra8p0\\localcache\\local-packages\\python311\\site-packages (from pytest->sent2vec) (23.0)\n",
      "Collecting pluggy<2.0,>=0.12\n",
      "  Downloading pluggy-1.0.0-py2.py3-none-any.whl (13 kB)\n",
      "Requirement already satisfied: colorama in c:\\users\\yatika arora\\appdata\\local\\packages\\pythonsoftwarefoundation.python.3.11_qbz5n2kfra8p0\\localcache\\local-packages\\python311\\site-packages (from pytest->sent2vec) (0.4.6)\n",
      "Requirement already satisfied: spacy-legacy<3.1.0,>=3.0.10 in c:\\users\\yatika arora\\appdata\\local\\packages\\pythonsoftwarefoundation.python.3.11_qbz5n2kfra8p0\\localcache\\local-packages\\python311\\site-packages (from spacy->sent2vec) (3.0.12)\n",
      "Requirement already satisfied: spacy-loggers<2.0.0,>=1.0.0 in c:\\users\\yatika arora\\appdata\\local\\packages\\pythonsoftwarefoundation.python.3.11_qbz5n2kfra8p0\\localcache\\local-packages\\python311\\site-packages (from spacy->sent2vec) (1.0.4)\n",
      "Requirement already satisfied: murmurhash<1.1.0,>=0.28.0 in c:\\users\\yatika arora\\appdata\\local\\packages\\pythonsoftwarefoundation.python.3.11_qbz5n2kfra8p0\\localcache\\local-packages\\python311\\site-packages (from spacy->sent2vec) (1.0.9)\n",
      "Requirement already satisfied: cymem<2.1.0,>=2.0.2 in c:\\users\\yatika arora\\appdata\\local\\packages\\pythonsoftwarefoundation.python.3.11_qbz5n2kfra8p0\\localcache\\local-packages\\python311\\site-packages (from spacy->sent2vec) (2.0.7)\n",
      "Requirement already satisfied: preshed<3.1.0,>=3.0.2 in c:\\users\\yatika arora\\appdata\\local\\packages\\pythonsoftwarefoundation.python.3.11_qbz5n2kfra8p0\\localcache\\local-packages\\python311\\site-packages (from spacy->sent2vec) (3.0.8)\n",
      "Requirement already satisfied: thinc<8.2.0,>=8.1.0 in c:\\users\\yatika arora\\appdata\\local\\packages\\pythonsoftwarefoundation.python.3.11_qbz5n2kfra8p0\\localcache\\local-packages\\python311\\site-packages (from spacy->sent2vec) (8.1.9)\n",
      "Requirement already satisfied: wasabi<1.1.0,>=0.9.1 in c:\\users\\yatika arora\\appdata\\local\\packages\\pythonsoftwarefoundation.python.3.11_qbz5n2kfra8p0\\localcache\\local-packages\\python311\\site-packages (from spacy->sent2vec) (0.10.1)\n",
      "Requirement already satisfied: srsly<3.0.0,>=2.4.3 in c:\\users\\yatika arora\\appdata\\local\\packages\\pythonsoftwarefoundation.python.3.11_qbz5n2kfra8p0\\localcache\\local-packages\\python311\\site-packages (from spacy->sent2vec) (2.4.6)\n",
      "Requirement already satisfied: catalogue<2.1.0,>=2.0.6 in c:\\users\\yatika arora\\appdata\\local\\packages\\pythonsoftwarefoundation.python.3.11_qbz5n2kfra8p0\\localcache\\local-packages\\python311\\site-packages (from spacy->sent2vec) (2.0.8)\n",
      "Requirement already satisfied: typer<0.8.0,>=0.3.0 in c:\\users\\yatika arora\\appdata\\local\\packages\\pythonsoftwarefoundation.python.3.11_qbz5n2kfra8p0\\localcache\\local-packages\\python311\\site-packages (from spacy->sent2vec) (0.7.0)\n",
      "Requirement already satisfied: pathy>=0.3.5 in c:\\users\\yatika arora\\appdata\\local\\packages\\pythonsoftwarefoundation.python.3.11_qbz5n2kfra8p0\\localcache\\local-packages\\python311\\site-packages (from spacy->sent2vec) (0.10.1)\n",
      "Requirement already satisfied: tqdm<5.0.0,>=4.38.0 in c:\\users\\yatika arora\\appdata\\local\\packages\\pythonsoftwarefoundation.python.3.11_qbz5n2kfra8p0\\localcache\\local-packages\\python311\\site-packages (from spacy->sent2vec) (4.64.1)\n",
      "Requirement already satisfied: requests<3.0.0,>=2.13.0 in c:\\users\\yatika arora\\appdata\\local\\packages\\pythonsoftwarefoundation.python.3.11_qbz5n2kfra8p0\\localcache\\local-packages\\python311\\site-packages (from spacy->sent2vec) (2.28.2)\n",
      "Requirement already satisfied: pydantic!=1.8,!=1.8.1,<1.11.0,>=1.7.4 in c:\\users\\yatika arora\\appdata\\local\\packages\\pythonsoftwarefoundation.python.3.11_qbz5n2kfra8p0\\localcache\\local-packages\\python311\\site-packages (from spacy->sent2vec) (1.10.7)\n",
      "Requirement already satisfied: jinja2 in c:\\users\\yatika arora\\appdata\\local\\packages\\pythonsoftwarefoundation.python.3.11_qbz5n2kfra8p0\\localcache\\local-packages\\python311\\site-packages (from spacy->sent2vec) (3.1.2)\n",
      "Requirement already satisfied: setuptools in c:\\users\\yatika arora\\appdata\\local\\packages\\pythonsoftwarefoundation.python.3.11_qbz5n2kfra8p0\\localcache\\local-packages\\python311\\site-packages (from spacy->sent2vec) (67.6.1)\n",
      "Requirement already satisfied: langcodes<4.0.0,>=3.2.0 in c:\\users\\yatika arora\\appdata\\local\\packages\\pythonsoftwarefoundation.python.3.11_qbz5n2kfra8p0\\localcache\\local-packages\\python311\\site-packages (from spacy->sent2vec) (3.3.0)\n",
      "Requirement already satisfied: filelock in c:\\users\\yatika arora\\appdata\\local\\packages\\pythonsoftwarefoundation.python.3.11_qbz5n2kfra8p0\\localcache\\local-packages\\python311\\site-packages (from torch->sent2vec) (3.11.0)\n",
      "Requirement already satisfied: typing-extensions in c:\\users\\yatika arora\\appdata\\local\\packages\\pythonsoftwarefoundation.python.3.11_qbz5n2kfra8p0\\localcache\\local-packages\\python311\\site-packages (from torch->sent2vec) (4.5.0)\n",
      "Requirement already satisfied: sympy in c:\\users\\yatika arora\\appdata\\local\\packages\\pythonsoftwarefoundation.python.3.11_qbz5n2kfra8p0\\localcache\\local-packages\\python311\\site-packages (from torch->sent2vec) (1.11.1)\n",
      "Requirement already satisfied: networkx in c:\\users\\yatika arora\\appdata\\local\\packages\\pythonsoftwarefoundation.python.3.11_qbz5n2kfra8p0\\localcache\\local-packages\\python311\\site-packages (from torch->sent2vec) (3.1)\n",
      "Requirement already satisfied: huggingface-hub<1.0,>=0.11.0 in c:\\users\\yatika arora\\appdata\\local\\packages\\pythonsoftwarefoundation.python.3.11_qbz5n2kfra8p0\\localcache\\local-packages\\python311\\site-packages (from transformers->sent2vec) (0.13.4)\n",
      "Requirement already satisfied: pyyaml>=5.1 in c:\\users\\yatika arora\\appdata\\local\\packages\\pythonsoftwarefoundation.python.3.11_qbz5n2kfra8p0\\localcache\\local-packages\\python311\\site-packages (from transformers->sent2vec) (6.0)\n",
      "Requirement already satisfied: regex!=2019.12.17 in c:\\users\\yatika arora\\appdata\\local\\packages\\pythonsoftwarefoundation.python.3.11_qbz5n2kfra8p0\\localcache\\local-packages\\python311\\site-packages (from transformers->sent2vec) (2023.3.23)\n",
      "Requirement already satisfied: tokenizers!=0.11.3,<0.14,>=0.11.1 in c:\\users\\yatika arora\\appdata\\local\\packages\\pythonsoftwarefoundation.python.3.11_qbz5n2kfra8p0\\localcache\\local-packages\\python311\\site-packages (from transformers->sent2vec) (0.13.3)\n",
      "Requirement already satisfied: charset-normalizer<4,>=2 in c:\\users\\yatika arora\\appdata\\local\\packages\\pythonsoftwarefoundation.python.3.11_qbz5n2kfra8p0\\localcache\\local-packages\\python311\\site-packages (from requests<3.0.0,>=2.13.0->spacy->sent2vec) (3.1.0)\n",
      "Requirement already satisfied: idna<4,>=2.5 in c:\\users\\yatika arora\\appdata\\local\\packages\\pythonsoftwarefoundation.python.3.11_qbz5n2kfra8p0\\localcache\\local-packages\\python311\\site-packages (from requests<3.0.0,>=2.13.0->spacy->sent2vec) (3.4)\n",
      "Requirement already satisfied: urllib3<1.27,>=1.21.1 in c:\\users\\yatika arora\\appdata\\local\\packages\\pythonsoftwarefoundation.python.3.11_qbz5n2kfra8p0\\localcache\\local-packages\\python311\\site-packages (from requests<3.0.0,>=2.13.0->spacy->sent2vec) (1.26.15)\n",
      "Requirement already satisfied: certifi>=2017.4.17 in c:\\users\\yatika arora\\appdata\\local\\packages\\pythonsoftwarefoundation.python.3.11_qbz5n2kfra8p0\\localcache\\local-packages\\python311\\site-packages (from requests<3.0.0,>=2.13.0->spacy->sent2vec) (2022.12.7)\n",
      "Requirement already satisfied: blis<0.8.0,>=0.7.8 in c:\\users\\yatika arora\\appdata\\local\\packages\\pythonsoftwarefoundation.python.3.11_qbz5n2kfra8p0\\localcache\\local-packages\\python311\\site-packages (from thinc<8.2.0,>=8.1.0->spacy->sent2vec) (0.7.9)\n",
      "Requirement already satisfied: confection<1.0.0,>=0.0.1 in c:\\users\\yatika arora\\appdata\\local\\packages\\pythonsoftwarefoundation.python.3.11_qbz5n2kfra8p0\\localcache\\local-packages\\python311\\site-packages (from thinc<8.2.0,>=8.1.0->spacy->sent2vec) (0.0.4)\n",
      "Requirement already satisfied: click<9.0.0,>=7.1.1 in c:\\users\\yatika arora\\appdata\\local\\packages\\pythonsoftwarefoundation.python.3.11_qbz5n2kfra8p0\\localcache\\local-packages\\python311\\site-packages (from typer<0.8.0,>=0.3.0->spacy->sent2vec) (8.1.3)\n",
      "Requirement already satisfied: MarkupSafe>=2.0 in c:\\users\\yatika arora\\appdata\\local\\packages\\pythonsoftwarefoundation.python.3.11_qbz5n2kfra8p0\\localcache\\local-packages\\python311\\site-packages (from jinja2->spacy->sent2vec) (2.1.2)\n",
      "Requirement already satisfied: mpmath>=0.19 in c:\\users\\yatika arora\\appdata\\local\\packages\\pythonsoftwarefoundation.python.3.11_qbz5n2kfra8p0\\localcache\\local-packages\\python311\\site-packages (from sympy->torch->sent2vec) (1.3.0)\n",
      "Installing collected packages: pluggy, iniconfig, pytest, sent2vec\n",
      "Successfully installed iniconfig-2.0.0 pluggy-1.0.0 pytest-7.3.1 sent2vec-0.3.0\n",
      "Note: you may need to restart the kernel to use updated packages.\n"
     ]
    },
    {
     "name": "stderr",
     "output_type": "stream",
     "text": [
      "\n",
      "[notice] A new release of pip is available: 23.0.1 -> 23.1\n",
      "[notice] To update, run: C:\\Users\\Yatika Arora\\AppData\\Local\\Microsoft\\WindowsApps\\PythonSoftwareFoundation.Python.3.11_qbz5n2kfra8p0\\python.exe -m pip install --upgrade pip\n"
     ]
    }
   ],
   "source": [
    "%pip install sent2vec"
   ]
  },
  {
   "cell_type": "code",
   "execution_count": 4,
   "metadata": {},
   "outputs": [
    {
     "name": "stderr",
     "output_type": "stream",
     "text": [
      "C:\\Users\\Yatika Arora\\AppData\\Local\\Packages\\PythonSoftwareFoundation.Python.3.11_qbz5n2kfra8p0\\LocalCache\\local-packages\\Python311\\site-packages\\tqdm\\auto.py:22: TqdmWarning: IProgress not found. Please update jupyter and ipywidgets. See https://ipywidgets.readthedocs.io/en/stable/user_install.html\n",
      "  from .autonotebook import tqdm as notebook_tqdm\n"
     ]
    }
   ],
   "source": [
    "from sent2vec.vectorizer import Vectorizer"
   ]
  },
  {
   "cell_type": "code",
   "execution_count": 54,
   "metadata": {},
   "outputs": [],
   "source": [
    "\n",
    "def vector_yatika(corpus):\n",
    "    vectorizer = Vectorizer()\n",
    "    vectorizer.run(corpus)\n",
    "    vectors = vectorizer.vectors\n",
    "    return vectors"
   ]
  },
  {
   "cell_type": "code",
   "execution_count": 55,
   "metadata": {},
   "outputs": [
    {
     "name": "stdout",
     "output_type": "stream",
     "text": [
      "Initializing Bert distilbert-base-uncased\n",
      "Vectorization done on cpu\n"
     ]
    },
    {
     "name": "stderr",
     "output_type": "stream",
     "text": [
      "Some weights of the model checkpoint at distilbert-base-uncased were not used when initializing DistilBertModel: ['vocab_transform.bias', 'vocab_transform.weight', 'vocab_projector.bias', 'vocab_layer_norm.bias', 'vocab_projector.weight', 'vocab_layer_norm.weight']\n",
      "- This IS expected if you are initializing DistilBertModel from the checkpoint of a model trained on another task or with another architecture (e.g. initializing a BertForSequenceClassification model from a BertForPreTraining model).\n",
      "- This IS NOT expected if you are initializing DistilBertModel from the checkpoint of a model that you expect to be exactly identical (initializing a BertForSequenceClassification model from a BertForSequenceClassification model).\n"
     ]
    },
    {
     "ename": "AssertionError",
     "evalue": "A list must be passed!",
     "output_type": "error",
     "traceback": [
      "\u001b[1;31m---------------------------------------------------------------------------\u001b[0m",
      "\u001b[1;31mAssertionError\u001b[0m                            Traceback (most recent call last)",
      "Cell \u001b[1;32mIn[55], line 1\u001b[0m\n\u001b[1;32m----> 1\u001b[0m df[\u001b[39m'\u001b[39m\u001b[39mvector\u001b[39m\u001b[39m'\u001b[39m] \u001b[39m=\u001b[39m df[\u001b[39m'\u001b[39;49m\u001b[39mCleaned_Speech\u001b[39;49m\u001b[39m'\u001b[39;49m]\u001b[39m.\u001b[39;49mapply(vector_yatika)\n",
      "File \u001b[1;32mc:\\Users\\HP\\AppData\\Local\\Programs\\Python\\Python310\\lib\\site-packages\\pandas\\core\\series.py:4771\u001b[0m, in \u001b[0;36mSeries.apply\u001b[1;34m(self, func, convert_dtype, args, **kwargs)\u001b[0m\n\u001b[0;32m   4661\u001b[0m \u001b[39mdef\u001b[39;00m \u001b[39mapply\u001b[39m(\n\u001b[0;32m   4662\u001b[0m     \u001b[39mself\u001b[39m,\n\u001b[0;32m   4663\u001b[0m     func: AggFuncType,\n\u001b[1;32m   (...)\u001b[0m\n\u001b[0;32m   4666\u001b[0m     \u001b[39m*\u001b[39m\u001b[39m*\u001b[39mkwargs,\n\u001b[0;32m   4667\u001b[0m ) \u001b[39m-\u001b[39m\u001b[39m>\u001b[39m DataFrame \u001b[39m|\u001b[39m Series:\n\u001b[0;32m   4668\u001b[0m \u001b[39m    \u001b[39m\u001b[39m\"\"\"\u001b[39;00m\n\u001b[0;32m   4669\u001b[0m \u001b[39m    Invoke function on values of Series.\u001b[39;00m\n\u001b[0;32m   4670\u001b[0m \n\u001b[1;32m   (...)\u001b[0m\n\u001b[0;32m   4769\u001b[0m \u001b[39m    dtype: float64\u001b[39;00m\n\u001b[0;32m   4770\u001b[0m \u001b[39m    \"\"\"\u001b[39;00m\n\u001b[1;32m-> 4771\u001b[0m     \u001b[39mreturn\u001b[39;00m SeriesApply(\u001b[39mself\u001b[39;49m, func, convert_dtype, args, kwargs)\u001b[39m.\u001b[39;49mapply()\n",
      "File \u001b[1;32mc:\\Users\\HP\\AppData\\Local\\Programs\\Python\\Python310\\lib\\site-packages\\pandas\\core\\apply.py:1123\u001b[0m, in \u001b[0;36mSeriesApply.apply\u001b[1;34m(self)\u001b[0m\n\u001b[0;32m   1120\u001b[0m     \u001b[39mreturn\u001b[39;00m \u001b[39mself\u001b[39m\u001b[39m.\u001b[39mapply_str()\n\u001b[0;32m   1122\u001b[0m \u001b[39m# self.f is Callable\u001b[39;00m\n\u001b[1;32m-> 1123\u001b[0m \u001b[39mreturn\u001b[39;00m \u001b[39mself\u001b[39;49m\u001b[39m.\u001b[39;49mapply_standard()\n",
      "File \u001b[1;32mc:\\Users\\HP\\AppData\\Local\\Programs\\Python\\Python310\\lib\\site-packages\\pandas\\core\\apply.py:1174\u001b[0m, in \u001b[0;36mSeriesApply.apply_standard\u001b[1;34m(self)\u001b[0m\n\u001b[0;32m   1172\u001b[0m     \u001b[39melse\u001b[39;00m:\n\u001b[0;32m   1173\u001b[0m         values \u001b[39m=\u001b[39m obj\u001b[39m.\u001b[39mastype(\u001b[39mobject\u001b[39m)\u001b[39m.\u001b[39m_values\n\u001b[1;32m-> 1174\u001b[0m         mapped \u001b[39m=\u001b[39m lib\u001b[39m.\u001b[39;49mmap_infer(\n\u001b[0;32m   1175\u001b[0m             values,\n\u001b[0;32m   1176\u001b[0m             f,\n\u001b[0;32m   1177\u001b[0m             convert\u001b[39m=\u001b[39;49m\u001b[39mself\u001b[39;49m\u001b[39m.\u001b[39;49mconvert_dtype,\n\u001b[0;32m   1178\u001b[0m         )\n\u001b[0;32m   1180\u001b[0m \u001b[39mif\u001b[39;00m \u001b[39mlen\u001b[39m(mapped) \u001b[39mand\u001b[39;00m \u001b[39misinstance\u001b[39m(mapped[\u001b[39m0\u001b[39m], ABCSeries):\n\u001b[0;32m   1181\u001b[0m     \u001b[39m# GH#43986 Need to do list(mapped) in order to get treated as nested\u001b[39;00m\n\u001b[0;32m   1182\u001b[0m     \u001b[39m#  See also GH#25959 regarding EA support\u001b[39;00m\n\u001b[0;32m   1183\u001b[0m     \u001b[39mreturn\u001b[39;00m obj\u001b[39m.\u001b[39m_constructor_expanddim(\u001b[39mlist\u001b[39m(mapped), index\u001b[39m=\u001b[39mobj\u001b[39m.\u001b[39mindex)\n",
      "File \u001b[1;32mc:\\Users\\HP\\AppData\\Local\\Programs\\Python\\Python310\\lib\\site-packages\\pandas\\_libs\\lib.pyx:2924\u001b[0m, in \u001b[0;36mpandas._libs.lib.map_infer\u001b[1;34m()\u001b[0m\n",
      "Cell \u001b[1;32mIn[54], line 3\u001b[0m, in \u001b[0;36mvector_yatika\u001b[1;34m(corpus)\u001b[0m\n\u001b[0;32m      1\u001b[0m \u001b[39mdef\u001b[39;00m \u001b[39mvector_yatika\u001b[39m(corpus):\n\u001b[0;32m      2\u001b[0m     vectorizer \u001b[39m=\u001b[39m Vectorizer()\n\u001b[1;32m----> 3\u001b[0m     vectorizer\u001b[39m.\u001b[39;49mrun(corpus)\n\u001b[0;32m      4\u001b[0m     vectors \u001b[39m=\u001b[39m vectorizer\u001b[39m.\u001b[39mvectors\n\u001b[0;32m      5\u001b[0m     \u001b[39mreturn\u001b[39;00m vectors\n",
      "File \u001b[1;32mc:\\Users\\HP\\AppData\\Local\\Programs\\Python\\Python310\\lib\\site-packages\\sent2vec\\vectorizer.py:38\u001b[0m, in \u001b[0;36mVectorizer.run\u001b[1;34m(self, sentences, remove_stop_words, add_stop_words)\u001b[0m\n\u001b[0;32m     36\u001b[0m \u001b[39mdef\u001b[39;00m \u001b[39mrun\u001b[39m(\u001b[39mself\u001b[39m, sentences, remove_stop_words \u001b[39m=\u001b[39m [\u001b[39m'\u001b[39m\u001b[39mnot\u001b[39m\u001b[39m'\u001b[39m], add_stop_words \u001b[39m=\u001b[39m []):\n\u001b[0;32m     37\u001b[0m     \u001b[39m# SANITY CHECK\u001b[39;00m\n\u001b[1;32m---> 38\u001b[0m     \u001b[39massert\u001b[39;00m \u001b[39mtype\u001b[39m(sentences) \u001b[39m==\u001b[39m \u001b[39mlist\u001b[39m, \u001b[39m'\u001b[39m\u001b[39mA list must be passed!\u001b[39m\u001b[39m'\u001b[39m\n\u001b[0;32m     39\u001b[0m     \u001b[39mfor\u001b[39;00m sentence \u001b[39min\u001b[39;00m sentences:\n\u001b[0;32m     40\u001b[0m         \u001b[39mif\u001b[39;00m \u001b[39mtype\u001b[39m(sentence) \u001b[39m!=\u001b[39m \u001b[39mstr\u001b[39m:\n",
      "\u001b[1;31mAssertionError\u001b[0m: A list must be passed!"
     ]
    }
   ],
   "source": [
    "df['vector'] = df['Cleaned_Speech'].apply(vector_yatika)"
   ]
  },
  {
   "cell_type": "code",
   "execution_count": 5,
   "metadata": {},
   "outputs": [
    {
     "name": "stdout",
     "output_type": "stream",
     "text": [
      "Initializing Bert distilbert-base-uncased\n",
      "Vectorization done on cpu\n"
     ]
    },
    {
     "name": "stderr",
     "output_type": "stream",
     "text": [
      "Downloading (…)solve/main/vocab.txt: 100%|██████████| 232k/232k [00:00<00:00, 9.30MB/s]\n",
      "C:\\Users\\Yatika Arora\\AppData\\Local\\Packages\\PythonSoftwareFoundation.Python.3.11_qbz5n2kfra8p0\\LocalCache\\local-packages\\Python311\\site-packages\\huggingface_hub\\file_download.py:133: UserWarning: `huggingface_hub` cache-system uses symlinks by default to efficiently store duplicated files but your machine does not support them in C:\\Users\\Yatika Arora\\.cache\\huggingface\\hub. Caching files will still work but in a degraded version that might require more space on your disk. This warning can be disabled by setting the `HF_HUB_DISABLE_SYMLINKS_WARNING` environment variable. For more details, see https://huggingface.co/docs/huggingface_hub/how-to-cache#limitations.\n",
      "To support symlinks on Windows, you either need to activate Developer Mode or to run Python as an administrator. In order to see activate developer mode, see this article: https://docs.microsoft.com/en-us/windows/apps/get-started/enable-your-device-for-development\n",
      "  warnings.warn(message)\n",
      "Downloading (…)okenizer_config.json: 100%|██████████| 28.0/28.0 [00:00<00:00, 5.07kB/s]\n",
      "Downloading (…)lve/main/config.json: 100%|██████████| 483/483 [00:00<00:00, 61.3kB/s]\n",
      "Downloading pytorch_model.bin: 100%|██████████| 268M/268M [01:04<00:00, 4.16MB/s] \n",
      "Some weights of the model checkpoint at distilbert-base-uncased were not used when initializing DistilBertModel: ['vocab_transform.bias', 'vocab_transform.weight', 'vocab_layer_norm.weight', 'vocab_projector.weight', 'vocab_layer_norm.bias', 'vocab_projector.bias']\n",
      "- This IS expected if you are initializing DistilBertModel from the checkpoint of a model trained on another task or with another architecture (e.g. initializing a BertForSequenceClassification model from a BertForPreTraining model).\n",
      "- This IS NOT expected if you are initializing DistilBertModel from the checkpoint of a model that you expect to be exactly identical (initializing a BertForSequenceClassification model from a BertForSequenceClassification model).\n"
     ]
    }
   ],
   "source": [
    "sentences = [\n",
    "    \"This is an awesome book to learn NLP.\",\n",
    "    \"DistilBERT is an amazing NLP model.\",\n",
    "    \"We can interchangeably use embedding, encoding, or vectorizing.\"\n",
    "]\n",
    "vectorizer = Vectorizer()\n",
    "vectorizer.run(sentences)\n",
    "vectors = vectorizer.vectors"
   ]
  },
  {
   "cell_type": "code",
   "execution_count": 6,
   "metadata": {},
   "outputs": [
    {
     "data": {
      "text/plain": [
       "[array([-1.37952700e-01, -2.76443571e-01,  2.24866979e-02, -2.29733855e-01,\n",
       "        -1.93399414e-01, -4.05403674e-01,  1.06999047e-01,  4.48913425e-01,\n",
       "        -1.87439367e-01, -2.34245151e-01, -3.70100103e-02, -5.33546880e-02,\n",
       "         9.06404480e-02,  1.72064692e-01,  4.31378037e-02,  6.77791014e-02,\n",
       "        -3.53048369e-02,  2.73567110e-01, -3.98085266e-02, -2.73272812e-01,\n",
       "        -1.32136762e-01, -2.40200728e-01,  1.23297162e-01, -9.15263444e-02,\n",
       "         2.27160379e-02,  1.94590166e-03,  6.66092113e-02,  1.27315819e-01,\n",
       "         9.73866209e-02, -7.86392465e-02, -4.31830101e-02,  7.70194158e-02,\n",
       "        -9.78472158e-02,  4.90217656e-03,  7.86968619e-02, -3.34205069e-02,\n",
       "        -1.76411122e-03,  9.21407416e-02,  1.69816092e-01,  3.54134142e-02,\n",
       "        -1.97528303e-02,  1.30426943e-01,  1.52874917e-01, -7.78003223e-03,\n",
       "        -6.33356720e-03, -1.50407910e-01, -2.36326575e+00,  1.04091220e-01,\n",
       "        -2.78869748e-01, -2.94766963e-01,  1.80658683e-01,  1.27253294e-01,\n",
       "         1.68181032e-01,  1.23875521e-01,  1.12300798e-01,  3.80489916e-01,\n",
       "        -3.16925347e-01,  3.70882779e-01, -9.69899148e-02,  2.11341962e-01,\n",
       "         8.36859196e-02,  3.06366235e-02,  2.01176684e-02, -3.35199051e-02,\n",
       "        -2.93349102e-02,  2.08673865e-01, -1.60583034e-01,  2.34822452e-01,\n",
       "        -2.85137922e-01,  3.36485505e-01, -1.96139857e-01, -1.33061901e-01,\n",
       "         4.91445139e-02,  3.56877781e-02, -1.32502047e-02, -7.50055984e-02,\n",
       "        -4.95530628e-02,  1.74575612e-01,  6.50001764e-02,  2.10380808e-01,\n",
       "        -1.30304098e-01,  1.92327499e-01,  2.08757460e-01, -3.15296724e-02,\n",
       "         2.00835261e-02,  2.93346733e-01, -2.01710567e-01, -1.07585685e-02,\n",
       "         2.04137862e-01,  4.25307006e-01, -1.51944980e-02,  3.96798924e-02,\n",
       "         9.59052294e-02,  1.76064655e-01,  4.35781837e-01, -2.42590994e-01,\n",
       "        -4.23364267e-02, -1.28693387e-01,  1.26163036e-01,  1.57309860e-01,\n",
       "         5.43324463e-02, -7.07419142e-02,  2.25291818e-01, -3.01989526e-01,\n",
       "         8.23104158e-02, -2.02632651e-01, -3.49399298e-02, -1.33329481e-01,\n",
       "         1.29536971e-01, -2.28010535e+00,  3.51604760e-01,  3.79617184e-01,\n",
       "        -7.30824098e-02, -2.88117707e-01, -3.60157117e-02,  3.44660401e-01,\n",
       "         9.04100575e-03,  1.90451235e-01,  8.56476277e-02,  1.68088675e-01,\n",
       "        -3.20317268e-01,  4.31538552e-01,  1.20560870e-01, -3.24191302e-02,\n",
       "        -2.65272893e-03,  4.69548613e-01, -1.61459893e-01, -1.16196349e-01,\n",
       "         1.29102111e-01,  1.93098694e-01,  1.66384608e-01,  3.01260680e-01,\n",
       "        -4.73258942e-02, -1.21173821e-01, -2.75347382e-01,  7.16571435e-02,\n",
       "         2.30918437e-01, -1.87695436e-02, -1.88382298e-01,  1.66261151e-01,\n",
       "        -3.94708991e-01,  5.27003966e-02, -2.61317492e+00,  2.82747149e-01,\n",
       "         2.68342167e-01,  2.12530315e-01, -2.67571747e-01, -1.31726190e-01,\n",
       "        -9.02676359e-02,  1.82897598e-02,  2.15181231e-01,  9.85697806e-02,\n",
       "        -2.57078528e-01,  1.18243456e-01, -1.78689614e-01,  1.91789240e-01,\n",
       "        -2.18058079e-01, -5.61697856e-02,  2.61643320e-01,  5.87382056e-02,\n",
       "        -7.81681389e-02, -1.29497975e-01, -7.49386698e-02, -4.38923724e-02,\n",
       "        -2.29881242e-01, -2.60185823e-03,  3.24040294e-01,  2.85465539e-01,\n",
       "        -5.80282509e-02, -6.26176223e-03, -1.60316885e-01, -1.73409045e-01,\n",
       "         2.01612681e-01, -1.63542300e-01,  8.87358859e-02, -1.54520527e-01,\n",
       "         1.50266662e-01,  3.75747651e-01,  5.60969040e-02, -2.09184997e-02,\n",
       "        -3.42163622e-01,  5.05049229e-01,  6.23048879e-02, -1.91106483e-01,\n",
       "         2.50008702e-02,  1.10589936e-01,  3.50752532e-01, -1.01029724e-01,\n",
       "         1.25753790e-01,  3.06447059e-01, -1.04800627e-01,  3.56113911e-03,\n",
       "         2.73443252e-01, -4.08776477e-03,  4.52398270e-01,  1.35559440e-01,\n",
       "        -8.89871716e-02, -2.91770160e-01,  5.97597919e-02,  1.36795223e-01,\n",
       "        -1.32031500e-01,  5.33656888e-02,  4.26809229e-02, -2.57328711e-03,\n",
       "        -1.49275213e-01,  3.18940306e+00, -9.95139778e-02,  1.13162518e-01,\n",
       "         1.63771778e-01,  4.10147607e-02, -1.39377803e-01,  9.31608379e-02,\n",
       "         5.20751923e-02, -5.52300736e-02,  2.23839015e-01,  1.00686893e-01,\n",
       "         2.30373159e-01,  1.74306296e-02,  1.21238440e-01, -1.75470859e-01,\n",
       "         2.35151663e-01,  6.47277981e-02,  1.28270946e-02,  1.60262793e-01,\n",
       "        -1.00451127e-01,  1.97060406e-01,  9.28785652e-04,  5.31960726e-02,\n",
       "         2.13275611e-01, -1.15111184e+00,  1.31921634e-01, -1.36108696e-01,\n",
       "         1.19063295e-01,  2.01704159e-01, -1.73132613e-01, -1.13568693e-01,\n",
       "        -2.94804201e-02, -2.07350940e-01,  1.12047441e-01, -2.29825694e-02,\n",
       "        -1.08974159e-01,  2.45975614e-01,  8.08883160e-02,  2.30406314e-01,\n",
       "        -1.83512405e-01,  8.17211866e-02,  1.37128502e-01, -4.76442762e-02,\n",
       "         8.41088146e-02, -2.05738783e-01,  1.12284563e-01, -8.03210437e-02,\n",
       "        -1.24677144e-01, -2.01298445e-02,  6.49025068e-02,  4.22612056e-02,\n",
       "        -8.31977427e-02, -1.24802608e-02, -2.31130928e-01, -3.53917032e-02,\n",
       "        -2.28285328e-01, -7.49320239e-02, -1.11828819e-02, -4.24795412e-02,\n",
       "        -2.55969703e-01, -6.94898739e-02,  1.95097938e-01, -2.10513681e-01,\n",
       "         3.03483486e-01, -4.21094596e-02, -2.00526670e-01, -1.22216463e-01,\n",
       "        -2.68511057e-01, -3.28412247e+00,  1.29077509e-01, -2.40029961e-01,\n",
       "         2.29006290e-01,  1.93375409e-01,  2.50235945e-03, -3.72781605e-02,\n",
       "         8.08411688e-02,  3.59352171e-01, -2.37531409e-01,  8.03477690e-02,\n",
       "         1.51578054e-01, -1.76215261e-01,  1.93837747e-01, -3.61065030e-01,\n",
       "         1.77117527e-01, -1.04876064e-01, -6.50709048e-02,  1.70401186e-01,\n",
       "        -3.21881920e-02, -3.95072252e-02,  3.42357457e-01, -1.11872315e-01,\n",
       "         1.97035730e-01, -6.27292246e-02, -4.48989794e-02, -1.60741091e-01,\n",
       "        -1.12450704e-01, -2.99875662e-02,  2.61382125e-02,  8.64711255e-02,\n",
       "        -1.29391402e-01,  2.89879680e-01, -2.42593884e-03, -2.74388939e-01,\n",
       "        -3.28356409e+00, -9.08789337e-02, -1.44757465e-01, -1.50138095e-01,\n",
       "         4.12918627e-02, -1.53282270e-01,  3.91376913e-01, -2.05676392e-01,\n",
       "        -1.62335902e-01,  6.82478845e-02, -5.31163253e-03,  1.46001680e-02,\n",
       "         9.74235125e-03,  1.81491405e-01,  1.12521812e-01,  1.54448748e-01,\n",
       "         3.49953890e-01,  1.45472527e-01,  2.64175981e-03,  2.40058810e-01,\n",
       "        -2.34851073e-02,  1.32655241e-02, -7.86208510e-02,  1.52680650e-01,\n",
       "         1.51739433e-01,  2.15844288e-01, -4.02298898e-01, -1.16973251e-01,\n",
       "        -1.02498047e-01, -9.54706520e-02,  3.54357809e-03, -2.80863047e-01,\n",
       "        -2.92061791e-02, -1.02846868e-01, -2.13642687e-01, -2.40038306e-01,\n",
       "         1.88506976e-01,  2.22575814e-01,  2.74587125e-01,  8.44207108e-02,\n",
       "        -1.22397408e-01,  4.67787147e-01, -2.55449563e-02, -1.08579218e-01,\n",
       "         4.46084559e-01, -1.48439050e-01,  6.69673383e-02, -1.57699838e-01,\n",
       "         8.67370293e-02,  3.13380100e-02, -4.84540723e-02,  4.76465523e-02,\n",
       "         9.84524250e-01, -1.14423171e-01,  1.32848784e-01, -1.96006328e-01,\n",
       "         2.91257322e-01,  3.32069620e-02,  9.35806483e-02, -3.61127406e-03,\n",
       "         4.51213539e-01, -5.07605262e-02,  3.43490429e-02, -2.43880093e-01,\n",
       "         1.96514308e-01, -1.91627070e-01,  1.69611946e-01, -4.89175647e-01,\n",
       "        -1.24276124e-01,  4.88192700e-02, -2.87160665e-01,  7.37268031e-02,\n",
       "         2.97859073e-01, -8.53703916e-01, -8.88583660e-02,  2.67834943e-02,\n",
       "        -1.91325977e-01,  1.23549923e-01, -2.02074721e-01,  1.15673304e-01,\n",
       "        -4.31661546e-01, -2.52094001e-01, -8.39194208e-02,  3.06897432e-01,\n",
       "        -1.33753359e-01, -1.23969302e-01, -2.00937390e-01, -6.96752742e-02,\n",
       "        -3.52594763e-01,  2.07749009e-01,  1.81968555e-01,  2.72968471e-01,\n",
       "         1.47644490e-01,  1.40813023e-01,  2.24165022e-02, -6.14615977e-02,\n",
       "         3.68213117e-01, -6.25808775e-01,  2.50688702e-01, -3.37349355e-01,\n",
       "         2.43337631e-01, -1.47309095e-01, -8.07170346e-02, -1.84879452e-03,\n",
       "        -1.96761146e-01, -9.27087218e-02, -9.47820917e-02,  2.72859395e-01,\n",
       "         2.00814918e-01, -9.81445238e-03, -1.20356582e-01, -7.61163235e-02,\n",
       "        -9.17441398e-02,  2.83098251e-01,  8.03845942e-01, -1.92899913e-01,\n",
       "        -8.31889957e-02,  9.89632681e-02, -1.18191570e-01,  1.22865804e-01,\n",
       "         7.21181259e-02, -4.03958708e-02, -8.01989436e-02, -6.56240284e-02,\n",
       "        -1.95228770e-01, -3.90979424e-02,  6.52702600e-02, -1.90867037e-01,\n",
       "        -3.81864399e-01, -1.15125306e-01,  2.29587145e-02, -1.77830577e-01,\n",
       "        -5.47925569e-02, -4.07665431e-01, -9.01731998e-02, -1.61926478e-01,\n",
       "        -3.36057574e-01,  5.65089732e-02,  2.08646968e-01,  2.92532332e-02,\n",
       "         3.25112522e-01,  1.96770400e-01, -7.99702778e-02,  5.21596313e-01,\n",
       "        -1.10000744e-01,  1.94505557e-01,  1.53575778e-01,  1.42458394e-01,\n",
       "        -8.38609412e-03,  4.05996948e-01,  2.71972623e-02, -3.87369335e-01,\n",
       "         6.10888079e-02, -2.46480167e-01,  2.29804412e-01,  2.08803639e-01,\n",
       "        -5.39221168e-02,  1.76947042e-02, -1.74972832e-01, -1.02634635e-02,\n",
       "         1.52245641e-01, -1.48244381e-01, -1.16725934e+00,  2.97282457e-01,\n",
       "         1.00348532e-01, -8.78384933e-02,  7.91235715e-02,  4.57077511e-02,\n",
       "         9.81131345e-02,  1.64911509e-01,  2.52715737e-01,  1.86487913e-01,\n",
       "        -2.02831626e-01,  1.45891890e-01,  5.42887188e-02,  3.68000828e-02,\n",
       "         1.35529429e-01, -2.61222720e-02, -1.83975920e-01,  5.60647063e-02,\n",
       "         1.87332369e-02, -8.34760144e-02,  2.63179392e-01,  2.16131032e-01,\n",
       "         6.83846697e-02,  8.90616179e-02, -6.72558621e-02, -1.07620299e-01,\n",
       "        -2.11481333e-01,  3.12753439e-01, -1.75107382e-02, -3.72728817e-02,\n",
       "         1.04273558e-01, -4.84352976e-01, -4.07557607e-01, -3.58580917e-01,\n",
       "         2.50068009e-01,  6.74800873e-02, -1.89467911e-02,  6.84070513e-02,\n",
       "         1.64774656e-01,  3.57669920e-01, -2.63126343e-01,  2.26590753e-01,\n",
       "         8.49045217e-02, -1.87636688e-02,  2.41177335e-01,  1.65612668e-01,\n",
       "         3.10677215e-02,  1.85627900e-02, -7.65208341e-03, -2.23861277e-01,\n",
       "         1.12967551e-01, -2.84966588e-01,  1.91395991e-02, -3.83772999e-02,\n",
       "         1.84684679e-01, -7.00920075e-02,  1.07258670e-02, -1.37109533e-01,\n",
       "        -3.06227982e-01, -6.59066439e-02,  9.63029638e-02, -3.73566508e-01,\n",
       "        -1.55749917e-01,  1.19894154e-01, -1.86525404e-01, -6.02304935e-01,\n",
       "        -5.13201952e-03, -1.23766191e-01, -3.42476778e-02,  2.30559528e-01,\n",
       "         3.06579232e-01, -1.80468395e-01, -3.71938258e-01,  1.54798329e-01,\n",
       "        -3.75738710e-01,  6.01711199e-02,  2.01556876e-01,  1.12053193e-01,\n",
       "        -1.38315521e-02, -3.47988486e-01,  1.41504154e-01, -2.51856446e-01,\n",
       "        -2.61155486e-01,  2.50393897e-01, -2.58740723e-01,  1.40009359e-01,\n",
       "        -1.56561539e-01,  3.05897221e-02,  5.12339175e-04, -1.12148479e-01,\n",
       "        -1.46195620e-01, -2.61085004e-01,  1.89111248e-01,  1.29926354e-02,\n",
       "         1.39472723e-01,  2.15843201e-01,  6.25071749e-02,  7.54742473e-02,\n",
       "        -1.03738628e-01,  1.56626385e-02, -1.07111596e-01,  4.70925480e-01,\n",
       "         7.46601522e-02,  1.32900983e-01, -4.86958362e-02, -1.57758266e-01,\n",
       "         1.65081874e-01, -1.31624073e-01, -2.64301419e-01, -5.40160388e-02,\n",
       "        -8.46412703e-02,  2.15024725e-01,  1.40718654e-01,  2.00631693e-02,\n",
       "         1.21729277e-01, -7.45019913e-02, -1.02351591e-01, -1.69455990e-01,\n",
       "         2.03197742e+00,  3.35330606e-01,  1.80821955e-01, -1.44568160e-02,\n",
       "         6.91169649e-02,  3.74808013e-02,  1.02685459e-01,  1.51011676e-01,\n",
       "         1.20301351e-01,  1.92073956e-01, -2.94837117e-01,  1.52865022e-01,\n",
       "        -1.37797832e-01,  7.90245011e-02,  2.53999889e-01,  1.22119442e-01,\n",
       "         5.10045514e-02, -8.00123066e-02, -3.52057099e-01, -1.53778523e-01,\n",
       "        -1.94962114e-01,  6.59450665e-02,  1.25618920e-01,  1.78477883e-01,\n",
       "         2.55707726e-02,  2.98377633e-01,  7.14940727e-02, -4.61530387e-02,\n",
       "        -7.70901889e-03,  1.82026640e-01, -1.30744232e-02,  1.45880282e-01,\n",
       "         1.03344649e-01,  3.56509835e-01,  3.83762419e-02, -5.78678548e-02,\n",
       "        -6.48897365e-02, -3.33491772e-01, -2.56194323e-02,  2.80962661e-02,\n",
       "         6.21121898e-02, -2.41518691e-01,  2.89582342e-01, -4.67012897e-02,\n",
       "        -2.29444683e-01,  2.17843413e-01, -4.53459695e-02, -2.81464815e-01,\n",
       "         2.02808946e-01,  2.28159145e-01,  1.18249647e-01,  1.23073541e-01,\n",
       "        -5.63186668e-02,  1.54481754e-01, -8.60873833e-02, -1.12284973e-01,\n",
       "         2.24801540e-01,  2.28969231e-02,  1.12763621e-01,  2.38565668e-01,\n",
       "        -6.20287620e-02,  1.41675565e-02,  2.88246274e-01,  1.58566944e-02,\n",
       "         7.13051260e-02,  7.10529834e-03, -2.49083206e-01,  1.03896551e-01,\n",
       "        -4.75090593e-02, -4.97845635e-02, -5.98740205e-02,  4.09839213e-01,\n",
       "         2.97455549e-01,  2.24133819e-01,  1.81044504e-01, -3.34040262e-02,\n",
       "         1.65181518e-01, -3.92777054e-03,  3.21956277e-02, -2.39485240e+00,\n",
       "         1.53014749e-01,  2.67282486e-01,  2.11276323e-01,  1.23347692e-01,\n",
       "         3.19244325e-01,  2.58815020e-01,  1.40057564e-01, -3.72098386e-02,\n",
       "        -1.74935192e-01,  2.74022490e-01,  1.98798344e-01,  2.13293344e-01,\n",
       "         1.24592356e-01,  1.57882608e-02, -1.15488157e-01,  2.47842893e-01,\n",
       "        -2.38327175e-01, -7.31954575e-02, -1.54570028e-01, -2.21874073e-01,\n",
       "         2.41878748e-01,  8.71734545e-02, -1.44202128e-01, -2.14226589e-01,\n",
       "         4.17627156e-01, -1.32888779e-01, -2.48497963e-01,  1.23300612e-01,\n",
       "         8.74145776e-02,  8.77945870e-03,  1.50184199e-01, -7.35145211e-02,\n",
       "         2.39335597e-02,  7.04152957e-02, -2.14720741e-01,  1.28056929e-02,\n",
       "        -1.80260211e-01,  1.62447974e-01,  1.82595342e-01, -1.01792999e-02,\n",
       "         3.75210017e-01, -8.51536691e-02,  1.75788552e-01, -1.12277195e-01,\n",
       "        -2.35849023e-02,  3.78294915e-01, -2.95515895e-01,  3.71158004e-01,\n",
       "        -2.32061297e-01, -2.44198710e-01,  3.42300773e-01,  3.34424376e-01,\n",
       "         4.40313369e-02,  5.98991066e-02, -8.02567229e-02,  1.44154355e-02,\n",
       "        -6.55937269e-02, -1.35370046e-01, -1.49842769e-01, -6.09163269e-02,\n",
       "        -9.49402899e-03,  1.41676486e-01, -2.47820094e-03,  2.25588813e-01,\n",
       "        -8.68156627e-02,  7.24967793e-02,  2.70653665e-02, -1.58193752e-01,\n",
       "        -3.52005184e-01, -2.97750831e-01, -6.68655410e-02, -5.30596897e-02,\n",
       "         3.25068869e-02,  2.13964522e-01, -7.65816569e-02,  2.90780962e-01,\n",
       "         5.11662483e-01,  1.27294958e-01,  1.62957117e-01,  2.86186337e-02,\n",
       "        -1.32159039e-01,  1.94353759e-01, -1.37630850e-01,  3.49448770e-01,\n",
       "        -6.93557596e+00, -1.02716312e-02,  4.12362702e-02, -1.32668227e-01,\n",
       "         2.19659433e-02, -1.17825672e-01, -4.88919653e-02, -2.24065945e-01,\n",
       "         9.49423090e-02, -4.88891304e-02,  1.48703784e-01,  1.59303322e-02,\n",
       "        -6.34716228e-02, -6.81545353e-03,  4.14130002e-01,  2.54924119e-01],\n",
       "       dtype=float32),\n",
       " array([-4.11927730e-01, -2.15563893e-01, -6.58035278e-05, -2.20699310e-01,\n",
       "        -2.71455079e-01, -1.93315417e-01,  2.41135806e-02,  1.30603775e-01,\n",
       "        -1.75655454e-01, -2.43216485e-01, -9.71388295e-02, -8.14303532e-02,\n",
       "        -5.65570518e-02,  2.30369300e-01,  7.37955496e-02,  1.65200546e-01,\n",
       "        -4.43814769e-02,  2.63870090e-01, -3.91810387e-03, -2.35802621e-01,\n",
       "        -1.48036927e-01, -1.55119061e-01,  8.90557766e-02, -8.62242877e-02,\n",
       "        -1.37703251e-02, -9.31842625e-02,  1.89893469e-02,  1.18495934e-01,\n",
       "         1.69701755e-01,  5.35407215e-02, -7.98651204e-02,  2.10572571e-01,\n",
       "        -5.11050783e-02, -1.34288043e-01,  1.22670799e-01,  5.62193990e-03,\n",
       "         1.71359941e-01,  1.69982165e-01,  2.00134903e-01,  1.43149629e-01,\n",
       "         2.63468232e-02, -1.00418925e-03,  1.43975541e-01,  1.04112148e-01,\n",
       "        -1.53918207e-01, -9.00785699e-02, -2.38457847e+00,  5.97666726e-02,\n",
       "        -1.90432563e-01, -4.95304614e-01,  2.64512151e-02,  1.37375832e-01,\n",
       "         3.93171571e-02,  4.50133741e-01,  1.11257076e-01,  2.30630815e-01,\n",
       "        -3.02110225e-01,  4.14147168e-01,  1.81154832e-01,  1.13997951e-01,\n",
       "         4.54594344e-02, -2.54944935e-02, -2.52407640e-02,  1.62944347e-01,\n",
       "        -6.77031651e-02,  3.74088705e-01, -2.01336890e-01,  1.36928469e-01,\n",
       "        -3.28855753e-01,  4.68786776e-01, -1.80205405e-01, -8.14767256e-02,\n",
       "         4.55358103e-02, -1.90210566e-02, -1.40690356e-01, -1.19091399e-01,\n",
       "        -2.65180394e-02,  8.50536972e-02,  4.00252976e-02,  1.87465027e-01,\n",
       "        -1.83075711e-01,  1.73233524e-01,  1.81272686e-01, -9.27676037e-02,\n",
       "         7.39206299e-02,  1.74019247e-01, -8.05864409e-02,  1.77416354e-01,\n",
       "        -2.38774382e-02,  5.16915202e-01, -6.52095824e-02, -7.95476139e-03,\n",
       "         1.09407797e-01,  1.30243674e-01,  2.51877040e-01, -2.18368456e-01,\n",
       "         1.10988319e-03, -1.25794888e-01,  2.12008163e-01,  1.02930084e-01,\n",
       "        -4.98350188e-02, -1.82864070e-01,  1.23604387e-03, -4.10129666e-01,\n",
       "         1.32755876e-01, -2.47682601e-01, -1.68087378e-01, -1.41086057e-01,\n",
       "        -4.39241529e-02, -2.06267834e+00,  1.24051012e-01,  3.62720698e-01,\n",
       "        -1.03250995e-01, -3.05830657e-01,  1.74673051e-02,  1.12397954e-01,\n",
       "        -6.71174303e-02,  1.34578779e-01,  2.27996051e-01,  1.06206546e-02,\n",
       "        -1.38070717e-01,  6.47407174e-01,  8.26668516e-02, -1.21490933e-01,\n",
       "         2.02727485e-02,  2.78316796e-01, -1.15696885e-01,  1.73734222e-02,\n",
       "         1.27941638e-01,  6.57209828e-02,  2.92897969e-01,  3.84262890e-01,\n",
       "         7.67688081e-02,  2.96752900e-04, -9.99853015e-03, -4.99881171e-02,\n",
       "         6.30613118e-02,  4.21415195e-02, -3.06851834e-01, -9.20911580e-02,\n",
       "        -4.96661216e-01, -4.44180444e-02, -2.42001390e+00,  2.43807331e-01,\n",
       "         2.90624350e-01,  2.51081675e-01, -1.49687603e-01, -1.76932350e-01,\n",
       "         4.62210029e-02,  1.85816139e-01,  6.65921494e-02,  1.90547004e-01,\n",
       "        -2.68543690e-01,  7.49116689e-02, -1.62889689e-01,  1.10641219e-01,\n",
       "        -2.10551426e-01, -9.81941819e-04,  4.84026000e-02, -2.86181476e-02,\n",
       "        -4.16180566e-02, -2.26915821e-01, -2.03895986e-01, -2.88498521e-01,\n",
       "        -5.48018068e-02, -9.03851539e-02,  2.54017562e-01,  2.54948229e-01,\n",
       "        -1.17521584e-01, -1.07392281e-01, -1.06283508e-01, -3.26673567e-01,\n",
       "         1.91232920e-01, -1.78519085e-01,  8.47604051e-02, -1.77342817e-01,\n",
       "         3.17244418e-02,  1.21971648e-02,  1.58014804e-01, -6.50274009e-02,\n",
       "        -3.74946654e-01,  4.85982358e-01,  7.06396699e-02, -1.57846417e-02,\n",
       "        -1.33577501e-02,  1.13095835e-01,  2.77093887e-01, -1.34415776e-01,\n",
       "         2.68612206e-01,  1.45192698e-01, -1.13011897e-02,  2.44110376e-01,\n",
       "         3.03528793e-02, -3.49249952e-02,  2.57877111e-01,  2.96477467e-01,\n",
       "        -1.39159948e-01, -4.98925924e-01, -3.01285796e-02,  4.22103554e-02,\n",
       "        -2.37493843e-01,  1.62909962e-02, -1.26064539e-01, -9.48557556e-02,\n",
       "         2.48935074e-02,  2.95541763e+00,  1.81409359e-01,  3.90082002e-02,\n",
       "         1.70669988e-01,  5.11414483e-02, -4.70878556e-02, -8.74952227e-03,\n",
       "         1.49979051e-02, -3.06651950e-01,  3.48001570e-01, -7.31326453e-03,\n",
       "         2.46881723e-01, -1.94422781e-01,  6.20833486e-02, -7.44183958e-02,\n",
       "         9.75055322e-02, -1.63297430e-02, -1.43639416e-01,  2.84220487e-01,\n",
       "        -5.85463978e-02,  3.41945618e-01,  1.64828300e-01,  8.77073407e-03,\n",
       "         3.06119412e-01, -9.75809932e-01,  2.57182002e-01, -9.88097936e-02,\n",
       "         5.72617427e-02,  1.85311839e-01, -1.44321859e-01, -1.25140473e-01,\n",
       "         1.67935342e-01, -9.85015184e-03,  1.00664958e-01, -7.94103146e-02,\n",
       "        -3.77369970e-02,  2.35910088e-01,  2.08729859e-02,  2.92836539e-02,\n",
       "        -2.75792241e-01, -4.03608158e-02,  6.94653913e-02, -7.08029270e-02,\n",
       "        -1.47241771e-01, -2.72328377e-01, -9.34664905e-03, -1.05274864e-01,\n",
       "        -2.37149950e-02,  1.35931270e-02,  1.71096429e-01, -2.60731280e-01,\n",
       "         2.00670883e-02,  1.15799867e-02, -8.39676932e-02,  6.06038533e-02,\n",
       "        -3.03094476e-01, -8.95838961e-02, -5.02971858e-02, -2.73157284e-02,\n",
       "        -1.59394443e-01, -5.48799448e-02, -7.34084621e-02,  4.47304621e-02,\n",
       "         3.73070896e-01,  7.12438747e-02, -6.45637810e-02, -2.90783763e-01,\n",
       "        -2.92035341e-01, -3.14635563e+00, -1.09885931e-01, -1.56799883e-01,\n",
       "         1.28986821e-01,  2.50681311e-01, -1.13925427e-01, -5.93319945e-02,\n",
       "         7.29753897e-02,  3.45589697e-01, -1.25542417e-01,  6.18652031e-02,\n",
       "         1.48804903e-01, -4.86531854e-03, -4.44348976e-02, -3.22407365e-01,\n",
       "         2.15069562e-01, -1.38717711e-01, -2.50070184e-01,  2.18483567e-01,\n",
       "        -7.69195110e-02, -2.64425948e-02,  2.50408322e-01, -9.53526348e-02,\n",
       "         1.13598555e-01, -1.49385735e-01, -1.39140218e-01, -1.47770032e-01,\n",
       "        -3.30517590e-01, -1.13287129e-01,  5.11399768e-02,  2.13632751e-02,\n",
       "        -9.47326496e-02,  1.86334416e-01, -9.73969400e-02, -2.72492096e-02,\n",
       "        -3.70360589e+00, -8.55700523e-02, -3.33306976e-02, -1.12061664e-01,\n",
       "         9.38210636e-02, -9.46712568e-02,  3.33221883e-01, -7.49728382e-02,\n",
       "        -2.14846246e-02,  1.65951923e-01, -1.66201726e-01, -5.71126342e-02,\n",
       "        -1.75914764e-01,  1.30099028e-01,  2.01256558e-01, -7.56955147e-03,\n",
       "         2.78276980e-01,  2.35443152e-02,  2.25484997e-01,  1.71125203e-01,\n",
       "        -5.69778197e-02, -6.52845576e-02, -1.08172923e-01,  6.75149709e-02,\n",
       "        -5.74426837e-02,  5.18361516e-02, -4.55110431e-01, -1.03113912e-01,\n",
       "        -4.34488580e-02, -2.02576846e-01, -9.68134776e-02, -1.73689306e-01,\n",
       "        -4.86364402e-02, -1.59908205e-01, -1.66683048e-01, -2.27737337e-01,\n",
       "         2.46837381e-02,  9.45210084e-02,  2.84262627e-01, -1.35097476e-02,\n",
       "        -2.10216671e-01,  6.58714354e-01,  1.14855438e-01, -2.93539409e-02,\n",
       "         2.62483150e-01, -1.02728121e-01,  1.42008290e-02, -8.47775117e-02,\n",
       "         1.08381636e-01,  1.29893869e-01, -7.68294781e-02, -2.09269430e-02,\n",
       "         8.03724170e-01, -1.87428236e-01,  2.08445460e-01, -1.49882406e-01,\n",
       "         2.46854618e-01,  1.85249466e-02, -1.48869334e-02,  1.46324009e-01,\n",
       "         5.09666264e-01,  1.56990997e-02,  1.61254361e-01, -7.71293193e-02,\n",
       "         2.27735341e-02, -1.88388094e-01,  1.66648164e-01, -4.09223795e-01,\n",
       "         9.02315602e-02,  1.09043315e-01, -3.27288955e-01,  2.83538580e-01,\n",
       "         2.49467224e-01, -9.61297989e-01, -1.51384249e-03, -1.80330314e-03,\n",
       "        -2.29195878e-02, -1.42332986e-02, -1.06893718e-01,  8.71303976e-02,\n",
       "        -4.67748195e-01, -2.01520920e-01,  1.54198185e-02,  1.95299536e-01,\n",
       "        -1.27244398e-01, -4.30446491e-03, -2.23613217e-01,  1.50639445e-01,\n",
       "        -2.11990237e-01,  3.54964525e-01, -4.48683575e-02,  1.86700538e-01,\n",
       "         2.65165836e-01,  2.00739875e-02,  4.11883369e-02, -5.11121005e-04,\n",
       "         3.03186536e-01, -6.18446052e-01,  3.48356545e-01, -2.59195566e-01,\n",
       "         3.02111715e-01, -2.96620965e-01, -2.57094502e-01,  5.66716120e-02,\n",
       "        -1.04545094e-01, -1.06925905e-01, -2.44837791e-01,  3.11699331e-01,\n",
       "         2.63576627e-01,  2.85771966e-01, -2.18792513e-01,  2.36334532e-01,\n",
       "        -1.62100255e-01,  7.40145147e-02,  1.02797651e+00,  3.77242379e-02,\n",
       "        -1.78588480e-01,  2.97328085e-01,  2.06474245e-01,  3.46969962e-02,\n",
       "         9.18710306e-02,  2.56120682e-01, -3.68325152e-02, -1.16141967e-01,\n",
       "        -1.17667556e-01,  1.65798113e-01,  1.20379895e-01,  3.51046771e-02,\n",
       "        -3.27157587e-01, -6.87798187e-02, -4.91553321e-02, -5.51228486e-02,\n",
       "        -2.35133320e-01, -4.69590157e-01,  2.65630223e-02, -1.29495919e-01,\n",
       "        -3.00651908e-01,  4.04816359e-01,  2.02510670e-01, -1.33782968e-01,\n",
       "         4.50157613e-01,  1.50914475e-01, -8.33644569e-02,  2.39115775e-01,\n",
       "        -9.56511684e-03,  2.23661646e-01,  2.28247881e-01,  1.30695894e-01,\n",
       "         8.84235799e-02,  2.66517729e-01,  2.52393574e-01, -3.55047226e-01,\n",
       "         2.10898668e-01, -2.27566913e-01,  1.42185375e-01, -4.91505861e-03,\n",
       "        -1.42180055e-01, -1.76830292e-01, -8.92938823e-02, -1.98213588e-02,\n",
       "         2.04862371e-01,  9.48086753e-02, -1.10344172e+00,  1.56739801e-01,\n",
       "         1.30365103e-01, -2.03055292e-02,  1.44416273e-01,  1.54090732e-01,\n",
       "         1.06680945e-01,  3.61719251e-01,  8.04673880e-04,  8.39301199e-03,\n",
       "        -1.44154251e-01,  2.97441538e-02,  8.28749985e-02,  1.42890960e-02,\n",
       "         1.18497267e-01,  3.39145958e-02, -9.03006494e-02,  9.29970592e-02,\n",
       "         1.64401069e-01,  1.37603641e-01, -1.90740097e-02,  3.10887665e-01,\n",
       "         1.15975380e-01, -4.95911017e-03,  3.06082703e-03,  4.20076810e-02,\n",
       "        -1.87765732e-01,  2.33103067e-01,  1.51917145e-01,  1.64284259e-01,\n",
       "        -9.12961513e-02, -2.77590185e-01, -2.58613318e-01, -1.59665599e-01,\n",
       "         1.05662882e-01,  2.90685892e-01,  1.44290894e-01, -8.91835690e-02,\n",
       "         1.74612895e-01,  4.09361631e-01, -4.14479882e-01,  1.67449683e-01,\n",
       "         3.34770381e-01, -3.43394689e-02,  1.69140324e-01,  2.04592794e-01,\n",
       "         4.32012901e-02, -1.73982203e-01, -6.73471093e-02, -1.96379930e-01,\n",
       "         1.67145491e-01, -3.76919419e-01, -6.18705116e-02,  8.66868719e-02,\n",
       "         1.63760647e-01,  2.66444236e-02,  2.42907926e-03, -1.84996232e-01,\n",
       "        -7.57186636e-02, -1.53520465e-01,  1.91360593e-01, -3.50633532e-01,\n",
       "        -7.68852532e-02,  1.66693360e-01, -8.12576339e-02, -5.90503097e-01,\n",
       "         2.40439996e-02,  9.16983560e-02, -1.32817663e-02,  1.93208694e-01,\n",
       "         2.10780010e-01, -2.06467330e-01, -2.93667525e-01, -6.05031773e-02,\n",
       "        -1.48242027e-01,  9.65254903e-02, -4.67919596e-02, -4.74131107e-03,\n",
       "        -4.77887765e-02, -6.75161257e-02, -7.85646811e-02, -7.23215640e-02,\n",
       "        -7.35643208e-02,  3.83224547e-01,  1.17268339e-01,  7.59623200e-02,\n",
       "        -8.49475041e-02,  1.02380440e-02,  1.82494298e-01, -5.48406318e-02,\n",
       "        -1.37740672e-01, -1.89553142e-01,  3.02315354e-01,  1.71779886e-01,\n",
       "         3.12919259e-01,  7.23256171e-03,  7.11273625e-02,  2.59942673e-02,\n",
       "        -1.60723731e-01,  1.55454045e-02, -3.88500094e-02,  2.57036477e-01,\n",
       "        -1.37673169e-02,  2.17534631e-01, -1.04553983e-01,  7.24162012e-02,\n",
       "         2.51408070e-01, -3.76164950e-02, -1.23287104e-01, -5.00204936e-02,\n",
       "        -7.16861710e-02,  3.95327061e-01,  1.70803756e-01,  4.56321836e-02,\n",
       "         4.27209437e-02,  1.16023928e-01, -1.10695794e-01, -1.48142457e-01,\n",
       "         1.63933742e+00,  2.40801260e-01,  2.47404605e-01,  1.08080365e-01,\n",
       "         7.10687637e-02,  9.74395424e-02,  7.04679713e-02, -1.14192799e-01,\n",
       "         8.03565457e-02,  2.24547967e-01, -2.78251439e-01,  1.11359015e-01,\n",
       "        -8.60377103e-02,  1.32149622e-01,  9.92566422e-02,  1.89701423e-01,\n",
       "         2.02130526e-03, -1.34886783e-02, -4.05227005e-01, -1.71635412e-02,\n",
       "        -2.65720844e-01,  9.94730741e-02,  1.01674348e-01,  1.74554616e-01,\n",
       "        -4.73479517e-02,  1.24193721e-01,  1.99448824e-01, -6.18929937e-02,\n",
       "        -7.74904564e-02,  9.51031372e-02,  1.76623240e-02,  1.79013088e-01,\n",
       "         1.36540696e-01,  1.81099534e-01, -6.66156560e-02, -2.31409669e-02,\n",
       "         2.51470953e-02, -1.97005302e-01,  2.79778168e-02,  6.21399395e-02,\n",
       "         1.01948507e-01, -2.85768569e-01,  2.51723677e-01, -1.59779459e-01,\n",
       "        -1.50389910e-01,  2.92987764e-01, -1.06161423e-02, -2.08157256e-01,\n",
       "         1.67044289e-02,  2.55285233e-01,  2.10273653e-01,  5.61906211e-02,\n",
       "         1.82382539e-02,  1.15578249e-01, -2.50357300e-01, -1.05306998e-01,\n",
       "         1.48104221e-01,  4.99496534e-02, -9.51985717e-02,  4.94281575e-02,\n",
       "         6.76228479e-02,  1.08108804e-01,  2.53619626e-02,  4.66349162e-02,\n",
       "         1.56889707e-01,  4.63065878e-03, -1.11445136e-01,  9.71563831e-02,\n",
       "        -1.52779832e-01,  1.29689753e-01,  1.39386937e-01,  2.98560351e-01,\n",
       "         2.93842107e-01,  2.38683581e-01,  7.08340853e-02, -4.36228588e-02,\n",
       "         2.10554719e-01, -1.59895346e-02, -7.50872642e-02, -2.03336525e+00,\n",
       "         7.43577927e-02,  2.59032547e-01,  4.16950166e-01,  4.52757552e-02,\n",
       "         1.73509151e-01,  1.43012509e-01, -4.77009788e-02, -1.18493661e-01,\n",
       "        -1.59906194e-01,  2.36741871e-01,  2.15722814e-01,  3.46004337e-01,\n",
       "         1.65434599e-01,  2.66342074e-01, -9.07537714e-02,  9.38549116e-02,\n",
       "        -1.47503361e-01,  1.65996961e-02, -1.58268526e-01, -2.57501185e-01,\n",
       "         1.68030486e-01,  1.58350855e-01, -2.05369681e-01, -3.37247044e-01,\n",
       "         1.35879770e-01,  3.40212137e-02, -2.70858765e-01,  1.33379221e-01,\n",
       "        -1.29457116e-02,  1.25992104e-01,  2.82070220e-01,  7.32955858e-02,\n",
       "         7.40939751e-02,  6.24487400e-02, -1.26854032e-01,  1.35654137e-02,\n",
       "        -2.65948445e-01,  5.71731217e-02,  1.38429150e-01, -1.82570770e-01,\n",
       "         3.68426114e-01, -2.74985656e-02,  1.70424357e-01, -2.05436483e-01,\n",
       "        -5.64456023e-02,  2.21209735e-01, -3.85250956e-01,  4.72020715e-01,\n",
       "        -1.79507345e-01, -1.48870766e-01,  4.10180390e-01,  1.35981530e-01,\n",
       "         4.67064679e-02,  1.17210545e-01,  3.49333137e-02,  6.98773190e-02,\n",
       "        -3.78208458e-02, -9.27292183e-02, -1.43734574e-01, -3.25476751e-02,\n",
       "        -1.56141222e-01,  9.36358348e-02,  9.92568880e-02,  1.44396469e-01,\n",
       "        -2.93250997e-02, -2.12953072e-02,  1.91528603e-01, -3.01929951e-01,\n",
       "        -2.13444188e-01, -2.00462803e-01,  6.05136938e-02,  9.87309068e-02,\n",
       "         1.84396617e-02,  2.06505418e-01,  5.30182458e-02,  2.08440527e-01,\n",
       "         3.84987265e-01,  1.19125143e-01,  4.47433926e-02,  1.25038087e-01,\n",
       "        -2.55238265e-01,  1.62904814e-01, -2.04082489e-01,  3.15895528e-01,\n",
       "        -6.23500061e+00, -1.62722558e-01,  1.30307097e-02, -2.07990646e-01,\n",
       "        -6.47108257e-02, -2.53051907e-01, -4.58160080e-02, -1.63453549e-01,\n",
       "         5.78385666e-02,  3.47647518e-02,  1.13624908e-01,  3.65361124e-02,\n",
       "         1.09155681e-02, -2.13203467e-02,  3.54101181e-01,  4.36671108e-01],\n",
       "       dtype=float32),\n",
       " array([-2.52007484e-01, -3.64556387e-02, -2.73512721e-01, -3.35886717e-01,\n",
       "        -1.22480541e-01, -3.26881915e-01, -7.66165555e-02,  2.68847764e-01,\n",
       "         2.38766503e-02, -4.80885029e-01, -2.58628100e-01,  1.13846809e-02,\n",
       "        -2.54772961e-01,  6.75275326e-02,  5.47394007e-02,  2.99686521e-01,\n",
       "         3.59107666e-02,  3.21752518e-01,  2.96653919e-02,  1.51338667e-01,\n",
       "        -1.70658857e-01,  1.10973962e-01, -3.08269620e-01, -3.61131504e-04,\n",
       "         8.60304236e-02, -4.81169790e-01,  3.07840765e-01, -2.96750486e-01,\n",
       "         5.91193363e-02,  7.01429993e-02, -3.37167867e-02,  6.61759615e-01,\n",
       "        -2.29899865e-03, -5.31465709e-01,  3.98019642e-01,  4.18400653e-02,\n",
       "         6.80878758e-01, -1.76973820e-01,  7.52051324e-02,  3.30414116e-01,\n",
       "        -2.57692486e-01,  7.48096183e-02,  2.86572635e-01,  1.71681046e-01,\n",
       "         2.34438404e-02, -5.10849416e-01, -3.11993980e+00, -5.02759814e-02,\n",
       "        -2.26448610e-01, -5.78706682e-01, -3.92297387e-01, -1.17158368e-02,\n",
       "        -1.03283718e-01,  9.08252358e-01,  1.72440827e-01,  4.98644084e-01,\n",
       "        -3.25367779e-01,  4.77559492e-02,  2.12312832e-01,  1.64889947e-01,\n",
       "         2.81900018e-01,  1.21715292e-01, -2.93140262e-01, -2.32681796e-01,\n",
       "         2.39606917e-01,  4.23827648e-01, -1.97178930e-01,  3.26860517e-01,\n",
       "        -7.76740909e-01,  2.99582422e-01, -5.80085456e-01, -1.66740045e-01,\n",
       "        -8.14365670e-02,  4.10400294e-02, -1.91725895e-01,  2.34967753e-01,\n",
       "        -1.69819340e-01,  5.11812679e-02, -2.98230916e-01, -1.66898206e-01,\n",
       "        -2.16762111e-01,  7.29197562e-01,  3.99311960e-01,  4.09995951e-02,\n",
       "         6.64882243e-01,  3.47291529e-02, -3.35750818e-01,  4.73783612e-01,\n",
       "         1.65625036e-01,  7.39275098e-01, -3.28529447e-01, -1.20704561e-01,\n",
       "        -1.84128866e-01,  1.73439175e-01,  7.63954341e-01, -1.69546306e-01,\n",
       "         1.27606302e-01, -2.40142256e-01,  1.95483238e-01,  3.23349118e-01,\n",
       "         2.40653321e-01, -5.91194093e-01,  4.23098743e-01, -7.73820162e-01,\n",
       "         1.04155965e-01, -3.37900043e-01, -4.28564072e-01, -2.17019215e-01,\n",
       "         1.37320116e-01, -1.88883042e+00,  5.31587601e-01,  3.28967839e-01,\n",
       "        -7.82467052e-02, -9.56562221e-01, -2.35040277e-01,  8.63065422e-02,\n",
       "         4.07231808e-01, -9.69421417e-02,  5.63689284e-02, -2.33318776e-01,\n",
       "         1.62870139e-01,  7.90281236e-01, -7.31682107e-02,  6.56526983e-02,\n",
       "        -3.11357111e-01,  2.48228967e-01,  3.19698721e-01,  3.60604852e-01,\n",
       "         9.26410630e-02,  7.73203149e-02,  5.68928838e-01,  6.58701181e-01,\n",
       "         4.41680491e-01, -3.23514938e-01, -4.65191245e-01,  3.81061524e-01,\n",
       "         3.98343652e-02, -1.68582693e-01, -4.12090302e-01, -2.10067648e-02,\n",
       "        -5.51801920e-01, -2.64464825e-01, -2.09751892e+00,  4.24359381e-01,\n",
       "         1.05193400e+00,  5.34255147e-01, -9.04795190e-04, -4.42500174e-01,\n",
       "         1.49871111e-01,  4.28335249e-01,  1.27331734e-01,  2.22450942e-01,\n",
       "        -5.99173903e-01,  2.84282118e-01, -4.35729682e-01,  1.36360303e-02,\n",
       "        -2.82334030e-01,  2.83022463e-01, -1.42373428e-01, -8.19606781e-02,\n",
       "         2.87534922e-01, -2.35376164e-01, -3.39281112e-01, -3.15628469e-01,\n",
       "        -2.68005431e-01,  1.24191269e-01,  3.69795561e-01,  2.68209040e-01,\n",
       "         9.58021581e-02,  2.81328887e-01, -2.35880151e-01, -4.56592798e-01,\n",
       "         5.29261649e-01, -1.34633794e-01,  1.05938382e-01,  8.87911953e-03,\n",
       "        -2.54566707e-02,  1.23434909e-01,  2.29188249e-01, -1.81396008e-01,\n",
       "        -2.27979243e-01,  6.46614671e-01,  3.07655334e-01, -7.12366551e-02,\n",
       "         2.31766447e-01, -2.11492747e-01,  2.96241224e-01, -4.64299917e-01,\n",
       "        -8.91244859e-02,  1.98448032e-01, -6.83783054e-01, -2.35480815e-01,\n",
       "        -1.24828473e-01, -3.47557545e-01,  4.23413694e-01,  2.52473176e-01,\n",
       "        -3.27631414e-01, -5.14490187e-01, -3.77973765e-01,  1.21676601e-01,\n",
       "        -2.53933996e-01, -2.70056948e-02, -6.89013600e-02, -5.03896512e-02,\n",
       "        -1.92069426e-01,  3.22719550e+00,  7.16273561e-02, -1.16445877e-01,\n",
       "         3.95944156e-02,  8.51342604e-02,  2.58344263e-01,  1.55419096e-01,\n",
       "         6.28967211e-02, -1.62427068e-01,  4.99084532e-01, -2.14559399e-02,\n",
       "        -1.22568905e-01,  6.06471747e-02,  3.17262501e-01, -1.14698067e-01,\n",
       "         6.23416185e-01, -1.22264385e-01, -3.45307142e-01,  4.18517619e-01,\n",
       "         1.57254860e-02,  1.11006188e+00,  9.91806239e-02,  6.38174951e-01,\n",
       "         6.41059637e-01, -1.30962563e+00,  3.01672816e-01, -3.12788308e-01,\n",
       "         1.75335199e-01,  1.99625596e-01, -5.02327025e-01,  2.18470588e-01,\n",
       "         1.68132216e-01, -7.08687007e-02, -1.42035037e-02, -1.40395060e-01,\n",
       "        -3.05853244e-02,  4.44297433e-01,  1.79326117e-01, -7.89576918e-02,\n",
       "        -6.29788786e-02, -2.19116569e-01, -2.31342807e-01, -2.22635150e-01,\n",
       "         3.28505486e-01, -4.03184503e-01,  8.77751932e-02,  4.08972740e-01,\n",
       "        -6.21174835e-03, -5.56591511e-01,  1.09556630e-01,  1.48933589e-01,\n",
       "         6.39214963e-02,  6.63522258e-03, -1.36133358e-01,  4.57178921e-01,\n",
       "        -3.56002361e-01, -3.43308985e-01, -6.98364154e-02,  6.10128418e-02,\n",
       "        -8.53987336e-01, -4.69812185e-01, -7.49015659e-02,  2.37020165e-01,\n",
       "         3.73987824e-01,  5.87888062e-04, -2.31357679e-01, -1.01289999e+00,\n",
       "        -7.90500939e-01, -2.82222819e+00, -5.60453475e-01, -4.24614996e-01,\n",
       "         3.09601605e-01,  2.81160265e-01, -5.62130392e-01, -1.03054702e-01,\n",
       "         2.37723634e-01,  3.20079058e-01, -3.72115970e-01,  3.80226731e-01,\n",
       "        -2.70726025e-01,  1.09433979e-01, -1.41792661e-02, -6.53045952e-01,\n",
       "         3.56025249e-01, -9.06099081e-02, -5.05474627e-01,  3.53117995e-02,\n",
       "        -4.77150321e-01, -2.21456453e-01,  9.82786715e-02,  1.98977351e-01,\n",
       "         1.91605851e-01, -3.02430272e-01,  8.67811590e-03, -5.46597481e-01,\n",
       "        -7.18004942e-01, -7.22067595e-01,  1.85809694e-02,  4.01782840e-02,\n",
       "        -5.21794438e-01,  1.31897852e-01, -3.30315500e-01, -2.07279146e-01,\n",
       "        -2.69264841e+00,  2.17378348e-01, -1.41921178e-01,  1.58704445e-01,\n",
       "        -2.28850931e-01, -1.77074224e-01, -1.87961571e-02, -2.11068511e-01,\n",
       "        -2.90183127e-01,  1.87179327e-01, -9.48484614e-02, -3.29828113e-01,\n",
       "        -3.49754006e-01,  4.74767089e-01,  4.53792125e-01,  1.27608359e-01,\n",
       "         4.63616848e-01, -3.53196636e-03,  1.98188096e-01,  1.15810640e-01,\n",
       "        -6.97125420e-02, -3.09492946e-01, -2.73995638e-01, -2.71240056e-01,\n",
       "        -3.23208123e-02,  3.27662557e-01, -4.22944129e-01, -2.95067221e-01,\n",
       "        -3.33014637e-01, -5.79994917e-01,  3.37291732e-02, -5.31620860e-01,\n",
       "         3.61189723e-01, -2.43355185e-01, -5.00440955e-01, -9.10508335e-02,\n",
       "         3.83115467e-03,  5.88056073e-02,  5.65253794e-01, -2.83090204e-01,\n",
       "        -1.61949039e-01,  1.32797945e+00,  2.20604390e-01, -2.76830435e-01,\n",
       "         4.78100270e-01,  1.50038525e-02,  1.70921117e-01, -9.05369408e-03,\n",
       "         3.57016036e-03,  4.89603341e-01, -2.91681260e-01,  2.52494216e-01,\n",
       "         1.44730616e+00, -3.30403119e-01, -1.19557410e-01, -4.73526925e-01,\n",
       "         4.78234649e-01, -1.71844169e-01, -9.85595733e-02,  3.99052531e-01,\n",
       "         9.83871698e-01, -5.32860577e-01,  4.33444440e-01, -6.10319197e-01,\n",
       "        -8.61026719e-02, -4.33139473e-01,  1.77672565e-01, -6.05170667e-01,\n",
       "         1.99426070e-01,  2.02206150e-02, -3.36908013e-01,  6.67631149e-01,\n",
       "        -2.31887072e-01, -1.01447785e+00, -9.62544531e-02, -4.12253857e-01,\n",
       "         1.34205103e-01, -3.19204211e-01, -1.09114274e-01,  3.03184241e-02,\n",
       "        -4.21351820e-01, -3.85247290e-01, -3.55209887e-01,  2.48593077e-01,\n",
       "        -1.30256593e-01, -1.47047192e-01, -2.23279014e-01,  3.36496770e-01,\n",
       "        -5.66968381e-01, -1.14546642e-02, -6.15724251e-02,  3.79445434e-01,\n",
       "         3.90718281e-01,  2.18074143e-01,  6.16552047e-02, -5.92075288e-02,\n",
       "         5.37092149e-01, -8.23267639e-01,  3.14156890e-01, -1.21736191e-02,\n",
       "         1.51822120e-02, -4.24275070e-01, -3.39658678e-01,  1.72005251e-01,\n",
       "        -3.06326956e-01,  5.98996431e-02, -6.16366744e-01,  1.77070811e-01,\n",
       "         5.06497383e-01,  4.46855396e-01, -5.40638328e-01,  3.52381468e-01,\n",
       "        -6.93968609e-02, -3.85010540e-01,  7.01275766e-01,  5.48261344e-01,\n",
       "        -5.13325855e-02,  6.38229668e-01,  4.37118381e-01, -1.87333465e-01,\n",
       "         3.86876553e-01,  2.96544999e-01, -7.30910897e-02, -5.46751916e-02,\n",
       "        -7.33482763e-02,  6.54710531e-02,  9.99262333e-02, -1.01629552e-02,\n",
       "        -1.97078690e-01, -3.69673878e-01, -2.92254575e-02,  5.98094352e-02,\n",
       "        -1.78274572e-01, -5.00280082e-01,  1.35303885e-01, -4.08231556e-01,\n",
       "        -1.11755647e-01,  6.01796925e-01,  3.97205979e-01, -1.25750810e-01,\n",
       "         8.72732401e-01,  6.88208520e-01, -1.80387840e-01, -1.02065340e-01,\n",
       "        -2.46474966e-01,  6.62045240e-01,  1.01898037e-01, -1.87844783e-03,\n",
       "        -9.88164023e-02,  3.55665803e-01,  1.56388760e-01,  3.99564356e-02,\n",
       "         2.07501367e-01, -5.44919908e-01,  4.83174801e-01, -7.47311115e-02,\n",
       "        -1.20146655e-01, -2.14063719e-01,  4.57511544e-02, -3.70679766e-01,\n",
       "         1.73459962e-01,  8.76953423e-01, -1.69999743e+00, -4.54706810e-02,\n",
       "         2.20815361e-01,  1.27575532e-01, -3.35007720e-03,  4.03982475e-02,\n",
       "        -6.88228533e-02,  4.13046390e-01, -2.22168371e-01, -2.01599002e-01,\n",
       "         2.82662064e-02, -2.17506021e-01,  8.90751481e-02,  2.49001473e-01,\n",
       "         3.40897501e-01, -1.85738608e-01,  5.63692749e-02,  1.48690879e-01,\n",
       "         4.44196254e-01, -4.42676038e-01, -1.71674475e-01,  4.27985609e-01,\n",
       "         2.55683631e-01, -1.21134326e-01, -2.01510936e-01, -7.71948695e-02,\n",
       "        -4.91492152e-01,  1.98258296e-01,  4.93565612e-02,  3.53844166e-01,\n",
       "        -1.99359789e-01, -3.65935087e-01, -8.52122903e-01, -2.19523877e-01,\n",
       "         1.94722116e-01, -9.24099535e-02,  1.70866787e-01, -2.97037452e-01,\n",
       "         5.12077928e-01,  7.45984077e-01, -7.22690582e-01,  1.72407210e-01,\n",
       "        -6.87684193e-02, -1.68374598e-01,  3.08266222e-01,  1.40964210e-01,\n",
       "        -2.72536665e-01,  4.62774634e-02, -9.70753059e-02, -3.36289048e-01,\n",
       "        -2.02750072e-01, -5.68467855e-01,  1.88534752e-01,  6.54505864e-02,\n",
       "         3.01851422e-01, -5.81129044e-02,  1.17665872e-01, -5.88493273e-02,\n",
       "        -4.35868919e-01, -2.91254163e-01,  3.83130133e-01,  1.90423980e-01,\n",
       "        -1.32021084e-01,  2.27657363e-01, -5.30510187e-01, -1.08771944e+00,\n",
       "        -3.73757660e-01,  1.80411100e-01, -3.73198152e-01, -1.29266363e-02,\n",
       "         2.42247581e-01,  6.63479790e-03, -6.94675595e-02, -2.60223299e-01,\n",
       "        -4.24307346e-01,  4.18766916e-01, -2.68624246e-01, -3.83434504e-01,\n",
       "         1.95500374e-01,  2.08707228e-01,  8.78068358e-02, -2.30294153e-01,\n",
       "         1.34867981e-01,  8.22905228e-02,  2.62450613e-03,  1.70740664e-01,\n",
       "        -4.39052790e-01, -1.03919223e-01,  5.21522090e-02,  2.09690463e-02,\n",
       "        -3.49177003e-01, -2.10220158e-01,  2.84696102e-01,  3.07054043e-01,\n",
       "         2.06639290e-01, -4.21307385e-01,  1.63620442e-01,  1.95256993e-01,\n",
       "         2.48371273e-01, -4.46110606e-01, -2.31696725e-01,  3.85629058e-01,\n",
       "         3.94693971e-01,  5.74166298e-01,  3.19045782e-01,  5.30627847e-01,\n",
       "         3.27822864e-01, -3.79279330e-02, -3.00414771e-01, -3.52840126e-01,\n",
       "         9.02209058e-02,  1.20067634e-01,  1.00754961e-01, -2.07831159e-01,\n",
       "         3.35066646e-01, -2.21863687e-01,  2.01082110e-01, -4.76053149e-01,\n",
       "         1.52615011e+00,  1.89989746e-01, -1.45754933e-01,  6.98112622e-02,\n",
       "         1.72433421e-01,  1.06893152e-01,  4.32560086e-01,  2.30844811e-01,\n",
       "        -7.32447281e-02,  4.41339344e-01, -4.03957248e-01,  1.87700838e-01,\n",
       "        -1.72382399e-01,  9.39671993e-02,  1.32497340e-01,  2.53394425e-01,\n",
       "         5.76974988e-01, -6.41475022e-02, -7.68638432e-01, -1.93063915e-02,\n",
       "        -4.29063469e-01,  5.25290251e-01,  2.87857980e-01, -1.61412597e-01,\n",
       "         4.66331661e-01,  8.68929848e-02,  9.92116183e-02, -7.13822991e-02,\n",
       "         1.81902170e-01,  3.86917174e-01, -1.22850582e-01,  5.77688456e-01,\n",
       "         1.23785451e-01,  3.71061653e-01, -3.08096260e-01, -7.28185922e-02,\n",
       "         1.79476857e-01, -7.37778097e-02,  1.85930654e-01,  3.33850347e-02,\n",
       "        -8.93767178e-03, -3.93979937e-01,  6.08503342e-01,  8.25104713e-02,\n",
       "        -5.01206517e-01,  7.09565282e-01,  2.08128467e-02, -6.53790712e-01,\n",
       "        -8.02387446e-02,  3.99193525e-01,  4.32495996e-02,  1.50444061e-01,\n",
       "        -2.10619345e-01,  4.14004773e-01, -1.01737142e-01, -2.88564354e-01,\n",
       "         3.48968327e-01,  2.62623847e-01, -8.58601779e-02, -3.49089690e-03,\n",
       "         4.53090727e-01,  4.63260293e-01, -1.07823238e-01,  2.53332406e-01,\n",
       "        -2.28293985e-03,  1.24309413e-01, -2.13378519e-01,  5.62837362e-01,\n",
       "        -3.39597344e-01, -2.99952030e-02,  5.18866658e-01,  5.00920594e-01,\n",
       "         4.84734088e-01,  5.80855548e-01,  4.51533854e-01,  1.43672287e-01,\n",
       "         6.11632466e-01,  1.24514282e-01,  1.59694970e-01, -1.65162826e+00,\n",
       "         4.25997525e-01,  4.55859005e-01,  4.50908363e-01, -4.00007010e-01,\n",
       "         3.16013306e-01,  7.40141124e-02,  2.29033202e-01,  2.78855801e-01,\n",
       "        -1.82732940e-01,  7.53257331e-03,  2.34649599e-01,  7.81113207e-01,\n",
       "        -2.52318710e-01,  1.48477301e-01,  8.99187475e-03,  1.25588059e-01,\n",
       "         2.08152696e-01,  2.67819256e-01, -6.08583272e-01, -5.83642960e-01,\n",
       "         8.60593468e-03,  2.21643448e-01,  1.29734892e-02, -7.89107621e-01,\n",
       "        -7.29390234e-02, -5.80418371e-02,  8.27826187e-02,  1.64592817e-01,\n",
       "         5.43076992e-01, -1.85986515e-02,  5.07510006e-01, -5.44679403e-01,\n",
       "         2.14533776e-01, -4.16031405e-02,  3.78151894e-01,  1.97553873e-01,\n",
       "        -3.38727713e-01,  4.19234961e-01,  2.43329391e-01, -6.20109260e-01,\n",
       "         6.72154725e-01, -2.45286450e-01,  2.96708822e-01, -2.38316223e-01,\n",
       "        -3.36518794e-01,  5.25608599e-01,  1.28320828e-01,  7.69612789e-01,\n",
       "        -4.55361128e-01, -1.01612382e-01,  4.10929561e-01,  2.30812848e-01,\n",
       "        -3.43924910e-02,  1.10834939e-02, -3.57855648e-01,  1.23321615e-01,\n",
       "        -5.22091091e-02, -8.29909965e-02, -5.11851728e-01, -9.29766893e-03,\n",
       "        -3.23088139e-01, -5.49985468e-02,  3.90864611e-01,  5.54339103e-02,\n",
       "         2.24334717e-01, -3.01750928e-01,  4.07065868e-01, -5.33767194e-02,\n",
       "        -2.24465594e-01, -1.50803596e-01,  2.13283420e-01,  4.81135219e-01,\n",
       "         2.28500798e-01,  2.68328428e-01, -6.98268116e-02, -1.03170022e-01,\n",
       "         3.53695005e-01,  2.10905179e-01,  3.06484342e-01, -2.71080732e-01,\n",
       "        -4.74956095e-01,  3.62093240e-01, -2.29872853e-01,  4.60518599e-01,\n",
       "        -5.92800474e+00, -1.88475221e-01, -2.96707094e-01, -1.05555139e-01,\n",
       "        -4.82403845e-01, -4.27199900e-01,  9.36914533e-02, -2.67339289e-01,\n",
       "        -3.16208154e-02, -2.68485188e-01, -8.64640251e-02,  3.97143543e-01,\n",
       "         9.68740284e-02, -3.02218050e-02, -1.22283831e-01,  6.59053624e-01],\n",
       "       dtype=float32)]"
      ]
     },
     "execution_count": 6,
     "metadata": {},
     "output_type": "execute_result"
    }
   ],
   "source": [
    "vectors"
   ]
  },
  {
   "cell_type": "code",
   "execution_count": 9,
   "metadata": {},
   "outputs": [
    {
     "data": {
      "text/plain": [
       "768"
      ]
     },
     "execution_count": 9,
     "metadata": {},
     "output_type": "execute_result"
    }
   ],
   "source": [
    "len(vectors[0])"
   ]
  },
  {
   "cell_type": "code",
   "execution_count": 10,
   "metadata": {},
   "outputs": [
    {
     "data": {
      "text/plain": [
       "768"
      ]
     },
     "execution_count": 10,
     "metadata": {},
     "output_type": "execute_result"
    }
   ],
   "source": [
    "len(vectors[1])"
   ]
  },
  {
   "cell_type": "code",
   "execution_count": 11,
   "metadata": {},
   "outputs": [
    {
     "data": {
      "text/plain": [
       "768"
      ]
     },
     "execution_count": 11,
     "metadata": {},
     "output_type": "execute_result"
    }
   ],
   "source": [
    "len(vectors[2])"
   ]
  },
  {
   "cell_type": "code",
   "execution_count": 12,
   "metadata": {},
   "outputs": [
    {
     "data": {
      "text/plain": [
       "3"
      ]
     },
     "execution_count": 12,
     "metadata": {},
     "output_type": "execute_result"
    }
   ],
   "source": [
    "len(vectors)"
   ]
  },
  {
   "cell_type": "code",
   "execution_count": 13,
   "metadata": {},
   "outputs": [],
   "source": [
    "# # Import required libraries\n",
    "# from sent2vec.vectorizer import Vectorizer\n",
    "# import pandas as pd\n",
    "\n",
    "# # Load Sent2Vec model\n",
    "# vectorizer = Vectorizer()\n",
    "# vectorizer.load_model('path_to_model.bin')\n",
    "\n",
    "# # Define function to apply Sent2Vec embedding to each sentence in a list\n",
    "# def sent2vec_embedding(sentence_list):\n",
    "#     # Fit the sentence list to the vectorizer\n",
    "#     vectorizer.bert(sentence_list)\n",
    "#     # Get the sentence embeddings\n",
    "#     sentence_embeddings = vectorizer.vectors\n",
    "#     # Return the mean sentence embedding\n",
    "#     return sentence_embeddings.mean(axis=0)\n",
    "\n",
    "# # Apply Sent2Vec embedding to each list in the column\n",
    "# df['sent2vec_embedding'] = df['Cleaned_Speech'].apply(sent2vec_embedding)\n"
   ]
  },
  {
   "cell_type": "code",
   "execution_count": 14,
   "metadata": {},
   "outputs": [],
   "source": [
    "# # Import required libraries\n",
    "# from sent2vec import Sent2vecModel\n",
    "# import pandas as pd\n",
    "\n",
    "# # Load Sent2Vec model\n",
    "# model_path = 'path_to_model.bin'\n",
    "# model = Sent2vec()\n",
    "# model.load_model(model_path)\n",
    "\n",
    "# # Define function to apply Sent2Vec embedding to each sentence in a list\n",
    "# def sent2vec_embedding(sentence_list):\n",
    "#     # Get the sentence embeddings\n",
    "#     sentence_embeddings = model.embed_sentences(sentence_list)\n",
    "#     # Return the mean sentence embedding\n",
    "#     return sentence_embeddings.mean(axis=0)\n",
    "\n",
    "\n",
    "# # Apply Sent2Vec embedding to each list in the column\n",
    "# df['sent2vec_embedding'] = df['Cleaned_Speech'].apply(sent2vec_embedding)\n"
   ]
  },
  {
   "cell_type": "code",
   "execution_count": 19,
   "metadata": {},
   "outputs": [
    {
     "data": {
      "text/plain": [
       "3"
      ]
     },
     "execution_count": 19,
     "metadata": {},
     "output_type": "execute_result"
    }
   ],
   "source": [
    "len(vectors)"
   ]
  },
  {
   "attachments": {},
   "cell_type": "markdown",
   "metadata": {},
   "source": [
    "#there are three sentences in this particular list so i have length as 3"
   ]
  },
  {
   "cell_type": "code",
   "execution_count": 28,
   "metadata": {},
   "outputs": [
    {
     "name": "stdout",
     "output_type": "stream",
     "text": [
      "Initializing Bert distilbert-base-uncased\n",
      "Vectorization done on cpu\n"
     ]
    },
    {
     "name": "stderr",
     "output_type": "stream",
     "text": [
      "Some weights of the model checkpoint at distilbert-base-uncased were not used when initializing DistilBertModel: ['vocab_transform.bias', 'vocab_transform.weight', 'vocab_projector.bias', 'vocab_layer_norm.bias', 'vocab_projector.weight', 'vocab_layer_norm.weight']\n",
      "- This IS expected if you are initializing DistilBertModel from the checkpoint of a model trained on another task or with another architecture (e.g. initializing a BertForSequenceClassification model from a BertForPreTraining model).\n",
      "- This IS NOT expected if you are initializing DistilBertModel from the checkpoint of a model that you expect to be exactly identical (initializing a BertForSequenceClassification model from a BertForSequenceClassification model).\n"
     ]
    },
    {
     "ename": "AssertionError",
     "evalue": "A list must be passed!",
     "output_type": "error",
     "traceback": [
      "\u001b[1;31m---------------------------------------------------------------------------\u001b[0m",
      "\u001b[1;31mAssertionError\u001b[0m                            Traceback (most recent call last)",
      "Cell \u001b[1;32mIn[28], line 3\u001b[0m\n\u001b[0;32m      1\u001b[0m sentences \u001b[39m=\u001b[39m df[\u001b[39m\"\u001b[39m\u001b[39mCleaned_Speech\u001b[39m\u001b[39m\"\u001b[39m][\u001b[39m0\u001b[39m]\n\u001b[0;32m      2\u001b[0m vectorizer \u001b[39m=\u001b[39m Vectorizer()\n\u001b[1;32m----> 3\u001b[0m vectorizer\u001b[39m.\u001b[39;49mrun(sentences)\n\u001b[0;32m      4\u001b[0m vectors \u001b[39m=\u001b[39m vectorizer\u001b[39m.\u001b[39mvectors\n",
      "File \u001b[1;32mc:\\Users\\HP\\AppData\\Local\\Programs\\Python\\Python310\\lib\\site-packages\\sent2vec\\vectorizer.py:38\u001b[0m, in \u001b[0;36mVectorizer.run\u001b[1;34m(self, sentences, remove_stop_words, add_stop_words)\u001b[0m\n\u001b[0;32m     36\u001b[0m \u001b[39mdef\u001b[39;00m \u001b[39mrun\u001b[39m(\u001b[39mself\u001b[39m, sentences, remove_stop_words \u001b[39m=\u001b[39m [\u001b[39m'\u001b[39m\u001b[39mnot\u001b[39m\u001b[39m'\u001b[39m], add_stop_words \u001b[39m=\u001b[39m []):\n\u001b[0;32m     37\u001b[0m     \u001b[39m# SANITY CHECK\u001b[39;00m\n\u001b[1;32m---> 38\u001b[0m     \u001b[39massert\u001b[39;00m \u001b[39mtype\u001b[39m(sentences) \u001b[39m==\u001b[39m \u001b[39mlist\u001b[39m, \u001b[39m'\u001b[39m\u001b[39mA list must be passed!\u001b[39m\u001b[39m'\u001b[39m\n\u001b[0;32m     39\u001b[0m     \u001b[39mfor\u001b[39;00m sentence \u001b[39min\u001b[39;00m sentences:\n\u001b[0;32m     40\u001b[0m         \u001b[39mif\u001b[39;00m \u001b[39mtype\u001b[39m(sentence) \u001b[39m!=\u001b[39m \u001b[39mstr\u001b[39m:\n",
      "\u001b[1;31mAssertionError\u001b[0m: A list must be passed!"
     ]
    }
   ],
   "source": [
    "# sentences = df[\"Cleaned_Speech\"][0]\n",
    "vectorizer = Vectorizer()\n",
    "vectorizer.run(sentences)\n",
    "vectors = vectorizer.vectors"
   ]
  },
  {
   "cell_type": "code",
   "execution_count": 29,
   "metadata": {},
   "outputs": [
    {
     "name": "stderr",
     "output_type": "stream",
     "text": [
      "[nltk_data] Downloading package punkt to\n",
      "[nltk_data]     C:\\Users\\HP\\AppData\\Roaming\\nltk_data...\n",
      "[nltk_data]   Package punkt is already up-to-date!\n"
     ]
    },
    {
     "data": {
      "text/plain": [
       "True"
      ]
     },
     "execution_count": 29,
     "metadata": {},
     "output_type": "execute_result"
    }
   ],
   "source": [
    "import nltk\n",
    "nltk.download('punkt')"
   ]
  },
  {
   "cell_type": "code",
   "execution_count": 45,
   "metadata": {},
   "outputs": [
    {
     "data": {
      "text/plain": [
       "\"['chief minister gujarat shri vijay rupani ji colleague union minister dr harshvardhan ji excellency m anna ekstrom minister sweden deputy chief minister shri nitinbhai patel ji distinguished nobel laureate dr', 'goran hansson vice president nobel foundation dear scientist lady gentleman', 'good evening', 'let first congratulate department biotechnology government india government gujarat nobel medium brought exhibition science city five week', 'declare exhibition open hope opportunity experience', 'nobel prize world recognition highest level creative idea thought work fundamental science', 'earlier occasion one two three nobel laureate visited india interaction student scientist limited manner', 'today making history galaxy nobel laureate gujarat', 'extend hearty welcome laureate present', 'valued friend india', 'earlier several time', 'one born actually grew vadodara', 'delighted see many young student today', 'ask urge friend family visit science city coming week', 'student cherish extraordinary experience interacting', 'inspire undertake new significant challenge hold key shared sustainable future', 'hopeful exhibition series become strong link student science teacher scientist', 'government clear vision want india next 15 year', 'science technology pivot vision translate strategy action', 'vision science technology make sure opportunity available youth', 'training future preparedness make youth employable best place', 'india great science destination', 'take major inspirational challenge deep sea exploration cyber system', 'plan take vision action', 'scientist asked develop programme science teaching school across country', 'also involve training teacher', 'next level asked create new programme skilling high tech training', 'programme make employable new knowledge economy make effective entrepreneur thinking scientist', 'able compete position job anywhere world', 'next scientist link laboratory city', 'share idea seminar resource equipment', 'allow u better collaborative science', 'science agency expand science driven entrepreneurship commercialisation big way state according local need', 'start ups industry compete globally', 'seed must planted year see fruit come steadily', 'young friend future india world', 'india offer enabling unique opportunity large demographic dividend best teacher', 'young student stream charge well knowledge expertise', 'training future', 'thanks science technology human race flourished', 'large number enjoying quality life unparalleled human history', 'yet india great challenge raise many poverty', 'scientist soon must neglect challenge', 'maturity science also judged responsible treatment planet wise use science technology', 'scientist soon guardian planet', 'must clear outcome nobel exhibition science city', 'globally science technology emerged one major driver socio economic development', 'fast growing indian economy increasing expectation scientific intervention', 'three outcome would like see nobel prize series', 'first follow student teacher', 'student teacher come national ideathon competition hail country', 'lose track', 'exhibition period may also session school teacher gujarat', 'second stimulate entrepreneurship locally', 'great entrepreneurial zeal amongst youth', 'science ministry incubator gujarat', 'next five week workshop cutting edge science technology driven start ups boosted', 'told ten nobel prize winning discovery gone making smart phone', 'prize winning physic save electricity bill planet', '2014 nobel prize physic blue led', 'came basic research three japanese scientist akasaki amano nakamura', 'combined previously known red green led white light device made last hundred thousand hour', 'many exciting discovery made apply enterprise', 'third impact society many nobel prize winning discovery huge impact society health agriculture', 'example precision medicine using tool gene technology reality', 'must use tool study cancer diabetes infectious disease', 'india already generic bio similar leader major hub gujarat must strive become leader new bio tech discovery well', 'happy exhibition planned science city connects community science', 'ideal platform engage citizen learn solution global challenge face', 'strive make science city truly attractive world class place young student science teacher country world come inspired exhibit', 'centre state collaborate take challenge year', 'young friend', 'laureate represent peak science must learn', 'remember peak rise great mountain range stand alone', 'foundation future india', 'build new range peak arise', 'focus foundation school college teacher miracle happen', 'hundred peak india', 'neglect hard work base peak magically appear', 'inspired daring courage person imitative', 'honoured guest succeeded learn', 'take opportunity thank nobel medium foundation department biotechnology government india government gujarat organising innovative programme wish exhibition grand success sure benefit', 'akt akchief minister gujarat shri vijay rupani ji colleague union minister dr harshvardhan ji excellency m anna ekstrom minister sweden deputy chief minister shri nitinbhai patel ji distinguished nobel laureate dr', 'goran hansson vice president nobel foundation dear scientist lady gentleman', 'good evening', 'let first congratulate department biotechnology government india government gujarat nobel medium brought exhibition science city five week', 'declare exhibition open hope opportunity experience', 'nobel prize world recognition highest level creative idea thought work fundamental science', 'earlier occasion one two three nobel laureate visited india interaction student scientist limited manner', 'today making history galaxy nobel laureate gujarat', 'extend hearty welcome laureate present', 'valued friend india', 'earlier several time', 'one born actually grew vadodara', 'delighted see many young student today', 'ask urge friend family visit science city coming week', 'student cherish extraordinary experience interacting', 'inspire undertake new significant challenge hold key shared sustainable future', 'hopeful exhibition series become strong link student science teacher scientist', 'government clear vision want india next 15 year', 'science technology pivot vision translate strategy action', 'vision science technology make sure opportunity available youth', 'training future preparedness make youth employable best place', 'india great science destination', 'take major inspirational challenge deep sea exploration cyber system', 'plan take vision action', 'scientist asked develop programme science teaching school across country', 'also involve training teacher', 'next level asked create new programme skilling high tech training', 'programme make employable new knowledge economy make effective entrepreneur thinking scientist', 'able compete position job anywhere world', 'next scientist link laboratory city', 'share idea seminar resource equipment', 'allow u better collaborative science', 'science agency expand science driven entrepreneurship commercialisation big way state according local need', 'start ups industry compete globally', 'seed must planted year see fruit come steadily', 'young friend future india world', 'india offer enabling unique opportunity large demographic dividend best teacher', 'young student stream charge well knowledge expertise', 'training future', 'thanks science technology human race flourished', 'large number enjoying quality life unparalleled human history', 'yet india great challenge raise many poverty', 'scientist soon must neglect challenge', 'maturity science also judged responsible treatment planet wise use science technology', 'scientist soon guardian planet', 'must clear outcome nobel exhibition science city', 'globally science technology emerged one major driver socio economic development', 'fast growing indian economy increasing expectation scientific intervention', 'three outcome would like see nobel prize series', 'first follow student teacher', 'student teacher come national ideathon competition hail country', 'lose track', 'exhibition period may also session school teacher gujarat', 'second stimulate entrepreneurship locally', 'great entrepreneurial zeal amongst youth', 'science ministry incubator gujarat', 'next five week workshop cutting edge science technology driven start ups boosted', 'told ten nobel prize winning discovery gone making smart phone', 'prize winning physic save electricity bill planet', '2014 nobel prize physic blue led', 'came basic research three japanese scientist akasaki amano nakamura', 'combined previously known red green led white light device made last hundred thousand hour', 'many exciting discovery made apply enterprise', 'third impact society many nobel prize winning discovery huge impact society health agriculture', 'example precision medicine using tool gene technology reality', 'must use tool study cancer diabetes infectious disease', 'india already generic bio similar leader major hub gujarat must strive become leader new bio tech discovery well', 'happy exhibition planned science city connects community science', 'ideal platform engage citizen learn solution global challenge face', 'strive make science city truly attractive world class place young student science teacher country world come inspired exhibit', 'centre state collaborate take challenge year', 'young friend', 'laureate represent peak science must learn', 'remember peak rise great mountain range stand alone', 'foundation future india', 'build new range peak arise', 'focus foundation school college teacher miracle happen', 'hundred peak india', 'neglect hard work base peak magically appear', 'inspired daring courage person imitative', 'honoured guest succeeded learn', 'take opportunity thank nobel medium foundation department biotechnology government india government gujarat organising innovative programme wish exhibition grand success sure benefit']\""
      ]
     },
     "execution_count": 45,
     "metadata": {},
     "output_type": "execute_result"
    }
   ],
   "source": [
    "text = df[\"Cleaned_Speech\"][0]\n",
    "text"
   ]
  },
  {
   "cell_type": "code",
   "execution_count": 46,
   "metadata": {},
   "outputs": [],
   "source": [
    "sentences = sent_tokenize(text)"
   ]
  },
  {
   "cell_type": "code",
   "execution_count": 34,
   "metadata": {},
   "outputs": [
    {
     "data": {
      "text/plain": [
       "['chief minister gujarat shri vijay rupani ji colleague union minister dr harshvardhan ji excellency m anna ekstrom minister sweden deputy chief minister shri nitinbhai patel ji distinguished nobel laureate dr goran hansson vice president nobel foundation dear scientist lady gentleman good evening let first congratulate department biotechnology government india government gujarat nobel medium brought exhibition science city five week declare exhibition open hope opportunity experience nobel prize world recognition highest level creative idea thought work fundamental science earlier occasion one two three nobel laureate visited india interaction student scientist limited manner today making history galaxy nobel laureate gujarat extend hearty welcome laureate present valued friend india earlier several time one born actually grew vadodara delighted see many young student today ask urge friend family visit science city coming week student cherish extraordinary experience interacting inspire undertake new significant challenge hold key shared sustainable future hopeful exhibition series become strong link student science teacher scientist government clear vision want india next 15 year science technology pivot vision translate strategy action vision science technology make sure opportunity available youth training future preparedness make youth employable best place india great science destination take major inspirational challenge deep sea exploration cyber system plan take vision action scientist asked develop programme science teaching school across country also involve training teacher next level asked create new programme skilling high tech training programme make employable new knowledge economy make effective entrepreneur thinking scientist able compete position job anywhere world next scientist link laboratory city share idea seminar resource equipment allow u better collaborative science science agency expand science driven entrepreneurship commercialisation big way state according local need start ups industry compete globally seed must planted year see fruit come steadily young friend future india world india offer enabling unique opportunity large demographic dividend best teacher young student stream charge well knowledge expertise training future thanks science technology human race flourished large number enjoying quality life unparalleled human history yet india great challenge raise many poverty scientist soon must neglect challenge maturity science also judged responsible treatment planet wise use science technology scientist soon guardian planet must clear outcome nobel exhibition science city globally science technology emerged one major driver socio economic development fast growing indian economy increasing expectation scientific intervention three outcome would like see nobel prize series first follow student teacher student teacher come national ideathon competition hail country lose track exhibition period may also session school teacher gujarat second stimulate entrepreneurship locally great entrepreneurial zeal amongst youth science ministry incubator gujarat next five week workshop cutting edge science technology driven start ups boosted told ten nobel prize winning discovery gone making smart phone prize winning physic save electricity bill planet 2014 nobel prize physic blue led came basic research three japanese scientist akasaki amano nakamura combined previously known red green led white light device made last hundred thousand hour many exciting discovery made apply enterprise third impact society many nobel prize winning discovery huge impact society health agriculture example precision medicine using tool gene technology reality must use tool study cancer diabetes infectious disease india already generic bio similar leader major hub gujarat must strive become leader new bio tech discovery well happy exhibition planned science city connects community science ideal platform engage citizen learn solution global challenge face strive make science city truly attractive world class place young student science teacher country world come inspired exhibit centre state collaborate take challenge year young friend laureate represent peak science must learn remember peak rise great mountain range stand alone foundation future india build new range peak arise focus foundation school college teacher miracle happen hundred peak india neglect hard work base peak magically appear inspired daring courage person imitative honoured guest succeeded learn take opportunity thank nobel medium foundation department biotechnology government india government gujarat organising innovative programme wish exhibition grand success sure benefit akt akchief minister gujarat shri vijay rupani ji colleague union minister dr harshvardhan ji excellency m anna ekstrom minister sweden deputy chief minister shri nitinbhai patel ji distinguished nobel laureate dr goran hansson vice president nobel foundation dear scientist lady gentleman good evening let first congratulate department biotechnology government india government gujarat nobel medium brought exhibition science city five week declare exhibition open hope opportunity experience nobel prize world recognition highest level creative idea thought work fundamental science earlier occasion one two three nobel laureate visited india interaction student scientist limited manner today making history galaxy nobel laureate gujarat extend hearty welcome laureate present valued friend india earlier several time one born actually grew vadodara delighted see many young student today ask urge friend family visit science city coming week student cherish extraordinary experience interacting inspire undertake new significant challenge hold key shared sustainable future hopeful exhibition series become strong link student science teacher scientist government clear vision want india next 15 year science technology pivot vision translate strategy action vision science technology make sure opportunity available youth training future preparedness make youth employable best place india great science destination take major inspirational challenge deep sea exploration cyber system plan take vision action scientist asked develop programme science teaching school across country also involve training teacher next level asked create new programme skilling high tech training programme make employable new knowledge economy make effective entrepreneur thinking scientist able compete position job anywhere world next scientist link laboratory city share idea seminar resource equipment allow u better collaborative science science agency expand science driven entrepreneurship commercialisation big way state according local need start ups industry compete globally seed must planted year see fruit come steadily young friend future india world india offer enabling unique opportunity large demographic dividend best teacher young student stream charge well knowledge expertise training future thanks science technology human race flourished large number enjoying quality life unparalleled human history yet india great challenge raise many poverty scientist soon must neglect challenge maturity science also judged responsible treatment planet wise use science technology scientist soon guardian planet must clear outcome nobel exhibition science city globally science technology emerged one major driver socio economic development fast growing indian economy increasing expectation scientific intervention three outcome would like see nobel prize series first follow student teacher student teacher come national ideathon competition hail country lose track exhibition period may also session school teacher gujarat second stimulate entrepreneurship locally great entrepreneurial zeal amongst youth science ministry incubator gujarat next five week workshop cutting edge science technology driven start ups boosted told ten nobel prize winning discovery gone making smart phone prize winning physic save electricity bill planet 2014 nobel prize physic blue led came basic research three japanese scientist akasaki amano nakamura combined previously known red green led white light device made last hundred thousand hour many exciting discovery made apply enterprise third impact society many nobel prize winning discovery huge impact society health agriculture example precision medicine using tool gene technology reality must use tool study cancer diabetes infectious disease india already generic bio similar leader major hub gujarat must strive become leader new bio tech discovery well happy exhibition planned science city connects community science ideal platform engage citizen learn solution global challenge face strive make science city truly attractive world class place young student science teacher country world come inspired exhibit centre state collaborate take challenge year young friend laureate represent peak science must learn remember peak rise great mountain range stand alone foundation future india build new range peak arise focus foundation school college teacher miracle happen hundred peak india neglect hard work base peak magically appear inspired daring courage person imitative honoured guest succeeded learn take opportunity thank nobel medium foundation department biotechnology government india government gujarat organising innovative programme wish exhibition grand success sure benefit']"
      ]
     },
     "execution_count": 34,
     "metadata": {},
     "output_type": "execute_result"
    }
   ],
   "source": [
    "sentences"
   ]
  },
  {
   "cell_type": "code",
   "execution_count": 35,
   "metadata": {},
   "outputs": [
    {
     "name": "stdout",
     "output_type": "stream",
     "text": [
      "Initializing Bert distilbert-base-uncased\n",
      "Vectorization done on cpu\n"
     ]
    },
    {
     "name": "stderr",
     "output_type": "stream",
     "text": [
      "Some weights of the model checkpoint at distilbert-base-uncased were not used when initializing DistilBertModel: ['vocab_transform.bias', 'vocab_transform.weight', 'vocab_projector.bias', 'vocab_layer_norm.bias', 'vocab_projector.weight', 'vocab_layer_norm.weight']\n",
      "- This IS expected if you are initializing DistilBertModel from the checkpoint of a model trained on another task or with another architecture (e.g. initializing a BertForSequenceClassification model from a BertForPreTraining model).\n",
      "- This IS NOT expected if you are initializing DistilBertModel from the checkpoint of a model that you expect to be exactly identical (initializing a BertForSequenceClassification model from a BertForSequenceClassification model).\n",
      "Token indices sequence length is longer than the specified maximum sequence length for this model (1366 > 512). Running this sequence through the model will result in indexing errors\n"
     ]
    },
    {
     "ename": "RuntimeError",
     "evalue": "The size of tensor a (1366) must match the size of tensor b (512) at non-singleton dimension 1",
     "output_type": "error",
     "traceback": [
      "\u001b[1;31m---------------------------------------------------------------------------\u001b[0m",
      "\u001b[1;31mRuntimeError\u001b[0m                              Traceback (most recent call last)",
      "Cell \u001b[1;32mIn[35], line 2\u001b[0m\n\u001b[0;32m      1\u001b[0m vectorizer \u001b[39m=\u001b[39m Vectorizer()\n\u001b[1;32m----> 2\u001b[0m vectorizer\u001b[39m.\u001b[39;49mrun(sentences)\n\u001b[0;32m      3\u001b[0m vectors \u001b[39m=\u001b[39m vectorizer\u001b[39m.\u001b[39mvectors\n",
      "File \u001b[1;32mc:\\Users\\HP\\AppData\\Local\\Programs\\Python\\Python310\\lib\\site-packages\\sent2vec\\vectorizer.py:43\u001b[0m, in \u001b[0;36mVectorizer.run\u001b[1;34m(self, sentences, remove_stop_words, add_stop_words)\u001b[0m\n\u001b[0;32m     41\u001b[0m         \u001b[39mraise\u001b[39;00m \u001b[39mTypeError\u001b[39;00m(\u001b[39mf\u001b[39m\u001b[39m'\u001b[39m\u001b[39mAll items must be string type but \u001b[39m\u001b[39m{\u001b[39;00msentence\u001b[39m}\u001b[39;00m\u001b[39m is type \u001b[39m\u001b[39m{\u001b[39;00m\u001b[39mtype\u001b[39m(sentence)\u001b[39m}\u001b[39;00m\u001b[39m.\u001b[39m\u001b[39m'\u001b[39m)\n\u001b[0;32m     42\u001b[0m \u001b[39m# RUN\u001b[39;00m\n\u001b[1;32m---> 43\u001b[0m \u001b[39mself\u001b[39;49m\u001b[39m.\u001b[39;49mvectorizer\u001b[39m.\u001b[39;49m_execute(sentences, remove_stop_words\u001b[39m=\u001b[39;49mremove_stop_words, add_stop_words\u001b[39m=\u001b[39;49madd_stop_words)\n\u001b[0;32m     44\u001b[0m vectors \u001b[39m=\u001b[39m \u001b[39mself\u001b[39m\u001b[39m.\u001b[39mvectorizer\u001b[39m.\u001b[39mvectors\n\u001b[0;32m     45\u001b[0m \u001b[39mfor\u001b[39;00m idx \u001b[39min\u001b[39;00m \u001b[39mrange\u001b[39m(vectors\u001b[39m.\u001b[39mshape[\u001b[39m0\u001b[39m]):\n",
      "File \u001b[1;32mc:\\Users\\HP\\AppData\\Local\\Programs\\Python\\Python310\\lib\\site-packages\\sent2vec\\vectorizer.py:88\u001b[0m, in \u001b[0;36mBertVectorizer._execute\u001b[1;34m(self, sentences, **kwargs)\u001b[0m\n\u001b[0;32m     86\u001b[0m input_ids \u001b[39m=\u001b[39m torch\u001b[39m.\u001b[39mtensor(np\u001b[39m.\u001b[39marray(padded))\u001b[39m.\u001b[39mtype(torch\u001b[39m.\u001b[39mLongTensor)\u001b[39m.\u001b[39mto(\u001b[39mself\u001b[39m\u001b[39m.\u001b[39mdevice)\n\u001b[0;32m     87\u001b[0m \u001b[39mwith\u001b[39;00m torch\u001b[39m.\u001b[39mno_grad():\n\u001b[1;32m---> 88\u001b[0m     last_hidden_states \u001b[39m=\u001b[39m model(input_ids)\n\u001b[0;32m     89\u001b[0m \u001b[39m# Move vector results back to cpu if calculation was done on GPU\u001b[39;00m\n\u001b[0;32m     90\u001b[0m vectors \u001b[39m=\u001b[39m last_hidden_states[\u001b[39m0\u001b[39m][:, \u001b[39m0\u001b[39m, :]\u001b[39m.\u001b[39mcpu()\u001b[39m.\u001b[39mnumpy()\n",
      "File \u001b[1;32mc:\\Users\\HP\\AppData\\Local\\Programs\\Python\\Python310\\lib\\site-packages\\torch\\nn\\modules\\module.py:1501\u001b[0m, in \u001b[0;36mModule._call_impl\u001b[1;34m(self, *args, **kwargs)\u001b[0m\n\u001b[0;32m   1496\u001b[0m \u001b[39m# If we don't have any hooks, we want to skip the rest of the logic in\u001b[39;00m\n\u001b[0;32m   1497\u001b[0m \u001b[39m# this function, and just call forward.\u001b[39;00m\n\u001b[0;32m   1498\u001b[0m \u001b[39mif\u001b[39;00m \u001b[39mnot\u001b[39;00m (\u001b[39mself\u001b[39m\u001b[39m.\u001b[39m_backward_hooks \u001b[39mor\u001b[39;00m \u001b[39mself\u001b[39m\u001b[39m.\u001b[39m_backward_pre_hooks \u001b[39mor\u001b[39;00m \u001b[39mself\u001b[39m\u001b[39m.\u001b[39m_forward_hooks \u001b[39mor\u001b[39;00m \u001b[39mself\u001b[39m\u001b[39m.\u001b[39m_forward_pre_hooks\n\u001b[0;32m   1499\u001b[0m         \u001b[39mor\u001b[39;00m _global_backward_pre_hooks \u001b[39mor\u001b[39;00m _global_backward_hooks\n\u001b[0;32m   1500\u001b[0m         \u001b[39mor\u001b[39;00m _global_forward_hooks \u001b[39mor\u001b[39;00m _global_forward_pre_hooks):\n\u001b[1;32m-> 1501\u001b[0m     \u001b[39mreturn\u001b[39;00m forward_call(\u001b[39m*\u001b[39margs, \u001b[39m*\u001b[39m\u001b[39m*\u001b[39mkwargs)\n\u001b[0;32m   1502\u001b[0m \u001b[39m# Do not call functions when jit is used\u001b[39;00m\n\u001b[0;32m   1503\u001b[0m full_backward_hooks, non_full_backward_hooks \u001b[39m=\u001b[39m [], []\n",
      "File \u001b[1;32mc:\\Users\\HP\\AppData\\Local\\Programs\\Python\\Python310\\lib\\site-packages\\transformers\\models\\distilbert\\modeling_distilbert.py:581\u001b[0m, in \u001b[0;36mDistilBertModel.forward\u001b[1;34m(self, input_ids, attention_mask, head_mask, inputs_embeds, output_attentions, output_hidden_states, return_dict)\u001b[0m\n\u001b[0;32m    578\u001b[0m \u001b[39m# Prepare head mask if needed\u001b[39;00m\n\u001b[0;32m    579\u001b[0m head_mask \u001b[39m=\u001b[39m \u001b[39mself\u001b[39m\u001b[39m.\u001b[39mget_head_mask(head_mask, \u001b[39mself\u001b[39m\u001b[39m.\u001b[39mconfig\u001b[39m.\u001b[39mnum_hidden_layers)\n\u001b[1;32m--> 581\u001b[0m embeddings \u001b[39m=\u001b[39m \u001b[39mself\u001b[39;49m\u001b[39m.\u001b[39;49membeddings(input_ids, inputs_embeds)  \u001b[39m# (bs, seq_length, dim)\u001b[39;00m\n\u001b[0;32m    583\u001b[0m \u001b[39mreturn\u001b[39;00m \u001b[39mself\u001b[39m\u001b[39m.\u001b[39mtransformer(\n\u001b[0;32m    584\u001b[0m     x\u001b[39m=\u001b[39membeddings,\n\u001b[0;32m    585\u001b[0m     attn_mask\u001b[39m=\u001b[39mattention_mask,\n\u001b[1;32m   (...)\u001b[0m\n\u001b[0;32m    589\u001b[0m     return_dict\u001b[39m=\u001b[39mreturn_dict,\n\u001b[0;32m    590\u001b[0m )\n",
      "File \u001b[1;32mc:\\Users\\HP\\AppData\\Local\\Programs\\Python\\Python310\\lib\\site-packages\\torch\\nn\\modules\\module.py:1501\u001b[0m, in \u001b[0;36mModule._call_impl\u001b[1;34m(self, *args, **kwargs)\u001b[0m\n\u001b[0;32m   1496\u001b[0m \u001b[39m# If we don't have any hooks, we want to skip the rest of the logic in\u001b[39;00m\n\u001b[0;32m   1497\u001b[0m \u001b[39m# this function, and just call forward.\u001b[39;00m\n\u001b[0;32m   1498\u001b[0m \u001b[39mif\u001b[39;00m \u001b[39mnot\u001b[39;00m (\u001b[39mself\u001b[39m\u001b[39m.\u001b[39m_backward_hooks \u001b[39mor\u001b[39;00m \u001b[39mself\u001b[39m\u001b[39m.\u001b[39m_backward_pre_hooks \u001b[39mor\u001b[39;00m \u001b[39mself\u001b[39m\u001b[39m.\u001b[39m_forward_hooks \u001b[39mor\u001b[39;00m \u001b[39mself\u001b[39m\u001b[39m.\u001b[39m_forward_pre_hooks\n\u001b[0;32m   1499\u001b[0m         \u001b[39mor\u001b[39;00m _global_backward_pre_hooks \u001b[39mor\u001b[39;00m _global_backward_hooks\n\u001b[0;32m   1500\u001b[0m         \u001b[39mor\u001b[39;00m _global_forward_hooks \u001b[39mor\u001b[39;00m _global_forward_pre_hooks):\n\u001b[1;32m-> 1501\u001b[0m     \u001b[39mreturn\u001b[39;00m forward_call(\u001b[39m*\u001b[39margs, \u001b[39m*\u001b[39m\u001b[39m*\u001b[39mkwargs)\n\u001b[0;32m   1502\u001b[0m \u001b[39m# Do not call functions when jit is used\u001b[39;00m\n\u001b[0;32m   1503\u001b[0m full_backward_hooks, non_full_backward_hooks \u001b[39m=\u001b[39m [], []\n",
      "File \u001b[1;32mc:\\Users\\HP\\AppData\\Local\\Programs\\Python\\Python310\\lib\\site-packages\\transformers\\models\\distilbert\\modeling_distilbert.py:135\u001b[0m, in \u001b[0;36mEmbeddings.forward\u001b[1;34m(self, input_ids, input_embeds)\u001b[0m\n\u001b[0;32m    131\u001b[0m     position_ids \u001b[39m=\u001b[39m position_ids\u001b[39m.\u001b[39munsqueeze(\u001b[39m0\u001b[39m)\u001b[39m.\u001b[39mexpand_as(input_ids)  \u001b[39m# (bs, max_seq_length)\u001b[39;00m\n\u001b[0;32m    133\u001b[0m position_embeddings \u001b[39m=\u001b[39m \u001b[39mself\u001b[39m\u001b[39m.\u001b[39mposition_embeddings(position_ids)  \u001b[39m# (bs, max_seq_length, dim)\u001b[39;00m\n\u001b[1;32m--> 135\u001b[0m embeddings \u001b[39m=\u001b[39m input_embeds \u001b[39m+\u001b[39;49m position_embeddings  \u001b[39m# (bs, max_seq_length, dim)\u001b[39;00m\n\u001b[0;32m    136\u001b[0m embeddings \u001b[39m=\u001b[39m \u001b[39mself\u001b[39m\u001b[39m.\u001b[39mLayerNorm(embeddings)  \u001b[39m# (bs, max_seq_length, dim)\u001b[39;00m\n\u001b[0;32m    137\u001b[0m embeddings \u001b[39m=\u001b[39m \u001b[39mself\u001b[39m\u001b[39m.\u001b[39mdropout(embeddings)  \u001b[39m# (bs, max_seq_length, dim)\u001b[39;00m\n",
      "\u001b[1;31mRuntimeError\u001b[0m: The size of tensor a (1366) must match the size of tensor b (512) at non-singleton dimension 1"
     ]
    }
   ],
   "source": [
    "vectorizer = Vectorizer()\n",
    "vectorizer.run(sentences)\n",
    "vectors = vectorizer.vectors"
   ]
  }
 ],
 "metadata": {
  "kernelspec": {
   "display_name": "Python 3",
   "language": "python",
   "name": "python3"
  },
  "language_info": {
   "codemirror_mode": {
    "name": "ipython",
    "version": 3
   },
   "file_extension": ".py",
   "mimetype": "text/x-python",
   "name": "python",
   "nbconvert_exporter": "python",
   "pygments_lexer": "ipython3",
   "version": "3.10.8"
  },
  "orig_nbformat": 4
 },
 "nbformat": 4,
 "nbformat_minor": 2
}
