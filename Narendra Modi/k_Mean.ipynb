{
 "cells": [
  {
   "cell_type": "code",
   "execution_count": null,
   "metadata": {},
   "outputs": [],
   "source": [
    "pip install nbformat --upgrade\n",
    "pip install plotly"
   ]
  },
  {
   "cell_type": "code",
   "execution_count": null,
   "metadata": {},
   "outputs": [],
   "source": [
    "import seaborn as sns\n",
    "from sklearn.datasets import make_blobs\n",
    "import matplotlib.pyplot as plt\n",
    "from sklearn.preprocessing import StandardScaler\n",
    "import pickle\n",
    "from sklearn.cluster import KMeans\n",
    "import numpy as np\n"
   ]
  },
  {
   "cell_type": "code",
   "execution_count": null,
   "metadata": {},
   "outputs": [],
   "source": [
    "from sklearn.cluster import KMeans\n",
    "\n",
    "# create a k-means object with the desired number of clusters\n",
    "kmeans = KMeans(n_clusters=3)\n",
    "\n",
    "# fit the k-means object to the speech vectors in df_speech\n",
    "kmeans.fit(df_speech.iloc[:, 4:])\n",
    "\n",
    "# get the cluster labels for each speech vector\n",
    "labels = kmeans.predict(df_speech.iloc[:, 4:])\n",
    "\n",
    "# add the labels to the df_speech dataframe as a new column\n",
    "km['cluster'] = labels\n",
    "\n",
    "# print the resulting dataframe with the cluster assignments\n",
    "print(df_speech)\n"
   ]
  }
 ],
 "metadata": {
  "language_info": {
   "name": "python"
  },
  "orig_nbformat": 4
 },
 "nbformat": 4,
 "nbformat_minor": 2
}
