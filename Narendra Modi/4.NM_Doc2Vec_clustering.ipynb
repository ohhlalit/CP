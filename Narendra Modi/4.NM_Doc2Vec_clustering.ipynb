{
 "cells": [
  {
   "cell_type": "code",
   "execution_count": 2,
   "metadata": {},
   "outputs": [],
   "source": [
    "#Load necessary Libraries\n",
    "import pandas as pd\n",
    "import numpy as np\n",
    "import pickle"
   ]
  },
  {
   "cell_type": "code",
   "execution_count": 3,
   "metadata": {},
   "outputs": [
    {
     "data": {
      "text/html": [
       "<div>\n",
       "<style scoped>\n",
       "    .dataframe tbody tr th:only-of-type {\n",
       "        vertical-align: middle;\n",
       "    }\n",
       "\n",
       "    .dataframe tbody tr th {\n",
       "        vertical-align: top;\n",
       "    }\n",
       "\n",
       "    .dataframe thead th {\n",
       "        text-align: right;\n",
       "    }\n",
       "</style>\n",
       "<table border=\"1\" class=\"dataframe\">\n",
       "  <thead>\n",
       "    <tr style=\"text-align: right;\">\n",
       "      <th></th>\n",
       "      <th>index</th>\n",
       "      <th>Date</th>\n",
       "      <th>dim_1</th>\n",
       "      <th>dim_2</th>\n",
       "      <th>dim_3</th>\n",
       "      <th>dim_4</th>\n",
       "      <th>dim_5</th>\n",
       "      <th>dim_6</th>\n",
       "      <th>dim_7</th>\n",
       "      <th>dim_8</th>\n",
       "      <th>...</th>\n",
       "      <th>dim_291</th>\n",
       "      <th>dim_292</th>\n",
       "      <th>dim_293</th>\n",
       "      <th>dim_294</th>\n",
       "      <th>dim_295</th>\n",
       "      <th>dim_296</th>\n",
       "      <th>dim_297</th>\n",
       "      <th>dim_298</th>\n",
       "      <th>dim_299</th>\n",
       "      <th>dim_300</th>\n",
       "    </tr>\n",
       "  </thead>\n",
       "  <tbody>\n",
       "    <tr>\n",
       "      <th>0</th>\n",
       "      <td>NMS1</td>\n",
       "      <td>2017-01-03</td>\n",
       "      <td>-0.168732</td>\n",
       "      <td>-0.535160</td>\n",
       "      <td>-0.774182</td>\n",
       "      <td>0.896732</td>\n",
       "      <td>1.091631</td>\n",
       "      <td>0.743279</td>\n",
       "      <td>-1.850015</td>\n",
       "      <td>0.061106</td>\n",
       "      <td>...</td>\n",
       "      <td>0.340636</td>\n",
       "      <td>-2.249122</td>\n",
       "      <td>-0.256150</td>\n",
       "      <td>2.254207</td>\n",
       "      <td>0.266268</td>\n",
       "      <td>1.614121</td>\n",
       "      <td>-0.930276</td>\n",
       "      <td>0.792386</td>\n",
       "      <td>-0.165225</td>\n",
       "      <td>-0.181155</td>\n",
       "    </tr>\n",
       "    <tr>\n",
       "      <th>1</th>\n",
       "      <td>NMS2</td>\n",
       "      <td>2017-01-09</td>\n",
       "      <td>0.624365</td>\n",
       "      <td>-0.856475</td>\n",
       "      <td>1.812500</td>\n",
       "      <td>3.853791</td>\n",
       "      <td>1.545160</td>\n",
       "      <td>1.577592</td>\n",
       "      <td>-0.630420</td>\n",
       "      <td>1.539794</td>\n",
       "      <td>...</td>\n",
       "      <td>-0.385694</td>\n",
       "      <td>0.387853</td>\n",
       "      <td>-2.060073</td>\n",
       "      <td>0.602858</td>\n",
       "      <td>-1.316410</td>\n",
       "      <td>0.039031</td>\n",
       "      <td>-0.838227</td>\n",
       "      <td>-0.498450</td>\n",
       "      <td>-0.493723</td>\n",
       "      <td>0.644310</td>\n",
       "    </tr>\n",
       "    <tr>\n",
       "      <th>2</th>\n",
       "      <td>NMS3</td>\n",
       "      <td>2017-01-09</td>\n",
       "      <td>-0.739651</td>\n",
       "      <td>-0.900211</td>\n",
       "      <td>-0.218763</td>\n",
       "      <td>-2.119916</td>\n",
       "      <td>0.078865</td>\n",
       "      <td>0.774697</td>\n",
       "      <td>0.594178</td>\n",
       "      <td>-1.372833</td>\n",
       "      <td>...</td>\n",
       "      <td>-0.440702</td>\n",
       "      <td>-0.441197</td>\n",
       "      <td>-0.728770</td>\n",
       "      <td>0.023584</td>\n",
       "      <td>0.198857</td>\n",
       "      <td>2.329048</td>\n",
       "      <td>-1.017913</td>\n",
       "      <td>0.421999</td>\n",
       "      <td>-0.306413</td>\n",
       "      <td>-3.178852</td>\n",
       "    </tr>\n",
       "    <tr>\n",
       "      <th>3</th>\n",
       "      <td>NMS4</td>\n",
       "      <td>2017-02-01</td>\n",
       "      <td>-1.150214</td>\n",
       "      <td>0.104550</td>\n",
       "      <td>0.831135</td>\n",
       "      <td>-1.587962</td>\n",
       "      <td>0.561284</td>\n",
       "      <td>1.843229</td>\n",
       "      <td>-0.079391</td>\n",
       "      <td>-0.470809</td>\n",
       "      <td>...</td>\n",
       "      <td>0.336836</td>\n",
       "      <td>0.958072</td>\n",
       "      <td>0.995700</td>\n",
       "      <td>-1.052968</td>\n",
       "      <td>0.483324</td>\n",
       "      <td>0.947546</td>\n",
       "      <td>-0.111587</td>\n",
       "      <td>0.397632</td>\n",
       "      <td>1.120272</td>\n",
       "      <td>-1.024103</td>\n",
       "    </tr>\n",
       "    <tr>\n",
       "      <th>4</th>\n",
       "      <td>NMS5</td>\n",
       "      <td>2017-02-05</td>\n",
       "      <td>-0.679073</td>\n",
       "      <td>1.489343</td>\n",
       "      <td>-0.279702</td>\n",
       "      <td>-0.686224</td>\n",
       "      <td>-1.054515</td>\n",
       "      <td>-1.530961</td>\n",
       "      <td>1.328141</td>\n",
       "      <td>-0.554712</td>\n",
       "      <td>...</td>\n",
       "      <td>-3.163155</td>\n",
       "      <td>1.160091</td>\n",
       "      <td>-0.162135</td>\n",
       "      <td>0.649252</td>\n",
       "      <td>-0.817981</td>\n",
       "      <td>1.347303</td>\n",
       "      <td>-1.288229</td>\n",
       "      <td>-1.850291</td>\n",
       "      <td>-1.397824</td>\n",
       "      <td>-0.267791</td>\n",
       "    </tr>\n",
       "    <tr>\n",
       "      <th>...</th>\n",
       "      <td>...</td>\n",
       "      <td>...</td>\n",
       "      <td>...</td>\n",
       "      <td>...</td>\n",
       "      <td>...</td>\n",
       "      <td>...</td>\n",
       "      <td>...</td>\n",
       "      <td>...</td>\n",
       "      <td>...</td>\n",
       "      <td>...</td>\n",
       "      <td>...</td>\n",
       "      <td>...</td>\n",
       "      <td>...</td>\n",
       "      <td>...</td>\n",
       "      <td>...</td>\n",
       "      <td>...</td>\n",
       "      <td>...</td>\n",
       "      <td>...</td>\n",
       "      <td>...</td>\n",
       "      <td>...</td>\n",
       "      <td>...</td>\n",
       "    </tr>\n",
       "    <tr>\n",
       "      <th>1177</th>\n",
       "      <td>NMS1178</td>\n",
       "      <td>2023-04-09</td>\n",
       "      <td>-0.306730</td>\n",
       "      <td>1.513517</td>\n",
       "      <td>1.622684</td>\n",
       "      <td>0.731483</td>\n",
       "      <td>0.302952</td>\n",
       "      <td>-0.369632</td>\n",
       "      <td>-0.562101</td>\n",
       "      <td>-0.762265</td>\n",
       "      <td>...</td>\n",
       "      <td>-2.705963</td>\n",
       "      <td>1.388660</td>\n",
       "      <td>-2.712725</td>\n",
       "      <td>0.312156</td>\n",
       "      <td>-0.031898</td>\n",
       "      <td>1.146804</td>\n",
       "      <td>-0.238973</td>\n",
       "      <td>0.094065</td>\n",
       "      <td>-2.185262</td>\n",
       "      <td>0.860701</td>\n",
       "    </tr>\n",
       "    <tr>\n",
       "      <th>1178</th>\n",
       "      <td>NMS1179</td>\n",
       "      <td>2023-04-12</td>\n",
       "      <td>0.563493</td>\n",
       "      <td>1.080676</td>\n",
       "      <td>0.604600</td>\n",
       "      <td>-0.439831</td>\n",
       "      <td>-0.808392</td>\n",
       "      <td>-0.474562</td>\n",
       "      <td>0.251688</td>\n",
       "      <td>-1.055475</td>\n",
       "      <td>...</td>\n",
       "      <td>-1.288378</td>\n",
       "      <td>-1.810156</td>\n",
       "      <td>-1.255196</td>\n",
       "      <td>-2.229214</td>\n",
       "      <td>0.385778</td>\n",
       "      <td>0.907277</td>\n",
       "      <td>0.645596</td>\n",
       "      <td>0.604623</td>\n",
       "      <td>1.216950</td>\n",
       "      <td>0.245186</td>\n",
       "    </tr>\n",
       "    <tr>\n",
       "      <th>1179</th>\n",
       "      <td>NMS1180</td>\n",
       "      <td>2023-04-12</td>\n",
       "      <td>0.782047</td>\n",
       "      <td>-0.158924</td>\n",
       "      <td>-0.193099</td>\n",
       "      <td>-0.733030</td>\n",
       "      <td>-1.594171</td>\n",
       "      <td>-0.800618</td>\n",
       "      <td>0.342689</td>\n",
       "      <td>0.552608</td>\n",
       "      <td>...</td>\n",
       "      <td>0.574698</td>\n",
       "      <td>0.661980</td>\n",
       "      <td>2.110627</td>\n",
       "      <td>-3.017736</td>\n",
       "      <td>-0.330831</td>\n",
       "      <td>0.434509</td>\n",
       "      <td>-0.136622</td>\n",
       "      <td>-0.298262</td>\n",
       "      <td>0.415561</td>\n",
       "      <td>-0.049384</td>\n",
       "    </tr>\n",
       "    <tr>\n",
       "      <th>1180</th>\n",
       "      <td>NMS1181</td>\n",
       "      <td>2023-04-14</td>\n",
       "      <td>-0.838372</td>\n",
       "      <td>-1.508401</td>\n",
       "      <td>0.354411</td>\n",
       "      <td>-1.605695</td>\n",
       "      <td>-1.467359</td>\n",
       "      <td>-0.746987</td>\n",
       "      <td>0.976520</td>\n",
       "      <td>-0.301953</td>\n",
       "      <td>...</td>\n",
       "      <td>-1.808861</td>\n",
       "      <td>1.590266</td>\n",
       "      <td>-0.841243</td>\n",
       "      <td>-2.182145</td>\n",
       "      <td>1.634326</td>\n",
       "      <td>0.483876</td>\n",
       "      <td>-0.922333</td>\n",
       "      <td>0.748349</td>\n",
       "      <td>0.586837</td>\n",
       "      <td>1.316924</td>\n",
       "    </tr>\n",
       "    <tr>\n",
       "      <th>1181</th>\n",
       "      <td>NMS1182</td>\n",
       "      <td>2023-04-15</td>\n",
       "      <td>-0.523598</td>\n",
       "      <td>0.171893</td>\n",
       "      <td>1.238906</td>\n",
       "      <td>2.190435</td>\n",
       "      <td>0.616642</td>\n",
       "      <td>2.134422</td>\n",
       "      <td>0.274659</td>\n",
       "      <td>1.203137</td>\n",
       "      <td>...</td>\n",
       "      <td>-1.356638</td>\n",
       "      <td>1.758634</td>\n",
       "      <td>-1.032253</td>\n",
       "      <td>-0.457130</td>\n",
       "      <td>0.586473</td>\n",
       "      <td>0.859901</td>\n",
       "      <td>-0.343508</td>\n",
       "      <td>2.008562</td>\n",
       "      <td>-2.427112</td>\n",
       "      <td>-0.511617</td>\n",
       "    </tr>\n",
       "  </tbody>\n",
       "</table>\n",
       "<p>1182 rows × 302 columns</p>\n",
       "</div>"
      ],
      "text/plain": [
       "        index        Date     dim_1     dim_2     dim_3     dim_4     dim_5  \\\n",
       "0        NMS1  2017-01-03 -0.168732 -0.535160 -0.774182  0.896732  1.091631   \n",
       "1        NMS2  2017-01-09  0.624365 -0.856475  1.812500  3.853791  1.545160   \n",
       "2        NMS3  2017-01-09 -0.739651 -0.900211 -0.218763 -2.119916  0.078865   \n",
       "3        NMS4  2017-02-01 -1.150214  0.104550  0.831135 -1.587962  0.561284   \n",
       "4        NMS5  2017-02-05 -0.679073  1.489343 -0.279702 -0.686224 -1.054515   \n",
       "...       ...         ...       ...       ...       ...       ...       ...   \n",
       "1177  NMS1178  2023-04-09 -0.306730  1.513517  1.622684  0.731483  0.302952   \n",
       "1178  NMS1179  2023-04-12  0.563493  1.080676  0.604600 -0.439831 -0.808392   \n",
       "1179  NMS1180  2023-04-12  0.782047 -0.158924 -0.193099 -0.733030 -1.594171   \n",
       "1180  NMS1181  2023-04-14 -0.838372 -1.508401  0.354411 -1.605695 -1.467359   \n",
       "1181  NMS1182  2023-04-15 -0.523598  0.171893  1.238906  2.190435  0.616642   \n",
       "\n",
       "         dim_6     dim_7     dim_8  ...   dim_291   dim_292   dim_293  \\\n",
       "0     0.743279 -1.850015  0.061106  ...  0.340636 -2.249122 -0.256150   \n",
       "1     1.577592 -0.630420  1.539794  ... -0.385694  0.387853 -2.060073   \n",
       "2     0.774697  0.594178 -1.372833  ... -0.440702 -0.441197 -0.728770   \n",
       "3     1.843229 -0.079391 -0.470809  ...  0.336836  0.958072  0.995700   \n",
       "4    -1.530961  1.328141 -0.554712  ... -3.163155  1.160091 -0.162135   \n",
       "...        ...       ...       ...  ...       ...       ...       ...   \n",
       "1177 -0.369632 -0.562101 -0.762265  ... -2.705963  1.388660 -2.712725   \n",
       "1178 -0.474562  0.251688 -1.055475  ... -1.288378 -1.810156 -1.255196   \n",
       "1179 -0.800618  0.342689  0.552608  ...  0.574698  0.661980  2.110627   \n",
       "1180 -0.746987  0.976520 -0.301953  ... -1.808861  1.590266 -0.841243   \n",
       "1181  2.134422  0.274659  1.203137  ... -1.356638  1.758634 -1.032253   \n",
       "\n",
       "       dim_294   dim_295   dim_296   dim_297   dim_298   dim_299   dim_300  \n",
       "0     2.254207  0.266268  1.614121 -0.930276  0.792386 -0.165225 -0.181155  \n",
       "1     0.602858 -1.316410  0.039031 -0.838227 -0.498450 -0.493723  0.644310  \n",
       "2     0.023584  0.198857  2.329048 -1.017913  0.421999 -0.306413 -3.178852  \n",
       "3    -1.052968  0.483324  0.947546 -0.111587  0.397632  1.120272 -1.024103  \n",
       "4     0.649252 -0.817981  1.347303 -1.288229 -1.850291 -1.397824 -0.267791  \n",
       "...        ...       ...       ...       ...       ...       ...       ...  \n",
       "1177  0.312156 -0.031898  1.146804 -0.238973  0.094065 -2.185262  0.860701  \n",
       "1178 -2.229214  0.385778  0.907277  0.645596  0.604623  1.216950  0.245186  \n",
       "1179 -3.017736 -0.330831  0.434509 -0.136622 -0.298262  0.415561 -0.049384  \n",
       "1180 -2.182145  1.634326  0.483876 -0.922333  0.748349  0.586837  1.316924  \n",
       "1181 -0.457130  0.586473  0.859901 -0.343508  2.008562 -2.427112 -0.511617  \n",
       "\n",
       "[1182 rows x 302 columns]"
      ]
     },
     "execution_count": 3,
     "metadata": {},
     "output_type": "execute_result"
    }
   ],
   "source": [
    "# Load dataset\n",
    "df = pickle.load(open(\"6.NM_Doc2vec_vector.pickle\", 'rb'))\n",
    "df"
   ]
  },
  {
   "cell_type": "code",
   "execution_count": 4,
   "metadata": {},
   "outputs": [
    {
     "data": {
      "text/html": [
       "<div>\n",
       "<style scoped>\n",
       "    .dataframe tbody tr th:only-of-type {\n",
       "        vertical-align: middle;\n",
       "    }\n",
       "\n",
       "    .dataframe tbody tr th {\n",
       "        vertical-align: top;\n",
       "    }\n",
       "\n",
       "    .dataframe thead th {\n",
       "        text-align: right;\n",
       "    }\n",
       "</style>\n",
       "<table border=\"1\" class=\"dataframe\">\n",
       "  <thead>\n",
       "    <tr style=\"text-align: right;\">\n",
       "      <th></th>\n",
       "      <th>index</th>\n",
       "      <th>Date</th>\n",
       "      <th>Speech</th>\n",
       "      <th>Title</th>\n",
       "      <th>Cleaned_Speech</th>\n",
       "      <th>Cleaned_Speech_string</th>\n",
       "      <th>prompt</th>\n",
       "      <th>topic</th>\n",
       "      <th>topic_cleaned</th>\n",
       "    </tr>\n",
       "  </thead>\n",
       "  <tbody>\n",
       "    <tr>\n",
       "      <th>0</th>\n",
       "      <td>NMS1</td>\n",
       "      <td>2017-01-03</td>\n",
       "      <td>Governor of Andhra Pradesh, Shri E. S. L. Nara...</td>\n",
       "      <td>PM's Address at the Inauguration of the 104th ...</td>\n",
       "      <td>['governor andhra pradesh shri e l narasimhan ...</td>\n",
       "      <td>governor andhra pradesh shri e l narasimhan ch...</td>\n",
       "      <td>Governor of Andhra Pradesh, Shri E. S. L. Nara...</td>\n",
       "      <td>[, , The central theme the author is exploring...</td>\n",
       "      <td>The central theme the author is exploring is t...</td>\n",
       "    </tr>\n",
       "    <tr>\n",
       "      <th>1</th>\n",
       "      <td>NMS2</td>\n",
       "      <td>2017-01-09</td>\n",
       "      <td>Chief Minister of Gujarat Shri Vijay Rupani ji...</td>\n",
       "      <td>Text of PM's address at the Inauguration of No...</td>\n",
       "      <td>['chief minister gujarat shri vijay rupani ji ...</td>\n",
       "      <td>chief minister gujarat shri vijay rupani ji co...</td>\n",
       "      <td>Chief Minister of Gujarat Shri Vijay Rupani ji...</td>\n",
       "      <td>[, , The author is exploring how science and t...</td>\n",
       "      <td>The author is exploring how science and techno...</td>\n",
       "    </tr>\n",
       "    <tr>\n",
       "      <th>2</th>\n",
       "      <td>NMS3</td>\n",
       "      <td>2017-01-09</td>\n",
       "      <td>I  am delighted to be here at Gift City to ina...</td>\n",
       "      <td>Text of PM’s address on the occasion of Inaugu...</td>\n",
       "      <td>['delighted gift city inaugurate india first i...</td>\n",
       "      <td>delighted gift city inaugurate india first int...</td>\n",
       "      <td>I am delighted to be here at Gift City to inau...</td>\n",
       "      <td>[, , The central theme of the author is explor...</td>\n",
       "      <td>The central theme of the author is exploring i...</td>\n",
       "    </tr>\n",
       "    <tr>\n",
       "      <th>3</th>\n",
       "      <td>NMS4</td>\n",
       "      <td>2017-02-01</td>\n",
       "      <td>I congratulate the Finance Minister Arun Jaitl...</td>\n",
       "      <td>English rendering of the Prime Minister’s Stat...</td>\n",
       "      <td>['congratulate finance minister arun jaitley j...</td>\n",
       "      <td>congratulate finance minister arun jaitley jee...</td>\n",
       "      <td>I congratulate the Finance Minister Arun Jaitl...</td>\n",
       "      <td>[, , The central theme of the author is explor...</td>\n",
       "      <td>The central theme of the author is exploring i...</td>\n",
       "    </tr>\n",
       "    <tr>\n",
       "      <th>4</th>\n",
       "      <td>NMS5</td>\n",
       "      <td>2017-02-05</td>\n",
       "      <td>Sri Pejavar Math’s most respected Sri Vishwesh...</td>\n",
       "      <td>English rendering of the text of PM’s address ...</td>\n",
       "      <td>['sri pejavar math respected sri vishwesh tirt...</td>\n",
       "      <td>sri pejavar math respected sri vishwesh tirth ...</td>\n",
       "      <td>Sri Pejavar Math’s most respected Sri Vishwesh...</td>\n",
       "      <td>[, , The author is exploring the idea that sai...</td>\n",
       "      <td>The author is exploring the idea that saints h...</td>\n",
       "    </tr>\n",
       "    <tr>\n",
       "      <th>...</th>\n",
       "      <td>...</td>\n",
       "      <td>...</td>\n",
       "      <td>...</td>\n",
       "      <td>...</td>\n",
       "      <td>...</td>\n",
       "      <td>...</td>\n",
       "      <td>...</td>\n",
       "      <td>...</td>\n",
       "      <td>...</td>\n",
       "    </tr>\n",
       "    <tr>\n",
       "      <th>1177</th>\n",
       "      <td>NMS1178</td>\n",
       "      <td>2023-04-09</td>\n",
       "      <td>My colleagues in the Union Cabinet Shri Bhupen...</td>\n",
       "      <td>English rendering of PM’s address at the inaug...</td>\n",
       "      <td>['colleague union cabinet shri bhupender yadav...</td>\n",
       "      <td>colleague union cabinet shri bhupender yadav j...</td>\n",
       "      <td>My colleagues in the Union Cabinet Shri Bhupen...</td>\n",
       "      <td>[, , A. The author is exploring the theme of e...</td>\n",
       "      <td>A. The author is exploring the theme of enviro...</td>\n",
       "    </tr>\n",
       "    <tr>\n",
       "      <th>1178</th>\n",
       "      <td>NMS1179</td>\n",
       "      <td>2023-04-12</td>\n",
       "      <td>Namaskar! \\n\\nThe campaign to provide governme...</td>\n",
       "      <td>English rendering of PM’s address at training ...</td>\n",
       "      <td>['namaskar', 'campaign provide government job ...</td>\n",
       "      <td>namaskar campaign provide government job youth...</td>\n",
       "      <td>Namaskar! The campaign to provide government j...</td>\n",
       "      <td>[, , The central theme of the author is explor...</td>\n",
       "      <td>The central theme of the author is exploring i...</td>\n",
       "    </tr>\n",
       "    <tr>\n",
       "      <th>1179</th>\n",
       "      <td>NMS1180</td>\n",
       "      <td>2023-04-12</td>\n",
       "      <td>Namaskar, Governor of Rajasthan Shri Kalraj Mi...</td>\n",
       "      <td>English rendering of PM’s address during flagg...</td>\n",
       "      <td>['namaskar governor rajasthan shri kalraj mish...</td>\n",
       "      <td>namaskar governor rajasthan shri kalraj mishra...</td>\n",
       "      <td>Namaskar, Governor of Rajasthan Shri Kalraj Mi...</td>\n",
       "      <td>[., , , , The central theme of the text is the...</td>\n",
       "      <td>The central theme of the text is the Vande Bha...</td>\n",
       "    </tr>\n",
       "    <tr>\n",
       "      <th>1180</th>\n",
       "      <td>NMS1181</td>\n",
       "      <td>2023-04-14</td>\n",
       "      <td>Governor of Assam Shri Gulab Chand Kataria ji,...</td>\n",
       "      <td>English rendering of PM’s address at inaugurat...</td>\n",
       "      <td>['governor assam shri gulab chand kataria ji c...</td>\n",
       "      <td>governor assam shri gulab chand kataria ji chi...</td>\n",
       "      <td>Governor of Assam Shri Gulab Chand Kataria ji,...</td>\n",
       "      <td>[, , The author is exploring the idea that the...</td>\n",
       "      <td>The author is exploring the idea that the heal...</td>\n",
       "    </tr>\n",
       "    <tr>\n",
       "      <th>1181</th>\n",
       "      <td>NMS1182</td>\n",
       "      <td>2023-04-15</td>\n",
       "      <td>President of the World Bank, Her Excellency, t...</td>\n",
       "      <td>Text of Prime Minister’s video message at the ...</td>\n",
       "      <td>['president world bank excellency minister ene...</td>\n",
       "      <td>president world bank excellency minister energ...</td>\n",
       "      <td>President of the World Bank, Her Excellency, t...</td>\n",
       "      <td>[, , The author is exploring the impact of beh...</td>\n",
       "      <td>The author is exploring the impact of behaviou...</td>\n",
       "    </tr>\n",
       "  </tbody>\n",
       "</table>\n",
       "<p>1182 rows × 9 columns</p>\n",
       "</div>"
      ],
      "text/plain": [
       "        index        Date                                             Speech  \\\n",
       "0        NMS1  2017-01-03  Governor of Andhra Pradesh, Shri E. S. L. Nara...   \n",
       "1        NMS2  2017-01-09  Chief Minister of Gujarat Shri Vijay Rupani ji...   \n",
       "2        NMS3  2017-01-09  I  am delighted to be here at Gift City to ina...   \n",
       "3        NMS4  2017-02-01  I congratulate the Finance Minister Arun Jaitl...   \n",
       "4        NMS5  2017-02-05  Sri Pejavar Math’s most respected Sri Vishwesh...   \n",
       "...       ...         ...                                                ...   \n",
       "1177  NMS1178  2023-04-09  My colleagues in the Union Cabinet Shri Bhupen...   \n",
       "1178  NMS1179  2023-04-12  Namaskar! \\n\\nThe campaign to provide governme...   \n",
       "1179  NMS1180  2023-04-12  Namaskar, Governor of Rajasthan Shri Kalraj Mi...   \n",
       "1180  NMS1181  2023-04-14  Governor of Assam Shri Gulab Chand Kataria ji,...   \n",
       "1181  NMS1182  2023-04-15  President of the World Bank, Her Excellency, t...   \n",
       "\n",
       "                                                  Title  \\\n",
       "0     PM's Address at the Inauguration of the 104th ...   \n",
       "1     Text of PM's address at the Inauguration of No...   \n",
       "2     Text of PM’s address on the occasion of Inaugu...   \n",
       "3     English rendering of the Prime Minister’s Stat...   \n",
       "4     English rendering of the text of PM’s address ...   \n",
       "...                                                 ...   \n",
       "1177  English rendering of PM’s address at the inaug...   \n",
       "1178  English rendering of PM’s address at training ...   \n",
       "1179  English rendering of PM’s address during flagg...   \n",
       "1180  English rendering of PM’s address at inaugurat...   \n",
       "1181  Text of Prime Minister’s video message at the ...   \n",
       "\n",
       "                                         Cleaned_Speech  \\\n",
       "0     ['governor andhra pradesh shri e l narasimhan ...   \n",
       "1     ['chief minister gujarat shri vijay rupani ji ...   \n",
       "2     ['delighted gift city inaugurate india first i...   \n",
       "3     ['congratulate finance minister arun jaitley j...   \n",
       "4     ['sri pejavar math respected sri vishwesh tirt...   \n",
       "...                                                 ...   \n",
       "1177  ['colleague union cabinet shri bhupender yadav...   \n",
       "1178  ['namaskar', 'campaign provide government job ...   \n",
       "1179  ['namaskar governor rajasthan shri kalraj mish...   \n",
       "1180  ['governor assam shri gulab chand kataria ji c...   \n",
       "1181  ['president world bank excellency minister ene...   \n",
       "\n",
       "                                  Cleaned_Speech_string  \\\n",
       "0     governor andhra pradesh shri e l narasimhan ch...   \n",
       "1     chief minister gujarat shri vijay rupani ji co...   \n",
       "2     delighted gift city inaugurate india first int...   \n",
       "3     congratulate finance minister arun jaitley jee...   \n",
       "4     sri pejavar math respected sri vishwesh tirth ...   \n",
       "...                                                 ...   \n",
       "1177  colleague union cabinet shri bhupender yadav j...   \n",
       "1178  namaskar campaign provide government job youth...   \n",
       "1179  namaskar governor rajasthan shri kalraj mishra...   \n",
       "1180  governor assam shri gulab chand kataria ji chi...   \n",
       "1181  president world bank excellency minister energ...   \n",
       "\n",
       "                                                 prompt  \\\n",
       "0     Governor of Andhra Pradesh, Shri E. S. L. Nara...   \n",
       "1     Chief Minister of Gujarat Shri Vijay Rupani ji...   \n",
       "2     I am delighted to be here at Gift City to inau...   \n",
       "3     I congratulate the Finance Minister Arun Jaitl...   \n",
       "4     Sri Pejavar Math’s most respected Sri Vishwesh...   \n",
       "...                                                 ...   \n",
       "1177  My colleagues in the Union Cabinet Shri Bhupen...   \n",
       "1178  Namaskar! The campaign to provide government j...   \n",
       "1179  Namaskar, Governor of Rajasthan Shri Kalraj Mi...   \n",
       "1180  Governor of Assam Shri Gulab Chand Kataria ji,...   \n",
       "1181  President of the World Bank, Her Excellency, t...   \n",
       "\n",
       "                                                  topic  \\\n",
       "0     [, , The central theme the author is exploring...   \n",
       "1     [, , The author is exploring how science and t...   \n",
       "2     [, , The central theme of the author is explor...   \n",
       "3     [, , The central theme of the author is explor...   \n",
       "4     [, , The author is exploring the idea that sai...   \n",
       "...                                                 ...   \n",
       "1177  [, , A. The author is exploring the theme of e...   \n",
       "1178  [, , The central theme of the author is explor...   \n",
       "1179  [., , , , The central theme of the text is the...   \n",
       "1180  [, , The author is exploring the idea that the...   \n",
       "1181  [, , The author is exploring the impact of beh...   \n",
       "\n",
       "                                          topic_cleaned  \n",
       "0     The central theme the author is exploring is t...  \n",
       "1     The author is exploring how science and techno...  \n",
       "2     The central theme of the author is exploring i...  \n",
       "3     The central theme of the author is exploring i...  \n",
       "4     The author is exploring the idea that saints h...  \n",
       "...                                                 ...  \n",
       "1177  A. The author is exploring the theme of enviro...  \n",
       "1178  The central theme of the author is exploring i...  \n",
       "1179  The central theme of the text is the Vande Bha...  \n",
       "1180  The author is exploring the idea that the heal...  \n",
       "1181  The author is exploring the impact of behaviou...  \n",
       "\n",
       "[1182 rows x 9 columns]"
      ]
     },
     "execution_count": 4,
     "metadata": {},
     "output_type": "execute_result"
    }
   ],
   "source": [
    "df_tm = pickle.load(open(\"topic_Cleaned_NM.pickle\", 'rb'))\n",
    "df_tm"
   ]
  },
  {
   "attachments": {},
   "cell_type": "markdown",
   "metadata": {},
   "source": [
    "## Objective: To cluster the data using UMAPS\n",
    "1. Use UMAPS to reduce the dimensionality of the data to 2 dimensions\n",
    "2. Cluster the data\n",
    "3. Embed Date information into the data\n",
    "4. Plot the data giving each year a different color"
   ]
  },
  {
   "cell_type": "code",
   "execution_count": 6,
   "metadata": {},
   "outputs": [
    {
     "name": "stdout",
     "output_type": "stream",
     "text": [
      "Collecting umap\n",
      "  Downloading umap-0.1.1.tar.gz (3.2 kB)\n",
      "  Preparing metadata (setup.py): started\n",
      "  Preparing metadata (setup.py): finished with status 'done'\n",
      "Building wheels for collected packages: umap\n",
      "  Building wheel for umap (setup.py): started\n",
      "  Building wheel for umap (setup.py): finished with status 'done'\n",
      "  Created wheel for umap: filename=umap-0.1.1-py3-none-any.whl size=3551 sha256=6551ab50e7047a0509396f2a373eb420e7702af61c094c5211667fdc13028c31\n",
      "  Stored in directory: c:\\users\\yatika arora\\appdata\\local\\packages\\pythonsoftwarefoundation.python.3.11_qbz5n2kfra8p0\\localcache\\local\\pip\\cache\\wheels\\82\\d8\\73\\e9eb3334baaad795ff0278363ff1aca7568bdf2793e452a527\n",
      "Successfully built umap\n",
      "Installing collected packages: umap\n",
      "Successfully installed umap-0.1.1\n",
      "Note: you may need to restart the kernel to use updated packages.\n"
     ]
    },
    {
     "name": "stderr",
     "output_type": "stream",
     "text": [
      "\n",
      "[notice] A new release of pip is available: 23.0.1 -> 23.1.2\n",
      "[notice] To update, run: C:\\Users\\Yatika Arora\\AppData\\Local\\Microsoft\\WindowsApps\\PythonSoftwareFoundation.Python.3.11_qbz5n2kfra8p0\\python.exe -m pip install --upgrade pip\n"
     ]
    }
   ],
   "source": [
    "%pip install umap"
   ]
  },
  {
   "cell_type": "code",
   "execution_count": 10,
   "metadata": {},
   "outputs": [
    {
     "name": "stdout",
     "output_type": "stream",
     "text": [
      "Requirement already satisfied: umap-learn in c:\\users\\yatika arora\\appdata\\local\\packages\\pythonsoftwarefoundation.python.3.11_qbz5n2kfra8p0\\localcache\\local-packages\\python311\\site-packages (0.5.3)\n",
      "Requirement already satisfied: numpy>=1.17 in c:\\users\\yatika arora\\appdata\\local\\packages\\pythonsoftwarefoundation.python.3.11_qbz5n2kfra8p0\\localcache\\local-packages\\python311\\site-packages (from umap-learn) (1.24.2)\n",
      "Requirement already satisfied: scikit-learn>=0.22 in c:\\users\\yatika arora\\appdata\\local\\packages\\pythonsoftwarefoundation.python.3.11_qbz5n2kfra8p0\\localcache\\local-packages\\python311\\site-packages (from umap-learn) (1.2.2)\n",
      "Requirement already satisfied: scipy>=1.0 in c:\\users\\yatika arora\\appdata\\local\\packages\\pythonsoftwarefoundation.python.3.11_qbz5n2kfra8p0\\localcache\\local-packages\\python311\\site-packages (from umap-learn) (1.10.1)\n",
      "Requirement already satisfied: numba>=0.49 in c:\\users\\yatika arora\\appdata\\local\\packages\\pythonsoftwarefoundation.python.3.11_qbz5n2kfra8p0\\localcache\\local-packages\\python311\\site-packages (from umap-learn) (0.57.0)\n",
      "Requirement already satisfied: pynndescent>=0.5 in c:\\users\\yatika arora\\appdata\\local\\packages\\pythonsoftwarefoundation.python.3.11_qbz5n2kfra8p0\\localcache\\local-packages\\python311\\site-packages (from umap-learn) (0.5.10)\n",
      "Requirement already satisfied: tqdm in c:\\users\\yatika arora\\appdata\\local\\packages\\pythonsoftwarefoundation.python.3.11_qbz5n2kfra8p0\\localcache\\local-packages\\python311\\site-packages (from umap-learn) (4.64.1)\n",
      "Requirement already satisfied: llvmlite<0.41,>=0.40.0dev0 in c:\\users\\yatika arora\\appdata\\local\\packages\\pythonsoftwarefoundation.python.3.11_qbz5n2kfra8p0\\localcache\\local-packages\\python311\\site-packages (from numba>=0.49->umap-learn) (0.40.0)\n",
      "Requirement already satisfied: joblib>=0.11 in c:\\users\\yatika arora\\appdata\\local\\packages\\pythonsoftwarefoundation.python.3.11_qbz5n2kfra8p0\\localcache\\local-packages\\python311\\site-packages (from pynndescent>=0.5->umap-learn) (1.2.0)\n",
      "Requirement already satisfied: threadpoolctl>=2.0.0 in c:\\users\\yatika arora\\appdata\\local\\packages\\pythonsoftwarefoundation.python.3.11_qbz5n2kfra8p0\\localcache\\local-packages\\python311\\site-packages (from scikit-learn>=0.22->umap-learn) (3.1.0)\n",
      "Requirement already satisfied: colorama in c:\\users\\yatika arora\\appdata\\local\\packages\\pythonsoftwarefoundation.python.3.11_qbz5n2kfra8p0\\localcache\\local-packages\\python311\\site-packages (from tqdm->umap-learn) (0.4.6)\n",
      "Note: you may need to restart the kernel to use updated packages.\n"
     ]
    }
   ],
   "source": [
    "%pip install umap-learn"
   ]
  },
  {
   "cell_type": "code",
   "execution_count": 3,
   "metadata": {},
   "outputs": [
    {
     "name": "stdout",
     "output_type": "stream",
     "text": [
      "Requirement already satisfied: pip in c:\\users\\abcd\\appdata\\local\\programs\\python\\python311\\lib\\site-packages (23.1.2)\n",
      "Note: you may need to restart the kernel to use updated packages.\n"
     ]
    }
   ],
   "source": [
    "%pip install --upgrade pip"
   ]
  },
  {
   "cell_type": "code",
   "execution_count": 3,
   "metadata": {},
   "outputs": [
    {
     "name": "stdout",
     "output_type": "stream",
     "text": [
      "Collecting umap-learn\n",
      "  Downloading umap-learn-0.5.3.tar.gz (88 kB)\n",
      "                                              0.0/88.2 kB ? eta -:--:--\n",
      "     ---------------------------              61.4/88.2 kB 1.1 MB/s eta 0:00:01\n",
      "     ---------------------------------------- 88.2/88.2 kB 1.7 MB/s eta 0:00:00\n",
      "  Preparing metadata (setup.py): started\n",
      "  Preparing metadata (setup.py): finished with status 'done'\n",
      "Requirement already satisfied: numpy>=1.17 in c:\\users\\yatika arora\\appdata\\local\\packages\\pythonsoftwarefoundation.python.3.11_qbz5n2kfra8p0\\localcache\\local-packages\\python311\\site-packages (from umap-learn) (1.24.2)\n",
      "Requirement already satisfied: scikit-learn>=0.22 in c:\\users\\yatika arora\\appdata\\local\\packages\\pythonsoftwarefoundation.python.3.11_qbz5n2kfra8p0\\localcache\\local-packages\\python311\\site-packages (from umap-learn) (1.2.2)\n",
      "Requirement already satisfied: scipy>=1.0 in c:\\users\\yatika arora\\appdata\\local\\packages\\pythonsoftwarefoundation.python.3.11_qbz5n2kfra8p0\\localcache\\local-packages\\python311\\site-packages (from umap-learn) (1.10.1)\n",
      "Collecting numba>=0.49 (from umap-learn)\n",
      "  Downloading numba-0.57.0-cp311-cp311-win_amd64.whl (2.6 MB)\n",
      "                                              0.0/2.6 MB ? eta -:--:--\n",
      "     ---                                      0.2/2.6 MB 6.3 MB/s eta 0:00:01\n",
      "     ---                                      0.2/2.6 MB 3.0 MB/s eta 0:00:01\n",
      "     --------                                 0.5/2.6 MB 4.2 MB/s eta 0:00:01\n",
      "     -------------                            0.8/2.6 MB 5.3 MB/s eta 0:00:01\n",
      "     ------------------                       1.2/2.6 MB 5.9 MB/s eta 0:00:01\n",
      "     ----------------------                   1.4/2.6 MB 6.0 MB/s eta 0:00:01\n",
      "     -------------------------                1.6/2.6 MB 5.5 MB/s eta 0:00:01\n",
      "     ------------------------------           1.9/2.6 MB 5.9 MB/s eta 0:00:01\n",
      "     --------------------------------         2.1/2.6 MB 5.5 MB/s eta 0:00:01\n",
      "     ------------------------------------     2.3/2.6 MB 5.5 MB/s eta 0:00:01\n",
      "     ---------------------------------------  2.5/2.6 MB 5.6 MB/s eta 0:00:01\n",
      "     ---------------------------------------- 2.6/2.6 MB 5.3 MB/s eta 0:00:00\n",
      "Collecting pynndescent>=0.5 (from umap-learn)\n",
      "  Downloading pynndescent-0.5.10.tar.gz (1.1 MB)\n",
      "                                              0.0/1.1 MB ? eta -:--:--\n",
      "     ---------------                          0.4/1.1 MB 13.9 MB/s eta 0:00:01\n",
      "     -----------------------------            0.8/1.1 MB 10.8 MB/s eta 0:00:01\n",
      "     ---------------------------------------- 1.1/1.1 MB 9.0 MB/s eta 0:00:00\n",
      "  Preparing metadata (setup.py): started\n",
      "  Preparing metadata (setup.py): finished with status 'done'\n",
      "Requirement already satisfied: tqdm in c:\\users\\yatika arora\\appdata\\local\\packages\\pythonsoftwarefoundation.python.3.11_qbz5n2kfra8p0\\localcache\\local-packages\\python311\\site-packages (from umap-learn) (4.64.1)\n",
      "Collecting llvmlite<0.41,>=0.40.0dev0 (from numba>=0.49->umap-learn)\n",
      "  Downloading llvmlite-0.40.0-cp311-cp311-win_amd64.whl (27.7 MB)\n",
      "                                              0.0/27.7 MB ? eta -:--:--\n",
      "                                              0.3/27.7 MB 10.2 MB/s eta 0:00:03\n",
      "                                              0.7/27.7 MB 8.4 MB/s eta 0:00:04\n",
      "     -                                        1.1/27.7 MB 8.5 MB/s eta 0:00:04\n",
      "     -                                        1.3/27.7 MB 8.5 MB/s eta 0:00:04\n",
      "     --                                       1.6/27.7 MB 7.6 MB/s eta 0:00:04\n",
      "     --                                       1.9/27.7 MB 8.1 MB/s eta 0:00:04\n",
      "     ---                                      2.3/27.7 MB 8.2 MB/s eta 0:00:04\n",
      "     ---                                      2.6/27.7 MB 8.0 MB/s eta 0:00:04\n",
      "     ----                                     3.0/27.7 MB 8.4 MB/s eta 0:00:03\n",
      "     ----                                     3.1/27.7 MB 7.4 MB/s eta 0:00:04\n",
      "     ----                                     3.4/27.7 MB 7.2 MB/s eta 0:00:04\n",
      "     -----                                    3.6/27.7 MB 7.1 MB/s eta 0:00:04\n",
      "     -----                                    3.8/27.7 MB 7.0 MB/s eta 0:00:04\n",
      "     -----                                    4.1/27.7 MB 6.9 MB/s eta 0:00:04\n",
      "     ------                                   4.4/27.7 MB 7.0 MB/s eta 0:00:04\n",
      "     ------                                   4.7/27.7 MB 7.0 MB/s eta 0:00:04\n",
      "     -------                                  5.1/27.7 MB 7.0 MB/s eta 0:00:04\n",
      "     -------                                  5.4/27.7 MB 7.2 MB/s eta 0:00:04\n",
      "     --------                                 5.6/27.7 MB 7.0 MB/s eta 0:00:04\n",
      "     --------                                 5.7/27.7 MB 6.8 MB/s eta 0:00:04\n",
      "     --------                                 6.1/27.7 MB 6.9 MB/s eta 0:00:04\n",
      "     ---------                                6.4/27.7 MB 6.9 MB/s eta 0:00:04\n",
      "     ---------                                6.6/27.7 MB 6.7 MB/s eta 0:00:04\n",
      "     ----------                               7.0/27.7 MB 6.9 MB/s eta 0:00:03\n",
      "     ----------                               7.5/27.7 MB 6.9 MB/s eta 0:00:03\n",
      "     -----------                              7.9/27.7 MB 7.1 MB/s eta 0:00:03\n",
      "     -----------                              8.3/27.7 MB 7.2 MB/s eta 0:00:03\n",
      "     ------------                             8.5/27.7 MB 7.1 MB/s eta 0:00:03\n",
      "     ------------                             8.9/27.7 MB 7.1 MB/s eta 0:00:03\n",
      "     -------------                            9.3/27.7 MB 7.1 MB/s eta 0:00:03\n",
      "     -------------                            9.5/27.7 MB 7.2 MB/s eta 0:00:03\n",
      "     --------------                           9.9/27.7 MB 7.2 MB/s eta 0:00:03\n",
      "     --------------                           10.1/27.7 MB 7.3 MB/s eta 0:00:03\n",
      "     --------------                           10.3/27.7 MB 7.1 MB/s eta 0:00:03\n",
      "     ---------------                          10.6/27.7 MB 7.1 MB/s eta 0:00:03\n",
      "     ---------------                          10.9/27.7 MB 7.0 MB/s eta 0:00:03\n",
      "     ----------------                         11.4/27.7 MB 7.1 MB/s eta 0:00:03\n",
      "     ----------------                         11.4/27.7 MB 6.9 MB/s eta 0:00:03\n",
      "     -----------------                        11.8/27.7 MB 7.0 MB/s eta 0:00:03\n",
      "     -----------------                        12.1/27.7 MB 7.0 MB/s eta 0:00:03\n",
      "     ------------------                       12.5/27.7 MB 7.0 MB/s eta 0:00:03\n",
      "     ------------------                       12.9/27.7 MB 7.0 MB/s eta 0:00:03\n",
      "     ------------------                       13.0/27.7 MB 6.9 MB/s eta 0:00:03\n",
      "     -------------------                      13.4/27.7 MB 7.0 MB/s eta 0:00:03\n",
      "     -------------------                      13.6/27.7 MB 7.2 MB/s eta 0:00:02\n",
      "     --------------------                     13.9/27.7 MB 7.2 MB/s eta 0:00:02\n",
      "     --------------------                     14.1/27.7 MB 7.2 MB/s eta 0:00:02\n",
      "     --------------------                     14.4/27.7 MB 7.1 MB/s eta 0:00:02\n",
      "     ---------------------                    14.7/27.7 MB 7.1 MB/s eta 0:00:02\n",
      "     ---------------------                    15.1/27.7 MB 7.0 MB/s eta 0:00:02\n",
      "     ----------------------                   15.4/27.7 MB 7.0 MB/s eta 0:00:02\n",
      "     ----------------------                   15.9/27.7 MB 7.2 MB/s eta 0:00:02\n",
      "     -----------------------                  16.2/27.7 MB 7.3 MB/s eta 0:00:02\n",
      "     -----------------------                  16.6/27.7 MB 7.4 MB/s eta 0:00:02\n",
      "     ------------------------                 17.0/27.7 MB 7.5 MB/s eta 0:00:02\n",
      "     -------------------------                17.3/27.7 MB 7.6 MB/s eta 0:00:02\n",
      "     -------------------------                17.7/27.7 MB 7.4 MB/s eta 0:00:02\n",
      "     --------------------------               18.2/27.7 MB 7.5 MB/s eta 0:00:02\n",
      "     --------------------------               18.5/27.7 MB 7.4 MB/s eta 0:00:02\n",
      "     ---------------------------              18.7/27.7 MB 7.4 MB/s eta 0:00:02\n",
      "     ---------------------------              19.1/27.7 MB 7.4 MB/s eta 0:00:02\n",
      "     ----------------------------             19.5/27.7 MB 7.5 MB/s eta 0:00:02\n",
      "     ----------------------------             19.9/27.7 MB 7.4 MB/s eta 0:00:02\n",
      "     -----------------------------            20.3/27.7 MB 7.4 MB/s eta 0:00:02\n",
      "     -----------------------------            20.7/27.7 MB 7.7 MB/s eta 0:00:01\n",
      "     ------------------------------           21.1/27.7 MB 7.7 MB/s eta 0:00:01\n",
      "     ------------------------------           21.5/27.7 MB 7.7 MB/s eta 0:00:01\n",
      "     -------------------------------          21.9/27.7 MB 7.9 MB/s eta 0:00:01\n",
      "     --------------------------------         22.2/27.7 MB 7.9 MB/s eta 0:00:01\n",
      "     --------------------------------         22.5/27.7 MB 7.8 MB/s eta 0:00:01\n",
      "     --------------------------------         22.8/27.7 MB 7.8 MB/s eta 0:00:01\n",
      "     ---------------------------------        23.1/27.7 MB 7.7 MB/s eta 0:00:01\n",
      "     ---------------------------------        23.5/27.7 MB 7.9 MB/s eta 0:00:01\n",
      "     ----------------------------------       24.0/27.7 MB 8.0 MB/s eta 0:00:01\n",
      "     -----------------------------------      24.4/27.7 MB 8.2 MB/s eta 0:00:01\n",
      "     ------------------------------------     25.0/27.7 MB 8.3 MB/s eta 0:00:01\n",
      "     ------------------------------------     25.3/27.7 MB 8.4 MB/s eta 0:00:01\n",
      "     ------------------------------------     25.6/27.7 MB 8.4 MB/s eta 0:00:01\n",
      "     -------------------------------------    26.0/27.7 MB 8.4 MB/s eta 0:00:01\n",
      "     -------------------------------------    26.2/27.7 MB 8.2 MB/s eta 0:00:01\n",
      "     --------------------------------------   26.6/27.7 MB 8.3 MB/s eta 0:00:01\n",
      "     ---------------------------------------  27.1/27.7 MB 8.3 MB/s eta 0:00:01\n",
      "     ---------------------------------------  27.6/27.7 MB 8.3 MB/s eta 0:00:01\n",
      "     ---------------------------------------  27.7/27.7 MB 8.5 MB/s eta 0:00:01\n",
      "     ---------------------------------------  27.7/27.7 MB 8.5 MB/s eta 0:00:01\n",
      "     ---------------------------------------  27.7/27.7 MB 8.5 MB/s eta 0:00:01\n",
      "     ---------------------------------------- 27.7/27.7 MB 7.7 MB/s eta 0:00:00\n",
      "Requirement already satisfied: joblib>=0.11 in c:\\users\\yatika arora\\appdata\\local\\packages\\pythonsoftwarefoundation.python.3.11_qbz5n2kfra8p0\\localcache\\local-packages\\python311\\site-packages (from pynndescent>=0.5->umap-learn) (1.2.0)\n",
      "Requirement already satisfied: threadpoolctl>=2.0.0 in c:\\users\\yatika arora\\appdata\\local\\packages\\pythonsoftwarefoundation.python.3.11_qbz5n2kfra8p0\\localcache\\local-packages\\python311\\site-packages (from scikit-learn>=0.22->umap-learn) (3.1.0)\n",
      "Requirement already satisfied: colorama in c:\\users\\yatika arora\\appdata\\local\\packages\\pythonsoftwarefoundation.python.3.11_qbz5n2kfra8p0\\localcache\\local-packages\\python311\\site-packages (from tqdm->umap-learn) (0.4.6)\n",
      "Building wheels for collected packages: umap-learn, pynndescent\n",
      "  Building wheel for umap-learn (setup.py): started\n",
      "  Building wheel for umap-learn (setup.py): finished with status 'done'\n",
      "  Created wheel for umap-learn: filename=umap_learn-0.5.3-py3-none-any.whl size=82911 sha256=39a3aaea96b554481e42b124e254ec81a9e2dfbbf5cb551e971605a3ba8f7c97\n",
      "  Stored in directory: c:\\users\\yatika arora\\appdata\\local\\packages\\pythonsoftwarefoundation.python.3.11_qbz5n2kfra8p0\\localcache\\local\\pip\\cache\\wheels\\02\\15\\cd\\b456fcce97d704f38b583aecf7fa174860b6ff0b499f51f95a\n",
      "  Building wheel for pynndescent (setup.py): started\n",
      "  Building wheel for pynndescent (setup.py): finished with status 'done'\n",
      "  Created wheel for pynndescent: filename=pynndescent-0.5.10-py3-none-any.whl size=55675 sha256=0c2bc74161aa9220a55d5aa7b04197dcb6e85bcf56776c44139df336bd44bc04\n",
      "  Stored in directory: c:\\users\\yatika arora\\appdata\\local\\packages\\pythonsoftwarefoundation.python.3.11_qbz5n2kfra8p0\\localcache\\local\\pip\\cache\\wheels\\a9\\a3\\51\\2411ea852380d31c4cbfee910744f4effe1fef7438b199d496\n",
      "Successfully built umap-learn pynndescent\n",
      "Installing collected packages: llvmlite, numba, pynndescent, umap-learn\n",
      "Successfully installed llvmlite-0.40.0 numba-0.57.0 pynndescent-0.5.10 umap-learn-0.5.3\n",
      "Note: you may need to restart the kernel to use updated packages.\n"
     ]
    }
   ],
   "source": [
    "%pip install --upgrade umap-learn\n"
   ]
  },
  {
   "cell_type": "code",
   "execution_count": 5,
   "metadata": {},
   "outputs": [
    {
     "name": "stderr",
     "output_type": "stream",
     "text": [
      "c:\\Users\\hp\\AppData\\Local\\Programs\\Python\\Python311\\Lib\\site-packages\\umap\\distances.py:1063: NumbaDeprecationWarning:\n",
      "\n",
      "\u001b[1mThe 'nopython' keyword argument was not supplied to the 'numba.jit' decorator. The implicit default value for this argument is currently False, but it will be changed to True in Numba 0.59.0. See https://numba.readthedocs.io/en/stable/reference/deprecation.html#deprecation-of-object-mode-fall-back-behaviour-when-using-jit for details.\u001b[0m\n",
      "\n",
      "c:\\Users\\hp\\AppData\\Local\\Programs\\Python\\Python311\\Lib\\site-packages\\umap\\distances.py:1071: NumbaDeprecationWarning:\n",
      "\n",
      "\u001b[1mThe 'nopython' keyword argument was not supplied to the 'numba.jit' decorator. The implicit default value for this argument is currently False, but it will be changed to True in Numba 0.59.0. See https://numba.readthedocs.io/en/stable/reference/deprecation.html#deprecation-of-object-mode-fall-back-behaviour-when-using-jit for details.\u001b[0m\n",
      "\n",
      "c:\\Users\\hp\\AppData\\Local\\Programs\\Python\\Python311\\Lib\\site-packages\\umap\\distances.py:1086: NumbaDeprecationWarning:\n",
      "\n",
      "\u001b[1mThe 'nopython' keyword argument was not supplied to the 'numba.jit' decorator. The implicit default value for this argument is currently False, but it will be changed to True in Numba 0.59.0. See https://numba.readthedocs.io/en/stable/reference/deprecation.html#deprecation-of-object-mode-fall-back-behaviour-when-using-jit for details.\u001b[0m\n",
      "\n",
      "c:\\Users\\hp\\AppData\\Local\\Programs\\Python\\Python311\\Lib\\site-packages\\tqdm\\auto.py:22: TqdmWarning:\n",
      "\n",
      "IProgress not found. Please update jupyter and ipywidgets. See https://ipywidgets.readthedocs.io/en/stable/user_install.html\n",
      "\n",
      "c:\\Users\\hp\\AppData\\Local\\Programs\\Python\\Python311\\Lib\\site-packages\\umap\\umap_.py:660: NumbaDeprecationWarning:\n",
      "\n",
      "\u001b[1mThe 'nopython' keyword argument was not supplied to the 'numba.jit' decorator. The implicit default value for this argument is currently False, but it will be changed to True in Numba 0.59.0. See https://numba.readthedocs.io/en/stable/reference/deprecation.html#deprecation-of-object-mode-fall-back-behaviour-when-using-jit for details.\u001b[0m\n",
      "\n"
     ]
    }
   ],
   "source": [
    "from umap import UMAP"
   ]
  },
  {
   "attachments": {},
   "cell_type": "markdown",
   "metadata": {},
   "source": [
    "### Dimensionality Reduction | UMAPS\n",
    "Data Preprocessing:\n",
    "1. Remove the columns that are not needed -- index, Date, speech_number"
   ]
  },
  {
   "cell_type": "code",
   "execution_count": 8,
   "metadata": {},
   "outputs": [
    {
     "data": {
      "text/html": [
       "<div>\n",
       "<style scoped>\n",
       "    .dataframe tbody tr th:only-of-type {\n",
       "        vertical-align: middle;\n",
       "    }\n",
       "\n",
       "    .dataframe tbody tr th {\n",
       "        vertical-align: top;\n",
       "    }\n",
       "\n",
       "    .dataframe thead th {\n",
       "        text-align: right;\n",
       "    }\n",
       "</style>\n",
       "<table border=\"1\" class=\"dataframe\">\n",
       "  <thead>\n",
       "    <tr style=\"text-align: right;\">\n",
       "      <th></th>\n",
       "      <th>dim_1</th>\n",
       "      <th>dim_2</th>\n",
       "      <th>dim_3</th>\n",
       "      <th>dim_4</th>\n",
       "      <th>dim_5</th>\n",
       "      <th>dim_6</th>\n",
       "      <th>dim_7</th>\n",
       "      <th>dim_8</th>\n",
       "      <th>dim_9</th>\n",
       "      <th>dim_10</th>\n",
       "      <th>...</th>\n",
       "      <th>dim_291</th>\n",
       "      <th>dim_292</th>\n",
       "      <th>dim_293</th>\n",
       "      <th>dim_294</th>\n",
       "      <th>dim_295</th>\n",
       "      <th>dim_296</th>\n",
       "      <th>dim_297</th>\n",
       "      <th>dim_298</th>\n",
       "      <th>dim_299</th>\n",
       "      <th>dim_300</th>\n",
       "    </tr>\n",
       "  </thead>\n",
       "  <tbody>\n",
       "    <tr>\n",
       "      <th>0</th>\n",
       "      <td>-0.168732</td>\n",
       "      <td>-0.535160</td>\n",
       "      <td>-0.774182</td>\n",
       "      <td>0.896732</td>\n",
       "      <td>1.091631</td>\n",
       "      <td>0.743279</td>\n",
       "      <td>-1.850015</td>\n",
       "      <td>0.061106</td>\n",
       "      <td>-0.901268</td>\n",
       "      <td>-0.952144</td>\n",
       "      <td>...</td>\n",
       "      <td>0.340636</td>\n",
       "      <td>-2.249122</td>\n",
       "      <td>-0.256150</td>\n",
       "      <td>2.254207</td>\n",
       "      <td>0.266268</td>\n",
       "      <td>1.614121</td>\n",
       "      <td>-0.930276</td>\n",
       "      <td>0.792386</td>\n",
       "      <td>-0.165225</td>\n",
       "      <td>-0.181155</td>\n",
       "    </tr>\n",
       "    <tr>\n",
       "      <th>1</th>\n",
       "      <td>0.624365</td>\n",
       "      <td>-0.856475</td>\n",
       "      <td>1.812500</td>\n",
       "      <td>3.853791</td>\n",
       "      <td>1.545160</td>\n",
       "      <td>1.577592</td>\n",
       "      <td>-0.630420</td>\n",
       "      <td>1.539794</td>\n",
       "      <td>-0.454773</td>\n",
       "      <td>-0.133957</td>\n",
       "      <td>...</td>\n",
       "      <td>-0.385694</td>\n",
       "      <td>0.387853</td>\n",
       "      <td>-2.060073</td>\n",
       "      <td>0.602858</td>\n",
       "      <td>-1.316410</td>\n",
       "      <td>0.039031</td>\n",
       "      <td>-0.838227</td>\n",
       "      <td>-0.498450</td>\n",
       "      <td>-0.493723</td>\n",
       "      <td>0.644310</td>\n",
       "    </tr>\n",
       "    <tr>\n",
       "      <th>2</th>\n",
       "      <td>-0.739651</td>\n",
       "      <td>-0.900211</td>\n",
       "      <td>-0.218763</td>\n",
       "      <td>-2.119916</td>\n",
       "      <td>0.078865</td>\n",
       "      <td>0.774697</td>\n",
       "      <td>0.594178</td>\n",
       "      <td>-1.372833</td>\n",
       "      <td>0.540636</td>\n",
       "      <td>0.369700</td>\n",
       "      <td>...</td>\n",
       "      <td>-0.440702</td>\n",
       "      <td>-0.441197</td>\n",
       "      <td>-0.728770</td>\n",
       "      <td>0.023584</td>\n",
       "      <td>0.198857</td>\n",
       "      <td>2.329048</td>\n",
       "      <td>-1.017913</td>\n",
       "      <td>0.421999</td>\n",
       "      <td>-0.306413</td>\n",
       "      <td>-3.178852</td>\n",
       "    </tr>\n",
       "    <tr>\n",
       "      <th>3</th>\n",
       "      <td>-1.150214</td>\n",
       "      <td>0.104550</td>\n",
       "      <td>0.831135</td>\n",
       "      <td>-1.587962</td>\n",
       "      <td>0.561284</td>\n",
       "      <td>1.843229</td>\n",
       "      <td>-0.079391</td>\n",
       "      <td>-0.470809</td>\n",
       "      <td>-1.261745</td>\n",
       "      <td>0.649292</td>\n",
       "      <td>...</td>\n",
       "      <td>0.336836</td>\n",
       "      <td>0.958072</td>\n",
       "      <td>0.995700</td>\n",
       "      <td>-1.052968</td>\n",
       "      <td>0.483324</td>\n",
       "      <td>0.947546</td>\n",
       "      <td>-0.111587</td>\n",
       "      <td>0.397632</td>\n",
       "      <td>1.120272</td>\n",
       "      <td>-1.024103</td>\n",
       "    </tr>\n",
       "    <tr>\n",
       "      <th>4</th>\n",
       "      <td>-0.679073</td>\n",
       "      <td>1.489343</td>\n",
       "      <td>-0.279702</td>\n",
       "      <td>-0.686224</td>\n",
       "      <td>-1.054515</td>\n",
       "      <td>-1.530961</td>\n",
       "      <td>1.328141</td>\n",
       "      <td>-0.554712</td>\n",
       "      <td>0.275162</td>\n",
       "      <td>2.742404</td>\n",
       "      <td>...</td>\n",
       "      <td>-3.163155</td>\n",
       "      <td>1.160091</td>\n",
       "      <td>-0.162135</td>\n",
       "      <td>0.649252</td>\n",
       "      <td>-0.817981</td>\n",
       "      <td>1.347303</td>\n",
       "      <td>-1.288229</td>\n",
       "      <td>-1.850291</td>\n",
       "      <td>-1.397824</td>\n",
       "      <td>-0.267791</td>\n",
       "    </tr>\n",
       "    <tr>\n",
       "      <th>...</th>\n",
       "      <td>...</td>\n",
       "      <td>...</td>\n",
       "      <td>...</td>\n",
       "      <td>...</td>\n",
       "      <td>...</td>\n",
       "      <td>...</td>\n",
       "      <td>...</td>\n",
       "      <td>...</td>\n",
       "      <td>...</td>\n",
       "      <td>...</td>\n",
       "      <td>...</td>\n",
       "      <td>...</td>\n",
       "      <td>...</td>\n",
       "      <td>...</td>\n",
       "      <td>...</td>\n",
       "      <td>...</td>\n",
       "      <td>...</td>\n",
       "      <td>...</td>\n",
       "      <td>...</td>\n",
       "      <td>...</td>\n",
       "      <td>...</td>\n",
       "    </tr>\n",
       "    <tr>\n",
       "      <th>1177</th>\n",
       "      <td>-0.306730</td>\n",
       "      <td>1.513517</td>\n",
       "      <td>1.622684</td>\n",
       "      <td>0.731483</td>\n",
       "      <td>0.302952</td>\n",
       "      <td>-0.369632</td>\n",
       "      <td>-0.562101</td>\n",
       "      <td>-0.762265</td>\n",
       "      <td>-2.161850</td>\n",
       "      <td>0.854198</td>\n",
       "      <td>...</td>\n",
       "      <td>-2.705963</td>\n",
       "      <td>1.388660</td>\n",
       "      <td>-2.712725</td>\n",
       "      <td>0.312156</td>\n",
       "      <td>-0.031898</td>\n",
       "      <td>1.146804</td>\n",
       "      <td>-0.238973</td>\n",
       "      <td>0.094065</td>\n",
       "      <td>-2.185262</td>\n",
       "      <td>0.860701</td>\n",
       "    </tr>\n",
       "    <tr>\n",
       "      <th>1178</th>\n",
       "      <td>0.563493</td>\n",
       "      <td>1.080676</td>\n",
       "      <td>0.604600</td>\n",
       "      <td>-0.439831</td>\n",
       "      <td>-0.808392</td>\n",
       "      <td>-0.474562</td>\n",
       "      <td>0.251688</td>\n",
       "      <td>-1.055475</td>\n",
       "      <td>0.348518</td>\n",
       "      <td>-0.029932</td>\n",
       "      <td>...</td>\n",
       "      <td>-1.288378</td>\n",
       "      <td>-1.810156</td>\n",
       "      <td>-1.255196</td>\n",
       "      <td>-2.229214</td>\n",
       "      <td>0.385778</td>\n",
       "      <td>0.907277</td>\n",
       "      <td>0.645596</td>\n",
       "      <td>0.604623</td>\n",
       "      <td>1.216950</td>\n",
       "      <td>0.245186</td>\n",
       "    </tr>\n",
       "    <tr>\n",
       "      <th>1179</th>\n",
       "      <td>0.782047</td>\n",
       "      <td>-0.158924</td>\n",
       "      <td>-0.193099</td>\n",
       "      <td>-0.733030</td>\n",
       "      <td>-1.594171</td>\n",
       "      <td>-0.800618</td>\n",
       "      <td>0.342689</td>\n",
       "      <td>0.552608</td>\n",
       "      <td>-0.011547</td>\n",
       "      <td>0.898412</td>\n",
       "      <td>...</td>\n",
       "      <td>0.574698</td>\n",
       "      <td>0.661980</td>\n",
       "      <td>2.110627</td>\n",
       "      <td>-3.017736</td>\n",
       "      <td>-0.330831</td>\n",
       "      <td>0.434509</td>\n",
       "      <td>-0.136622</td>\n",
       "      <td>-0.298262</td>\n",
       "      <td>0.415561</td>\n",
       "      <td>-0.049384</td>\n",
       "    </tr>\n",
       "    <tr>\n",
       "      <th>1180</th>\n",
       "      <td>-0.838372</td>\n",
       "      <td>-1.508401</td>\n",
       "      <td>0.354411</td>\n",
       "      <td>-1.605695</td>\n",
       "      <td>-1.467359</td>\n",
       "      <td>-0.746987</td>\n",
       "      <td>0.976520</td>\n",
       "      <td>-0.301953</td>\n",
       "      <td>0.054094</td>\n",
       "      <td>0.274139</td>\n",
       "      <td>...</td>\n",
       "      <td>-1.808861</td>\n",
       "      <td>1.590266</td>\n",
       "      <td>-0.841243</td>\n",
       "      <td>-2.182145</td>\n",
       "      <td>1.634326</td>\n",
       "      <td>0.483876</td>\n",
       "      <td>-0.922333</td>\n",
       "      <td>0.748349</td>\n",
       "      <td>0.586837</td>\n",
       "      <td>1.316924</td>\n",
       "    </tr>\n",
       "    <tr>\n",
       "      <th>1181</th>\n",
       "      <td>-0.523598</td>\n",
       "      <td>0.171893</td>\n",
       "      <td>1.238906</td>\n",
       "      <td>2.190435</td>\n",
       "      <td>0.616642</td>\n",
       "      <td>2.134422</td>\n",
       "      <td>0.274659</td>\n",
       "      <td>1.203137</td>\n",
       "      <td>-1.472649</td>\n",
       "      <td>0.506647</td>\n",
       "      <td>...</td>\n",
       "      <td>-1.356638</td>\n",
       "      <td>1.758634</td>\n",
       "      <td>-1.032253</td>\n",
       "      <td>-0.457130</td>\n",
       "      <td>0.586473</td>\n",
       "      <td>0.859901</td>\n",
       "      <td>-0.343508</td>\n",
       "      <td>2.008562</td>\n",
       "      <td>-2.427112</td>\n",
       "      <td>-0.511617</td>\n",
       "    </tr>\n",
       "  </tbody>\n",
       "</table>\n",
       "<p>1182 rows × 300 columns</p>\n",
       "</div>"
      ],
      "text/plain": [
       "         dim_1     dim_2     dim_3     dim_4     dim_5     dim_6     dim_7  \\\n",
       "0    -0.168732 -0.535160 -0.774182  0.896732  1.091631  0.743279 -1.850015   \n",
       "1     0.624365 -0.856475  1.812500  3.853791  1.545160  1.577592 -0.630420   \n",
       "2    -0.739651 -0.900211 -0.218763 -2.119916  0.078865  0.774697  0.594178   \n",
       "3    -1.150214  0.104550  0.831135 -1.587962  0.561284  1.843229 -0.079391   \n",
       "4    -0.679073  1.489343 -0.279702 -0.686224 -1.054515 -1.530961  1.328141   \n",
       "...        ...       ...       ...       ...       ...       ...       ...   \n",
       "1177 -0.306730  1.513517  1.622684  0.731483  0.302952 -0.369632 -0.562101   \n",
       "1178  0.563493  1.080676  0.604600 -0.439831 -0.808392 -0.474562  0.251688   \n",
       "1179  0.782047 -0.158924 -0.193099 -0.733030 -1.594171 -0.800618  0.342689   \n",
       "1180 -0.838372 -1.508401  0.354411 -1.605695 -1.467359 -0.746987  0.976520   \n",
       "1181 -0.523598  0.171893  1.238906  2.190435  0.616642  2.134422  0.274659   \n",
       "\n",
       "         dim_8     dim_9    dim_10  ...   dim_291   dim_292   dim_293  \\\n",
       "0     0.061106 -0.901268 -0.952144  ...  0.340636 -2.249122 -0.256150   \n",
       "1     1.539794 -0.454773 -0.133957  ... -0.385694  0.387853 -2.060073   \n",
       "2    -1.372833  0.540636  0.369700  ... -0.440702 -0.441197 -0.728770   \n",
       "3    -0.470809 -1.261745  0.649292  ...  0.336836  0.958072  0.995700   \n",
       "4    -0.554712  0.275162  2.742404  ... -3.163155  1.160091 -0.162135   \n",
       "...        ...       ...       ...  ...       ...       ...       ...   \n",
       "1177 -0.762265 -2.161850  0.854198  ... -2.705963  1.388660 -2.712725   \n",
       "1178 -1.055475  0.348518 -0.029932  ... -1.288378 -1.810156 -1.255196   \n",
       "1179  0.552608 -0.011547  0.898412  ...  0.574698  0.661980  2.110627   \n",
       "1180 -0.301953  0.054094  0.274139  ... -1.808861  1.590266 -0.841243   \n",
       "1181  1.203137 -1.472649  0.506647  ... -1.356638  1.758634 -1.032253   \n",
       "\n",
       "       dim_294   dim_295   dim_296   dim_297   dim_298   dim_299   dim_300  \n",
       "0     2.254207  0.266268  1.614121 -0.930276  0.792386 -0.165225 -0.181155  \n",
       "1     0.602858 -1.316410  0.039031 -0.838227 -0.498450 -0.493723  0.644310  \n",
       "2     0.023584  0.198857  2.329048 -1.017913  0.421999 -0.306413 -3.178852  \n",
       "3    -1.052968  0.483324  0.947546 -0.111587  0.397632  1.120272 -1.024103  \n",
       "4     0.649252 -0.817981  1.347303 -1.288229 -1.850291 -1.397824 -0.267791  \n",
       "...        ...       ...       ...       ...       ...       ...       ...  \n",
       "1177  0.312156 -0.031898  1.146804 -0.238973  0.094065 -2.185262  0.860701  \n",
       "1178 -2.229214  0.385778  0.907277  0.645596  0.604623  1.216950  0.245186  \n",
       "1179 -3.017736 -0.330831  0.434509 -0.136622 -0.298262  0.415561 -0.049384  \n",
       "1180 -2.182145  1.634326  0.483876 -0.922333  0.748349  0.586837  1.316924  \n",
       "1181 -0.457130  0.586473  0.859901 -0.343508  2.008562 -2.427112 -0.511617  \n",
       "\n",
       "[1182 rows x 300 columns]"
      ]
     },
     "execution_count": 8,
     "metadata": {},
     "output_type": "execute_result"
    }
   ],
   "source": [
    "# Remove columns 0, 1, and 2 to create only dimension columns matrix\n",
    "df_dim = df.drop(['index', 'Date'], axis=1)\n",
    "df_dim"
   ]
  },
  {
   "cell_type": "code",
   "execution_count": 9,
   "metadata": {},
   "outputs": [],
   "source": [
    "# Load the UMAP model\n",
    "umap = UMAP(n_components=2, random_state=42)\n",
    "\n",
    "#ABOUT THE MODEL\n",
    "# n_components parameter set to 2 to reduce the above dimensionality to 2 in order to get a 2-D plot.\n",
    "# the random_state parameter allows you to control the randomness in code and ensure reproducibility to facilitate comparision\n"
   ]
  },
  {
   "cell_type": "code",
   "execution_count": 10,
   "metadata": {},
   "outputs": [
    {
     "data": {
      "text/html": [
       "<div>\n",
       "<style scoped>\n",
       "    .dataframe tbody tr th:only-of-type {\n",
       "        vertical-align: middle;\n",
       "    }\n",
       "\n",
       "    .dataframe tbody tr th {\n",
       "        vertical-align: top;\n",
       "    }\n",
       "\n",
       "    .dataframe thead th {\n",
       "        text-align: right;\n",
       "    }\n",
       "</style>\n",
       "<table border=\"1\" class=\"dataframe\">\n",
       "  <thead>\n",
       "    <tr style=\"text-align: right;\">\n",
       "      <th></th>\n",
       "      <th>x</th>\n",
       "      <th>y</th>\n",
       "    </tr>\n",
       "  </thead>\n",
       "  <tbody>\n",
       "    <tr>\n",
       "      <th>0</th>\n",
       "      <td>8.956005</td>\n",
       "      <td>-0.008676</td>\n",
       "    </tr>\n",
       "    <tr>\n",
       "      <th>1</th>\n",
       "      <td>10.159348</td>\n",
       "      <td>0.235317</td>\n",
       "    </tr>\n",
       "    <tr>\n",
       "      <th>2</th>\n",
       "      <td>11.064923</td>\n",
       "      <td>0.590251</td>\n",
       "    </tr>\n",
       "    <tr>\n",
       "      <th>3</th>\n",
       "      <td>8.596931</td>\n",
       "      <td>1.892679</td>\n",
       "    </tr>\n",
       "    <tr>\n",
       "      <th>4</th>\n",
       "      <td>11.338701</td>\n",
       "      <td>0.576731</td>\n",
       "    </tr>\n",
       "    <tr>\n",
       "      <th>...</th>\n",
       "      <td>...</td>\n",
       "      <td>...</td>\n",
       "    </tr>\n",
       "    <tr>\n",
       "      <th>1177</th>\n",
       "      <td>10.564022</td>\n",
       "      <td>0.840843</td>\n",
       "    </tr>\n",
       "    <tr>\n",
       "      <th>1178</th>\n",
       "      <td>10.881078</td>\n",
       "      <td>1.084923</td>\n",
       "    </tr>\n",
       "    <tr>\n",
       "      <th>1179</th>\n",
       "      <td>10.161785</td>\n",
       "      <td>0.746135</td>\n",
       "    </tr>\n",
       "    <tr>\n",
       "      <th>1180</th>\n",
       "      <td>10.931475</td>\n",
       "      <td>1.289920</td>\n",
       "    </tr>\n",
       "    <tr>\n",
       "      <th>1181</th>\n",
       "      <td>10.764289</td>\n",
       "      <td>1.108396</td>\n",
       "    </tr>\n",
       "  </tbody>\n",
       "</table>\n",
       "<p>1182 rows × 2 columns</p>\n",
       "</div>"
      ],
      "text/plain": [
       "              x         y\n",
       "0      8.956005 -0.008676\n",
       "1     10.159348  0.235317\n",
       "2     11.064923  0.590251\n",
       "3      8.596931  1.892679\n",
       "4     11.338701  0.576731\n",
       "...         ...       ...\n",
       "1177  10.564022  0.840843\n",
       "1178  10.881078  1.084923\n",
       "1179  10.161785  0.746135\n",
       "1180  10.931475  1.289920\n",
       "1181  10.764289  1.108396\n",
       "\n",
       "[1182 rows x 2 columns]"
      ]
     },
     "execution_count": 10,
     "metadata": {},
     "output_type": "execute_result"
    }
   ],
   "source": [
    "# create a new dataframe and Apply the UMAP model to the dimension columns matrix\n",
    "df_umap = pd.DataFrame(umap.fit_transform(df_dim), columns=['x', 'y'])\n",
    "df_umap"
   ]
  },
  {
   "cell_type": "code",
   "execution_count": 11,
   "metadata": {},
   "outputs": [],
   "source": [
    "# Plot the UMAP model\n",
    "import matplotlib.pyplot as plt"
   ]
  },
  {
   "cell_type": "code",
   "execution_count": 12,
   "metadata": {},
   "outputs": [
    {
     "data": {
      "image/png": "[encoded data removed]",
      "text/plain": [
       "<Figure size 640x480 with 1 Axes>"
      ]
     },
     "metadata": {},
     "output_type": "display_data"
    }
   ],
   "source": [
    "# Plot the UMAP model\n",
    "plt.scatter(df_umap['x'], df_umap['y'], s=5, alpha=0.5)\n",
    "plt.show()"
   ]
  },
  {
   "cell_type": "code",
   "execution_count": 13,
   "metadata": {},
   "outputs": [],
   "source": [
    "# Embed the date column into the UMAP model, create a new dataframe\n",
    "df_dim_date = pd.concat([df_umap, df['Date']], axis=1)\n",
    "# Only keep the year in the date column, date is in string, in lambda function, convert it to datetime, and then extract the year\n",
    "df_dim_date['Date'] = df_dim_date['Date'].apply(lambda x: pd.to_datetime(x).year)"
   ]
  },
  {
   "cell_type": "code",
   "execution_count": 14,
   "metadata": {},
   "outputs": [
    {
     "data": {
      "text/html": [
       "<div>\n",
       "<style scoped>\n",
       "    .dataframe tbody tr th:only-of-type {\n",
       "        vertical-align: middle;\n",
       "    }\n",
       "\n",
       "    .dataframe tbody tr th {\n",
       "        vertical-align: top;\n",
       "    }\n",
       "\n",
       "    .dataframe thead th {\n",
       "        text-align: right;\n",
       "    }\n",
       "</style>\n",
       "<table border=\"1\" class=\"dataframe\">\n",
       "  <thead>\n",
       "    <tr style=\"text-align: right;\">\n",
       "      <th></th>\n",
       "      <th>x</th>\n",
       "      <th>y</th>\n",
       "      <th>Date</th>\n",
       "    </tr>\n",
       "  </thead>\n",
       "  <tbody>\n",
       "    <tr>\n",
       "      <th>0</th>\n",
       "      <td>8.956005</td>\n",
       "      <td>-0.008676</td>\n",
       "      <td>2017</td>\n",
       "    </tr>\n",
       "    <tr>\n",
       "      <th>1</th>\n",
       "      <td>10.159348</td>\n",
       "      <td>0.235317</td>\n",
       "      <td>2017</td>\n",
       "    </tr>\n",
       "    <tr>\n",
       "      <th>2</th>\n",
       "      <td>11.064923</td>\n",
       "      <td>0.590251</td>\n",
       "      <td>2017</td>\n",
       "    </tr>\n",
       "    <tr>\n",
       "      <th>3</th>\n",
       "      <td>8.596931</td>\n",
       "      <td>1.892679</td>\n",
       "      <td>2017</td>\n",
       "    </tr>\n",
       "    <tr>\n",
       "      <th>4</th>\n",
       "      <td>11.338701</td>\n",
       "      <td>0.576731</td>\n",
       "      <td>2017</td>\n",
       "    </tr>\n",
       "    <tr>\n",
       "      <th>...</th>\n",
       "      <td>...</td>\n",
       "      <td>...</td>\n",
       "      <td>...</td>\n",
       "    </tr>\n",
       "    <tr>\n",
       "      <th>1177</th>\n",
       "      <td>10.564022</td>\n",
       "      <td>0.840843</td>\n",
       "      <td>2023</td>\n",
       "    </tr>\n",
       "    <tr>\n",
       "      <th>1178</th>\n",
       "      <td>10.881078</td>\n",
       "      <td>1.084923</td>\n",
       "      <td>2023</td>\n",
       "    </tr>\n",
       "    <tr>\n",
       "      <th>1179</th>\n",
       "      <td>10.161785</td>\n",
       "      <td>0.746135</td>\n",
       "      <td>2023</td>\n",
       "    </tr>\n",
       "    <tr>\n",
       "      <th>1180</th>\n",
       "      <td>10.931475</td>\n",
       "      <td>1.289920</td>\n",
       "      <td>2023</td>\n",
       "    </tr>\n",
       "    <tr>\n",
       "      <th>1181</th>\n",
       "      <td>10.764289</td>\n",
       "      <td>1.108396</td>\n",
       "      <td>2023</td>\n",
       "    </tr>\n",
       "  </tbody>\n",
       "</table>\n",
       "<p>1182 rows × 3 columns</p>\n",
       "</div>"
      ],
      "text/plain": [
       "              x         y  Date\n",
       "0      8.956005 -0.008676  2017\n",
       "1     10.159348  0.235317  2017\n",
       "2     11.064923  0.590251  2017\n",
       "3      8.596931  1.892679  2017\n",
       "4     11.338701  0.576731  2017\n",
       "...         ...       ...   ...\n",
       "1177  10.564022  0.840843  2023\n",
       "1178  10.881078  1.084923  2023\n",
       "1179  10.161785  0.746135  2023\n",
       "1180  10.931475  1.289920  2023\n",
       "1181  10.764289  1.108396  2023\n",
       "\n",
       "[1182 rows x 3 columns]"
      ]
     },
     "execution_count": 14,
     "metadata": {},
     "output_type": "execute_result"
    }
   ],
   "source": [
    "df_dim_date"
   ]
  },
  {
   "cell_type": "code",
   "execution_count": 15,
   "metadata": {},
   "outputs": [],
   "source": [
    "# Delete the entry with year nan\n",
    "df_dim_date = df_dim_date[df_dim_date['Date'] != 'nan']"
   ]
  },
  {
   "cell_type": "code",
   "execution_count": 16,
   "metadata": {},
   "outputs": [
    {
     "data": {
      "text/plain": [
       "array([2017, 2018, 2019, 2020, 2021, 2022, 2023], dtype=int64)"
      ]
     },
     "execution_count": 16,
     "metadata": {},
     "output_type": "execute_result"
    }
   ],
   "source": [
    "# Print unique years\n",
    "df_dim_date['Date'].unique()"
   ]
  },
  {
   "cell_type": "code",
   "execution_count": 19,
   "metadata": {},
   "outputs": [
    {
     "data": {
      "image/png": "[encoded data removed]",
      "text/plain": [
       "<Figure size 640x480 with 1 Axes>"
      ]
     },
     "metadata": {},
     "output_type": "display_data"
    },
    {
     "data": {
      "image/png": "[encoded data removed]",
      "text/plain": [
       "<Figure size 640x480 with 1 Axes>"
      ]
     },
     "metadata": {},
     "output_type": "display_data"
    },
    {
     "data": {
      "image/png": "[encoded data removed]",
      "text/plain": [
       "<Figure size 640x480 with 1 Axes>"
      ]
     },
     "metadata": {},
     "output_type": "display_data"
    },
    {
     "ename": "KeyboardInterrupt",
     "evalue": "",
     "output_type": "error",
     "traceback": [
      "\u001b[1;31m---------------------------------------------------------------------------\u001b[0m",
      "\u001b[1;31mKeyboardInterrupt\u001b[0m                         Traceback (most recent call last)",
      "Cell \u001b[1;32mIn[19], line 7\u001b[0m\n\u001b[0;32m      3\u001b[0m plt\u001b[39m.\u001b[39mscatter(df_dim_date[df_dim_date[\u001b[39m'\u001b[39m\u001b[39mDate\u001b[39m\u001b[39m'\u001b[39m] \u001b[39m==\u001b[39m year][\u001b[39m'\u001b[39m\u001b[39mx\u001b[39m\u001b[39m'\u001b[39m],\n\u001b[0;32m      4\u001b[0m             df_dim_date[df_dim_date[\u001b[39m'\u001b[39m\u001b[39mDate\u001b[39m\u001b[39m'\u001b[39m] \u001b[39m==\u001b[39m year][\u001b[39m'\u001b[39m\u001b[39my\u001b[39m\u001b[39m'\u001b[39m],\n\u001b[0;32m      5\u001b[0m             s\u001b[39m=\u001b[39m\u001b[39m5\u001b[39m, alpha\u001b[39m=\u001b[39m\u001b[39m0.5\u001b[39m)\n\u001b[0;32m      6\u001b[0m plt\u001b[39m.\u001b[39mtitle(year)\n\u001b[1;32m----> 7\u001b[0m plt\u001b[39m.\u001b[39;49mshow()\n",
      "File \u001b[1;32m~\\AppData\\Roaming\\Python\\Python311\\site-packages\\matplotlib\\pyplot.py:446\u001b[0m, in \u001b[0;36mshow\u001b[1;34m(*args, **kwargs)\u001b[0m\n\u001b[0;32m    402\u001b[0m \u001b[39m\u001b[39m\u001b[39m\"\"\"\u001b[39;00m\n\u001b[0;32m    403\u001b[0m \u001b[39mDisplay all open figures.\u001b[39;00m\n\u001b[0;32m    404\u001b[0m \n\u001b[1;32m   (...)\u001b[0m\n\u001b[0;32m    443\u001b[0m \u001b[39mexplicitly there.\u001b[39;00m\n\u001b[0;32m    444\u001b[0m \u001b[39m\"\"\"\u001b[39;00m\n\u001b[0;32m    445\u001b[0m _warn_if_gui_out_of_main_thread()\n\u001b[1;32m--> 446\u001b[0m \u001b[39mreturn\u001b[39;00m _get_backend_mod()\u001b[39m.\u001b[39;49mshow(\u001b[39m*\u001b[39;49margs, \u001b[39m*\u001b[39;49m\u001b[39m*\u001b[39;49mkwargs)\n",
      "File \u001b[1;32m~\\AppData\\Roaming\\Python\\Python311\\site-packages\\matplotlib_inline\\backend_inline.py:90\u001b[0m, in \u001b[0;36mshow\u001b[1;34m(close, block)\u001b[0m\n\u001b[0;32m     88\u001b[0m \u001b[39mtry\u001b[39;00m:\n\u001b[0;32m     89\u001b[0m     \u001b[39mfor\u001b[39;00m figure_manager \u001b[39min\u001b[39;00m Gcf\u001b[39m.\u001b[39mget_all_fig_managers():\n\u001b[1;32m---> 90\u001b[0m         display(\n\u001b[0;32m     91\u001b[0m             figure_manager\u001b[39m.\u001b[39;49mcanvas\u001b[39m.\u001b[39;49mfigure,\n\u001b[0;32m     92\u001b[0m             metadata\u001b[39m=\u001b[39;49m_fetch_figure_metadata(figure_manager\u001b[39m.\u001b[39;49mcanvas\u001b[39m.\u001b[39;49mfigure)\n\u001b[0;32m     93\u001b[0m         )\n\u001b[0;32m     94\u001b[0m \u001b[39mfinally\u001b[39;00m:\n\u001b[0;32m     95\u001b[0m     show\u001b[39m.\u001b[39m_to_draw \u001b[39m=\u001b[39m []\n",
      "File \u001b[1;32m~\\AppData\\Roaming\\Python\\Python311\\site-packages\\IPython\\core\\display_functions.py:298\u001b[0m, in \u001b[0;36mdisplay\u001b[1;34m(include, exclude, metadata, transient, display_id, raw, clear, *objs, **kwargs)\u001b[0m\n\u001b[0;32m    296\u001b[0m     publish_display_data(data\u001b[39m=\u001b[39mobj, metadata\u001b[39m=\u001b[39mmetadata, \u001b[39m*\u001b[39m\u001b[39m*\u001b[39mkwargs)\n\u001b[0;32m    297\u001b[0m \u001b[39melse\u001b[39;00m:\n\u001b[1;32m--> 298\u001b[0m     format_dict, md_dict \u001b[39m=\u001b[39m \u001b[39mformat\u001b[39;49m(obj, include\u001b[39m=\u001b[39;49minclude, exclude\u001b[39m=\u001b[39;49mexclude)\n\u001b[0;32m    299\u001b[0m     \u001b[39mif\u001b[39;00m \u001b[39mnot\u001b[39;00m format_dict:\n\u001b[0;32m    300\u001b[0m         \u001b[39m# nothing to display (e.g. _ipython_display_ took over)\u001b[39;00m\n\u001b[0;32m    301\u001b[0m         \u001b[39mcontinue\u001b[39;00m\n",
      "File \u001b[1;32m~\\AppData\\Roaming\\Python\\Python311\\site-packages\\IPython\\core\\formatters.py:177\u001b[0m, in \u001b[0;36mDisplayFormatter.format\u001b[1;34m(self, obj, include, exclude)\u001b[0m\n\u001b[0;32m    175\u001b[0m md \u001b[39m=\u001b[39m \u001b[39mNone\u001b[39;00m\n\u001b[0;32m    176\u001b[0m \u001b[39mtry\u001b[39;00m:\n\u001b[1;32m--> 177\u001b[0m     data \u001b[39m=\u001b[39m formatter(obj)\n\u001b[0;32m    178\u001b[0m \u001b[39mexcept\u001b[39;00m:\n\u001b[0;32m    179\u001b[0m     \u001b[39m# FIXME: log the exception\u001b[39;00m\n\u001b[0;32m    180\u001b[0m     \u001b[39mraise\u001b[39;00m\n",
      "File \u001b[1;32m~\\AppData\\Roaming\\Python\\Python311\\site-packages\\decorator.py:232\u001b[0m, in \u001b[0;36mdecorate.<locals>.fun\u001b[1;34m(*args, **kw)\u001b[0m\n\u001b[0;32m    230\u001b[0m \u001b[39mif\u001b[39;00m \u001b[39mnot\u001b[39;00m kwsyntax:\n\u001b[0;32m    231\u001b[0m     args, kw \u001b[39m=\u001b[39m fix(args, kw, sig)\n\u001b[1;32m--> 232\u001b[0m \u001b[39mreturn\u001b[39;00m caller(func, \u001b[39m*\u001b[39;49m(extras \u001b[39m+\u001b[39;49m args), \u001b[39m*\u001b[39;49m\u001b[39m*\u001b[39;49mkw)\n",
      "File \u001b[1;32m~\\AppData\\Roaming\\Python\\Python311\\site-packages\\IPython\\core\\formatters.py:221\u001b[0m, in \u001b[0;36mcatch_format_error\u001b[1;34m(method, self, *args, **kwargs)\u001b[0m\n\u001b[0;32m    219\u001b[0m \u001b[39m\u001b[39m\u001b[39m\"\"\"show traceback on failed format call\"\"\"\u001b[39;00m\n\u001b[0;32m    220\u001b[0m \u001b[39mtry\u001b[39;00m:\n\u001b[1;32m--> 221\u001b[0m     r \u001b[39m=\u001b[39m method(\u001b[39mself\u001b[39;49m, \u001b[39m*\u001b[39;49margs, \u001b[39m*\u001b[39;49m\u001b[39m*\u001b[39;49mkwargs)\n\u001b[0;32m    222\u001b[0m \u001b[39mexcept\u001b[39;00m \u001b[39mNotImplementedError\u001b[39;00m:\n\u001b[0;32m    223\u001b[0m     \u001b[39m# don't warn on NotImplementedErrors\u001b[39;00m\n\u001b[0;32m    224\u001b[0m     \u001b[39mreturn\u001b[39;00m \u001b[39mself\u001b[39m\u001b[39m.\u001b[39m_check_return(\u001b[39mNone\u001b[39;00m, args[\u001b[39m0\u001b[39m])\n",
      "File \u001b[1;32m~\\AppData\\Roaming\\Python\\Python311\\site-packages\\IPython\\core\\formatters.py:338\u001b[0m, in \u001b[0;36mBaseFormatter.__call__\u001b[1;34m(self, obj)\u001b[0m\n\u001b[0;32m    336\u001b[0m     \u001b[39mpass\u001b[39;00m\n\u001b[0;32m    337\u001b[0m \u001b[39melse\u001b[39;00m:\n\u001b[1;32m--> 338\u001b[0m     \u001b[39mreturn\u001b[39;00m printer(obj)\n\u001b[0;32m    339\u001b[0m \u001b[39m# Finally look for special method names\u001b[39;00m\n\u001b[0;32m    340\u001b[0m method \u001b[39m=\u001b[39m get_real_method(obj, \u001b[39mself\u001b[39m\u001b[39m.\u001b[39mprint_method)\n",
      "File \u001b[1;32m~\\AppData\\Roaming\\Python\\Python311\\site-packages\\IPython\\core\\pylabtools.py:152\u001b[0m, in \u001b[0;36mprint_figure\u001b[1;34m(fig, fmt, bbox_inches, base64, **kwargs)\u001b[0m\n\u001b[0;32m    149\u001b[0m     \u001b[39mfrom\u001b[39;00m \u001b[39mmatplotlib\u001b[39;00m\u001b[39m.\u001b[39;00m\u001b[39mbackend_bases\u001b[39;00m \u001b[39mimport\u001b[39;00m FigureCanvasBase\n\u001b[0;32m    150\u001b[0m     FigureCanvasBase(fig)\n\u001b[1;32m--> 152\u001b[0m fig\u001b[39m.\u001b[39;49mcanvas\u001b[39m.\u001b[39;49mprint_figure(bytes_io, \u001b[39m*\u001b[39;49m\u001b[39m*\u001b[39;49mkw)\n\u001b[0;32m    153\u001b[0m data \u001b[39m=\u001b[39m bytes_io\u001b[39m.\u001b[39mgetvalue()\n\u001b[0;32m    154\u001b[0m \u001b[39mif\u001b[39;00m fmt \u001b[39m==\u001b[39m \u001b[39m'\u001b[39m\u001b[39msvg\u001b[39m\u001b[39m'\u001b[39m:\n",
      "File \u001b[1;32m~\\AppData\\Roaming\\Python\\Python311\\site-packages\\matplotlib\\backend_bases.py:2342\u001b[0m, in \u001b[0;36mFigureCanvasBase.print_figure\u001b[1;34m(self, filename, dpi, facecolor, edgecolor, orientation, format, bbox_inches, pad_inches, bbox_extra_artists, backend, **kwargs)\u001b[0m\n\u001b[0;32m   2336\u001b[0m     renderer \u001b[39m=\u001b[39m _get_renderer(\n\u001b[0;32m   2337\u001b[0m         \u001b[39mself\u001b[39m\u001b[39m.\u001b[39mfigure,\n\u001b[0;32m   2338\u001b[0m         functools\u001b[39m.\u001b[39mpartial(\n\u001b[0;32m   2339\u001b[0m             print_method, orientation\u001b[39m=\u001b[39morientation)\n\u001b[0;32m   2340\u001b[0m     )\n\u001b[0;32m   2341\u001b[0m     \u001b[39mwith\u001b[39;00m \u001b[39mgetattr\u001b[39m(renderer, \u001b[39m\"\u001b[39m\u001b[39m_draw_disabled\u001b[39m\u001b[39m\"\u001b[39m, nullcontext)():\n\u001b[1;32m-> 2342\u001b[0m         \u001b[39mself\u001b[39;49m\u001b[39m.\u001b[39;49mfigure\u001b[39m.\u001b[39;49mdraw(renderer)\n\u001b[0;32m   2344\u001b[0m \u001b[39mif\u001b[39;00m bbox_inches:\n\u001b[0;32m   2345\u001b[0m     \u001b[39mif\u001b[39;00m bbox_inches \u001b[39m==\u001b[39m \u001b[39m\"\u001b[39m\u001b[39mtight\u001b[39m\u001b[39m\"\u001b[39m:\n",
      "File \u001b[1;32m~\\AppData\\Roaming\\Python\\Python311\\site-packages\\matplotlib\\artist.py:95\u001b[0m, in \u001b[0;36m_finalize_rasterization.<locals>.draw_wrapper\u001b[1;34m(artist, renderer, *args, **kwargs)\u001b[0m\n\u001b[0;32m     93\u001b[0m \u001b[39m@wraps\u001b[39m(draw)\n\u001b[0;32m     94\u001b[0m \u001b[39mdef\u001b[39;00m \u001b[39mdraw_wrapper\u001b[39m(artist, renderer, \u001b[39m*\u001b[39margs, \u001b[39m*\u001b[39m\u001b[39m*\u001b[39mkwargs):\n\u001b[1;32m---> 95\u001b[0m     result \u001b[39m=\u001b[39m draw(artist, renderer, \u001b[39m*\u001b[39;49margs, \u001b[39m*\u001b[39;49m\u001b[39m*\u001b[39;49mkwargs)\n\u001b[0;32m     96\u001b[0m     \u001b[39mif\u001b[39;00m renderer\u001b[39m.\u001b[39m_rasterizing:\n\u001b[0;32m     97\u001b[0m         renderer\u001b[39m.\u001b[39mstop_rasterizing()\n",
      "File \u001b[1;32m~\\AppData\\Roaming\\Python\\Python311\\site-packages\\matplotlib\\artist.py:72\u001b[0m, in \u001b[0;36mallow_rasterization.<locals>.draw_wrapper\u001b[1;34m(artist, renderer)\u001b[0m\n\u001b[0;32m     69\u001b[0m     \u001b[39mif\u001b[39;00m artist\u001b[39m.\u001b[39mget_agg_filter() \u001b[39mis\u001b[39;00m \u001b[39mnot\u001b[39;00m \u001b[39mNone\u001b[39;00m:\n\u001b[0;32m     70\u001b[0m         renderer\u001b[39m.\u001b[39mstart_filter()\n\u001b[1;32m---> 72\u001b[0m     \u001b[39mreturn\u001b[39;00m draw(artist, renderer)\n\u001b[0;32m     73\u001b[0m \u001b[39mfinally\u001b[39;00m:\n\u001b[0;32m     74\u001b[0m     \u001b[39mif\u001b[39;00m artist\u001b[39m.\u001b[39mget_agg_filter() \u001b[39mis\u001b[39;00m \u001b[39mnot\u001b[39;00m \u001b[39mNone\u001b[39;00m:\n",
      "File \u001b[1;32m~\\AppData\\Roaming\\Python\\Python311\\site-packages\\matplotlib\\figure.py:3140\u001b[0m, in \u001b[0;36mFigure.draw\u001b[1;34m(self, renderer)\u001b[0m\n\u001b[0;32m   3137\u001b[0m         \u001b[39m# ValueError can occur when resizing a window.\u001b[39;00m\n\u001b[0;32m   3139\u001b[0m \u001b[39mself\u001b[39m\u001b[39m.\u001b[39mpatch\u001b[39m.\u001b[39mdraw(renderer)\n\u001b[1;32m-> 3140\u001b[0m mimage\u001b[39m.\u001b[39;49m_draw_list_compositing_images(\n\u001b[0;32m   3141\u001b[0m     renderer, \u001b[39mself\u001b[39;49m, artists, \u001b[39mself\u001b[39;49m\u001b[39m.\u001b[39;49msuppressComposite)\n\u001b[0;32m   3143\u001b[0m \u001b[39mfor\u001b[39;00m sfig \u001b[39min\u001b[39;00m \u001b[39mself\u001b[39m\u001b[39m.\u001b[39msubfigs:\n\u001b[0;32m   3144\u001b[0m     sfig\u001b[39m.\u001b[39mdraw(renderer)\n",
      "File \u001b[1;32m~\\AppData\\Roaming\\Python\\Python311\\site-packages\\matplotlib\\image.py:131\u001b[0m, in \u001b[0;36m_draw_list_compositing_images\u001b[1;34m(renderer, parent, artists, suppress_composite)\u001b[0m\n\u001b[0;32m    129\u001b[0m \u001b[39mif\u001b[39;00m not_composite \u001b[39mor\u001b[39;00m \u001b[39mnot\u001b[39;00m has_images:\n\u001b[0;32m    130\u001b[0m     \u001b[39mfor\u001b[39;00m a \u001b[39min\u001b[39;00m artists:\n\u001b[1;32m--> 131\u001b[0m         a\u001b[39m.\u001b[39;49mdraw(renderer)\n\u001b[0;32m    132\u001b[0m \u001b[39melse\u001b[39;00m:\n\u001b[0;32m    133\u001b[0m     \u001b[39m# Composite any adjacent images together\u001b[39;00m\n\u001b[0;32m    134\u001b[0m     image_group \u001b[39m=\u001b[39m []\n",
      "File \u001b[1;32m~\\AppData\\Roaming\\Python\\Python311\\site-packages\\matplotlib\\artist.py:72\u001b[0m, in \u001b[0;36mallow_rasterization.<locals>.draw_wrapper\u001b[1;34m(artist, renderer)\u001b[0m\n\u001b[0;32m     69\u001b[0m     \u001b[39mif\u001b[39;00m artist\u001b[39m.\u001b[39mget_agg_filter() \u001b[39mis\u001b[39;00m \u001b[39mnot\u001b[39;00m \u001b[39mNone\u001b[39;00m:\n\u001b[0;32m     70\u001b[0m         renderer\u001b[39m.\u001b[39mstart_filter()\n\u001b[1;32m---> 72\u001b[0m     \u001b[39mreturn\u001b[39;00m draw(artist, renderer)\n\u001b[0;32m     73\u001b[0m \u001b[39mfinally\u001b[39;00m:\n\u001b[0;32m     74\u001b[0m     \u001b[39mif\u001b[39;00m artist\u001b[39m.\u001b[39mget_agg_filter() \u001b[39mis\u001b[39;00m \u001b[39mnot\u001b[39;00m \u001b[39mNone\u001b[39;00m:\n",
      "File \u001b[1;32m~\\AppData\\Roaming\\Python\\Python311\\site-packages\\matplotlib\\axes\\_base.py:3028\u001b[0m, in \u001b[0;36m_AxesBase.draw\u001b[1;34m(self, renderer)\u001b[0m\n\u001b[0;32m   3025\u001b[0m     \u001b[39mfor\u001b[39;00m spine \u001b[39min\u001b[39;00m \u001b[39mself\u001b[39m\u001b[39m.\u001b[39mspines\u001b[39m.\u001b[39mvalues():\n\u001b[0;32m   3026\u001b[0m         artists\u001b[39m.\u001b[39mremove(spine)\n\u001b[1;32m-> 3028\u001b[0m \u001b[39mself\u001b[39;49m\u001b[39m.\u001b[39;49m_update_title_position(renderer)\n\u001b[0;32m   3030\u001b[0m \u001b[39mif\u001b[39;00m \u001b[39mnot\u001b[39;00m \u001b[39mself\u001b[39m\u001b[39m.\u001b[39maxison:\n\u001b[0;32m   3031\u001b[0m     \u001b[39mfor\u001b[39;00m _axis \u001b[39min\u001b[39;00m \u001b[39mself\u001b[39m\u001b[39m.\u001b[39m_axis_map\u001b[39m.\u001b[39mvalues():\n",
      "File \u001b[1;32m~\\AppData\\Roaming\\Python\\Python311\\site-packages\\matplotlib\\axes\\_base.py:2972\u001b[0m, in \u001b[0;36m_AxesBase._update_title_position\u001b[1;34m(self, renderer)\u001b[0m\n\u001b[0;32m   2970\u001b[0m top \u001b[39m=\u001b[39m \u001b[39mmax\u001b[39m(top, bb\u001b[39m.\u001b[39mymax)\n\u001b[0;32m   2971\u001b[0m \u001b[39mif\u001b[39;00m title\u001b[39m.\u001b[39mget_text():\n\u001b[1;32m-> 2972\u001b[0m     ax\u001b[39m.\u001b[39;49myaxis\u001b[39m.\u001b[39;49mget_tightbbox(renderer)  \u001b[39m# update offsetText\u001b[39;00m\n\u001b[0;32m   2973\u001b[0m     \u001b[39mif\u001b[39;00m ax\u001b[39m.\u001b[39myaxis\u001b[39m.\u001b[39moffsetText\u001b[39m.\u001b[39mget_text():\n\u001b[0;32m   2974\u001b[0m         bb \u001b[39m=\u001b[39m ax\u001b[39m.\u001b[39myaxis\u001b[39m.\u001b[39moffsetText\u001b[39m.\u001b[39mget_tightbbox(renderer)\n",
      "File \u001b[1;32m~\\AppData\\Roaming\\Python\\Python311\\site-packages\\matplotlib\\axis.py:1323\u001b[0m, in \u001b[0;36mAxis.get_tightbbox\u001b[1;34m(self, renderer, for_layout_only)\u001b[0m\n\u001b[0;32m   1321\u001b[0m \u001b[39mif\u001b[39;00m renderer \u001b[39mis\u001b[39;00m \u001b[39mNone\u001b[39;00m:\n\u001b[0;32m   1322\u001b[0m     renderer \u001b[39m=\u001b[39m \u001b[39mself\u001b[39m\u001b[39m.\u001b[39mfigure\u001b[39m.\u001b[39m_get_renderer()\n\u001b[1;32m-> 1323\u001b[0m ticks_to_draw \u001b[39m=\u001b[39m \u001b[39mself\u001b[39;49m\u001b[39m.\u001b[39;49m_update_ticks()\n\u001b[0;32m   1325\u001b[0m \u001b[39mself\u001b[39m\u001b[39m.\u001b[39m_update_label_position(renderer)\n\u001b[0;32m   1327\u001b[0m \u001b[39m# go back to just this axis's tick labels\u001b[39;00m\n",
      "File \u001b[1;32m~\\AppData\\Roaming\\Python\\Python311\\site-packages\\matplotlib\\axis.py:1270\u001b[0m, in \u001b[0;36mAxis._update_ticks\u001b[1;34m(self)\u001b[0m\n\u001b[0;32m   1268\u001b[0m     tick\u001b[39m.\u001b[39mset_label1(label)\n\u001b[0;32m   1269\u001b[0m     tick\u001b[39m.\u001b[39mset_label2(label)\n\u001b[1;32m-> 1270\u001b[0m minor_locs \u001b[39m=\u001b[39m \u001b[39mself\u001b[39;49m\u001b[39m.\u001b[39;49mget_minorticklocs()\n\u001b[0;32m   1271\u001b[0m minor_labels \u001b[39m=\u001b[39m \u001b[39mself\u001b[39m\u001b[39m.\u001b[39mminor\u001b[39m.\u001b[39mformatter\u001b[39m.\u001b[39mformat_ticks(minor_locs)\n\u001b[0;32m   1272\u001b[0m minor_ticks \u001b[39m=\u001b[39m \u001b[39mself\u001b[39m\u001b[39m.\u001b[39mget_minor_ticks(\u001b[39mlen\u001b[39m(minor_locs))\n",
      "File \u001b[1;32m~\\AppData\\Roaming\\Python\\Python311\\site-packages\\matplotlib\\axis.py:1491\u001b[0m, in \u001b[0;36mAxis.get_minorticklocs\u001b[1;34m(self)\u001b[0m\n\u001b[0;32m   1489\u001b[0m minor_locs \u001b[39m=\u001b[39m np\u001b[39m.\u001b[39masarray(\u001b[39mself\u001b[39m\u001b[39m.\u001b[39mminor\u001b[39m.\u001b[39mlocator())\n\u001b[0;32m   1490\u001b[0m \u001b[39mif\u001b[39;00m \u001b[39mself\u001b[39m\u001b[39m.\u001b[39mremove_overlapping_locs:\n\u001b[1;32m-> 1491\u001b[0m     major_locs \u001b[39m=\u001b[39m \u001b[39mself\u001b[39;49m\u001b[39m.\u001b[39;49mmajor\u001b[39m.\u001b[39;49mlocator()\n\u001b[0;32m   1492\u001b[0m     transform \u001b[39m=\u001b[39m \u001b[39mself\u001b[39m\u001b[39m.\u001b[39m_scale\u001b[39m.\u001b[39mget_transform()\n\u001b[0;32m   1493\u001b[0m     tr_minor_locs \u001b[39m=\u001b[39m transform\u001b[39m.\u001b[39mtransform(minor_locs)\n",
      "File \u001b[1;32m~\\AppData\\Roaming\\Python\\Python311\\site-packages\\matplotlib\\ticker.py:2136\u001b[0m, in \u001b[0;36mMaxNLocator.__call__\u001b[1;34m(self)\u001b[0m\n\u001b[0;32m   2134\u001b[0m \u001b[39mdef\u001b[39;00m \u001b[39m__call__\u001b[39m(\u001b[39mself\u001b[39m):\n\u001b[0;32m   2135\u001b[0m     vmin, vmax \u001b[39m=\u001b[39m \u001b[39mself\u001b[39m\u001b[39m.\u001b[39maxis\u001b[39m.\u001b[39mget_view_interval()\n\u001b[1;32m-> 2136\u001b[0m     \u001b[39mreturn\u001b[39;00m \u001b[39mself\u001b[39;49m\u001b[39m.\u001b[39;49mtick_values(vmin, vmax)\n",
      "File \u001b[1;32m~\\AppData\\Roaming\\Python\\Python311\\site-packages\\matplotlib\\ticker.py:2144\u001b[0m, in \u001b[0;36mMaxNLocator.tick_values\u001b[1;34m(self, vmin, vmax)\u001b[0m\n\u001b[0;32m   2141\u001b[0m     vmin \u001b[39m=\u001b[39m \u001b[39m-\u001b[39mvmax\n\u001b[0;32m   2142\u001b[0m vmin, vmax \u001b[39m=\u001b[39m mtransforms\u001b[39m.\u001b[39mnonsingular(\n\u001b[0;32m   2143\u001b[0m     vmin, vmax, expander\u001b[39m=\u001b[39m\u001b[39m1e-13\u001b[39m, tiny\u001b[39m=\u001b[39m\u001b[39m1e-14\u001b[39m)\n\u001b[1;32m-> 2144\u001b[0m locs \u001b[39m=\u001b[39m \u001b[39mself\u001b[39;49m\u001b[39m.\u001b[39;49m_raw_ticks(vmin, vmax)\n\u001b[0;32m   2146\u001b[0m prune \u001b[39m=\u001b[39m \u001b[39mself\u001b[39m\u001b[39m.\u001b[39m_prune\n\u001b[0;32m   2147\u001b[0m \u001b[39mif\u001b[39;00m prune \u001b[39m==\u001b[39m \u001b[39m'\u001b[39m\u001b[39mlower\u001b[39m\u001b[39m'\u001b[39m:\n",
      "File \u001b[1;32m~\\AppData\\Roaming\\Python\\Python311\\site-packages\\matplotlib\\ticker.py:2083\u001b[0m, in \u001b[0;36mMaxNLocator._raw_ticks\u001b[1;34m(self, vmin, vmax)\u001b[0m\n\u001b[0;32m   2081\u001b[0m \u001b[39mif\u001b[39;00m \u001b[39mself\u001b[39m\u001b[39m.\u001b[39m_nbins \u001b[39m==\u001b[39m \u001b[39m'\u001b[39m\u001b[39mauto\u001b[39m\u001b[39m'\u001b[39m:\n\u001b[0;32m   2082\u001b[0m     \u001b[39mif\u001b[39;00m \u001b[39mself\u001b[39m\u001b[39m.\u001b[39maxis \u001b[39mis\u001b[39;00m \u001b[39mnot\u001b[39;00m \u001b[39mNone\u001b[39;00m:\n\u001b[1;32m-> 2083\u001b[0m         nbins \u001b[39m=\u001b[39m np\u001b[39m.\u001b[39mclip(\u001b[39mself\u001b[39;49m\u001b[39m.\u001b[39;49maxis\u001b[39m.\u001b[39;49mget_tick_space(),\n\u001b[0;32m   2084\u001b[0m                         \u001b[39mmax\u001b[39m(\u001b[39m1\u001b[39m, \u001b[39mself\u001b[39m\u001b[39m.\u001b[39m_min_n_ticks \u001b[39m-\u001b[39m \u001b[39m1\u001b[39m), \u001b[39m9\u001b[39m)\n\u001b[0;32m   2085\u001b[0m     \u001b[39melse\u001b[39;00m:\n\u001b[0;32m   2086\u001b[0m         nbins \u001b[39m=\u001b[39m \u001b[39m9\u001b[39m\n",
      "File \u001b[1;32m~\\AppData\\Roaming\\Python\\Python311\\site-packages\\matplotlib\\axis.py:2734\u001b[0m, in \u001b[0;36mYAxis.get_tick_space\u001b[1;34m(self)\u001b[0m\n\u001b[0;32m   2733\u001b[0m \u001b[39mdef\u001b[39;00m \u001b[39mget_tick_space\u001b[39m(\u001b[39mself\u001b[39m):\n\u001b[1;32m-> 2734\u001b[0m     ends \u001b[39m=\u001b[39m mtransforms\u001b[39m.\u001b[39;49mBbox\u001b[39m.\u001b[39;49munit()\u001b[39m.\u001b[39;49mtransformed(\n\u001b[0;32m   2735\u001b[0m         \u001b[39mself\u001b[39;49m\u001b[39m.\u001b[39;49maxes\u001b[39m.\u001b[39;49mtransAxes \u001b[39m-\u001b[39;49m \u001b[39mself\u001b[39;49m\u001b[39m.\u001b[39;49mfigure\u001b[39m.\u001b[39;49mdpi_scale_trans)\n\u001b[0;32m   2736\u001b[0m     length \u001b[39m=\u001b[39m ends\u001b[39m.\u001b[39mheight \u001b[39m*\u001b[39m \u001b[39m72\u001b[39m\n\u001b[0;32m   2737\u001b[0m     \u001b[39m# Having a spacing of at least 2 just looks good.\u001b[39;00m\n",
      "File \u001b[1;32m~\\AppData\\Roaming\\Python\\Python311\\site-packages\\matplotlib\\transforms.py:479\u001b[0m, in \u001b[0;36mBboxBase.transformed\u001b[1;34m(self, transform)\u001b[0m\n\u001b[0;32m    475\u001b[0m \u001b[39m\u001b[39m\u001b[39m\"\"\"\u001b[39;00m\n\u001b[0;32m    476\u001b[0m \u001b[39mConstruct a `Bbox` by statically transforming this one by *transform*.\u001b[39;00m\n\u001b[0;32m    477\u001b[0m \u001b[39m\"\"\"\u001b[39;00m\n\u001b[0;32m    478\u001b[0m pts \u001b[39m=\u001b[39m \u001b[39mself\u001b[39m\u001b[39m.\u001b[39mget_points()\n\u001b[1;32m--> 479\u001b[0m ll, ul, lr \u001b[39m=\u001b[39m transform\u001b[39m.\u001b[39;49mtransform(np\u001b[39m.\u001b[39;49marray(\n\u001b[0;32m    480\u001b[0m     [pts[\u001b[39m0\u001b[39;49m], [pts[\u001b[39m0\u001b[39;49m, \u001b[39m0\u001b[39;49m], pts[\u001b[39m1\u001b[39;49m, \u001b[39m1\u001b[39;49m]], [pts[\u001b[39m1\u001b[39;49m, \u001b[39m0\u001b[39;49m], pts[\u001b[39m0\u001b[39;49m, \u001b[39m1\u001b[39;49m]]]))\n\u001b[0;32m    481\u001b[0m \u001b[39mreturn\u001b[39;00m Bbox([ll, [lr[\u001b[39m0\u001b[39m], ul[\u001b[39m1\u001b[39m]]])\n",
      "File \u001b[1;32m~\\AppData\\Roaming\\Python\\Python311\\site-packages\\matplotlib\\transforms.py:1490\u001b[0m, in \u001b[0;36mTransform.transform\u001b[1;34m(self, values)\u001b[0m\n\u001b[0;32m   1487\u001b[0m values \u001b[39m=\u001b[39m values\u001b[39m.\u001b[39mreshape((\u001b[39m-\u001b[39m\u001b[39m1\u001b[39m, \u001b[39mself\u001b[39m\u001b[39m.\u001b[39minput_dims))\n\u001b[0;32m   1489\u001b[0m \u001b[39m# Transform the values\u001b[39;00m\n\u001b[1;32m-> 1490\u001b[0m res \u001b[39m=\u001b[39m \u001b[39mself\u001b[39;49m\u001b[39m.\u001b[39;49mtransform_affine(\u001b[39mself\u001b[39;49m\u001b[39m.\u001b[39;49mtransform_non_affine(values))\n\u001b[0;32m   1492\u001b[0m \u001b[39m# Convert the result back to the shape of the input values.\u001b[39;00m\n\u001b[0;32m   1493\u001b[0m \u001b[39mif\u001b[39;00m ndim \u001b[39m==\u001b[39m \u001b[39m0\u001b[39m:\n",
      "File \u001b[1;32m~\\AppData\\Roaming\\Python\\Python311\\site-packages\\matplotlib\\transforms.py:2415\u001b[0m, in \u001b[0;36mCompositeGenericTransform.transform_affine\u001b[1;34m(self, points)\u001b[0m\n\u001b[0;32m   2413\u001b[0m \u001b[39mdef\u001b[39;00m \u001b[39mtransform_affine\u001b[39m(\u001b[39mself\u001b[39m, points):\n\u001b[0;32m   2414\u001b[0m     \u001b[39m# docstring inherited\u001b[39;00m\n\u001b[1;32m-> 2415\u001b[0m     \u001b[39mreturn\u001b[39;00m \u001b[39mself\u001b[39;49m\u001b[39m.\u001b[39;49mget_affine()\u001b[39m.\u001b[39mtransform(points)\n",
      "File \u001b[1;32m~\\AppData\\Roaming\\Python\\Python311\\site-packages\\matplotlib\\transforms.py:2441\u001b[0m, in \u001b[0;36mCompositeGenericTransform.get_affine\u001b[1;34m(self)\u001b[0m\n\u001b[0;32m   2439\u001b[0m     \u001b[39mreturn\u001b[39;00m \u001b[39mself\u001b[39m\u001b[39m.\u001b[39m_b\u001b[39m.\u001b[39mget_affine()\n\u001b[0;32m   2440\u001b[0m \u001b[39melse\u001b[39;00m:\n\u001b[1;32m-> 2441\u001b[0m     \u001b[39mreturn\u001b[39;00m Affine2D(np\u001b[39m.\u001b[39;49mdot(\u001b[39mself\u001b[39;49m\u001b[39m.\u001b[39;49m_b\u001b[39m.\u001b[39;49mget_affine()\u001b[39m.\u001b[39;49mget_matrix(),\n\u001b[0;32m   2442\u001b[0m                            \u001b[39mself\u001b[39;49m\u001b[39m.\u001b[39;49m_a\u001b[39m.\u001b[39;49mget_affine()\u001b[39m.\u001b[39;49mget_matrix()))\n",
      "File \u001b[1;32m<__array_function__ internals>:200\u001b[0m, in \u001b[0;36mdot\u001b[1;34m(*args, **kwargs)\u001b[0m\n",
      "\u001b[1;31mKeyboardInterrupt\u001b[0m: "
     ]
    }
   ],
   "source": [
    "# Plot the UMAP model sub graphs. In each graph, only keep the data of one year and rest paint it as gray\n",
    "for year in df_dim_date['Date'].unique():\n",
    "    plt.scatter(df_dim_date[df_dim_date['Date'] == year]['x'],\n",
    "                df_dim_date[df_dim_date['Date'] == year]['y'],\n",
    "                s=5, alpha=0.5)\n",
    "    plt.title(year)\n",
    "    plt.show()"
   ]
  },
  {
   "attachments": {},
   "cell_type": "markdown",
   "metadata": {},
   "source": [
    "### Clustering\n",
    "1. Use KMeans to cluster the data"
   ]
  },
  {
   "cell_type": "code",
   "execution_count": 20,
   "metadata": {},
   "outputs": [],
   "source": [
    "# import the KMeans model\n",
    "from sklearn.cluster import KMeans"
   ]
  },
  {
   "cell_type": "code",
   "execution_count": 21,
   "metadata": {},
   "outputs": [
    {
     "data": {
      "text/html": [
       "<div>\n",
       "<style scoped>\n",
       "    .dataframe tbody tr th:only-of-type {\n",
       "        vertical-align: middle;\n",
       "    }\n",
       "\n",
       "    .dataframe tbody tr th {\n",
       "        vertical-align: top;\n",
       "    }\n",
       "\n",
       "    .dataframe thead th {\n",
       "        text-align: right;\n",
       "    }\n",
       "</style>\n",
       "<table border=\"1\" class=\"dataframe\">\n",
       "  <thead>\n",
       "    <tr style=\"text-align: right;\">\n",
       "      <th></th>\n",
       "      <th>x</th>\n",
       "      <th>y</th>\n",
       "    </tr>\n",
       "  </thead>\n",
       "  <tbody>\n",
       "    <tr>\n",
       "      <th>0</th>\n",
       "      <td>8.956005</td>\n",
       "      <td>-0.008676</td>\n",
       "    </tr>\n",
       "    <tr>\n",
       "      <th>1</th>\n",
       "      <td>10.159348</td>\n",
       "      <td>0.235317</td>\n",
       "    </tr>\n",
       "    <tr>\n",
       "      <th>2</th>\n",
       "      <td>11.064923</td>\n",
       "      <td>0.590251</td>\n",
       "    </tr>\n",
       "    <tr>\n",
       "      <th>3</th>\n",
       "      <td>8.596931</td>\n",
       "      <td>1.892679</td>\n",
       "    </tr>\n",
       "    <tr>\n",
       "      <th>4</th>\n",
       "      <td>11.338701</td>\n",
       "      <td>0.576731</td>\n",
       "    </tr>\n",
       "  </tbody>\n",
       "</table>\n",
       "</div>"
      ],
      "text/plain": [
       "           x         y\n",
       "0   8.956005 -0.008676\n",
       "1  10.159348  0.235317\n",
       "2  11.064923  0.590251\n",
       "3   8.596931  1.892679\n",
       "4  11.338701  0.576731"
      ]
     },
     "execution_count": 21,
     "metadata": {},
     "output_type": "execute_result"
    }
   ],
   "source": [
    "df_umap.head()"
   ]
  },
  {
   "cell_type": "code",
   "execution_count": 22,
   "metadata": {},
   "outputs": [
    {
     "data": {
      "text/plain": [
       "array([2017, 2018, 2019, 2020, 2021, 2022, 2023], dtype=int64)"
      ]
     },
     "execution_count": 22,
     "metadata": {},
     "output_type": "execute_result"
    }
   ],
   "source": [
    "# Unique years\n",
    "df_dim_date['Date'].unique()"
   ]
  },
  {
   "attachments": {},
   "cell_type": "markdown",
   "metadata": {},
   "source": [
    "We idealy want clusters for each year.\n",
    "We will use the elbow method to determine the number of clusters\n",
    "Elbow method is a method of interpretation and validation of consistency within cluster analysis designed to help finding the appropriate number of clusters in a dataset. It is a heuristic method to estimate the optimal number of clusters in a data set given by the sum of squared errors (SSE) within clusters."
   ]
  },
  {
   "cell_type": "code",
   "execution_count": 23,
   "metadata": {},
   "outputs": [
    {
     "data": {
      "image/png": "[encoded data removed]",
      "text/plain": [
       "<Figure size 640x480 with 1 Axes>"
      ]
     },
     "metadata": {},
     "output_type": "display_data"
    }
   ],
   "source": [
    "# Find the optimal number of clusters in df_umap using the elbow method\n",
    "# Create a list of inertia values\n",
    "inertia = []\n",
    "for i in range(1, 11):\n",
    "    # Create a KMeans instance with i clusters: model\n",
    "    model = KMeans(n_clusters=i, random_state=42, n_init='auto')\n",
    "\n",
    "    # Fit model to samples\n",
    "    model.fit(df_umap)\n",
    "\n",
    "    # Append the inertia to the list of inertia\n",
    "    inertia.append(model.inertia_)\n",
    "\n",
    "# Plot the inertia vs number of clusters\n",
    "plt.plot(range(1, 11), inertia, marker='o')\n",
    "plt.xlabel('Number of clusters')\n",
    "plt.ylabel('Inertia')\n",
    "plt.show()\n"
   ]
  },
  {
   "attachments": {},
   "cell_type": "markdown",
   "metadata": {},
   "source": [
    "Here a decrease in the SSE is observed as the number of clusters increases. The point where the SSE curve starts to bend is considered as the optimal number of clusters. \n",
    "In the plot below, the elbow is at k=4 indicating the optimal k for this dataset is 4."
   ]
  },
  {
   "cell_type": "code",
   "execution_count": 24,
   "metadata": {},
   "outputs": [
    {
     "data": {
      "text/html": [
       "<style>#sk-container-id-1 {color: black;background-color: white;}#sk-container-id-1 pre{padding: 0;}#sk-container-id-1 div.sk-toggleable {background-color: white;}#sk-container-id-1 label.sk-toggleable__label {cursor: pointer;display: block;width: 100%;margin-bottom: 0;padding: 0.3em;box-sizing: border-box;text-align: center;}#sk-container-id-1 label.sk-toggleable__label-arrow:before {content: \"▸\";float: left;margin-right: 0.25em;color: #696969;}#sk-container-id-1 label.sk-toggleable__label-arrow:hover:before {color: black;}#sk-container-id-1 div.sk-estimator:hover label.sk-toggleable__label-arrow:before {color: black;}#sk-container-id-1 div.sk-toggleable__content {max-height: 0;max-width: 0;overflow: hidden;text-align: left;background-color: #f0f8ff;}#sk-container-id-1 div.sk-toggleable__content pre {margin: 0.2em;color: black;border-radius: 0.25em;background-color: #f0f8ff;}#sk-container-id-1 input.sk-toggleable__control:checked~div.sk-toggleable__content {max-height: 200px;max-width: 100%;overflow: auto;}#sk-container-id-1 input.sk-toggleable__control:checked~label.sk-toggleable__label-arrow:before {content: \"▾\";}#sk-container-id-1 div.sk-estimator input.sk-toggleable__control:checked~label.sk-toggleable__label {background-color: #d4ebff;}#sk-container-id-1 div.sk-label input.sk-toggleable__control:checked~label.sk-toggleable__label {background-color: #d4ebff;}#sk-container-id-1 input.sk-hidden--visually {border: 0;clip: rect(1px 1px 1px 1px);clip: rect(1px, 1px, 1px, 1px);height: 1px;margin: -1px;overflow: hidden;padding: 0;position: absolute;width: 1px;}#sk-container-id-1 div.sk-estimator {font-family: monospace;background-color: #f0f8ff;border: 1px dotted black;border-radius: 0.25em;box-sizing: border-box;margin-bottom: 0.5em;}#sk-container-id-1 div.sk-estimator:hover {background-color: #d4ebff;}#sk-container-id-1 div.sk-parallel-item::after {content: \"\";width: 100%;border-bottom: 1px solid gray;flex-grow: 1;}#sk-container-id-1 div.sk-label:hover label.sk-toggleable__label {background-color: #d4ebff;}#sk-container-id-1 div.sk-serial::before {content: \"\";position: absolute;border-left: 1px solid gray;box-sizing: border-box;top: 0;bottom: 0;left: 50%;z-index: 0;}#sk-container-id-1 div.sk-serial {display: flex;flex-direction: column;align-items: center;background-color: white;padding-right: 0.2em;padding-left: 0.2em;position: relative;}#sk-container-id-1 div.sk-item {position: relative;z-index: 1;}#sk-container-id-1 div.sk-parallel {display: flex;align-items: stretch;justify-content: center;background-color: white;position: relative;}#sk-container-id-1 div.sk-item::before, #sk-container-id-1 div.sk-parallel-item::before {content: \"\";position: absolute;border-left: 1px solid gray;box-sizing: border-box;top: 0;bottom: 0;left: 50%;z-index: -1;}#sk-container-id-1 div.sk-parallel-item {display: flex;flex-direction: column;z-index: 1;position: relative;background-color: white;}#sk-container-id-1 div.sk-parallel-item:first-child::after {align-self: flex-end;width: 50%;}#sk-container-id-1 div.sk-parallel-item:last-child::after {align-self: flex-start;width: 50%;}#sk-container-id-1 div.sk-parallel-item:only-child::after {width: 0;}#sk-container-id-1 div.sk-dashed-wrapped {border: 1px dashed gray;margin: 0 0.4em 0.5em 0.4em;box-sizing: border-box;padding-bottom: 0.4em;background-color: white;}#sk-container-id-1 div.sk-label label {font-family: monospace;font-weight: bold;display: inline-block;line-height: 1.2em;}#sk-container-id-1 div.sk-label-container {text-align: center;}#sk-container-id-1 div.sk-container {/* jupyter's `normalize.less` sets `[hidden] { display: none; }` but bootstrap.min.css set `[hidden] { display: none !important; }` so we also need the `!important` here to be able to override the default hidden behavior on the sphinx rendered scikit-learn.org. See: https://github.com/scikit-learn/scikit-learn/issues/21755 */display: inline-block !important;position: relative;}#sk-container-id-1 div.sk-text-repr-fallback {display: none;}</style><div id=\"sk-container-id-1\" class=\"sk-top-container\"><div class=\"sk-text-repr-fallback\"><pre>KMeans(n_clusters=4, n_init=&#x27;auto&#x27;, random_state=42)</pre><b>In a Jupyter environment, please rerun this cell to show the HTML representation or trust the notebook. <br />On GitHub, the HTML representation is unable to render, please try loading this page with nbviewer.org.</b></div><div class=\"sk-container\" hidden><div class=\"sk-item\"><div class=\"sk-estimator sk-toggleable\"><input class=\"sk-toggleable__control sk-hidden--visually\" id=\"sk-estimator-id-1\" type=\"checkbox\" checked><label for=\"sk-estimator-id-1\" class=\"sk-toggleable__label sk-toggleable__label-arrow\">KMeans</label><div class=\"sk-toggleable__content\"><pre>KMeans(n_clusters=4, n_init=&#x27;auto&#x27;, random_state=42)</pre></div></div></div></div></div>"
      ],
      "text/plain": [
       "KMeans(n_clusters=4, n_init='auto', random_state=42)"
      ]
     },
     "execution_count": 24,
     "metadata": {},
     "output_type": "execute_result"
    }
   ],
   "source": [
    "# Create a KMeans instance with 4 clusters: model\n",
    "model = KMeans(n_clusters=4, random_state=42, n_init='auto')\n",
    "# Fit model to df_umap\n",
    "model.fit(df_umap)"
   ]
  },
  {
   "cell_type": "code",
   "execution_count": 25,
   "metadata": {},
   "outputs": [
    {
     "data": {
      "text/plain": [
       "<matplotlib.collections.PathCollection at 0x20a4a685010>"
      ]
     },
     "execution_count": 25,
     "metadata": {},
     "output_type": "execute_result"
    },
    {
     "data": {
      "image/png": "[encoded data removed]",
      "text/plain": [
       "<Figure size 640x480 with 1 Axes>"
      ]
     },
     "metadata": {},
     "output_type": "display_data"
    }
   ],
   "source": [
    "# Plot the clusters\n",
    "plt.scatter(df_umap['x'], df_umap['y'], c=model.labels_, s=5, alpha=0.5)"
   ]
  },
  {
   "cell_type": "code",
   "execution_count": 26,
   "metadata": {},
   "outputs": [
    {
     "data": {
      "text/html": [
       "<div>\n",
       "<style scoped>\n",
       "    .dataframe tbody tr th:only-of-type {\n",
       "        vertical-align: middle;\n",
       "    }\n",
       "\n",
       "    .dataframe tbody tr th {\n",
       "        vertical-align: top;\n",
       "    }\n",
       "\n",
       "    .dataframe thead th {\n",
       "        text-align: right;\n",
       "    }\n",
       "</style>\n",
       "<table border=\"1\" class=\"dataframe\">\n",
       "  <thead>\n",
       "    <tr style=\"text-align: right;\">\n",
       "      <th></th>\n",
       "      <th>x</th>\n",
       "      <th>y</th>\n",
       "      <th>Date</th>\n",
       "      <th>cluster</th>\n",
       "      <th>tenure</th>\n",
       "      <th>Topics</th>\n",
       "    </tr>\n",
       "  </thead>\n",
       "  <tbody>\n",
       "    <tr>\n",
       "      <th>0</th>\n",
       "      <td>8.956005</td>\n",
       "      <td>-0.008676</td>\n",
       "      <td>2017</td>\n",
       "      <td>C3</td>\n",
       "      <td>MS_Year_1</td>\n",
       "      <td>The central theme the author is exploring is t...</td>\n",
       "    </tr>\n",
       "    <tr>\n",
       "      <th>1</th>\n",
       "      <td>10.159348</td>\n",
       "      <td>0.235317</td>\n",
       "      <td>2017</td>\n",
       "      <td>C0</td>\n",
       "      <td>MS_Year_1</td>\n",
       "      <td>The author is exploring how science and techno...</td>\n",
       "    </tr>\n",
       "    <tr>\n",
       "      <th>2</th>\n",
       "      <td>11.064923</td>\n",
       "      <td>0.590251</td>\n",
       "      <td>2017</td>\n",
       "      <td>C0</td>\n",
       "      <td>MS_Year_1</td>\n",
       "      <td>The central theme of the author is exploring i...</td>\n",
       "    </tr>\n",
       "    <tr>\n",
       "      <th>3</th>\n",
       "      <td>8.596931</td>\n",
       "      <td>1.892679</td>\n",
       "      <td>2017</td>\n",
       "      <td>C3</td>\n",
       "      <td>MS_Year_1</td>\n",
       "      <td>The central theme of the author is exploring i...</td>\n",
       "    </tr>\n",
       "    <tr>\n",
       "      <th>4</th>\n",
       "      <td>11.338701</td>\n",
       "      <td>0.576731</td>\n",
       "      <td>2017</td>\n",
       "      <td>C0</td>\n",
       "      <td>MS_Year_1</td>\n",
       "      <td>The author is exploring the idea that saints h...</td>\n",
       "    </tr>\n",
       "    <tr>\n",
       "      <th>...</th>\n",
       "      <td>...</td>\n",
       "      <td>...</td>\n",
       "      <td>...</td>\n",
       "      <td>...</td>\n",
       "      <td>...</td>\n",
       "      <td>...</td>\n",
       "    </tr>\n",
       "    <tr>\n",
       "      <th>1177</th>\n",
       "      <td>10.564022</td>\n",
       "      <td>0.840843</td>\n",
       "      <td>2023</td>\n",
       "      <td>C3</td>\n",
       "      <td>MS_Year_7</td>\n",
       "      <td>A. The author is exploring the theme of enviro...</td>\n",
       "    </tr>\n",
       "    <tr>\n",
       "      <th>1178</th>\n",
       "      <td>10.881078</td>\n",
       "      <td>1.084923</td>\n",
       "      <td>2023</td>\n",
       "      <td>C3</td>\n",
       "      <td>MS_Year_7</td>\n",
       "      <td>The central theme of the author is exploring i...</td>\n",
       "    </tr>\n",
       "    <tr>\n",
       "      <th>1179</th>\n",
       "      <td>10.161785</td>\n",
       "      <td>0.746135</td>\n",
       "      <td>2023</td>\n",
       "      <td>C3</td>\n",
       "      <td>MS_Year_7</td>\n",
       "      <td>The central theme of the text is the Vande Bha...</td>\n",
       "    </tr>\n",
       "    <tr>\n",
       "      <th>1180</th>\n",
       "      <td>10.931475</td>\n",
       "      <td>1.289920</td>\n",
       "      <td>2023</td>\n",
       "      <td>C3</td>\n",
       "      <td>MS_Year_7</td>\n",
       "      <td>The author is exploring the idea that the heal...</td>\n",
       "    </tr>\n",
       "    <tr>\n",
       "      <th>1181</th>\n",
       "      <td>10.764289</td>\n",
       "      <td>1.108396</td>\n",
       "      <td>2023</td>\n",
       "      <td>C3</td>\n",
       "      <td>MS_Year_7</td>\n",
       "      <td>The author is exploring the impact of behaviou...</td>\n",
       "    </tr>\n",
       "  </tbody>\n",
       "</table>\n",
       "<p>1182 rows × 6 columns</p>\n",
       "</div>"
      ],
      "text/plain": [
       "              x         y  Date cluster     tenure  \\\n",
       "0      8.956005 -0.008676  2017      C3  MS_Year_1   \n",
       "1     10.159348  0.235317  2017      C0  MS_Year_1   \n",
       "2     11.064923  0.590251  2017      C0  MS_Year_1   \n",
       "3      8.596931  1.892679  2017      C3  MS_Year_1   \n",
       "4     11.338701  0.576731  2017      C0  MS_Year_1   \n",
       "...         ...       ...   ...     ...        ...   \n",
       "1177  10.564022  0.840843  2023      C3  MS_Year_7   \n",
       "1178  10.881078  1.084923  2023      C3  MS_Year_7   \n",
       "1179  10.161785  0.746135  2023      C3  MS_Year_7   \n",
       "1180  10.931475  1.289920  2023      C3  MS_Year_7   \n",
       "1181  10.764289  1.108396  2023      C3  MS_Year_7   \n",
       "\n",
       "                                                 Topics  \n",
       "0     The central theme the author is exploring is t...  \n",
       "1     The author is exploring how science and techno...  \n",
       "2     The central theme of the author is exploring i...  \n",
       "3     The central theme of the author is exploring i...  \n",
       "4     The author is exploring the idea that saints h...  \n",
       "...                                                 ...  \n",
       "1177  A. The author is exploring the theme of enviro...  \n",
       "1178  The central theme of the author is exploring i...  \n",
       "1179  The central theme of the text is the Vande Bha...  \n",
       "1180  The author is exploring the idea that the heal...  \n",
       "1181  The author is exploring the impact of behaviou...  \n",
       "\n",
       "[1182 rows x 6 columns]"
      ]
     },
     "execution_count": 26,
     "metadata": {},
     "output_type": "execute_result"
    }
   ],
   "source": [
    "# Append the cluster label to the dataframe of df_dim_date\n",
    "df_dim_date['cluster'] = model.labels_\n",
    "df_dim_date['tenure'] = df_dim_date['Date'].astype(int).apply(lambda x: f\"MS_Year_{x-2016}\")\n",
    "df_dim_date['cluster'] = df_dim_date['cluster'].apply(lambda x: f\"C{x}\")\n",
    "df_dim_date['Topics'] = df_tm['topic_cleaned']\n",
    "df_dim_date"
   ]
  },
  {
   "cell_type": "code",
   "execution_count": 28,
   "metadata": {},
   "outputs": [],
   "source": [
    "df_dim_date_topic = open(\"df_dim_date_topic.pickle\", \"wb\")\n",
    "pickle.dump(df_dim_date, df_dim_date_topic)\n",
    "df_dim_date_topic.close()"
   ]
  },
  {
   "cell_type": "code",
   "execution_count": 38,
   "metadata": {},
   "outputs": [
    {
     "data": {
      "image/png": "[encoded data removed]",
      "text/plain": [
       "<Figure size 640x480 with 1 Axes>"
      ]
     },
     "metadata": {},
     "output_type": "display_data"
    },
    {
     "data": {
      "image/png": "[encoded data removed]",
      "text/plain": [
       "<Figure size 640x480 with 1 Axes>"
      ]
     },
     "metadata": {},
     "output_type": "display_data"
    },
    {
     "data": {
      "image/png": "[encoded data removed]",
      "text/plain": [
       "<Figure size 640x480 with 1 Axes>"
      ]
     },
     "metadata": {},
     "output_type": "display_data"
    },
    {
     "data": {
      "image/png": "[encoded data removed]",
      "text/plain": [
       "<Figure size 640x480 with 1 Axes>"
      ]
     },
     "metadata": {},
     "output_type": "display_data"
    },
    {
     "data": {
      "image/png": "[encoded data removed]",
      "text/plain": [
       "<Figure size 640x480 with 1 Axes>"
      ]
     },
     "metadata": {},
     "output_type": "display_data"
    },
    {
     "data": {
      "image/png": "[encoded data removed]",
      "text/plain": [
       "<Figure size 640x480 with 1 Axes>"
      ]
     },
     "metadata": {},
     "output_type": "display_data"
    },
    {
     "data": {
      "image/png": "[encoded data removed]",
      "text/plain": [
       "<Figure size 640x480 with 1 Axes>"
      ]
     },
     "metadata": {},
     "output_type": "display_data"
    }
   ],
   "source": [
    "# Plot the clusters sub graphs. In each graph, only keep the data of one year and rest paint it as gray\n",
    "for year in df_dim_date['Date'].unique():\n",
    "    plt.scatter(df_dim_date[df_dim_date['Date'] == year]['x'],\n",
    "                df_dim_date[df_dim_date['Date'] == year]['y'],\n",
    "                c=df_dim_date[df_dim_date['Date'] == year]['cluster'],\n",
    "                s=5, alpha=0.5)\n",
    "    plt.title(year)\n",
    "    plt.show()\n",
    "    "
   ]
  },
  {
   "attachments": {},
   "cell_type": "markdown",
   "metadata": {},
   "source": [
    "In above, we can clearly see that all clusters are more or less equally spreaded over the years."
   ]
  },
  {
   "cell_type": "code",
   "execution_count": 29,
   "metadata": {},
   "outputs": [
    {
     "data": {
      "application/vnd.plotly.v1+json": {
       "config": {
        "plotlyServerURL": "https://plot.ly"
       },
       "data": [
        {
         "customdata": [
          [
           "The central theme the author is exploring is the potential for Cyber-Physical Systems to have a positive impact on the nation."
          ],
          [
           "The central theme of the author is exploring is the Indian government's budget and its potential implications."
          ],
          [
           "The central theme that the author is exploring is the need for reform in the country."
          ],
          [
           "The author is exploring the central theme of development and the subject of infrastructure projects in the Santhal region."
          ],
          [
           "The author is exploring the theme of AKT/HS."
          ],
          [
           "The central theme and subject that the author is exploring is the strong and vibrant strategic partnership between India and Australia."
          ],
          [
           "The author is exploring the theme of cooperation and development in South Asia."
          ],
          [
           "The central theme of the text is the importance of Vesak and the relevance of Buddha's teachings in the modern world."
          ],
          [
           "The author is exploring the theme of social justice and the importance of the Car festival of Lord Jagannath."
          ],
          [
           "The author is exploring the idea that the Quit India movement was a major turning point in Indian history, and that it is important for the country to remember and learn from this event."
          ],
          [
           "The central theme of the text is the dedication of the INS Kalvari submarine to the nation, and the importance of the Indian Ocean for the future of the world."
          ]
         ],
         "hovertemplate": "cluster=C3<br>tenure=MS_Year_1<br>x=%{x}<br>y=%{y}<br>Topics=%{customdata[0]}<extra></extra>",
         "legendgroup": "C3",
         "marker": {
          "color": "maroon",
          "symbol": "circle"
         },
         "mode": "markers",
         "name": "C3",
         "showlegend": true,
         "type": "scattergl",
         "x": [
          8.956005096435547,
          8.596931457519531,
          8.559103012084961,
          9.306638717651367,
          10.502872467041016,
          9.70736312866211,
          9.5741548538208,
          9.53455638885498,
          9.115011215209961,
          8.346144676208496,
          9.791267395019531
         ],
         "xaxis": "x7",
         "y": [
          -0.008675917983055115,
          1.8926794528961182,
          1.9909623861312866,
          2.119858503341675,
          0.7099247574806213,
          -0.08157321065664291,
          -0.18684208393096924,
          0.22294972836971283,
          -0.06972505152225494,
          0.8134704828262329,
          0.2161223143339157
         ],
         "yaxis": "y7"
        },
        {
         "customdata": [
          [
           "The central theme that the author is exploring is the need for cooperation and unity in order to overcome the challenges faced by the world today."
          ],
          [
           "The central theme that the author is exploring is the need for humans to work together to save the planet."
          ],
          [
           "The author is exploring the idea that it is the people, not the government or leaders, who build a nation."
          ],
          [
           "The author is exploring the idea that India needs to establish a defence industrial complex in order to be prepared for future conflicts."
          ],
          [
           "The central theme and subject that the author is exploring is the relationship between India and Nepal and how it is based on shared values and traditions."
          ],
          [
           "The central theme that the author is exploring is the strong relationships between the millions of people of both India and Bangladesh in terms of art, language, culture, education, family relationships, and shared struggles against torture."
          ],
          [
           "The central theme of the text is the importance of the Indo-Pacific region for the future of the world. The author is exploring the ways in which the countries of the region can work together to build a prosperous and peaceful future."
          ],
          [
           "The central theme that the author is exploring is the importance of living in harmony with nature."
          ],
          [
           "The central theme of the author is exploring is the deep bonds of friendship and solidarity between the people of India and Uganda."
          ],
          [
           "The central theme that the author is exploring is the power of technology to transform the world of finance and the lives of people."
          ],
          [
           "The author is exploring the central theme of globalization and its challenges, and the subject of BRICS cooperation in addressing these challenges."
          ],
          [
           "The author is exploring the idea that a nation prospers when its women are educated and able to live independently."
          ]
         ],
         "hovertemplate": "cluster=C3<br>tenure=MS_Year_2<br>x=%{x}<br>y=%{y}<br>Topics=%{customdata[0]}<extra></extra>",
         "legendgroup": "C3",
         "marker": {
          "color": "maroon",
          "symbol": "circle"
         },
         "mode": "markers",
         "name": "C3",
         "showlegend": false,
         "type": "scattergl",
         "x": [
          9.82360553741455,
          9.34312629699707,
          8.580862998962402,
          9.61331844329834,
          9.497389793395996,
          8.174948692321777,
          9.490452766418457,
          9.569281578063965,
          9.643086433410645,
          8.914165496826172,
          9.66772174835205,
          10.162199020385742
         ],
         "xaxis": "x8",
         "y": [
          0.1437518298625946,
          -0.0006749526364728808,
          1.469199538230896,
          -0.16376730799674988,
          0.15015491843223572,
          1.1297074556350708,
          -0.05311072617769241,
          0.13257215917110443,
          -0.07942099124193192,
          0.17022772133350372,
          0.04247461259365082,
          0.6497942805290222
         ],
         "yaxis": "y8"
        },
        {
         "customdata": [
          [
           "The central theme of the author is that India is a land of immense opportunities for investment."
          ],
          [
           "The central theme that the author is exploring is the potential for growth in the partnership between India and South Africa."
          ],
          [
           "The author is exploring the theme of equality and social empowerment."
          ],
          [
           "The author is exploring the idea that the country's youth is the future of the country."
          ],
          [
           "The central theme that the author is exploring is the development of Tripura and the freedom that the people have received 11 months back."
          ],
          [
           "The central theme of the text is the growing importance of the bilateral relationship between India and Argentina, and the potential for cooperation in various fields between the two countries."
          ],
          [
           "The central theme of the author is exploring is the recognition of the organizations and individuals who have dedicated their lives to the cause of humanity and the improvement of society."
          ],
          [
           "The central theme that the author is exploring is the progress of India under the NDA government."
          ],
          [
           "The central theme of the author is exploring is the deep and strong relations between India and Bangladesh and how they are working to improve the quality of life for the people in both countries."
          ],
          [
           "The central theme of the author is exploring is the close friendship and cooperation between India and Maldives, and how this benefits both countries."
          ],
          [
           "The central theme that the author is exploring is the importance of cooperation between India and Maldives in order to preserve democracy and promote sustainable development."
          ],
          [
           "The central theme and subject that the author is exploring is the importance of connectivity and cooperation in the SCO region."
          ],
          [
           "The central theme of the author is exploring is the importance of the trilateral meeting between the three countries' leaders."
          ],
          [
           "The central theme of the author's exploration is the strengthening of the partnership between India and ASEAN through increased cooperation in areas of mutual interest."
          ],
          [
           "The author is exploring the idea of creating an Indo-Pacific Oceans Initiative in order to protect the maritime environment and promote sustainable development in the Indo-Pacific region."
          ]
         ],
         "hovertemplate": "cluster=C3<br>tenure=MS_Year_3<br>x=%{x}<br>y=%{y}<br>Topics=%{customdata[0]}<extra></extra>",
         "legendgroup": "C3",
         "marker": {
          "color": "maroon",
          "symbol": "circle"
         },
         "mode": "markers",
         "name": "C3",
         "showlegend": false,
         "type": "scattergl",
         "x": [
          8.266101837158203,
          9.810659408569336,
          8.656380653381348,
          8.721938133239746,
          7.911342620849609,
          9.8754301071167,
          8.503238677978516,
          9.325972557067871,
          8.497281074523926,
          9.54113483428955,
          9.338186264038086,
          9.532055854797363,
          9.685341835021973,
          9.63818645477295,
          9.523239135742188
         ],
         "xaxis": "x9",
         "y": [
          0.5518105030059814,
          0.09356597810983658,
          1.4470359086990356,
          1.5225926637649536,
          1.8832581043243408,
          0.2412877380847931,
          1.370388150215149,
          0.3231518268585205,
          1.3343809843063354,
          -0.27343037724494934,
          -0.14995557069778442,
          -0.20521187782287598,
          0.07366533577442169,
          -0.05399632081389427,
          -0.23634140193462372
         ],
         "yaxis": "y9"
        },
        {
         "customdata": [
          [
           "The central theme that the author is exploring is the development of the region of Chitrakoot and how it will benefit the farmers and the people of the area."
          ],
          [
           "The author is exploring the theme of international solidarity in the fight against the COVID-19 pandemic."
          ],
          [
           "The central theme and subject that the author is exploring is the sacrifice of the brave sons of Mother India in the Galwan Valley."
          ],
          [
           "The author is exploring the theme of self-reliance in India."
          ],
          [
           "The central theme of the text is the courage and valour of the Indian soldiers, and the subject is the dedication of the soldiers to protect and serve Mother India."
          ],
          [
           "The central theme of the author is exploring is the service of people in the month of Saawan."
          ],
          [
           "The author is exploring the central theme and subject of the government's efforts to improve the lives of all sections of society."
          ],
          [
           "The author is exploring the importance of toys and games in children's development and the role of the toy industry in the self-reliant India campaign."
          ],
          [
           "The central theme of the text is the need for reform of the United Nations."
          ],
          [
           "The author is exploring the importance of science and innovation in society and how collaboration and public participation are essential to this process."
          ],
          [
           "The author is exploring the idea that India is a land of unity and peace, and that its people have always been committed to these values."
          ],
          [
           "The central theme of the author's exploration is India's economic growth and its potential to catalyze global economic resurgence."
          ],
          [
           "The author is exploring the idea that Swami Vivekananda's statue in JNU will inspire the students to be self-reliant and to work for the betterment of the country."
          ],
          [
           "The central theme of the author is exploring is how to make cities more liveable for people in a post-Covid world."
          ],
          [
           "The author is exploring how technology has changed lives in India and how the country is uniquely positioned to take advantage of the opportunities presented by the information era."
          ],
          [
           "The central theme and subject that the author is exploring is the special relationship between India and Bhutan and the initiatives taken by the two countries to strengthen connectivity between them."
          ],
          [
           "The author is exploring the need for an integrated, comprehensive, and holistic approach to fighting climate change."
          ],
          [
           "The central theme of the author is exploring is the strong relationship between India and Uzbekistan, and how the two countries are working together to overcome common challenges."
          ],
          [
           "The central theme of the text is the strengthening of relations between India and Vietnam, and the potential for cooperation between the two countries in the future."
          ],
          [
           "The central theme of the text is the importance of dialogue and debate in promoting shared values and traditions."
          ]
         ],
         "hovertemplate": "cluster=C3<br>tenure=MS_Year_4<br>x=%{x}<br>y=%{y}<br>Topics=%{customdata[0]}<extra></extra>",
         "legendgroup": "C3",
         "marker": {
          "color": "maroon",
          "symbol": "circle"
         },
         "mode": "markers",
         "name": "C3",
         "showlegend": false,
         "type": "scattergl",
         "x": [
          8.07741928100586,
          8.251737594604492,
          8.163065910339355,
          8.114143371582031,
          7.999886512756348,
          8.406519889831543,
          8.254490852355957,
          8.18172550201416,
          8.531732559204102,
          8.388486862182617,
          7.946063041687012,
          8.364461898803711,
          8.223139762878418,
          8.388449668884277,
          8.397912979125977,
          8.833390235900879,
          8.644976615905762,
          9.457324981689453,
          9.409250259399414,
          9.402230262756348
         ],
         "xaxis": "x4",
         "y": [
          1.470778226852417,
          1.2905162572860718,
          1.5356945991516113,
          1.1334857940673828,
          1.6389175653457642,
          1.4854058027267456,
          0.8759510517120361,
          1.0228973627090454,
          0.002674168674275279,
          0.2861465811729431,
          1.533214807510376,
          0.49825960397720337,
          1.1178233623504639,
          1.0475635528564453,
          0.8482832908630371,
          0.1725815385580063,
          0.12560316920280457,
          -0.18815460801124573,
          0.18388868868350983,
          -0.171059250831604
         ],
         "yaxis": "y4"
        },
        {
         "customdata": [
          [
           "The central theme of the author is to explore the contribution of Indian community across the world in the next quiz competition."
          ],
          [
           "The central theme of the author is exploring is the importance of the upcoming decade for the bright future of India."
          ],
          [
           "https://preview.redd.it/9u5d4z4w4fk51.png?width=1022&format=png&auto=webp&s=10a5a0a2d2b5c0e1b3a77e3f5"
          ],
          [
           "The central theme of the author is exploring is the need for climate justice and sustainable development."
          ],
          [
           "The central theme that the author is exploring is the idea of progress and development in India."
          ],
          [
           "The author explores the theme of development in Kerala and India."
          ],
          [
           "The author is exploring the theme of health and the importance of a strong healthcare system."
          ],
          [
           "The central theme of the text is cooperation between India and Sweden, with a focus on post-COVID stabilization and recovery."
          ],
          [
           "The central theme of the text is exploring the different interpretations of the Srimad Bhagavad Gita by scholars and mystics."
          ],
          [
           "The author is exploring the central theme and subject of the Quad as a force for global good, and how it will remain an important pillar of stability in the region."
          ],
          [
           "The central theme and subject that the author is exploring is the idea of a strong and united India."
          ],
          [
           "The author is exploring the central theme of moderation and peaceful co-existence as essential for peace and prosperity."
          ],
          [
           "The central theme of the text is the strong partnership between India and Russia, and the potential for cooperation between the two countries in the development of the Russian Far East."
          ],
          [
           "The author is exploring how the people of Himachal Pradesh have been able to successfully vaccinate their population against the coronavirus."
          ],
          [
           "The central theme of the author is exploring is the importance of the BRICS platform in today's world and the need for it to be even more result oriented in the future."
          ],
          [
           "The central theme and subject that the author is exploring is the idea of social and geographical challenges."
          ],
          [
           "The central theme and subject that the author is exploring is the strong relationship between India and the United States, and the potential for further cooperation between the two countries."
          ],
          [
           "The central theme of the text is cooperation among the QUAD countries to ensure peace and prosperity in the Indo-Pacific region."
          ],
          [
           "The central theme that the author is exploring is the importance of the upcoming decade for the relations between India and the United States."
          ],
          [
           "The central theme that the author is exploring is the success of the Swayampurna Goa Abhiyan and the potential for Goa to become a model of development for the rest of India."
          ],
          [
           "The central theme and subject that the author is exploring is the Prime Minister's remarks."
          ],
          [
           "The central theme and subject that the author is exploring is the potential for India's Fintech industry to provide benefits to the world."
          ],
          [
           "The central theme of the text is the liberation of Goa and the country's resolve for Swaraj."
          ]
         ],
         "hovertemplate": "cluster=C3<br>tenure=MS_Year_5<br>x=%{x}<br>y=%{y}<br>Topics=%{customdata[0]}<extra></extra>",
         "legendgroup": "C3",
         "marker": {
          "color": "maroon",
          "symbol": "circle"
         },
         "mode": "markers",
         "name": "C3",
         "showlegend": false,
         "type": "scattergl",
         "x": [
          8.438984870910645,
          8.13974380493164,
          8.276494979858398,
          8.717703819274902,
          8.749053001403809,
          9.147055625915527,
          8.462057113647461,
          9.517986297607422,
          8.416895866394043,
          9.150940895080566,
          9.161751747131348,
          9.573549270629883,
          9.203447341918945,
          8.430192947387695,
          9.191250801086426,
          9.677338600158691,
          9.350685119628906,
          9.109732627868652,
          9.203641891479492,
          8.412930488586426,
          9.318331718444824,
          8.916370391845703,
          9.85127067565918
         ],
         "xaxis": "x5",
         "y": [
          0.35880568623542786,
          1.0626429319381714,
          0.6827114224433899,
          0.05475533381104469,
          0.3159654438495636,
          -0.02283349633216858,
          0.3975743055343628,
          -0.20370391011238098,
          0.42138341069221497,
          0.4348837435245514,
          1.794182538986206,
          0.20987050235271454,
          0.13495969772338867,
          1.4666296243667603,
          -0.057462431490421295,
          0.383341521024704,
          -0.08781762421131134,
          0.25417980551719666,
          -0.054422713816165924,
          0.6370630264282227,
          1.7451239824295044,
          -0.021108312532305717,
          0.6992090940475464
         ],
         "yaxis": "y5"
        },
        {
         "customdata": [
          [
           "The central theme of the text is the power of democracy and the importance of voting."
          ],
          [
           "The author is exploring the central theme of the importance of cleanliness."
          ],
          [
           "The central theme of the author is exploring is the strong relationship between India and Mauritius and how they are working together to improve the lives of their people."
          ],
          [
           "D"
          ],
          [
           "The central theme of the text is the celebration of the 75 years of independence of India and the contributions of the younger generation to the country."
          ],
          [
           "The central theme of the author is exploring is the cooperation between India and Central Asia and how it is essential for regional security and prosperity."
          ],
          [
           "The central theme and subject that the author is exploring is the idea of a young country celebrating a historic moment with enthusiasm."
          ],
          [
           "The central theme of the author is exploring is the importance of the relationship between India and Israel and how it has increased over time."
          ],
          [
           "The author is exploring the idea that India's rich history and culture can be used to inspire her citizens to work towards a bright future for the country."
          ],
          [
           "D. The author is exploring the role of the National Commission for Women in expanding the scope of women's commissions in society."
          ],
          [
           "The author is exploring the benefits of the budget for the common man and the importance of self-reliance."
          ],
          [
           "The central theme of the text is the conflict between the ego and the intellect."
          ],
          [
           "The author is exploring the theme of India's commitment to cleaning up plastic waste in its oceans."
          ],
          [
           "The central theme of the author is exploring is the development of Mumbai and its surrounding cities."
          ],
          [
           "A. The author is exploring the idea that sustainable growth is possible only through sustainable energy sources."
          ],
          [
           "A. The author is exploring the theme of independence and the subject of the freedom fighters of India."
          ],
          [
           "D. The author is exploring the idea that the present government trusts the potential of the youth of"
          ],
          [
           "The author is exploring the central theme of the government's efforts to save money for the poor and middle-class through the Jan Aushadhi Kendras."
          ],
          [
           "The author is exploring the central theme of women empowerment in India."
          ],
          [
           "The central theme that the author is exploring is the role of financial institutions in the development of India."
          ],
          [
           "The author is exploring the idea that democracy can be used to improve life in rural areas."
          ],
          [
           "The central theme of the author is exploring is the potential of the youth in India."
          ],
          [
           "The central theme of the text is the need for trained manpower in the field of defence in India."
          ],
          [
           "The author is exploring the idea that people should not get comfortable in their jobs and should always look for challenging tasks."
          ],
          [
           "The central theme that the author is exploring is the role of the media in India's journey towards development."
          ],
          [
           "The central theme of the author is exploring is economic relations between India and Japan, and the opportunities for cooperation between the two countries."
          ],
          [
           "The central theme of the author is the India-Japan Special Strategic and Global Partnership, and the subject is the progress that has been made in this partnership over the last few years."
          ],
          [
           "The author is exploring the idea that Shastriji Maharaj's life was a continuous stream of discipline and austerity."
          ],
          [
           "The central theme of the text is the close cooperation between India and Australia in various areas, including trade, investment, defence, security, and education."
          ],
          [
           "The central theme of the text is the close cooperation between India and Australia in various areas, including trade, investment, defence, education, science and technology."
          ],
          [
           "The author is exploring the idea that the youth of India have always been at the forefront of the country's freedom struggle."
          ],
          [
           "The central theme and subject that the author is exploring is the great tradition of sages, saints, rishis, and acharyas in India and how it has been kept alive by Acharya Mahashraman ji."
          ],
          [
           "The central theme is the empowerment of the poor, and the subject is the Pradhan Mantri Awas Yojana scheme."
          ],
          [
           "The central theme the author is exploring is the importance of the Matua tradition in the development of India."
          ],
          [
           "The author is exploring the idea of regional cooperation and integration in order to improve the economic and social conditions of the countries in the BIMSTEC region."
          ],
          [
           "The central theme of the author is exploring is the friendship between India and Nepal and the cooperation between the two countries."
          ],
          [
           "The central theme of the text is the signing of the India-Australia Economic Cooperation and Trade Agreement, and the subject is the potential benefits of the agreement for both countries."
          ],
          [
           "The author is exploring the idea that humans should be more considerate of the environment and take better care of the Earth."
          ],
          [
           "The central theme of the text is the partnership between India and the United States, and the subject is the meeting between the two leaders."
          ],
          [
           "The author is exploring the idea that food is the first step to good health, and that ignorance about nutrition can lead to malnutrition."
          ],
          [
           "The central theme of the text is a rescue operation carried out by the Indian armed forces and emergency services."
          ],
          [
           "The central theme of the text is the importance of the Prime Ministers' Museum in India."
          ],
          [
           "The central theme that the author is exploring is the progress of the hill state of Himachal Pradesh."
          ],
          [
           "The author is exploring the development of healthcare in Kutch and the importance of cleanliness and proper nutrition in maintaining good health."
          ],
          [
           "The central theme of the text is exploring the idea of Hanuman Ji as a link between devotion and service and his importance in the resolve of 'Ek Bharat, Shrestha Bharat'."
          ],
          [
           "A. The central theme that the author is exploring is the use of technology in primary schools."
          ],
          [
           "2020.11.17 15:02 kimchijjigae02 [SELLING] BTS MAP OF THE SOUL 7 OFFICIAL POSTER SET (2ND PRINT) (UNSEALED) $"
          ],
          [
           "The central theme that the author is exploring is the potential of the AYUSH sector and the importance of investment and innovation in this sector."
          ],
          [
           "The author is exploring the central theme of progress and development for the tribal community in India."
          ],
          [
           "The central theme of the author is exploring is the idea of the 'Azadi Ka Amrit Mahotsav' and the 400th Prakash Parv of Guru Tegh Bahadur ji."
          ],
          [
           "The author is exploring the idea that the Indian culture is one that is open to change and adaptability."
          ],
          [
           "The central theme and subject that the author is exploring is the strengthening of relations between India and the UK, as well as the cooperation between the two countries in various sectors such as trade, defence, and climate change."
          ],
          [
           "The author is exploring the role of the Panchayati Raj system in the development of Jammu and Kashmir."
          ],
          [
           "The central themes of the book are love and relationships."
          ],
          [
           "The Philadelphia Flyers were the first expansion team of the 1967 NHL expansion. They were originally owned by Ed Snider, who had made his money in the cable TV industry. Snider"
          ],
          [
           "The central theme and subject that the author is exploring is the launch of the Sri Sathya Sai Sanjeevani Children's Heart Hospital in Suva, Fiji, and the importance of this hospital in providing world-class treatment to children with heart-related diseases."
          ],
          [
           "C. The author is exploring the idea that people should be more mindful of the happiness of others."
          ],
          [
           "The central theme the author is exploring is the idea that people are capable of change and growth, even after experiencing difficult life events."
          ],
          [
           "The author is exploring the central theme of the Sikh community's contribution to the country in the freedom struggle and even after independence."
          ],
          [
           "The central theme that the author is exploring is the potential for India to become a hub for semiconductor technologies."
          ],
          [
           "The central theme of the text is the role of the judiciary in a democracy."
          ],
          [
           "The central theme of the author is exploring is the potential for development in India."
          ],
          [
           "The author is exploring the theme of the government's efforts to improve the quality of life for the people of India."
          ],
          [
           "The central theme of the text is the India-Germany Intergovernmental Consultations (IGC) and the importance of the partnership between the two countries."
          ],
          [
           "The author is exploring the idea that the 21st century is a pivotal time for India to become a world leader."
          ],
          [
           "The central theme of the author is exploring is the need for resilient infrastructure to prevent disasters."
          ],
          [
           "The central theme of the author is exploring is the relationship between India and Israel, and how it has grown over the years."
          ],
          [
           "The central theme that the author is exploring is the idea of India's potential and resolve to build a Golden India in the next 25 years."
          ],
          [
           "The central theme of the author is exploring is the 100% coverage of beneficiaries for schemes which will end discrimination and provide social justice."
          ],
          [
           "The author is exploring the need for a coordinated global response to combat future health emergencies."
          ],
          [
           "The central theme that the author is exploring is the success of the start-up revolution in India."
          ],
          [
           "The central theme of the text is the shared heritage between India and Nepal, and the author is exploring the relationship between the two countries."
          ],
          [
           "The author is exploring the potential of 5G technology to transform India's economy and society."
          ],
          [
           "C. The author is exploring the idea that the working style of the government has changed in the country, the thinking of the society"
          ],
          [
           "The central theme of the author is exploring is the contribution of Shri Ganapathy Sachchidananda Swamiji to society and how his efforts are an inspiration to the youth of the country."
          ],
          [
           "The central theme of the author is exploring is the deep connection between India and Japan, and how the two countries are working together to solve global challenges."
          ],
          [
           "The central theme of the author is the importance of the Quad friendship and cooperation in ensuring peace, prosperity and stability in the Indo-Pacific region."
          ],
          [
           "The central theme of the text is the role of the youth in the development of the country. The author is exploring how the youth can contribute to the implementation of the government's policies and initiatives."
          ],
          [
           "The author is exploring the central theme of the importance of infrastructure in developing countries."
          ],
          [
           "The central theme of the author is exploring is the use of drone technology in India and how it can help in the country's progress."
          ],
          [
           "The author is exploring the idea that the BJP-led NDA government is committed to improving the lives of the poor in India."
          ],
          [
           "The central theme of the author is exploring is the importance of the cooperative sector in India."
          ],
          [
           "The central theme of the text is the difficulties faced by children whose parents have died of the coronavirus, and the subject is the government's efforts to help these children."
          ],
          [
           "The author is exploring the idea that the government is working to empower the poor and create a new India."
          ],
          [
           "The central theme that the author is exploring is the potential of Uttar Pradesh to drive India's growth in the 21st century."
          ],
          [
           ""
          ],
          [
           "The author is exploring the idea that humans need to take better care of the environment and the earth's resources."
          ],
          [
           "The author is exploring the central theme of service and the subject of environmental protection."
          ],
          [
           "The author is exploring the idea that government-centric governance in the past has led to many problems for the people of the country."
          ],
          [
           "The central theme and subject that the author is exploring is the potential of the biotech sector in India."
          ],
          [
           "The author is exploring the potential of the private sector in the space industry in India."
          ],
          [
           "A. The central theme of the text is a description of the Prime Minister's visit to Navsari, Gujarat, where he inaugurates a Healthcare Complex and Multispeciality Hospital. The subject of the text is the Prime Minister's speech at the event."
          ],
          [
           "D. The author is exploring the idea of a time-bound manner in which the state government is undertaking progressive projects."
          ],
          [
           "The Death of the Moth Moths that fly by day are not properly to be called moths; they do not excite that pleasant"
          ],
          [
           "The central theme of the text is the author's exploration of the relationship between the individual and society."
          ],
          [
           "The author is exploring the idea that humans are not the only ones who experience emotions, but animals do as well."
          ],
          [
           "The central theme and subject that the author is exploring is the history of the Constitution of India and how it has evolved over time."
          ],
          [
           "The author is exploring the central theme of women empowerment and the subject of providing modern facilities to the devotees of Maa Kali at Pavagadh."
          ],
          [
           "The central theme that the author is exploring is the revival of the Kalika temple and the flag hoisting on the summit of the Pavagadh temple."
          ],
          [
           "The central theme that the author is exploring is that of change and how it can be a good thing."
          ],
          [
           "The author is exploring the theme of modern infrastructure and the benefits it provides to the people."
          ],
          [
           "A: The central theme and subject that the author is exploring is the idea that knowledge is power."
          ],
          [
           "The central theme of the author is to explore the opportunities that the youth of India can avail by taking the country to new heights."
          ],
          [
           "The central theme of the text is the importance of yoga in connecting people with a healthy lifestyle."
          ],
          [
           "The central theme of the author is exploring is that yoga is a way of life that can be used to bring peace to the world."
          ],
          [
           "The central theme of the author is exploring is the importance of BRICS countries in global growth, and the role that technology will play in India's economic recovery."
          ],
          [
           "The author is exploring the theme of the importance of export in the development of a country."
          ],
          [
           "The central theme of the author is exploring is the cooperation between BRICS countries to improve the global economy."
          ],
          [
           "The central theme of the author is exploring is the importance of democracy in India."
          ],
          [
           "The central theme of the text is that India has a long history of commitment to the environment, and that the country is working to inspire other nations to follow its example."
          ],
          [
           "The central theme of the author is exploring is the impact of global tension on developing countries and India's efforts to mitigate these impacts."
          ],
          [
           "The author is exploring the central theme of India's growth and the importance of investing in tech and innovation."
          ],
          [
           "The author is exploring the potential of MSMEs in India and the importance of the sector in the country's economy."
          ],
          [
           "The central theme of the text is the life and struggle of Alluri Sitaram Raju, a freedom fighter from Andhra Pradesh, India."
          ],
          [
           "The central theme that the author is exploring is the role of vernacular journalism in India's tradition, culture, freedom struggle and development journey."
          ],
          [
           "The author is exploring the potential and ability of the present generation to take the country forward."
          ],
          [
           "The central theme of the author is exploring is development."
          ],
          [
           "The central theme that the author is exploring is the idea of \"Growth through Inclusivity, Inclusivity through Growth\", and how this is the basic mantra of the development policy of the government."
          ],
          [
           "The author is exploring the idea that natural farming is a way to serve Mother Earth and protect the quality of the soil, the health of the land, and its productivity."
          ],
          [
           "The author is exploring the idea that development in one area can lead to development in other areas, and that infrastructure projects can lead to new opportunities for employment, self-employment, and trade."
          ],
          [
           "The author is exploring the idea of cooperation between India and the United Arab Emirates in order to improve global economic conditions."
          ],
          [
           "The author is exploring the potential of the Bundelkhand Expressway to accelerate the industrial progress of the entire Bundelkhand region."
          ],
          [
           "The author is exploring the need for self-reliance in the Indian armed forces and the need for a new approach to national defense."
          ],
          [
           "The central theme that the author is exploring is the importance of social justice in India."
          ],
          [
           "The central theme of the author is exploring is the importance of sports in uniting people and societies."
          ],
          [
           "The author is exploring the central theme of the importance of cooperatives in developing the infrastructure and economy of Gujarat."
          ],
          [
           "The central theme that the author is exploring is the opportunity for youth in India to make a difference in the world."
          ],
          [
           "The central theme the author is exploring is the idea that Gift City is a place where new ideas are emerging, wealth creation is happening, and the best minds of the world are coming to learn and grow."
          ],
          [
           "The central theme that the author is exploring is the importance of the energy sector in India's development."
          ],
          [
           "The central theme of the author's exploration is justice and how it is essential for the country."
          ],
          [
           "The central theme and subject that the author is exploring is the importance of fairs in India."
          ],
          [
           "The central theme of the author is exploring is the partnership between India and Maldives and how it is beneficial for both countries as well as the region."
          ],
          [
           "The central theme of the text is the impact of the author's experiences on the youth and democracy in India."
          ],
          [
           "The central theme of the text is the life and work of M. Venkaiah Naidu."
          ],
          [
           "The central theme and subject that the author is exploring is the importance of biofuels in reducing pollution and helping farmers."
          ],
          [
           "The author is exploring the central theme of the unity and consciousness of India, and the subject of the country's progress."
          ],
          [
           "The author is exploring the potential of the Indian people to continue to progress despite facing innumerable adversities."
          ],
          [
           "The central theme and subject of the text is the achievement of the country in providing piped water to rural households."
          ],
          [
           "The author is exploring the idea that modern technology is improving healthcare in India."
          ],
          [
           "The central theme of the text is the importance of service and treatment in India. The author discusses how India has always placed a high value on service and treatment, and how this has led to the country's success in various fields."
          ],
          [
           "The central theme and subject that the author is exploring is the importance of innovation and entrepreneurship in India's development."
          ],
          [
           "The central theme of the author is exploring is that the country's labour force has a huge role to play in realizing our dreams and aspirations to build a developed India in the ‘Amrit Kaal’."
          ],
          [
           "The central theme that the author is exploring is the idea of self-reliance."
          ],
          [
           "The author is exploring the theme of the strength of the human spirit in the face of adversity."
          ],
          [
           "The central theme of the text is the strong India-Japan partnership and the developmental successes of Gujarat."
          ],
          [
           "The author is exploring the idea that modern infrastructure is necessary for the development of India."
          ],
          [
           "The central theme of the poem is that wisdom is more important than knowledge and that knowledge is more important than wealth."
          ],
          [
           "The central theme of the text is the idea that India is rapidly developing its infrastructure and that this development is benefiting the people of the country."
          ],
          [
           "The central theme of the text is the importance of teachers in society, and the subject is a tribute to Dr. Radhakrishnan on his birth anniversary."
          ],
          [
           "The central theme that the author is exploring is the potential for cooperation between India and Russia in the development of the Russian Far East."
          ],
          [
           "The central theme and subject that the author is exploring is the power of books."
          ],
          [
           "The central theme of the text is the transformation of India from a colony to a free nation, and the author is exploring the idea that this transformation is still ongoing."
          ],
          [
           "The author is exploring the role of science and technology in 21st century India and how it can help accelerate the development of every region and every state."
          ],
          [
           "The author is exploring the potential of the dairy sector in India and how it can be a major source of livelihood for people around the world."
          ],
          [
           "The author is discussing the role of the SCO in the current global environment."
          ],
          [
           "The central theme of the text is the strengthening of relations between India and Russia, and the potential cooperation between the two countries on issues of global concern."
          ],
          [
           "The author is exploring the potential of the National Logistics Policy in making India a developed country."
          ],
          [
           "The author is exploring the central theme of the importance of skills and how they are related to the success of a country in the 21st century."
          ],
          [
           "The author is exploring the idea that women have been historically marginalized in India, but are now beginning to play a more active and empowered role in society."
          ],
          [
           "The author is exploring the idea that humans need to reconnect with nature in order to create a sustainable future."
          ],
          [
           "The author is exploring the central theme and subject of the divine voice of Lata Ji and the Ram temple in Ayodhya."
          ],
          [
           "The author is exploring the central theme of development in Surat, India."
          ],
          [
           "The central theme of the author is the development of Bhavnagar and the subject is the 300 years of foundation of Bhavnagar."
          ],
          [
           "The author is exploring the potential of the youth of India in the field of sports."
          ],
          [
           "The author is exploring the theme of urban development and the importance of cities in the 21st century."
          ],
          [
           "The central theme of the author is exploring is the empowerment of women in India."
          ],
          [
           "The author is exploring the potential of 5G technology in India and how it can be used to accelerate India's development."
          ],
          [
           "The author is exploring the development of Himachal Pradesh and the role that the government has played in this development."
          ],
          [
           "The author is exploring the potential of solar power in Modhera, India."
          ],
          [
           "The author is exploring the development of Gujarat and Jamnagar."
          ],
          [
           "The author is exploring the idea that every citizen can make a huge contribution to the country's development by supporting local products and industries."
          ],
          [
           "The author is exploring the role of technology and talent in empowering the last person at the last mile, in a mission mode, as part of the 2nd United Nations World geo-spatial International Congress."
          ],
          [
           "The central theme of the text is the development of the health sector in Gujarat, and the subject is the inauguration of a new hospital."
          ],
          [
           "The author is exploring the idea that Mahakal is a symbol of India's immortality."
          ],
          [
           "The central theme of the text is the development of India. The author is exploring how the country is working to improve infrastructure and provide better opportunities for its citizens."
          ],
          [
           "The author is exploring the importance of a reliable and speedy justice system in a healthy society."
          ],
          [
           "The author is exploring the various ways in which technology can help improve the lives of farmers in India."
          ],
          [
           "The central theme that the author is exploring is the idea that a person's health is more important than their wealth or fortune."
          ],
          [
           "The central theme of the author is that Lothal was a prosperous city with a rich maritime history that has been largely forgotten and that there is much to learn from its past."
          ],
          [
           "The central theme that the author is exploring is the need for international cooperation to combat global threats."
          ],
          [
           "The author is exploring the idea that development does not mean building roads, markets, malls and plazas in the cities, but that it is also an opportunity to fulfill the responsibility of providing for the needs of the urban poor and middle class."
          ],
          [
           "The author is exploring the central theme of development in Gujarat."
          ],
          [
           "A. The author is exploring the idea of a new generation of schools in Gujarat that will use 5G technology."
          ],
          [
           "The central theme and subject that the author is exploring is the potential of the youth of India in the Defence sector."
          ],
          [
           "The author is exploring the development of the tribal areas and the BJP government's dedication to the welfare of the tribal people."
          ],
          [
           "The central theme that the author is exploring is the idea that climate change is a global issue that requires the attention of every individual."
          ],
          [
           "The central theme that the author is exploring is the neglect of religious places in India."
          ],
          [
           "The central theme that the author is exploring is the idea of a \"self-reliant India.\" The author discusses how the country is moving towards becoming a global hub and how the government is working to create more jobs."
          ],
          [
           "The central theme that the author is exploring is that of duty."
          ],
          [
           "The central theme that the author is exploring is the idea that lamps represent the hope and resilience of India and its people."
          ],
          [
           "The author is exploring the central theme of a nation's strength and immortality, and the subject of a nation's brave soldiers."
          ],
          [
           "The central theme that the author is exploring is the importance of the path shown by Acharya Shri Vijay Vallabh Surishwar ji and the present Gachhadhipati Acharya Shri Nityanand Surishwar ji in the making of a developed India."
          ],
          [
           "The central theme of the author is the expansion of the ArcelorMittal Nippon Steel India Hazira Plant and the benefits it will bring to the country."
          ],
          [
           "The central theme that the author is exploring is the need for cooperation between agencies in order to maintain law and order in the country."
          ],
          [
           "The author is exploring the idea that the youth of Gujarat have a golden opportunity to help take India forward in the next 25 years."
          ],
          [
           ".The central theme and subject that the author is exploring is the development of India's manufacturing sector."
          ],
          [
           "The central theme of the text is the importance of employment and self-employment in the 21st century, and the subject is the government's efforts to promote employment and self-employment in Jammu and Kashmir."
          ],
          [
           "D. The author is exploring the idea that the unity of a country is a myth. A. The author is exploring the idea that the unity of a country is important."
          ],
          [
           "The central theme of the author is exploring is the importance of water in development."
          ],
          [
           "A. The central theme of the author is to explore the idea of development and connectivity in Gujarat."
          ],
          [
           "The author is exploring the central theme of the importance of the tribal society in Gujarat and the subject of the various initiatives taken by the government to improve the lives of the tribal people."
          ],
          [
           "The author is exploring the theme of the impact of digital technology on the modern world."
          ],
          [
           "The central theme of the text is the advantages that the state of Karnataka has to offer as an investment destination, as well as the government's efforts to make India a more attractive place to do business."
          ],
          [
           "The central theme and subject that the author is exploring is the inequality and discrimination in the development of cities in India."
          ],
          [
           "The author is exploring the central theme of providing employment opportunities for the youth in Maharashtra."
          ],
          [
           "The central theme that the author is exploring is the idea of a \"decisive fight against corruption.\""
          ],
          [
           "The central theme of the text is the importance of Guru Nanak Dev Ji's teachings in modern times."
          ],
          [
           "The central theme that the author is exploring is the idea that India can show the world how to overcome global challenges through its philosophy, culture, and values."
          ],
          [
           "A. The author is exploring the theme of the importance of education in society."
          ],
          [
           "The central theme of the author is exploring is the importance of Gandhian values in today's world and how the youth can make a big impact in rural development."
          ],
          [
           "The author is exploring the idea of holistic development in India."
          ],
          [
           "The central theme and subject that the author is exploring is the importance of self-sufficiency in fertilizers and the challenges the country faces in meeting the demand for fertilizers."
          ],
          [
           "The central theme of the author is the celebration of Janjatiya Gaurav Diwas and the development of tribal society in India."
          ],
          [
           "The central theme of the text is that the world is facing many challenges, and that the G-20 has an important role to play in addressing these challenges."
          ],
          [
           "The central theme of the author is that the relations between India and Indonesia have been full of enthusiasm and untiring and that they remain afloat like those waves."
          ],
          [
           "The author is exploring how India's technology and innovation has impressed the world and how the future will be even bigger."
          ],
          [
           "The central theme of the author is exploring is the digital divide and how digital technology can help in the fight against poverty and climate change."
          ],
          [
           "The central theme of the text is that India will strive to take forward Indonesia's commendable initiatives during its G-20 Presidency, with a focus on making sustainable lifestyles a mass movement."
          ],
          [
           "The central theme of the author is exploring is the development of Arunachal Pradesh."
          ],
          [
           "The central theme and subject that the author is exploring is the idea that Kashi and Tamil Nadu are two regions of India that are very similar to each other in many ways despite being geographically far apart."
          ],
          [
           "The central theme that the author is exploring is the creation of new job opportunities for youths in India."
          ],
          [
           "The central theme of the author is exploring is providing employment to the youth."
          ],
          [
           "The central theme of the text is the history and culture of Assam, and the subject that the author is exploring is the life and legacy of Lachit Borphukan."
          ],
          [
           "The central theme of the author is exploring is the Constitution of India and the importance of celebrating it."
          ],
          [
           "The central theme that the author is exploring is the successful organization of the Sangai Festival, and the subject is the cultural richness and diversity of Manipur."
          ],
          [
           "The central theme of the text is the upcoming G-20 summit, and the subject is India's role in the event."
          ],
          [
           "The central theme and subject that the author is exploring is the importance of leadership in the Rajya Sabha, and the importance of the Rajya Sabha in Indian democracy."
          ],
          [
           "The author is exploring the idea that humans are capable of great things if they set their minds to it."
          ],
          [
           "The author is exploring the idea that Ayurveda is not just a system of traditional medicine, but a way of life that can teach us how to live our lives in a healthy way."
          ],
          [
           "The central theme that the author is exploring is the impact of the expanding air travel industry in India."
          ],
          [
           "The central theme of the text is the power of inspiration and motivation."
          ],
          [
           "The central theme that the author is exploring is the contribution of Pramukh Swami ji in establishing the tradition of saints in India."
          ],
          [
           "A. The central theme of the text is exploring the idea of development and its different aspects."
          ],
          [
           "The central theme of the text is the development of Tripura."
          ],
          [
           "The author is exploring the idea that knowledge is the most sacred and important thing in the world."
          ],
          [
           "The central theme of the author is to explore the potential of the young generation of India and the way they have saved the country in the past."
          ],
          [
           "The two major challenges of India"
          ]
         ],
         "hovertemplate": "cluster=C3<br>tenure=MS_Year_6<br>x=%{x}<br>y=%{y}<br>Topics=%{customdata[0]}<extra></extra>",
         "legendgroup": "C3",
         "marker": {
          "color": "maroon",
          "symbol": "circle"
         },
         "mode": "markers",
         "name": "C3",
         "showlegend": false,
         "type": "scattergl",
         "x": [
          8.644021034240723,
          10.100892066955566,
          9.107780456542969,
          8.986762046813965,
          8.889925003051758,
          9.14608383178711,
          8.965619087219238,
          9.75761604309082,
          8.520709991455078,
          8.430773735046387,
          8.366212844848633,
          8.747520446777344,
          9.393437385559082,
          8.698803901672363,
          8.997395515441895,
          8.729913711547852,
          8.463812828063965,
          8.532613754272461,
          8.712315559387207,
          8.396637916564941,
          8.64173412322998,
          8.869512557983398,
          8.823476791381836,
          8.543159484863281,
          8.703667640686035,
          9.439523696899414,
          9.995482444763184,
          8.736793518066406,
          9.375195503234863,
          9.457924842834473,
          8.49581241607666,
          8.863940238952637,
          8.817233085632324,
          8.995488166809082,
          9.442193031311035,
          9.454463005065918,
          9.897233963012695,
          8.685111045837402,
          8.897889137268066,
          8.783304214477539,
          8.8458833694458,
          8.696270942687988,
          8.568684577941895,
          8.712014198303223,
          8.563597679138184,
          8.66027545928955,
          8.723411560058594,
          8.915111541748047,
          9.252971649169922,
          8.252909660339355,
          9.053333282470703,
          9.182551383972168,
          8.78490924835205,
          8.780207633972168,
          8.515780448913574,
          9.010478019714355,
          8.66833209991455,
          8.605621337890625,
          8.92569637298584,
          8.654102325439453,
          8.36424446105957,
          8.578766822814941,
          9.71075439453125,
          8.999319076538086,
          8.459978103637695,
          8.770829200744629,
          10.110214233398438,
          9.094512939453125,
          8.923848152160645,
          8.426005363464355,
          8.952284812927246,
          9.198205947875977,
          8.899482727050781,
          8.854988098144531,
          8.533468246459961,
          10.004729270935059,
          9.32164478302002,
          8.979002952575684,
          8.770827293395996,
          8.787593841552734,
          9.128707885742188,
          9.00987434387207,
          9.016519546508789,
          8.765890121459961,
          8.876840591430664,
          8.952497482299805,
          9.1456298828125,
          8.788318634033203,
          8.845540046691895,
          9.085895538330078,
          8.970404624938965,
          8.984228134155273,
          8.839176177978516,
          9.517618179321289,
          9.170963287353516,
          9.168790817260742,
          9.271868705749512,
          8.651012420654297,
          8.909789085388184,
          8.860634803771973,
          9.193532943725586,
          10.114789009094238,
          9.175322532653809,
          8.849141120910645,
          9.15052318572998,
          8.988224983215332,
          9.253655433654785,
          8.668597221374512,
          9.489680290222168,
          9.175868034362793,
          8.971266746520996,
          8.875526428222656,
          9.271610260009766,
          9.029317855834961,
          9.292141914367676,
          9.086009979248047,
          9.547248840332031,
          9.18122386932373,
          9.498706817626953,
          9.088665962219238,
          9.756914138793945,
          9.189752578735352,
          9.5440034866333,
          9.205268859863281,
          8.908979415893555,
          9.358885765075684,
          9.174720764160156,
          9.20569133758545,
          9.312333106994629,
          8.790284156799316,
          9.197020530700684,
          9.625720024108887,
          9.17457389831543,
          10.893692016601562,
          9.260293960571289,
          8.610143661499023,
          9.660165786743164,
          9.14966106414795,
          9.360325813293457,
          9.487305641174316,
          9.094846725463867,
          9.070802688598633,
          9.487001419067383,
          9.505227088928223,
          9.784542083740234,
          9.460871696472168,
          9.32296371459961,
          9.22407341003418,
          9.28692626953125,
          9.21624755859375,
          9.558006286621094,
          9.650599479675293,
          9.96490478515625,
          9.703496932983398,
          9.317070007324219,
          10.02497673034668,
          9.448556900024414,
          9.48666763305664,
          9.377449035644531,
          9.460354804992676,
          9.539298057556152,
          9.55279541015625,
          9.56871509552002,
          9.382922172546387,
          9.393633842468262,
          9.572772979736328,
          9.731059074401855,
          9.321623802185059,
          9.678290367126465,
          9.615620613098145,
          9.494124412536621,
          9.41135025024414,
          9.413809776306152,
          9.713451385498047,
          9.292033195495605,
          9.627326965332031,
          9.679177284240723,
          9.437119483947754,
          9.369867324829102,
          9.66259479522705,
          9.105891227722168,
          9.432778358459473,
          9.452892303466797,
          9.598702430725098,
          9.753753662109375,
          9.393511772155762,
          9.935251235961914,
          9.51273250579834,
          9.389779090881348,
          9.719738006591797,
          9.113585472106934,
          9.777006149291992,
          9.647759437561035,
          10.03905200958252,
          9.701972007751465,
          9.534188270568848,
          9.667648315429688,
          9.558798789978027,
          9.663804054260254,
          9.55305290222168,
          9.872401237487793,
          9.701333045959473,
          9.480966567993164,
          9.614666938781738,
          9.93999195098877,
          9.915834426879883,
          9.705831527709961,
          9.608654975891113,
          9.706838607788086,
          9.719919204711914,
          9.745985984802246,
          10.014204025268555,
          9.663336753845215,
          9.318367004394531,
          9.885149955749512,
          9.463651657104492,
          9.69317626953125,
          9.432781219482422,
          9.751760482788086,
          9.631073951721191,
          9.807692527770996,
          9.691147804260254,
          9.815178871154785,
          10.059172630310059,
          10.150453567504883,
          9.226338386535645,
          9.891633033752441,
          9.7803955078125,
          10.112489700317383,
          10.13754940032959,
          10.100236892700195,
          9.926644325256348,
          9.86260986328125,
          9.325567245483398,
          10.157103538513184,
          10.180133819580078,
          9.790006637573242
         ],
         "xaxis": "x6",
         "y": [
          0.08662109822034836,
          0.7224709987640381,
          -0.035550255328416824,
          0.18166561424732208,
          0.2186315357685089,
          -0.046998295933008194,
          0.07018603384494781,
          0.5048902630805969,
          0.03928103670477867,
          1.018996000289917,
          0.4670661389827728,
          0.7029572129249573,
          0.16043268144130707,
          0.058807794004678726,
          0.13308344781398773,
          0.2736110985279083,
          0.6096112728118896,
          0.24852316081523895,
          0.18462899327278137,
          0.4051356613636017,
          0.5410982370376587,
          0.08890379220247269,
          0.10566829144954681,
          0.3534930646419525,
          -0.034448202699422836,
          -0.22942876815795898,
          0.24244238436222076,
          1.0995858907699585,
          -0.14499619603157043,
          -0.15244825184345245,
          0.4572302997112274,
          0.15558725595474243,
          0.23463203012943268,
          1.433673620223999,
          -0.01522526890039444,
          -0.018494965508580208,
          0.17550435662269592,
          0.37463659048080444,
          1.2875701189041138,
          1.169689655303955,
          0.6355787515640259,
          1.2312307357788086,
          1.4228063821792603,
          0.6061934232711792,
          0.9622361063957214,
          0.5632903575897217,
          1.1404391527175903,
          0.2755357623100281,
          0.27699607610702515,
          1.111908197402954,
          0.7236008048057556,
          0.2572476267814636,
          0.9197729825973511,
          0.6529788374900818,
          0.4457986056804657,
          0.772280216217041,
          1.361946940422058,
          0.522219181060791,
          1.525622844696045,
          0.5904101729393005,
          0.8878158926963806,
          0.9884433150291443,
          1.6832093000411987,
          0.04230441153049469,
          0.3141654431819916,
          0.023347482085227966,
          1.5215264558792114,
          0.19570425152778625,
          1.1124765872955322,
          0.3021220266819,
          1.3062193393707275,
          0.44299790263175964,
          0.6023819446563721,
          1.02204167842865,
          0.894221842288971,
          0.3089635968208313,
          0.3852364122867584,
          0.5552017092704773,
          0.9461496472358704,
          0.25310078263282776,
          1.2639787197113037,
          0.9563801884651184,
          1.2375411987304688,
          0.5300726890563965,
          0.7609687447547913,
          0.9324983358383179,
          0.3801701068878174,
          0.3864423334598541,
          0.8831877708435059,
          0.6053736209869385,
          0.7028454542160034,
          1.4698668718338013,
          0.5477577447891235,
          0.5007176399230957,
          0.532298743724823,
          0.7127057909965515,
          1.3935943841934204,
          0.6125058531761169,
          1.0344245433807373,
          0.8247348070144653,
          1.405132532119751,
          0.6470024585723877,
          1.4595032930374146,
          0.910178005695343,
          0.9552969932556152,
          0.8005834817886353,
          0.6278309226036072,
          0.7627607583999634,
          1.1812634468078613,
          0.9278742671012878,
          0.4775432348251343,
          0.7618030309677124,
          0.692133903503418,
          1.0380949974060059,
          1.309643030166626,
          0.9144018292427063,
          0.738411545753479,
          1.3816043138504028,
          0.696519136428833,
          0.516804039478302,
          0.04603161662817001,
          0.7790776491165161,
          0.5782252550125122,
          0.6939147114753723,
          0.4066803753376007,
          1.2418477535247803,
          0.5338680744171143,
          1.0876201391220093,
          0.9423673748970032,
          0.7130277752876282,
          1.0242780447006226,
          -0.12335436791181564,
          1.0261389017105103,
          1.2255938053131104,
          1.303274154663086,
          1.2702628374099731,
          1.3676176071166992,
          1.0668658018112183,
          1.5143113136291504,
          1.5565298795700073,
          0.8306260108947754,
          1.127581238746643,
          1.1733758449554443,
          1.1292691230773926,
          0.37997710704803467,
          0.43300196528434753,
          0.9944656491279602,
          0.9934793710708618,
          0.7155275344848633,
          0.24191968142986298,
          1.0944457054138184,
          0.9919877052307129,
          0.9435053467750549,
          0.8231996893882751,
          0.15757569670677185,
          0.33024466037750244,
          1.0639182329177856,
          0.8224457502365112,
          1.1750566959381104,
          0.6207407712936401,
          0.530945360660553,
          0.3814772963523865,
          1.0137795209884644,
          1.2867485284805298,
          1.012049913406372,
          1.0730180740356445,
          1.3243714570999146,
          0.931842565536499,
          0.8456255793571472,
          1.4225075244903564,
          1.4645270109176636,
          0.18629933893680573,
          0.9703251719474792,
          1.6499295234680176,
          1.274354100227356,
          1.4533814191818237,
          1.334873914718628,
          1.160270094871521,
          1.2713007926940918,
          0.4868345856666565,
          1.2124383449554443,
          0.9538020491600037,
          1.037131905555725,
          0.9282684922218323,
          0.9378191232681274,
          0.7736280560493469,
          1.5488824844360352,
          0.9364089965820312,
          1.0967594385147095,
          1.6808860301971436,
          1.1551752090454102,
          1.1974215507507324,
          1.2990614175796509,
          1.4274375438690186,
          0.8936732411384583,
          1.0138007402420044,
          1.489383578300476,
          1.1653971672058105,
          1.277209997177124,
          1.2104021310806274,
          1.4423880577087402,
          0.7666783928871155,
          0.7246414422988892,
          0.991535484790802,
          1.4553765058517456,
          1.1269665956497192,
          1.536191463470459,
          0.2609817087650299,
          1.5305858850479126,
          1.0084598064422607,
          1.577007532119751,
          0.9840970039367676,
          0.7968479990959167,
          0.4422183334827423,
          0.8719418048858643,
          0.7155442237854004,
          1.2429556846618652,
          0.428632527589798,
          0.9548556804656982,
          1.0344221591949463,
          0.6641698479652405,
          0.734050452709198,
          1.159316062927246,
          0.8901232481002808,
          1.454750895500183,
          0.5739216804504395,
          1.355263352394104,
          1.4249757528305054,
          1.1520414352416992,
          0.7104358077049255,
          0.9698566198348999,
          0.5572106242179871,
          1.4709275960922241,
          0.6893375515937805,
          1.5410665273666382,
          1.261218547821045,
          1.1463336944580078
         ],
         "yaxis": "y6"
        },
        {
         "customdata": [
          [
           "The central theme of the text is the importance of data and technology in scientific discovery, and the author is exploring how these two factors can help India become a leading country in the field of science."
          ],
          [
           "The author is exploring the idea that public participation is essential for the success of any campaign related to water conservation."
          ],
          [
           "The central theme that the author is exploring is the role of the Indian diaspora in promoting India's image abroad."
          ],
          [
           "The central theme of the author is exploring is the role of Madhya Pradesh in building a developed India."
          ],
          [
           "The author is exploring the need for the global south to have a greater role in shaping the emerging order and for a global agenda of 'Respond, Recognize, Respect and Reform'."
          ],
          [
           "The author is exploring the idea that human-centric development is an important priority for developing countries, and that these countries need to work together to set the global agenda."
          ],
          [
           "submitted by E-Z-2-C to IAS"
          ],
          [
           "The central theme of the text is the development of inland waterways in India."
          ],
          [
           "The author is exploring the idea that developing countries have similar perspectives on important issues and that South-South Cooperation is important."
          ],
          [
           "The author is exploring the concept of 'human-centric globalisation', and the need for developing countries to unite in order to achieve this."
          ],
          [
           "The central theme and subject that the author is exploring is the Vande Bharat Express train and its significance for the people of Telangana and Andhra Pradesh."
          ],
          [
           "The central theme and subject the author is exploring is the potential for development in Yadgir district, which has been left behind for many years."
          ],
          [
           "The central theme of the text is the empowerment of the Banjara community in Karnataka."
          ],
          [
           "The author is exploring the theme of development in India."
          ],
          [
           "The central theme of the author is exploring is the government's commitment to providing employment opportunities to the youth of India."
          ],
          [
           "The author's purpose is to inform the reader about the history of the independence struggle in India, and the life and contributions of Netaji Subhas Chandra Bose."
          ],
          [
           "The central theme of the text is the strengthening of relations between India and Egypt through a strategic partnership."
          ],
          [
           "The central theme the author is exploring is the importance of the youth in the development of the country."
          ],
          [
           "The central theme of the author is exploring is the role of NCC in the development of the country and the praiseworthy work the organization does."
          ],
          [
           "The author is exploring the idea that humans are capable of great violence and destruction."
          ],
          [
           "The central theme of the author's exploration is the dignity of India's Constitution and the pride of the parliamentary procedures."
          ],
          [
           "The author is exploring the central theme and subject of the budget and its impact on the different sectors of society."
          ],
          [
           "The central theme and subject that the author is exploring is the ancient Indian traditions of knowledge, service and humanity propagated by Krishnaguru ji."
          ],
          [
           "D. The author is exploring the theme of hope and redemption."
          ],
          [
           "The author is exploring the idea that humans are naturally disposed to follow orders from authority figures, even if those orders are harmful."
          ],
          [
           "A. The author is exploring the idea that Karnataka is a land of saints and sages and that it has always strengthened the great Indian tradition of spirituality, knowledge, and science."
          ],
          [
           "The author is exploring the reasons behind the disappointment of some people who do not see the achievements of the people of India."
          ],
          [
           "The author is exploring the idea that the more mud is thrown at the Lotus, the more it will bloom."
          ],
          [
           "The central theme that the author is exploring is the potential for development in Uttar Pradesh."
          ],
          [
           "The author is exploring the theme of change and how the Dawoodi Bohra community has always maintained its relevance according to time."
          ],
          [
           "The central theme of the author is exploring is the modern connectivity of Mumbai and Maharashtra and the new Vande Bharat trains."
          ],
          [
           "The central theme that the author is exploring is the importance of physiotherapy in India."
          ],
          [
           "A. The central theme of the text is the importance of Maharishi Dayanand Saraswati's 200th birth anniversary, and the subject is the life and work of Maharishi Dayanand Saraswati."
          ],
          [
           "The central theme of the author is exploring is the benefits of investing in infrastructure."
          ],
          [
           "The central theme of the author is exploring is the potential of India's defence sector and the country's capability to manufacture defence equipment."
          ],
          [
           "The central theme of the text is the deepening relationship between India and France, and the successes and ambitions of India's civil aviation industry."
          ],
          [
           "The author is exploring the idea that sports can be used as a way to bring out hidden potential in children and young adults."
          ],
          [
           "The central theme of the author is exploring is water conservation and how it is important for the future."
          ],
          [
           "The central theme of the text is the celebration of the country's ancient heritage and the importance of the tribal society in the 21st century."
          ],
          [
           "The author is exploring the concept of 'anti-fragile' and how it applies to India."
          ],
          [
           "The author is exploring the idea that the government is trying to create more opportunities for the youth in Uttarakhand."
          ],
          [
           "The central theme of the author is exploring is the importance of helping others in times of need."
          ],
          [
           "The central theme of the author is exploring is the friendship between India and Singapore and the launch of the UPI-Pay Now link."
          ],
          [
           "The central theme of the author is exploring is the government's strategy for Green Growth and Energy Transition in India."
          ],
          [
           "The author is exploring the theme of global economic leadership and the subject of digital finance."
          ],
          [
           "The central theme of the author is the exploring the budget related to agriculture and the importance of the sector."
          ],
          [
           "The central theme of the poem is the idea of progress and development."
          ],
          [
           "The central theme of the author is exploring is the importance of skills and education in the era of 'Amritkaal'."
          ],
          [
           "The central theme that the author is exploring is the increase in employment opportunities in the state of Uttar Pradesh in India."
          ],
          [
           "The central theme and subject that the author is exploring is the development of Belagavi and Karnataka."
          ],
          [
           "I am a high school student and I am having trouble writing my personal statement. I am not sure what to write about myself and how to make it sound good. I have a lot of hobbies and interests, but I am not sure how to make it sound interesting. Can anyone help me with this?"
          ],
          [
           "The author is exploring the idea that good governance is necessary for the success of government schemes and for reaching the last mile."
          ],
          [
           "The central theme of the author is that the government should invest in technology to make the lives of the citizens easier."
          ],
          [
           "The central theme that the author is exploring is urban development in India."
          ],
          [
           "The author is exploring the need for unity and cooperation among the world's leading economies to address global challenges."
          ],
          [
           "The central theme of the author is exploring is the strengthening of economic ties between India and Italy."
          ],
          [
           "The author is exploring the potential of India's tourism sector."
          ],
          [
           "The central theme and subject that the author is exploring is the role of infrastructure in the development of any country."
          ],
          [
           "The central theme that the author is exploring is the importance of healthcare in India."
          ],
          [
           "The central theme that the author is exploring is the idea that the government is committed to providing opportunities to the youth and using their potential in the development of the country."
          ],
          [
           "The central theme and subject that the author is exploring is the idea of \"Vocal for Local\" and self-reliance in India."
          ],
          [
           "answer: The author is exploring the concept of disaster resilience and how it is integral to India's ancient traditions."
          ],
          [
           "The central theme of the text is the bilateral relations between India and Australia and the various areas of cooperation between the two countries."
          ],
          [
           "The central theme of the text is exploring the idea of women-led development in India and how this can help the country achieve its goals."
          ],
          [
           "The central theme and subject that the author is exploring is how the artisan class in India has been neglected for centuries, and how the new PM Vishwakarma Yojana will help them."
          ],
          [
           "The central theme of the text is the author's exploration of the idea of democracy in India."
          ],
          [
           "The central theme of the text is the development projects undertaken by the government and the benefits they bring to the people."
          ],
          [
           "The author is exploring the theme that the current moment is India's moment, and listing all of the reasons why this is the case."
          ],
          [
           "The central theme and subject that the author is exploring is the inauguration of the India-Bangladesh Friendship Pipeline."
          ],
          [
           "The author is exploring the idea that technology can be used to empower people and bridge the technological divide."
          ],
          [
           "The central theme that the author is exploring is the idea of public participation in the fight against tuberculosis in India."
          ],
          [
           "A. The central theme of the text is the development of Banaras and the subject is transportation."
          ],
          [
           "The author is exploring the idea that everyone's effort is required to develop India."
          ],
          [
           "The author is exploring the idea that democracy is not just a structure, but also a spirit, and that it can deliver despite global challenges."
          ],
          [
           "The central theme that the author is exploring is the idea that the Indian government is not doing enough to modernize the country's railways."
          ],
          [
           "A. The author is exploring the theme of corruption and its effects on the poor and the nation as a whole."
          ],
          [
           "The central theme and subject that the author is exploring is the search for solutions to the problem of disaster resilient infrastructure."
          ],
          [
           "The central theme that the author is exploring is infrastructure resilience, especially against climate risks and disasters."
          ],
          [
           "The central theme and subject that the author is exploring is the impact of the Ramakrishna Math on Tamil Nadu and the impact that Tamil Nadu had on Swami Vivekananda."
          ],
          [
           "The central theme that the author is exploring is the idea that a family or dynasty should not control everything in a country."
          ],
          [
           "A. The author is exploring the theme of environmental conservation and the subject of the tiger population in India."
          ],
          [
           "The central theme of the author is exploring is the importance of teachers in providing quality education and the role they play in the development of the country."
          ],
          [
           "The central theme of the text is the Vande Bharat train and its benefits for the people of Rajasthan."
          ],
          [
           "The author is exploring the idea that the healthcare system in India has improved greatly in recent years, due to the efforts of the government."
          ],
          [
           "The author is exploring the impact of behavioural change on climate change, and how this can be a global movement."
          ]
         ],
         "hovertemplate": "cluster=C3<br>tenure=MS_Year_7<br>x=%{x}<br>y=%{y}<br>Topics=%{customdata[0]}<extra></extra>",
         "legendgroup": "C3",
         "marker": {
          "color": "maroon",
          "symbol": "circle"
         },
         "mode": "markers",
         "name": "C3",
         "showlegend": false,
         "type": "scattergl",
         "x": [
          10.33431625366211,
          9.881752967834473,
          9.741409301757812,
          9.9893217086792,
          9.699216842651367,
          10.16290283203125,
          9.594886779785156,
          9.94748592376709,
          9.783193588256836,
          9.805193901062012,
          9.807202339172363,
          10.115217208862305,
          10.384181022644043,
          10.250833511352539,
          10.031708717346191,
          9.968120574951172,
          9.471256256103516,
          9.87939167022705,
          9.473835945129395,
          10.086483001708984,
          10.220555305480957,
          10.176661491394043,
          10.251022338867188,
          10.284167289733887,
          9.843788146972656,
          10.135456085205078,
          9.989532470703125,
          9.886770248413086,
          10.072916030883789,
          10.070353507995605,
          10.078102111816406,
          9.941508293151855,
          10.066349983215332,
          10.251161575317383,
          10.000414848327637,
          9.931192398071289,
          10.54728889465332,
          10.129792213439941,
          10.10711669921875,
          10.255880355834961,
          10.234390258789062,
          10.05194091796875,
          9.877358436584473,
          10.462685585021973,
          9.597970008850098,
          9.909893035888672,
          10.392799377441406,
          10.364155769348145,
          10.391507148742676,
          10.583979606628418,
          10.279489517211914,
          10.419296264648438,
          10.206427574157715,
          10.501967430114746,
          9.744718551635742,
          9.73707389831543,
          10.71137523651123,
          10.676801681518555,
          10.400188446044922,
          10.714375495910645,
          10.391921997070312,
          10.579322814941406,
          9.910743713378906,
          10.698949813842773,
          10.482043266296387,
          10.533785820007324,
          10.737682342529297,
          10.576560020446777,
          10.38464641571045,
          10.609789848327637,
          10.353894233703613,
          10.68797779083252,
          10.855230331420898,
          10.214540481567383,
          10.385004043579102,
          10.812439918518066,
          10.155308723449707,
          10.054072380065918,
          10.80741024017334,
          10.664962768554688,
          10.564022064208984,
          10.881077766418457,
          10.161785125732422,
          10.931474685668945,
          10.764288902282715
         ],
         "xaxis": "x",
         "y": [
          1.3376646041870117,
          1.246072769165039,
          0.7342827916145325,
          1.2777103185653687,
          0.03990708291530609,
          0.3381737768650055,
          1.448401927947998,
          1.1557034254074097,
          0.6487126350402832,
          0.2416984587907791,
          1.0050034523010254,
          1.2698991298675537,
          0.7285042405128479,
          1.3438664674758911,
          0.9313669204711914,
          1.0533708333969116,
          0.1460075080394745,
          1.561593770980835,
          1.0767841339111328,
          1.0666770935058594,
          1.6432732343673706,
          0.9487930536270142,
          0.6761211156845093,
          1.228998064994812,
          0.8308768272399902,
          0.8201009631156921,
          0.6678523421287537,
          1.297360897064209,
          1.3876677751541138,
          1.4790810346603394,
          1.0786354541778564,
          0.8716959357261658,
          0.8060764670372009,
          1.224374532699585,
          0.9355729222297668,
          0.8431271314620972,
          1.1306763887405396,
          0.9829159379005432,
          1.4277820587158203,
          1.1523820161819458,
          1.5283334255218506,
          1.2663323879241943,
          0.6491080522537231,
          1.3135709762573242,
          -0.08299650996923447,
          1.1734957695007324,
          1.325324535369873,
          1.051240086555481,
          1.0204781293869019,
          1.0814751386642456,
          1.4400042295455933,
          0.6746517419815063,
          1.321864128112793,
          1.2444573640823364,
          0.1240791529417038,
          0.01942773535847664,
          1.11923348903656,
          1.4124516248703003,
          1.2043765783309937,
          1.3155262470245361,
          0.8411015868186951,
          1.0114954710006714,
          0.2092641144990921,
          1.0112628936767578,
          1.4946826696395874,
          0.9640730619430542,
          1.3639533519744873,
          1.1221168041229248,
          0.8330597281455994,
          1.2801114320755005,
          0.9844866991043091,
          1.3412550687789917,
          1.2465488910675049,
          0.7296102643013,
          1.2768503427505493,
          1.2647806406021118,
          0.3489111363887787,
          0.7160432934761047,
          1.0349667072296143,
          1.084559440612793,
          0.8408427834510803,
          1.0849231481552124,
          0.7461345791816711,
          1.2899198532104492,
          1.1083955764770508
         ],
         "yaxis": "y"
        },
        {
         "customdata": [
          [
           "The author is exploring how science and technology can be used to improve the quality of life for all people."
          ],
          [
           "The central theme of the author is exploring is the development of the Gift City and the India International Exchange."
          ],
          [
           "The author is exploring the idea that saints have always been a part of India's history and have always helped to change the society for the better."
          ],
          [
           "The author is exploring how the tradition of Bhakti saints and in the Kathamrit we find many references to Chaitanya Mahaprabhu - his trances, his songs, his utter devotion."
          ],
          [
           "The central theme and subject the author is exploring is the history and benefits of yoga."
          ],
          [
           "The author is exploring the idea that the world might not understand the importance of construction of this bridge but Bharuch knows the pain of not having a bridge."
          ],
          [
           "The central theme of the author is the development of Dahej, and how it has benefited the country both economically and environmentally."
          ],
          [
           "The central theme that the author is exploring is the life and spiritual journey of Yogi ji."
          ],
          [
           "The central theme that the author is exploring is the idea of a \"New India\" and the steps that need to be taken in order to achieve it."
          ],
          [
           "The central theme of the text is the strengthening of the strategic partnership between India and Malaysia."
          ],
          [
           "The author is exploring the idea that women have been making great strides in India and that they are an important part of the country's economy and society."
          ],
          [
           "The author explores the theme of the value of hard work and familial love over money."
          ],
          [
           "The central theme of the author is exploring is the life and teachings of Saint Shri Ramanujacharya and how it has impacted society over the past 1000 years."
          ],
          [
           "The central theme of the author is exploring is regional cooperation among like-minded countries."
          ],
          [
           "The central theme that the author is exploring is the contributions of the Indian Origin Tamil community to Sri Lanka, and the long shared heritage between India and Sri Lanka."
          ],
          [
           "The author is exploring the central theme of the Tata family's contribution to social responsibility and their work in the field of cancer care and research."
          ],
          [
           "The author is exploring the theme of connecting with nature."
          ],
          [
           "The author is exploring the central theme of the importance of music in our daily lives and the subject of the different types of music that are present in our culture."
          ],
          [
           "The author is exploring the potential benefits of India's accession to the Shanghai Cooperation Organization (SCO)."
          ],
          [
           "The author is exploring the importance of reading and knowledge in society."
          ],
          [
           "The central theme of the author is exploring is the infrastructure development of Kochi Metro and the economic and social benefits of the metro rail system."
          ],
          [
           "The central theme and subject that the author is exploring is the importance of Yoga in our lives."
          ],
          [
           "The central theme that the author is exploring is the progress of India and how the Indian diaspora has contributed to this progress."
          ],
          [
           "The central theme that the author is exploring is the importance of people's participation in the development of India."
          ],
          [
           "The central theme of the author is exploring is the strong relations between India and the Netherlands, and how the two countries are working together to strengthen their bilateral ties."
          ],
          [
           "The author is exploring the idea that water is a valuable resource that should not be wasted."
          ],
          [
           "The central theme and subject that the author is exploring is the strong and resilient partnership between India and Israel."
          ],
          [
           "The central theme and subject that the author is exploring is the ancient bond between the people of India and Israel and the need for cooperation between the two nations to achieve common objectives."
          ],
          [
           "The central theme that the author is exploring is the strong bond between India and Israel, and the many ways in which the two countries have helped each other over the years."
          ],
          [
           "The central theme that the author is exploring is the strengthening of ties between India and Israel."
          ],
          [
           "The author is exploring the theme of patriotism and the subject of the memorial for Abdul Kalam ji in Rameshwaram."
          ],
          [
           "The central theme that the author is exploring is the idea that if people resolve to make the right choice, evils such as corruption, casteism, drug-abuse, crime etc., can be overcome."
          ],
          [
           "The central theme of the text is the author's confidence in the new career of the respected chairman, and the subject is the chairman's family background and career in diplomacy."
          ],
          [
           "The central theme of the author is to explore the idea that the Vice President of India is a person who is familiar with everybody and everything in the country."
          ],
          [
           "The author is exploring the idea that the country can only progress if the citizens are united and work together towards a common goal."
          ],
          [
           "The author is exploring the idea that the government should be more connected to the people it governs."
          ],
          [
           "The central theme of the author is exploring is the special strategic and global partnership between India and Japan and how it has grown stronger over the years."
          ],
          [
           "The central theme that the author is exploring is the benefits of the high-speed rail project between Mumbai and Ahmadabad."
          ],
          [
           "The author is exploring the potential for economic growth in rural areas of India through the introduction of new technologies and schemes in the agricultural sector."
          ],
          [
           "A. The author is exploring the theme of economic empowerment of the poor in India."
          ],
          [
           "The author is exploring the importance of postal stamps in India, and how they reflect the country's history and changes."
          ],
          [
           "The central theme that the author is exploring is the importance of service to those who are not able to vote."
          ],
          [
           "The author is exploring the idea that cleanliness is a responsibility that everyone should take on, and that the government cannot do it alone."
          ],
          [
           "The central theme that the author is exploring is the potential for economic development in Dwarka, Gujarat, India."
          ],
          [
           "The central theme that the author is exploring is the importance of good governance for the rural development of India."
          ],
          [
           "The central theme of the author is exploring is the need for innovation in order to make India a developed country."
          ],
          [
           "The author is exploring the idea that the government is working to improve the infrastructure and connectivity in Bihar."
          ],
          [
           "The central theme that the author is exploring is the importance of Ayurveda and yoga in today's world."
          ],
          [
           "The central theme that the author is exploring is the development of the Ro-Ro ferry service between Ghogha and Dahej."
          ],
          [
           "The author is exploring the importance of consumer protection in the modern era."
          ],
          [
           "The central theme and subject that the author is exploring is the importance of cleanliness in our lives."
          ],
          [
           "The central theme of the author is exploring is the importance of unity in India, and how Sardar Vallabh Bhai Patel contributed to the unity of the country."
          ],
          [
           "The author is exploring the potential of India's food processing sector and the opportunities that it presents for both domestic and foreign investors."
          ],
          [
           "The author is exploring the theme of improving India's ranking in the World Bank's ease of doing business report."
          ],
          [
           "The author is exploring the role of the media in society and how it can help shape the destiny of India."
          ],
          [
           "The author is exploring how digital technology is impacting the world and how it is improving governance."
          ],
          [
           "The central theme of the text is the importance of the Constitution day for the Indian democracy."
          ],
          [
           "The author is exploring the idea that Dr. Ambedkar International Centre will help to spread the teachings of Babasaheb and inspire the new generation."
          ],
          [
           "The author is exploring the idea that the government is working to improve the lives of the poor by taking into account their problems and requirements."
          ],
          [
           "The author is exploring the theme of connectivity and the importance of good governance."
          ]
         ],
         "hovertemplate": "cluster=C0<br>tenure=MS_Year_1<br>x=%{x}<br>y=%{y}<br>Topics=%{customdata[0]}<extra></extra>",
         "legendgroup": "C0",
         "marker": {
          "color": "#FFA15A",
          "symbol": "diamond"
         },
         "mode": "markers",
         "name": "C0",
         "showlegend": true,
         "type": "scattergl",
         "x": [
          10.159347534179688,
          11.064923286437988,
          11.338701248168945,
          10.965014457702637,
          11.065601348876953,
          11.146171569824219,
          11.327716827392578,
          11.316145896911621,
          11.4533109664917,
          9.980789184570312,
          11.680853843688965,
          10.844050407409668,
          11.085176467895508,
          10.284483909606934,
          10.219225883483887,
          11.011104583740234,
          10.000679969787598,
          11.08980941772461,
          9.559002876281738,
          10.886420249938965,
          10.111336708068848,
          10.59692096710205,
          11.433582305908203,
          11.150090217590332,
          10.736180305480957,
          11.351943969726562,
          10.252405166625977,
          10.319759368896484,
          10.572881698608398,
          10.042632102966309,
          11.059075355529785,
          10.403435707092285,
          11.200037956237793,
          11.527795791625977,
          11.518899917602539,
          11.156615257263184,
          10.272102355957031,
          10.837044715881348,
          11.222929000854492,
          11.380752563476562,
          10.278416633605957,
          10.332745552062988,
          10.692750930786133,
          11.119176864624023,
          10.19435977935791,
          10.559839248657227,
          11.388982772827148,
          11.23208999633789,
          11.474419593811035,
          10.777125358581543,
          9.878665924072266,
          11.217931747436523,
          9.762765884399414,
          10.794357299804688,
          10.694300651550293,
          9.73747444152832,
          11.039507865905762,
          11.418967247009277,
          10.802226066589355,
          11.561079025268555
         ],
         "xaxis": "x7",
         "y": [
          0.2353166788816452,
          0.5902511477470398,
          0.5767307281494141,
          -0.9661298394203186,
          -0.8879948854446411,
          0.7391778230667114,
          0.5799567699432373,
          0.5553330183029175,
          -1.0442241430282593,
          -0.04244907572865486,
          0.15631337463855743,
          -1.5856142044067383,
          0.35500457882881165,
          0.10730535537004471,
          -0.3081825375556946,
          0.6989312171936035,
          -0.44013872742652893,
          0.7213945984840393,
          -0.2821807861328125,
          -1.8391499519348145,
          -0.3518189489841461,
          -0.5017656087875366,
          0.4182104766368866,
          0.6827669143676758,
          0.4818878471851349,
          -0.9483565092086792,
          -0.08491374552249908,
          -0.1854432374238968,
          0.4977189302444458,
          0.06456393748521805,
          -0.28569266200065613,
          -0.4371265470981598,
          0.6545446515083313,
          0.37344199419021606,
          -0.341016560792923,
          0.36544468998908997,
          0.15272320806980133,
          0.3436909317970276,
          0.36064615845680237,
          0.4990580379962921,
          -1.2641491889953613,
          -1.2446839809417725,
          -0.2332240641117096,
          0.45423176884651184,
          -1.3537029027938843,
          -0.12534257769584656,
          -0.45044779777526855,
          -0.25586700439453125,
          -0.25052410364151,
          0.13711954653263092,
          -0.46602538228034973,
          0.4366724193096161,
          -0.5804525017738342,
          0.4161824882030487,
          -0.1703123152256012,
          -0.6666660308837891,
          0.14798715710639954,
          -0.5543918013572693,
          -0.8293084502220154,
          -0.4325329661369324
         ],
         "yaxis": "y7"
        },
        {
         "customdata": [
          [
           "The central theme of the author is exploring is the importance of Bengal in India, and how it has contributed to the country in various fields such as science, literature, and sports."
          ],
          [
           "The central theme that the author is exploring is the contribution of the people of Indian origin to the world."
          ],
          [
           "The central theme and subject that the author is exploring is the success of the Indian Space and Research Organisation (ISRO) in launching the PSLV-C40 and the importance of pledges in the development of a new India."
          ],
          [
           "The central theme of the author's exploration is the importance of service to society in order to create a strong and united India."
          ],
          [
           "The author is exploring the theme of patriotism and the importance of NCC in instilling values of patriotism in the youth of the country."
          ],
          [
           "The author is exploring the idea that democracy was present in India long before the Congress party came to power, and that the Congress party has not been respectful of democracy throughout its time in power."
          ],
          [
           "The central theme and subject that the author is exploring is the diversity of India and the country's relations with Oman."
          ],
          [
           "The author is exploring the topic of how to increase the income of farmers in India."
          ],
          [
           "The author is exploring the potential of Uttar Pradesh as an investment destination."
          ],
          [
           "The author is exploring the idea that the country has changed in many ways over the last four years, and that these changes are due to the new work culture that has been adopted."
          ],
          [
           "The author is exploring the development of Daman and Diu and the opportunities for its citizens."
          ],
          [
           "The central theme of the author is exploring is the empowerment of women and the protection of nature."
          ],
          [
           "The author is exploring the idea that Auroville can help lead the world to a more spiritually enlightened future."
          ],
          [
           "The central theme that the author is exploring is the potential for cooperation between India and South Korea in various industries."
          ],
          [
           "The central theme of the author is exploring is the importance of religious tolerance and the need for modernity in Islam."
          ],
          [
           "The author is exploring the idea that the youth of India have the potential to change the country for the better."
          ],
          [
           "The author is exploring the idea that daughters are not a burden, but the pride of the whole family."
          ],
          [
           "The central theme of the text is the bilateral relations between India and France, with a focus on their cooperation in the defense, security, space, and high-technology sectors."
          ],
          [
           "The central theme that the author is exploring is the importance of solar energy in tackling the challenge of climate change."
          ],
          [
           "The author is exploring the need for a new approach to eradicating tuberculosis globally."
          ],
          [
           "The author is exploring the idea that Rising India is the result of the will power of the country's 1.25 billion people."
          ],
          [
           "The central theme that the author is exploring is the idea of development in the state of Manipur."
          ],
          [
           "The author is exploring the central theme of New India and the subject of the event, which is the farmers of India."
          ],
          [
           "The central theme and subject that the author is exploring is the importance of traditions in guiding the society and shaping the lives of people."
          ],
          [
           "The author is exploring the idea that innovation is key to a country's economic progress."
          ],
          [
           "The author is exploring the idea that the public sector enterprises have a major role to play in the country's economy and in building a new India."
          ],
          [
           "The central theme of the text is exploring the idea of cleanliness and its importance."
          ],
          [
           "The author is exploring the Union Government's plans to set up cancer institutes across India and the benefits that these institutes will bring to the people of India."
          ],
          [
           "The author is exploring the government's efforts to end social injustice in India."
          ],
          [
           "The author is exploring the idea that the government is working hard to improve the lives of the people in Chhattisgarh."
          ],
          [
           "The central theme of the text is the feeling of Indian pride and the author's gratitude towards the Prime Minister of Sweden."
          ],
          [
           "The author is exploring the idea that the government should work to improve the lives of the common man and that this can be done by focusing on aspirational districts."
          ],
          [
           "The author is exploring the relationship between India and Nepal."
          ],
          [
           "The central theme that the author is exploring is the development of Jammu & Kashmir."
          ],
          [
           "The author is exploring how technology can help farmers increase their incomes."
          ],
          [
           "The central theme that the author is exploring is the development of Jammu & Kashmir."
          ],
          [
           "The central theme of the text is the strong bilateral relationship between India and the Netherlands, and the potential for further cooperation in areas such as trade, investment, science and technology, and urban development."
          ],
          [
           "The central theme that the author is exploring is the importance of education in democracy."
          ],
          [
           "The author is exploring the idea that the government is working for the development of Jharkhand."
          ],
          [
           "The author is exploring the idea that the love and affection shown by the people is a result of the satisfaction of the master with his servant."
          ],
          [
           "The central theme and subject that the author is exploring is the Mudra Yojana scheme and how it has positively impacted the lives of many people in India."
          ],
          [
           "The author is exploring the theme of development in Chhattisgarh."
          ],
          [
           "The central theme that the author is exploring is the progress of the agricultural sector in India."
          ],
          [
           "The central theme of the text is that yoga has the ability to bring peace and harmony to the world."
          ],
          [
           "The central theme and subject that the author is exploring is the benefits of yoga and how it can be used to complement conventional medicine."
          ],
          [
           "The author is exploring the idea that the faster the technology is used in the country’s business culture, the more it will be beneficial."
          ],
          [
           "The central theme of the text is the development of India. The author is exploring the idea that the government is committed to taking the nation to new heights of development in the 21st century."
          ],
          [
           "The author is exploring the idea that Sant Kabir Academy will help preserve the legacy of Mahatma Kabir and promote social equality."
          ],
          [
           "The author is exploring the idea that Rajasthan has been a model for the country in terms of development and progress."
          ],
          [
           "The central theme of the author is exploring is the Make in India program and the partnership between India and Korea."
          ],
          [
           "The author is exploring the idea that the ASI should create a record of its 150 year old history, and that the history of the institute is a subject of archaeology."
          ],
          [
           "The central theme and subject that the author is exploring is the development of Banaras."
          ],
          [
           "The author is exploring the development of Purvanchal and the impact of the government's decisions on the farmers of the region."
          ],
          [
           "The central theme that the author is exploring is the idea of a \"new India\" that is powered by the country's youth."
          ],
          [
           "The central theme that the author is exploring is the development partnership between India and Sri Lanka."
          ],
          [
           "The central theme of the text is the progress of India and how it is impacting the lives of Indians living abroad."
          ],
          [
           "The central theme that the author is exploring is the strong relations between India and Uganda, and how the Indian community has contributed to the development of Uganda."
          ],
          [
           "The author is exploring the idea that cities in India need to be better planned and organized in order to accommodate the country's growing population."
          ],
          [
           "The author is exploring the idea that the government is committed to making the lives of the common man easier and hassle-free."
          ],
          [
           "The author is exploring the theme of biofuels and their potential to help improve the standard of living of the people in both rural and urban areas."
          ],
          [
           "The author is exploring the idea that IIT graduates have the potential to make great strides in innovation and entrepreneurship in India."
          ],
          [
           "The author is exploring the theme of independence and the subject of India's growth."
          ],
          [
           "The author is exploring the role of forensic science in society and how it can be used to deter crime."
          ],
          [
           "The author is exploring the idea that the Post Payment Bank will be a big facility for the farmers because of the strongest network that it has in villages."
          ],
          [
           "The author is exploring the central theme and subject of the Global Mobility Summit and the vision for the future of mobility in India."
          ],
          [
           "The central theme and subject that the author is exploring is the improvement of connectivity between India and Bangladesh."
          ],
          [
           "The central theme of the text is exploring the idea that Swami Vivekanand had a great impact on the world and on India."
          ],
          [
           "The author is exploring the central theme and subject of the importance of Asha workers, Anganwadi workers, and ANM in nation building."
          ],
          [
           "The central theme of the text is the Dawoodi Bohra community's dedication to peace, justice, and equality."
          ],
          [
           "The central theme that the author is exploring is the importance of cleanliness and how it can improve the lives of people in India."
          ],
          [
           "The central theme that the author is exploring is the transformation of Varanasi."
          ],
          [
           "The central theme of the author is exploring is the construction of the India International Convention and Expo Centre (IICC)."
          ],
          [
           "The author is exploring the theme of the revival of a fertilizer plant in Odisha."
          ],
          [
           "The author is exploring the central theme of development in Eastern India and the subject of Veer Surendra Sain Airport in Odisha."
          ],
          [
           "The central theme of the author is exploring is the Pradhan Mantri Jan Arogya Yojana - PMJAY scheme and how it will positively affect the lives of the poor in India."
          ],
          [
           "The central theme of the text is the development of Sikkim and the Northeast."
          ],
          [
           "The author is exploring the importance of unity and cleanliness in India."
          ],
          [
           "The central theme of the author is exploring is the need for renewable energy to meet the energy needs of the world and to protect the environment."
          ],
          [
           "The author is exploring the idea that cleanliness is more important than independence."
          ],
          [
           "The central theme of the author is exploring is the importance of culture in relation to climate and calamity."
          ],
          [
           "The central theme of the author is exploring is the economic potential of India and the opportunities for investment in different sectors in the country."
          ],
          [
           "The central theme that the author is exploring is the greatness of Sir Chhotu Ram and his dedication to the service of the society."
          ],
          [
           "The central theme of the text is the potential of the Fourth Industrial Revolution to positively impact India's development."
          ],
          [
           "The author is exploring the idea that human rights are an essential part of our culture, and that the government is committed to making sure that all citizens have access to these rights."
          ],
          [
           "The central theme the author is exploring is service to the poor and the importance of celebrating festivals with loved ones."
          ],
          [
           "The central theme that the author is exploring is the importance of the carpet industry in India."
          ],
          [
           "The author is exploring the central theme of Netaji Subhas Chandra Bose's work and his dedication to the nation."
          ],
          [
           "The central theme of the text is the importance of social work and service to others in addition to one's own career and personal development."
          ],
          [
           "The central theme of the text is the government's commitment to doubling the farmer’s income by 2022 and the various steps being taken to achieve this goal."
          ],
          [
           "The central theme of the text is the cooperation between India and Japan in the 21st century."
          ],
          [
           "The central theme of the text is the business opportunities available in India for Japanese companies."
          ],
          [
           "The central theme of the text is the strong relations between India and Japan, and the subject is the many ways in which the two countries are connected."
          ],
          [
           "The central theme that the author is exploring is the idea that Sardar Vallabhbhai Patel was a great leader who united India."
          ],
          [
           "The author is exploring the 12 big decisions taken by the government for the small industry sector."
          ],
          [
           "The central theme that the author is exploring is the idea of development and how it can be used to improve the lives of people living in poverty."
          ],
          [
           "The central theme of the text is the government's efforts to improve the ease of doing business in India."
          ],
          [
           "The central theme of the text is the all-round development of Haryana."
          ],
          [
           "The central theme that the author is exploring is the idea that a person's identity is not solely based on their culture or ethnicity."
          ],
          [
           "The central theme that the author is exploring is the importance of Guru Nanak Dev ji's teachings and the need for people to follow them in order to maintain the country's unity and integrity."
          ],
          [
           "The central theme that the author is exploring is the greatness of Prayagraj and the upcoming Ardha-Kumbh festival."
          ],
          [
           "The author is exploring the idea that some people will always choose to lie, regardless of the consequences."
          ],
          [
           "The central theme of the text is the government's focus on infrastructure development in Maharashtra."
          ],
          [
           "The author is exploring the idea that many people from small villages and towns have attained fame and prosperity in Mumbai and Thane, and that these places are generous and benevolent."
          ],
          [
           "The author is exploring the idea of a \"surging India\" and how the country is progressing in various fields."
          ],
          [
           "The central theme that the author is exploring is good governance and its impact on the lives of the people."
          ],
          [
           "The central theme that the author is exploring is the progress of Himachal Pradesh."
          ],
          [
           "The author is exploring the life and accomplishments of Maharaja Suheldev."
          ],
          [
           "The central theme that the author is exploring is the idea of development and how the different aspects of it can improve the lives of the people in Car Nicobar."
          ],
          [
           "The central theme that the author is exploring is the idea of a nation and its unity."
          ]
         ],
         "hovertemplate": "cluster=C0<br>tenure=MS_Year_2<br>x=%{x}<br>y=%{y}<br>Topics=%{customdata[0]}<extra></extra>",
         "legendgroup": "C0",
         "marker": {
          "color": "#FFA15A",
          "symbol": "diamond"
         },
         "mode": "markers",
         "name": "C0",
         "showlegend": false,
         "type": "scattergl",
         "x": [
          11.253381729125977,
          11.38332748413086,
          11.40972900390625,
          10.828516006469727,
          10.310263633728027,
          10.22973918914795,
          10.696556091308594,
          11.164124488830566,
          10.97054386138916,
          9.9531888961792,
          11.14673137664795,
          11.496152877807617,
          10.292036056518555,
          9.727566719055176,
          9.751904487609863,
          11.271486282348633,
          11.11883544921875,
          10.122175216674805,
          9.987119674682617,
          10.95857048034668,
          11.197021484375,
          10.62401008605957,
          11.213945388793945,
          11.018299102783203,
          11.177350044250488,
          10.758171081542969,
          11.194738388061523,
          11.195978164672852,
          10.048351287841797,
          10.403359413146973,
          10.679211616516113,
          11.18363094329834,
          9.932133674621582,
          11.264351844787598,
          10.499923706054688,
          10.887943267822266,
          9.936684608459473,
          11.08422565460205,
          10.630062103271484,
          10.654321670532227,
          11.306585311889648,
          10.532379150390625,
          10.643126487731934,
          10.020735740661621,
          10.942367553710938,
          10.168499946594238,
          10.865622520446777,
          10.387404441833496,
          9.977274894714355,
          10.123356819152832,
          10.649975776672363,
          10.691431999206543,
          9.992942810058594,
          10.916900634765625,
          10.674586296081543,
          10.760215759277344,
          10.21953296661377,
          10.928645133972168,
          10.758232116699219,
          10.076147079467773,
          10.779901504516602,
          11.141117095947266,
          10.591263771057129,
          10.12475299835205,
          9.669988632202148,
          9.91753101348877,
          10.466623306274414,
          11.376786231994629,
          10.629250526428223,
          10.82252311706543,
          10.644027709960938,
          10.555526733398438,
          10.705615997314453,
          11.062392234802246,
          10.864161491394043,
          10.793806076049805,
          10.773443222045898,
          9.907063484191895,
          10.396499633789062,
          11.014735221862793,
          10.330235481262207,
          10.895486831665039,
          10.345129013061523,
          10.825164794921875,
          10.658260345458984,
          11.217040061950684,
          10.768976211547852,
          10.516746520996094,
          10.198875427246094,
          10.692673683166504,
          10.153322219848633,
          10.246689796447754,
          10.435030937194824,
          10.62732219696045,
          10.746498107910156,
          10.647377967834473,
          10.798500061035156,
          10.788764953613281,
          10.432755470275879,
          10.605677604675293,
          10.434789657592773,
          10.35495662689209,
          10.378555297851562,
          10.721879959106445,
          10.511641502380371,
          10.79148006439209,
          10.683980941772461,
          9.938496589660645,
          10.468385696411133
         ],
         "xaxis": "x8",
         "y": [
          0.0022842588368803263,
          -0.16348543763160706,
          0.18405525386333466,
          0.18404416739940643,
          -1.8260929584503174,
          -0.34143924713134766,
          -0.08885498344898224,
          -0.4797824025154114,
          -1.4532485008239746,
          -1.0511057376861572,
          0.38089659810066223,
          -0.3491482138633728,
          -0.023903047665953636,
          -0.4177652895450592,
          -0.3018245995044708,
          -0.8282341361045837,
          -0.4570387899875641,
          -0.01006784476339817,
          -0.4099273681640625,
          0.09124752134084702,
          -0.14889249205589294,
          -0.014578861184418201,
          0.2612314522266388,
          -0.8021928668022156,
          -0.05653123930096626,
          -0.6073037981987,
          0.005046722944825888,
          0.0637323185801506,
          -1.449095606803894,
          -0.7145622372627258,
          -0.5166494846343994,
          -0.4738640785217285,
          -0.049377959221601486,
          0.008789792656898499,
          -0.6016222834587097,
          -0.2519875168800354,
          -0.3222544193267822,
          0.11272042989730835,
          -0.18421101570129395,
          -0.2536868155002594,
          0.21832293272018433,
          -0.49326154589653015,
          -0.4355659782886505,
          -0.9349391460418701,
          -0.044456806033849716,
          -0.6672137379646301,
          -0.37005800008773804,
          -0.8590996861457825,
          -0.792890727519989,
          -0.43779733777046204,
          -0.7367649078369141,
          -1.0213580131530762,
          -0.8079179525375366,
          -0.12060362100601196,
          0.06411860883235931,
          0.0430871807038784,
          -0.599665641784668,
          -1.0321815013885498,
          -0.16231659054756165,
          -1.2657015323638916,
          -0.22071194648742676,
          -0.3929400146007538,
          -0.025575140491127968,
          -1.3592004776000977,
          -0.4691770076751709,
          -0.5726240277290344,
          -0.47329750657081604,
          0.0900663509964943,
          -0.41945743560791016,
          -0.1736663579940796,
          0.2094070464372635,
          -0.4866721034049988,
          -0.15410245954990387,
          0.14844708144664764,
          -0.6058937311172485,
          -0.42952343821525574,
          -0.4865139424800873,
          -0.4837491810321808,
          -1.0479456186294556,
          -0.8672578930854797,
          -0.919914722442627,
          -1.1185532808303833,
          -0.5349052548408508,
          -0.25892651081085205,
          -0.5550041794776917,
          -0.5189895033836365,
          -0.8720816969871521,
          -0.7786641120910645,
          -1.0402579307556152,
          -0.12803824245929718,
          -0.15904338657855988,
          -0.5527254343032837,
          -0.9937571883201599,
          -1.0884578227996826,
          -0.5217112898826599,
          -1.5045701265335083,
          -1.0083805322647095,
          -0.8833189606666565,
          -1.2814536094665527,
          -1.2300070524215698,
          -1.3444221019744873,
          -1.5347336530685425,
          -0.932174563407898,
          -1.1601003408432007,
          -1.6891766786575317,
          -1.6280685663223267,
          -0.9109519720077515,
          -1.2127612829208374,
          -1.150075078010559
         ],
         "yaxis": "y8"
        },
        {
         "customdata": [
          [
           "The author is exploring the idea that the Northeast region of India is an important part of the country and that it has the potential to be a center of development for New India."
          ],
          [
           "The central theme that the author is exploring is the government's commitment to the development of Agra and the surrounding areas."
          ],
          [
           "The author is exploring the idea that the government under the Bharatiya Janata Party is committed to helping the poor and marginalized citizens of India."
          ],
          [
           "The central theme of the author is exploring is the strong cooperation between India and Norway in various sectors, including trade, investment, and ocean economy."
          ],
          [
           "The central theme of the author is exploring is the life and works of Guru Gobind Singh ji Maharaj."
          ],
          [
           "The author is exploring the theme of development in Kerala and the subject of infrastructure projects in the state."
          ],
          [
           "The central theme of the author is exploring is the advances in healthcare in Gujarat and how they have positively impacted the lives of the people in the state."
          ],
          [
           "In this speech, the author is exploring the idea that the film industry in India is constantly growing and evolving, and that this is having a positive impact on the country as a whole."
          ],
          [
           "The author is exploring the development of Dadra & Nagar Haveli and Daman & Diu and the progress made in the last five years."
          ],
          [
           "The author is exploring the idea that the world is recognizing India's contribution to the protection of the environment and the progress of the world."
          ],
          [
           "The central theme of the author is exploring is the strong relationship between India and South Africa."
          ],
          [
           "The author is exploring the central theme of unity and progress in India."
          ],
          [
           "The central theme of the text is the importance of exams in one's life."
          ],
          [
           "The author is exploring the idea that the progress of any nation depends upon the citizens, be it their education, health or their capabilities and skills."
          ],
          [
           "The author is exploring the idea that the government with an absolute majority is accountable to the people."
          ],
          [
           "The author is exploring the central theme of development in Leh-Ladakh and Kargil."
          ],
          [
           "The central theme of the text is the importance of service and dedication in improving the lives of others."
          ],
          [
           "The author is exploring the central theme of the importance of education in empowering the tribal youth."
          ],
          [
           "The central theme that the author is exploring is the development of infrastructure in Banaras, Uttar Pradesh, and the dedication of various projects to the people of Kashi."
          ],
          [
           "The central theme and subject that the author is exploring is the close and intense contact between our people is a living bridge for our countries."
          ],
          [
           "The central theme of the text is the economic growth of India and the potential opportunities for cooperation with South Korea."
          ],
          [
           "The central theme of the text is the strong relationship between India and Korea, and how the Indians living in Korea are contributing to the development of the country."
          ],
          [
           "The central theme that the author is exploring is the change that has happened in India since 2014 due to the new style of governance."
          ],
          [
           "The central theme of the text is the importance of coexistence between humans and nature."
          ],
          [
           "The central theme of the author is exploring is the strategic partnership between India and France and how they are working together to face the challenges of terrorism, climate change, environment and inclusive development of technology."
          ],
          [
           "The central theme and subject that the author is exploring is the close and friendly relations between the Kingdom of Bahrain and India."
          ],
          [
           "The central theme of the author is exploring is the strong relationship between India and Sri Lanka and how the two countries can work together for their mutual benefit."
          ]
         ],
         "hovertemplate": "cluster=C0<br>tenure=MS_Year_3<br>x=%{x}<br>y=%{y}<br>Topics=%{customdata[0]}<extra></extra>",
         "legendgroup": "C0",
         "marker": {
          "color": "#FFA15A",
          "symbol": "diamond"
         },
         "mode": "markers",
         "name": "C0",
         "showlegend": false,
         "type": "scattergl",
         "x": [
          10.213354110717773,
          10.948502540588379,
          10.440425872802734,
          9.897674560546875,
          10.541406631469727,
          10.088991165161133,
          10.362430572509766,
          10.374505043029785,
          9.837797164916992,
          10.300956726074219,
          10.306965827941895,
          10.010442733764648,
          10.460517883300781,
          10.247480392456055,
          10.497567176818848,
          9.935792922973633,
          10.251524925231934,
          10.478385925292969,
          10.315350532531738,
          9.917881965637207,
          9.794031143188477,
          9.962876319885254,
          10.172234535217285,
          9.885305404663086,
          9.746564865112305,
          9.98657512664795,
          9.874812126159668
         ],
         "xaxis": "x9",
         "y": [
          -1.6039612293243408,
          -0.9718456864356995,
          -1.36588454246521,
          -0.19991502165794373,
          -1.865531325340271,
          -1.3830161094665527,
          -1.7871415615081787,
          -2.032869577407837,
          -1.0732382535934448,
          -1.997648000717163,
          -1.0951108932495117,
          -1.4235148429870605,
          -1.5225764513015747,
          -1.0315141677856445,
          -1.3755521774291992,
          -1.210081934928894,
          -1.911318063735962,
          -1.618176817893982,
          -1.6547154188156128,
          -0.29360947012901306,
          -0.9473186135292053,
          -1.3476535081863403,
          -1.1441222429275513,
          -0.8093717694282532,
          -0.15235678851604462,
          -0.5378004908561707,
          -0.1969064623117447
         ],
         "yaxis": "y9"
        },
        {
         "customdata": [
          [
           "The author is exploring the importance of motivation and demotivation in a person's life."
          ],
          [
           "The central theme of the author is exploring is the strengthening of the relationship between India and the United States through increased cooperation in various areas."
          ],
          [
           "The central theme of the author is to explore the potential for cooperation between India and the EU in order to address global challenges."
          ],
          [
           "The central theme that the author is exploring is the idea of a more human-centric approach to the future, and the need for increased resilience in the face of global shocks."
          ],
          [
           "The central theme of the author is exploring is the importance of economic cooperation and integration under the SCO."
          ],
          [
           "The central theme of the author is exploring is the potential for cooperation between India and Luxembourg in various fields, including economic exchanges, space technology, and disaster resilience."
          ]
         ],
         "hovertemplate": "cluster=C0<br>tenure=MS_Year_4<br>x=%{x}<br>y=%{y}<br>Topics=%{customdata[0]}<extra></extra>",
         "legendgroup": "C0",
         "marker": {
          "color": "#FFA15A",
          "symbol": "diamond"
         },
         "mode": "markers",
         "name": "C0",
         "showlegend": false,
         "type": "scattergl",
         "x": [
          10.297788619995117,
          9.782322883605957,
          10.269742012023926,
          9.765048027038574,
          9.663756370544434,
          9.83487606048584
         ],
         "xaxis": "x4",
         "y": [
          -0.5890725255012512,
          -0.053708840161561966,
          0.2380702942609787,
          -0.41210654377937317,
          -0.4657272398471832,
          -0.23989202082157135
         ],
         "yaxis": "y4"
        },
        {
         "customdata": [
          [
           "The author is exploring the central theme of the 50th anniversary of Shadhinota and the 50th anniversary of India-Bangladesh friendship, as well as the subject of the birth centenary of Jatir Pita Bangabandhu Sheikh Mujibur Rahman."
          ],
          [
           "The central theme of the author is exploring is the relationship between India and Japan and how it has been strengthened by the launch of the Zen Garden and Kaizen Academy."
          ],
          [
           "The author is exploring the theme of national pride and the subject of the Indian Olympic team."
          ],
          [
           "The central theme of the text is the power of hard work and determination in the face of adversity."
          ],
          [
           "The central theme of the author is the cooperation between India and Denmark, and the subject is the potential opportunities for Danish companies in India."
          ]
         ],
         "hovertemplate": "cluster=C0<br>tenure=MS_Year_5<br>x=%{x}<br>y=%{y}<br>Topics=%{customdata[0]}<extra></extra>",
         "legendgroup": "C0",
         "marker": {
          "color": "#FFA15A",
          "symbol": "diamond"
         },
         "mode": "markers",
         "name": "C0",
         "showlegend": false,
         "type": "scattergl",
         "x": [
          10.182199478149414,
          10.27085018157959,
          11.7183198928833,
          11.715517044067383,
          9.936161994934082
         ],
         "xaxis": "x5",
         "y": [
          -0.055295635014772415,
          0.15234863758087158,
          -0.8028971552848816,
          -0.8424022197723389,
          -0.15201754868030548
         ],
         "yaxis": "y5"
        },
        {
         "customdata": [
          [
           "The central theme of the author is exploring is the deep friendship and trust between the two countries as reflected by the Comprehensive Economic Partnership Agreement."
          ],
          [
           "The author is exploring the idea that exams should be turned into festivals."
          ],
          [
           "The central theme and subject that the author is exploring is the importance of team spirit and sportsmanship in both sports and life."
          ],
          [
           "The central theme and subject that the author is exploring is the relationship between India and Denmark and how it has progressed since the two countries gave it the status of a Green Strategic Partnership."
          ],
          [
           "The author is exploring the idea that people with disabilities can be successful if they are given the opportunity to compete in mainstream sports."
          ],
          [
           "The central theme of the author is exploring is the success of the Indian badminton team in the Thomas Cup."
          ],
          [
           "The central theme of the author is exploring is the strong partnership between India and the United States, and how it is beneficial for both countries."
          ],
          [
           "The central theme of the author's exploration is the idea that one's environment and experiences can shape who they are."
          ],
          [
           "The central theme of the author is exploring is the importance of sports in uniting the country."
          ],
          [
           "The central theme that the author is exploring is the close relationship between India and Bangladesh, and the cooperation between the two countries in various fields."
          ],
          [
           "The central theme of the text is the deep friendship between India and Japan, and the author is exploring how this friendship has positively impacted both countries."
          ]
         ],
         "hovertemplate": "cluster=C0<br>tenure=MS_Year_6<br>x=%{x}<br>y=%{y}<br>Topics=%{customdata[0]}<extra></extra>",
         "legendgroup": "C0",
         "marker": {
          "color": "#FFA15A",
          "symbol": "diamond"
         },
         "mode": "markers",
         "name": "C0",
         "showlegend": false,
         "type": "scattergl",
         "x": [
          9.822417259216309,
          10.262701988220215,
          11.60245418548584,
          9.876063346862793,
          11.684226036071777,
          11.657533645629883,
          10.009750366210938,
          11.70775032043457,
          11.580862998962402,
          10.137317657470703,
          10.341407775878906
         ],
         "xaxis": "x6",
         "y": [
          -0.04141147434711456,
          -0.08872006833553314,
          -0.8306660652160645,
          -0.11804172396659851,
          -0.9070279598236084,
          -0.7283775806427002,
          -0.024594377726316452,
          -0.7923566102981567,
          -0.3234630227088928,
          -0.052357446402311325,
          0.43450823426246643
         ],
         "yaxis": "y6"
        },
        {
         "customdata": [
          [
           "The central theme of the text is the importance of sports in developing a healthy society."
          ],
          [
           "The central theme of the text is the importance of time management in students' lives. The author is exploring how students can better manage their time in order to be successful."
          ],
          [
           "The central theme of the text is the strengthening of India-Germany relations, with a focus on cooperation in areas such as trade, investment, and defense."
          ],
          [
           "The central theme and subject the author is exploring is the importance of millets and their role in food security and nutrition."
          ],
          [
           "The central theme of the author's exploration is the strengthening of the India-Japan Special Strategic and Global Partnership."
          ]
         ],
         "hovertemplate": "cluster=C0<br>tenure=MS_Year_7<br>x=%{x}<br>y=%{y}<br>Topics=%{customdata[0]}<extra></extra>",
         "legendgroup": "C0",
         "marker": {
          "color": "#FFA15A",
          "symbol": "diamond"
         },
         "mode": "markers",
         "name": "C0",
         "showlegend": false,
         "type": "scattergl",
         "x": [
          10.865926742553711,
          10.124692916870117,
          9.959047317504883,
          10.331758499145508,
          10.020813941955566
         ],
         "xaxis": "x",
         "y": [
          0.7830596566200256,
          0.26545336842536926,
          0.08187021315097809,
          0.4531623423099518,
          -0.06798951327800751
         ],
         "yaxis": "y"
        },
        {
         "customdata": [
          [
           "The central theme of the text is the change of season from winter to spring, and the subject is the description of the season of spring."
          ],
          [
           "The central theme of the text is the hope for a breakthrough in the GST and the cooperation of all parties to ensure its implementation."
          ],
          [
           "The central theme that the author is exploring is the potential for the Allahabad High Court to inspire the country to achieve the goals set for the 75th year of independence."
          ],
          [
           "The central theme that the author is exploring is the importance of research and innovation in the field of holistic health care."
          ],
          [
           "The author is exploring the theme of agricultural development in India, and the subject of the talk is the role of Dr. M.S. Swaminathan in this development."
          ],
          [
           "The author is exploring the historical ties between India and Africa, and how they have enriched each other's cultures."
          ],
          [
           "The central theme of the author is that sports play an important role in uniting us and creating a sense of sportsmanship."
          ],
          [
           "The author is exploring the concept of GST and its potential to help the underprivileged in India."
          ],
          [
           "The author is exploring the theme of patriotism and the need for chartered accountants to be patriotic and to help the government in its fight against black money."
          ],
          [
           "The author is exploring the idea that the five years from 2017 to 2022 can and must play a decisive role for the future of India."
          ],
          [
           "The author is exploring the idea that cooperative movements can bring about big changes in rural economies through small things."
          ],
          [
           "The author is exploring the idea that a handful of people in the country are harming its reputation and weakening its honest social fabric."
          ],
          [
           "The central theme of the author is exploring is development and its importance in changing the future of Gujarat."
          ],
          [
           "The author is exploring the idea of digital literacy and its importance in the modern world."
          ],
          [
           "The author is exploring the idea that service to humanity is equal to service to God."
          ],
          [
           "The author is exploring the idea that the country's infrastructure and connectivity have improved greatly in recent years."
          ],
          [
           "The central theme and subject that the author is exploring is the power of Soundarya Lahari and the importance of preserving Indian culture and traditions."
          ],
          [
           "The central theme and subject that the author is exploring is the importance of Indian culture and traditions in the modern world."
          ],
          [
           "The central theme that the author is exploring is the pride that Indians have in their country and its culture."
          ],
          [
           "The central theme that the author is exploring is how digital technology is impacting the world and how it can be used to improve quality of life."
          ],
          [
           "The central theme of the author is exploring is the impact of global warming and climate change on the season of winter."
          ],
          [
           "The central theme that the author is exploring is the development of the North-Eastern states in India."
          ]
         ],
         "hovertemplate": "cluster=C2<br>tenure=MS_Year_1<br>x=%{x}<br>y=%{y}<br>Topics=%{customdata[0]}<extra></extra>",
         "legendgroup": "C2",
         "marker": {
          "color": "darkturquoise",
          "symbol": "square"
         },
         "mode": "markers",
         "name": "C2",
         "showlegend": true,
         "type": "scattergl",
         "x": [
          9.004533767700195,
          8.790776252746582,
          7.240779876708984,
          8.301892280578613,
          9.36988639831543,
          9.327984809875488,
          8.737516403198242,
          8.976080894470215,
          9.531052589416504,
          9.249468803405762,
          8.71682357788086,
          8.507747650146484,
          8.443235397338867,
          9.290108680725098,
          9.63203239440918,
          9.19218921661377,
          9.381034851074219,
          9.36751937866211,
          8.669897079467773,
          9.681851387023926,
          9.562973976135254,
          8.896320343017578
         ],
         "xaxis": "x7",
         "y": [
          -2.7156786918640137,
          -1.1904865503311157,
          -2.137854814529419,
          -2.6846745014190674,
          -0.6283436417579651,
          -0.4231352210044861,
          -0.9446582198143005,
          -1.0770851373672485,
          -1.0302820205688477,
          -1.109297275543213,
          -1.5996313095092773,
          -2.473914861679077,
          -2.417001724243164,
          -1.736496925354004,
          -1.722489356994629,
          -1.7434988021850586,
          -1.4780409336090088,
          -1.4837379455566406,
          -2.4090793132781982,
          -0.894809365272522,
          -1.3500951528549194,
          -1.180459976196289
         ],
         "yaxis": "y7"
        },
        {
         "customdata": [
          [
           "The author is exploring the idea that a mass movement is necessary to bring about change, and that it is possible to achieve the goals set forth by the government."
          ],
          [
           "The author is exploring the theme of development in India."
          ],
          [
           "The author is exploring the idea that Arunachal Pradesh is an important state in India and that the people of Arunachal Pradesh are very patriotic."
          ],
          [
           "The author is exploring the idea that the country can only progress if all the districts work together towards common goals."
          ],
          [
           "The central theme that the author is exploring is the need for scientists to dedicate themselves to improving the lives of those around them."
          ],
          [
           "The central theme and subject that the author is exploring is the importance of the role of the Rajya Sabha in policy making in India."
          ],
          [
           "The central theme of the author is exploring is the dedication and hard work of the team who has worked on the construction of the facility for the MPs."
          ],
          [
           "The central theme of the author is energy security and the importance of oil and gas."
          ],
          [
           "The author is exploring the idea that the government should do more to help the people of India, specifically in the areas of education, healthcare, and water conservation."
          ],
          [
           "The author is exploring the idea that the government is working to provide housing for all citizens by 2022."
          ],
          [
           "The central theme of the author is exploring is the success of the Digital India campaign in rural areas, and the subject is the various ways in which the campaign has helped improve the lives of rural residents."
          ],
          [
           "The central theme of the author is exploring is the development of the metro system in Delhi and how it has positively impacted the lives of the people."
          ],
          [
           "The central theme the author is exploring is social security schemes and how they have helped people in difficult times."
          ],
          [
           "The author is exploring the government's efforts to improve healthcare in India."
          ],
          [
           "The author is exploring the central theme of women empowerment and the subject of self help groups."
          ],
          [
           "The author is exploring the idea that the government is working to make the lives of people easier."
          ],
          [
           "The author is exploring the impact of electricity on rural villages in India."
          ],
          [
           "The author is exploring the idea that Rwanda is a model for development that other countries can learn from."
          ],
          [
           "The author is exploring the idea that Parliamentarians are often not given the opportunity to speak about the problems of the people due to chaos and noise in the House."
          ],
          [
           "The central theme of the author is exploring is the life and work of HarivanshJi, a journalist and politician from India."
          ],
          [
           "The author is exploring the idea that a family's dream can be realized when they have a house registered in their name."
          ],
          [
           "The central theme that the author is exploring is the dedication of Venkaiah Ji to his responsibilities and his disciplined nature."
          ],
          [
           "The author is exploring the central theme of valor and sacrifice of police personnel in India."
          ],
          [
           "The central theme that the author is exploring is the use of technology to improve the lives of citizens."
          ],
          [
           "The central theme of the author is exploring is the importance of the Winter Session and how it can be used to benefit the public."
          ],
          [
           "The author is exploring the idea of development in Odisha through a variety of infrastructure projects."
          ],
          [
           "The author is exploring the life and legacy of former Indian Prime Minister Atal Bihari Vajpayee."
          ]
         ],
         "hovertemplate": "cluster=C2<br>tenure=MS_Year_2<br>x=%{x}<br>y=%{y}<br>Topics=%{customdata[0]}<extra></extra>",
         "legendgroup": "C2",
         "marker": {
          "color": "darkturquoise",
          "symbol": "square"
         },
         "mode": "markers",
         "name": "C2",
         "showlegend": false,
         "type": "scattergl",
         "x": [
          9.695514678955078,
          8.89403247833252,
          9.777665138244629,
          9.118903160095215,
          9.682668685913086,
          9.340956687927246,
          9.384686470031738,
          9.491288185119629,
          9.935144424438477,
          9.531698226928711,
          9.010176658630371,
          9.643189430236816,
          9.594236373901367,
          9.20859146118164,
          9.470471382141113,
          9.251147270202637,
          9.617835998535156,
          9.710738182067871,
          8.891615867614746,
          9.717429161071777,
          9.715158462524414,
          9.345990180969238,
          9.795354843139648,
          9.409940719604492,
          8.939041137695312,
          9.994148254394531,
          9.572456359863281
         ],
         "xaxis": "x8",
         "y": [
          -1.4669533967971802,
          -1.4205971956253052,
          -1.1762831211090088,
          -1.303003191947937,
          -0.8021787405014038,
          -1.4167330265045166,
          -1.4901227951049805,
          -0.761612057685852,
          -1.5561597347259521,
          -1.25081205368042,
          -1.4595239162445068,
          -1.2019193172454834,
          -1.1479114294052124,
          -1.554414987564087,
          -1.1234856843948364,
          -1.5241433382034302,
          -0.9949995279312134,
          -1.0849831104278564,
          -1.626174807548523,
          -1.3682161569595337,
          -1.415515422821045,
          -1.4579495191574097,
          -1.303086280822754,
          -1.1416345834732056,
          -1.448096752166748,
          -2.271007537841797,
          -1.2256557941436768
         ],
         "yaxis": "y8"
        },
        {
         "customdata": [
          [
           "The central theme that the author is exploring is the importance of science and technology in India."
          ],
          [
           "The author is exploring the development projects underway in Odisha by the central government."
          ],
          [
           "The central theme that the author is exploring is the potential for small businesses to succeed on a global scale."
          ],
          [
           "The central theme of the text is the power of positivity and the importance of small changes."
          ],
          [
           "The central theme of the author is exploring is the development schemes launched by the government and their positive impact on every individual of the country."
          ],
          [
           "The central theme that the author is exploring is the development of Arunachal Pradesh."
          ],
          [
           "The central theme that the author is exploring is energy justice and how it can be achieved."
          ],
          [
           "The author is exploring the accomplishments of the 16th Lok Sabha."
          ],
          [
           "The central theme of the author is exploring is the idea of India being a united front against terrorism."
          ],
          [
           "The central theme and subject that the author is exploring is the effect of the Pulwama terror attack on the nation and the government's response to it."
          ],
          [
           "The central theme of the author is that the nation will not stop and will give strong blows against such attacks in a united way."
          ],
          [
           "The central theme of the text is the development of Dhule, and the subject is the various development projects underway or being planned for the city."
          ],
          [
           "The central theme that the author is exploring is the development of the country and the commitment of the BJP government towards the same."
          ],
          [
           "The author is exploring the development schemes launched by the NDA government for the improvement of infrastructure and facilities in Bihar."
          ],
          [
           "The central theme of the author is exploring is culture and its importance in society."
          ],
          [
           "The central theme of the author is exploring is the importance of the philosophies of Guru Ravidas ji and how they can be applied in modern day India to create a more equal society."
          ],
          [
           "The central theme of the text is exploring the idea that the Seoul Peace Prize is a recognition of the philosophy that has given the message of वसुधैव कुटुम्बकम, which means the entire world is one family."
          ],
          [
           "The author is exploring the idea that the Kumbh Mela is a case study for the management students and universities as such a huge number of people from different places with different habits, culture and languages have gathered."
          ],
          [
           "The author is exploring the Pradhan Mantri Kisan Samman Nidhi scheme and how it will benefit farmers."
          ],
          [
           "The central theme of the text is the hard work and dedication of the sanitation workers during the Kumbh Mela."
          ],
          [
           "The central theme that the author is exploring is the difference between the priorities of the previous government and the present government."
          ],
          [
           "The central theme that the author is exploring is the idea of linking science to people's needs in order to make it in line with the aspirations and needs of society."
          ],
          [
           "The author is exploring the difference between the development work done by the current government as compared to the work done by the previous government."
          ],
          [
           "The central theme of the text is the government's commitment to providing housing for all Indians. The subject explored is the various initiatives taken by the government to make this happen, as well as the challenges faced by the housing sector."
          ],
          [
           "The central theme and subject that the author is exploring is the idea of progress and development."
          ],
          [
           "The author is exploring the development of Ahmedabad and the surrounding areas, as well as the government initiatives to improve the living conditions in Gujarat."
          ],
          [
           "The central theme of the text is the importance of service to humanity."
          ],
          [
           "The central theme and subject that the author is exploring is spiritual consciousness and its role in social reform and reconstruction in India."
          ],
          [
           "The author is exploring the idea that the government is working to improve the lives of farmers and fishermen."
          ],
          [
           "The author is exploring the potential for the urban centres of the North East to emerge as growth hubs for the entire region, and the progress that is being made in implementing the Smart City Mission in the region."
          ],
          [
           "The central theme that the author is exploring is the idea that the rhetoric used by the political opponents against Modi for political interests is giving more power to the nation's enemies."
          ],
          [
           "The central theme that the author is exploring is the development of Noida and the surrounding areas."
          ],
          [
           "The author is exploring the central theme of the importance of the CISF in protecting the nation and its resources."
          ],
          [
           "The central theme that the author is exploring is the potential for cooperation between India and the Kyrgyz Republic."
          ],
          [
           "The central theme of the author is to explore the potential for increased trade and investment between India and Kyrgyzstan."
          ],
          [
           "The central theme of the author is exploring is the life and work of Om Birla, and how he is suited for the position of Speaker."
          ],
          [
           "The central theme of the author is that yoga is a crucial medium for those who are coming out of poverty."
          ],
          [
           "The central theme and subject that the author is exploring is the importance of democracy in India."
          ],
          [
           "The author is exploring the concept of democracy and how it has evolved over time."
          ],
          [
           "The central theme that the author is exploring is the budget and how it will positively impact the citizens of India."
          ],
          [
           "The central theme of the book is exploring the life and ideas of former Prime Minister Chandrashekhar."
          ],
          [
           "The author is exploring the central theme and subject of the valour and sacrifice of the Indian soldiers in the Kargil war."
          ],
          [
           "The central theme and subject the author is exploring is the abrogation of Article 370 and 35A in Jammu and Kashmir, and the new opportunities and development that will come with it."
          ],
          [
           "The author is exploring the idea that self-respect is the key to defeating poverty."
          ],
          [
           "The central theme of the author is exploring is the special relationship between India and Bhutan and how it has benefits both countries."
          ],
          [
           "The central theme that the author is exploring is the importance of spirituality and youthful vigour in shaping the future of Bhutan."
          ],
          [
           "The central theme of the author is to explore the idea of modernizing the parliament building and to make it more efficient for the MPs."
          ],
          [
           "The central theme of the author is exploring is the strong friendship between India and France and how the two countries have supported each other over the years."
          ],
          [
           "The central theme of the text is the strong relationships between Bahrain and India, and the author's gratitude for the welcome he received upon his arrival."
          ],
          [
           "The author is exploring how fitness is important for success in any field."
          ],
          [
           "The central theme of the author is exploring is that AYUSH and Yoga are very important partners of the Fit India Movement."
          ],
          [
           "The central theme that the author is exploring is the change that is happening in India and how it is affecting the people of India."
          ],
          [
           "The author is exploring the idea that Gujarat Bhawan should be a representative of the brand of the state and a center for tourism and trade."
          ],
          [
           "The central theme of the author is exploring is the friendship and cooperation between India and Russia."
          ],
          [
           "The central theme of the author is exploring is the importance of hard work and determination in achieving goals."
          ],
          [
           "The central theme of the author is exploring is the idea that failure is not an option, and that even though there may be obstacles and challenges, the goal can still be achieved."
          ],
          [
           "The central theme of the text is the empowerment of women in India. The author discusses the various ways in which women are contributing to the development of the country, and how the government is working to support them."
          ],
          [
           "The author is exploring the idea that human empowerment is closely linked to the state of the environment, and that behavioural change is necessary to bring about positive change."
          ],
          [
           "The central theme of the author is exploring is the importance of cleanliness and environment."
          ],
          [
           "The author is exploring the idea that the government is working hard to improve the lives of the poor and the tribal society."
          ],
          [
           "The author is exploring the theme of development while preserving the environment."
          ],
          [
           "The central theme of the author is exploring is the friendship between the United States and India and how it has grown over the years."
          ],
          [
           "The central theme and subject that the author is exploring is the growing synergy between India and America."
          ],
          [
           "The author is exploring the subject of health and how it is a priority for India."
          ],
          [
           "The central theme of the author's exploration is the need for a global people's movement to bring about behavioral change with regards to climate change."
          ],
          [
           "The central theme of the author is exploring is that the Swachh Bharat Mission has had a positive impact on the lives of many people in India."
          ],
          [
           "The author is exploring the idea that India is a great culture that is thousands of years old, and that has the ability to inspire the world."
          ],
          [
           "The central theme of the text is the harmful effects of tobacco addiction and the importance of quitting at an early stage."
          ],
          [
           "The central theme of the author is exploring is the satisfaction of the participants of the India-Singapore Hackathon and the importance of innovation in solving global problems."
          ],
          [
           "The author is exploring how the Ayushman Bharat scheme is helping the poor by providing them with access to healthcare."
          ],
          [
           "C. The author is exploring the idea that Swachh Bharat Abhiyan is a success and that it has had a"
          ],
          [
           "The author is exploring the central theme of the strong commitment of India to the development of Mauritius through the inauguration of the first phase of the Metro project and the state-of-the-art ENT Hospital."
          ],
          [
           "The central theme of the author is exploring is the partnership between India and Bangladesh and how it benefits both countries."
          ],
          [
           "The central theme of the book is how technology can be used to improve the lives of people in India."
          ],
          [
           "The author is exploring the close relationship between India and Thailand, and how it is based on shared culture and history."
          ],
          [
           "The central theme of the author's exploration is the close relationship between India and Thailand, and the reasons for this close relationship."
          ],
          [
           "The central theme of the author is exploring is the importance of science and technology in 21st century India."
          ],
          [
           "The central theme of the book is exploring the potential of Himachal Pradesh."
          ],
          [
           "The central theme and subject that the author is exploring is the PM Uday Yojana scheme, and the author is urging the people to join the scheme to change their lives for the better."
          ],
          [
           "The central theme of the author is exploring is the business opportunities between the BRICS countries."
          ],
          [
           "The central theme of the text is economic growth and the subject is innovation."
          ],
          [
           "The central theme of the author's speech is the importance of cooperation between the BRICS countries in order to achieve economic growth."
          ],
          [
           "The author is exploring the idea that the Constitution of India is the driving force for the country and that celebrating 70 years of the Constitution can be an opportunity for the countrymen to become awaken."
          ],
          [
           "The author is exploring the role of the Comptroller and Auditor General of India (CAG) in improving the transparency and accountability of the government."
          ],
          [
           "The author is exploring the central theme and subject of the Constitution Day and the importance of the Constitution in protecting the rights of citizens."
          ],
          [
           "The central theme and subject that the author is exploring is the close relationship between India and Maldives and the cooperation between the two countries for democracy and development."
          ],
          [
           "The author is exploring the idea that conversations are important in giving direction to any country, society, or individual to move forward."
          ],
          [
           "The central theme of the text is water conservation and the subject is the Atal Jal Yojana scheme."
          ]
         ],
         "hovertemplate": "cluster=C2<br>tenure=MS_Year_3<br>x=%{x}<br>y=%{y}<br>Topics=%{customdata[0]}<extra></extra>",
         "legendgroup": "C2",
         "marker": {
          "color": "darkturquoise",
          "symbol": "square"
         },
         "mode": "markers",
         "name": "C2",
         "showlegend": false,
         "type": "scattergl",
         "x": [
          9.491348266601562,
          9.981596946716309,
          9.83615779876709,
          9.784366607666016,
          8.437764167785645,
          9.321540832519531,
          9.509279251098633,
          8.988092422485352,
          8.977126121520996,
          9.610243797302246,
          9.584493637084961,
          9.291217803955078,
          9.625295639038086,
          10.073368072509766,
          9.698185920715332,
          9.645434379577637,
          9.401094436645508,
          9.699674606323242,
          9.892097473144531,
          9.728577613830566,
          9.780569076538086,
          10.037578582763672,
          9.201543807983398,
          9.868956565856934,
          9.602856636047363,
          9.169418334960938,
          9.456625938415527,
          9.576701164245605,
          9.257140159606934,
          8.926339149475098,
          8.955106735229492,
          9.289719581604004,
          9.109902381896973,
          9.647768020629883,
          9.52990436553955,
          9.164957046508789,
          9.359821319580078,
          9.473236083984375,
          8.799322128295898,
          8.559056282043457,
          9.576066017150879,
          8.966461181640625,
          9.698872566223145,
          9.449389457702637,
          9.359122276306152,
          9.298078536987305,
          9.004562377929688,
          8.544466018676758,
          9.440373420715332,
          8.675840377807617,
          8.99758243560791,
          9.606575965881348,
          8.3383150100708,
          9.429743766784668,
          9.372291564941406,
          8.879484176635742,
          8.83778190612793,
          8.979588508605957,
          8.706083297729492,
          8.686928749084473,
          8.041911125183105,
          7.750622272491455,
          8.19068717956543,
          8.288692474365234,
          9.345280647277832,
          8.279729843139648,
          7.660163402557373,
          7.939558029174805,
          8.117843627929688,
          8.591303825378418,
          7.943926811218262,
          9.45157241821289,
          8.528274536132812,
          8.265546798706055,
          9.172199249267578,
          9.210453033447266,
          7.636565685272217,
          9.207685470581055,
          7.907974720001221,
          9.24209213256836,
          9.202463150024414,
          9.45663070678711,
          8.626277923583984,
          8.06052017211914,
          8.07243537902832,
          8.582310676574707,
          7.852352619171143,
          8.147939682006836
         ],
         "xaxis": "x9",
         "y": [
          -2.0696089267730713,
          -2.261139392852783,
          -1.838143229484558,
          -1.8316730260849,
          -1.8541046380996704,
          -1.39629328250885,
          -0.8332821726799011,
          -1.785154938697815,
          -2.0984437465667725,
          -2.402766704559326,
          -1.567253828048706,
          -2.367853879928589,
          -1.8059059381484985,
          -1.704101324081421,
          -1.7440608739852905,
          -2.011665105819702,
          -0.6524709463119507,
          -2.1366400718688965,
          -1.6013154983520508,
          -1.5845268964767456,
          -1.722489356994629,
          -1.8219736814498901,
          -2.0627076625823975,
          -1.8085696697235107,
          -1.9291269779205322,
          -1.8400413990020752,
          -1.8619959354400635,
          -1.7296249866485596,
          -1.992437720298767,
          -1.8865669965744019,
          -2.408273458480835,
          -2.1991264820098877,
          -2.0623831748962402,
          -0.6551184058189392,
          -0.7527835369110107,
          -1.6123989820480347,
          -2.188054323196411,
          -1.5678915977478027,
          -1.728826880455017,
          -2.043177843093872,
          -1.68529212474823,
          -1.7759133577346802,
          -1.6960277557373047,
          -2.079763412475586,
          -1.2416205406188965,
          -1.2733912467956543,
          -1.6616369485855103,
          -1.7848899364471436,
          -1.0616296529769897,
          -2.236147403717041,
          -2.4026083946228027,
          -1.5598578453063965,
          -1.9307044744491577,
          -0.5662240982055664,
          -1.714391827583313,
          -1.9597288370132446,
          -1.9255210161209106,
          -0.9888094067573547,
          -1.7458845376968384,
          -1.8299777507781982,
          -2.0063445568084717,
          -2.1349215507507324,
          -2.018275499343872,
          -2.047682046890259,
          -1.6833299398422241,
          -2.214747905731201,
          -1.4020593166351318,
          -1.4926886558532715,
          -1.4103678464889526,
          -1.9279606342315674,
          -2.184873342514038,
          -0.5135612487792969,
          -2.213160514831543,
          -1.7633836269378662,
          -0.7916847467422485,
          -0.6507759690284729,
          -2.10323429107666,
          -1.119147777557373,
          -1.9458491802215576,
          -0.4340684711933136,
          -0.5165688991546631,
          -0.6237565875053406,
          -1.422425627708435,
          -2.141777992248535,
          -1.8905260562896729,
          -1.5363402366638184,
          -1.7742069959640503,
          -1.6657649278640747
         ],
         "yaxis": "y9"
        },
        {
         "customdata": [
          [
           "The central theme of the text is exploring the idea that the young people have a lot of restricting capacity and that the combination of experienced and young people is important."
          ],
          [
           "The central theme that the author is exploring is the potential for technology to improve rural development in India."
          ],
          [
           "The central theme of the text is the success of the Kirloskar Group and the contribution of Indian entrepreneurs to the development of the country."
          ],
          [
           "The author is exploring the idea that Kolkata Port is not just a place for ships to come and go, but has an entire history behind it."
          ],
          [
           "The author is exploring the central theme of the power of the youth in India and the subject of National Youth Day."
          ],
          [
           "The author is exploring the idea that the youth of India are determined to change the country for the better and that the government is taking steps to support them."
          ],
          [
           "The author is exploring the idea that the government should focus on economic issues and empowering people in India."
          ],
          [
           "The central theme of the author is exploring is the construction of a temple of Bhagwan Shri Ram at his birth place at Ayodhya."
          ],
          [
           "The central theme of the author is exploring is the idea of self-reliance and self-help and how it is incorporated into the government's schemes and the work culture of the government."
          ],
          [
           "The author is exploring the central theme of India's commitment to conservation of wildlife and habitats."
          ],
          [
           "The central theme that the author is exploring is the idea that people should not get caught in the trap of over-confidence and should maintain a distance of two yards to keep themselves healthy."
          ],
          [
           "The author is exploring the idea that India's fight against the Corona virus is people driven."
          ],
          [
           "The central theme of the author is exploring is the fight against the coronavirus pandemic in India."
          ],
          [
           "The central theme that the author is exploring is the role of the United Nations in today's world and the importance of reform in order to make it more relevant and effective."
          ],
          [
           "The central theme that the author is exploring is the special friendship between India and Mauritius and the shared values between the two countries."
          ],
          [
           "The central theme of the author is exploring is the importance of working together to defeat the Corona virus in India."
          ],
          [
           "The central theme that the author is exploring is the opportunities that are available in India for foreign investment."
          ],
          [
           "The author is exploring the idea that the Pradhan Mantri Awas Yojana is a successful scheme that is benefiting many people in India."
          ],
          [
           "The central theme of the text is the relationship between India and Sri Lanka, and the subject is the potential for cooperation between the two countries after the recent victory of the Sri Lanka Podujana Peramuna (SLPP) in the parliamentary elections."
          ],
          [
           "The central theme that the author is exploring is the potential for artificial intelligence to improve human lives."
          ],
          [
           "The central theme that the author is exploring is \"India's Energy Future in a world of Change\"."
          ],
          [
           "The central theme of the author's exploration is the need for reform in global governance institutions."
          ],
          [
           "The central theme of the author is exploring is the importance of cooperation among the BRICS nations in various fields."
          ],
          [
           "The author is exploring the idea that when major problems in life get solved, it starts reflecting a different confidence altogether."
          ],
          [
           "The author is exploring the importance of the 16-17-18 age range for the development of the country."
          ],
          [
           "The central theme of the author is exploring is the development of a potential vaccine for the coronavirus and the efforts being made by the Indian government."
          ],
          [
           "The author is exploring the idea that India is on track to not only meet its Paris Agreement targets, but to exceed them."
          ]
         ],
         "hovertemplate": "cluster=C2<br>tenure=MS_Year_4<br>x=%{x}<br>y=%{y}<br>Topics=%{customdata[0]}<extra></extra>",
         "legendgroup": "C2",
         "marker": {
          "color": "darkturquoise",
          "symbol": "square"
         },
         "mode": "markers",
         "name": "C2",
         "showlegend": false,
         "type": "scattergl",
         "x": [
          7.678781509399414,
          7.405996322631836,
          7.4353156089782715,
          7.102046012878418,
          7.778528213500977,
          7.6396050453186035,
          8.820903778076172,
          7.272908687591553,
          7.4179534912109375,
          9.036681175231934,
          7.984443187713623,
          7.978438854217529,
          8.894392013549805,
          9.222347259521484,
          9.182745933532715,
          8.721890449523926,
          9.36435317993164,
          8.29791259765625,
          9.050227165222168,
          8.990852355957031,
          9.269623756408691,
          9.157614707946777,
          9.337177276611328,
          8.783705711364746,
          8.622088432312012,
          8.491289138793945,
          9.372517585754395
         ],
         "xaxis": "x4",
         "y": [
          -2.077847480773926,
          -1.815002679824829,
          -1.7340165376663208,
          -1.8689097166061401,
          -1.5874232053756714,
          -1.746538758277893,
          -1.4076242446899414,
          -1.6597480773925781,
          -1.4793176651000977,
          -0.5736598372459412,
          -1.69999098777771,
          -1.7075682878494263,
          -1.5306172370910645,
          -0.42562955617904663,
          -0.8124486207962036,
          -1.429735779762268,
          -0.4505922794342041,
          -1.4267269372940063,
          -0.817598819732666,
          -0.4241431951522827,
          -0.7555767893791199,
          -0.4652038812637329,
          -0.6126341223716736,
          -1.3394618034362793,
          -1.4994397163391113,
          -1.4641690254211426,
          -0.36255255341529846
         ],
         "yaxis": "y4"
        },
        {
         "customdata": [
          [
           "The central theme of the author is exploring is the budget for the year 2021 and how it will affect the human race."
          ],
          [
           "The central theme that the author is exploring is the role that the energy sector plays in India's progress and development, and how the government is working to improve the sector."
          ],
          [
           "The author explores the idea that the countries of South Asia and the Indian Ocean island countries need to work together cooperatively in order to overcome the challenges that they face."
          ],
          [
           "The central theme of the author is exploring is how to carry forward agricultural reforms and budget provisions rapidly, to ensure its efficient last mile delivery within a definite time frame and with the inclusion of everybody."
          ],
          [
           "The author is exploring the central theme and subject of India's maritime sector and its potential for growth."
          ],
          [
           "The central theme that the author is exploring is the impact of the double engine government on the development of Tripura."
          ],
          [
           "The central theme of the author is exploring is the deep and abiding friendship between India and Seychelles."
          ],
          [
           "The author is exploring the idea that the world is under-prepared to handle the Covid-19 pandemic and that this pandemic presents an opportunity to reshape the world order."
          ],
          [
           "The author is exploring the need for concrete action on climate change, and the role that India can play in this effort."
          ],
          [
           "The central theme that the author is exploring is the idea that humans are capable of great things when they work together."
          ],
          [
           "The author is exploring the issue of land degradation and its effects on society, economies, food security, and quality of life."
          ],
          [
           "The central theme of the author is exploring is the democracy and development of Jammu-Kashmir."
          ],
          [
           "The central theme of the text is the importance of vaccination in the fight against coronavirus and the subject explored is the life of some Indian athletes who are preparing for the Tokyo Olympics."
          ],
          [
           "The author is exploring the idea that Kashi can become a major global center of song-music, religion-spirituality, and knowledge-science."
          ],
          [
           "The author is exploring the theme of modernization and the potential of young India."
          ],
          [
           "The author is exploring the potential of Uttar Pradesh to become the powerhouse of India's growth engine."
          ],
          [
           "The central theme is exploring the idea of a new journey with new goals for Brand India."
          ],
          [
           "The central theme of the author is exploring is the importance of maritime security and the challenges that it faces."
          ],
          [
           "The central theme of the text is the empowerment of women through self-help groups."
          ],
          [
           "The central theme that the author is exploring is the confidence and hard work of the Indian athletes preparing for the Paralympics."
          ],
          [
           "The central theme of the author's exploration is the recent developments in Afghanistan and the need for regional cooperation to address the resulting challenges."
          ],
          [
           "The author is exploring the idea that the SCO should work to develop a strong network between moderate, tolerant, and inclusive institutions and traditions associated with Islam in order to fight radicalization."
          ],
          [
           "The central theme that the author is exploring is the idea that democracy can deliver on its promises, and that it has done so in India."
          ],
          [
           "The author is exploring the idea that music can unite people and that global citizens should work together to fight poverty and climate change."
          ],
          [
           "The author is exploring the central theme of cleanliness and the subject of the Swachh Bharat Mission."
          ],
          [
           "The central theme that the author is exploring is the opportunities that India offers for investment and growth."
          ],
          [
           "The central theme of the text is the development of Uttarakhand."
          ],
          [
           "The central theme that the author is exploring is the potential for space technology to improve the lives of citizens, particularly those in rural and remote areas."
          ],
          [
           "The central theme of the text is the power of education and its ability to help people achieve their dreams. The subject that the author is exploring is the role that education plays in society."
          ],
          [
           "The central theme of the author is exploring is the country's journey to modernize its defense sector and becoming self-reliant."
          ],
          [
           "The central theme of the text is the development of Uttar Pradesh."
          ],
          [
           "The central theme and subject that the author is exploring is the impact of the Buddha's message on humanity."
          ],
          [
           "The central theme of the author is the development of Kushinagar International Airport and the importance of modern infrastructure for tourism in India."
          ],
          [
           "The central theme of the author is exploring is that the government should implement strict legal provisions to prevent corruption."
          ],
          [
           "The author is exploring the idea that service to humanity is service to God."
          ],
          [
           "The central theme of the author is to explore the success of India in providing 100 crore vaccine doses to its citizens and how this success is a result of the cooperation of every Indian citizen."
          ],
          [
           "The central theme of the author is exploring is the success of the vaccine program in India."
          ],
          [
           "The central theme and subject that the author is exploring is the idea of karma yoga, or the idea of service to others, in politics."
          ],
          [
           "The central theme of the author is exploring is the strong relationship between India and ASEAN and how it has been maintained despite challenges."
          ],
          [
           "The central theme of the text is exploring the idea of sustainable development and climate change."
          ],
          [
           "The central theme that the author is exploring is India's role in the global response to the coronavirus pandemic."
          ],
          [
           "The central theme of the text is climate action, and the subject that the author is exploring is the responsibility of developed countries to finance green projects in developing countries."
          ],
          [
           "The central theme of the author is exploring is the importance of the Sustainable Development Goals in post-COVID recovery."
          ],
          [
           "The author is exploring the central theme of climate change and the need for a global movement to address the issue."
          ],
          [
           "The central theme of the author is exploring is that adaptation should be given more importance in the global climate debate."
          ],
          [
           "The central theme is the need for clean energy, and the subject is solar power."
          ],
          [
           "The author is exploring how to increase vaccination rates in India through innovative methods and strategies."
          ],
          [
           "The author is exploring the legacy of Adi Shankaracharya."
          ],
          [
           "The author is exploring the idea that the Warkari movement in Pandharpur has been a great influence in the resolutions of the country for the development of the villages."
          ],
          [
           "The central theme of the poem is the idea that humans are bound by their fates and that they cannot escape their destinies."
          ],
          [
           "The author is exploring the potential of railways in India and how it can be used to connect different parts of the country."
          ],
          [
           "The author is exploring the contribution of the tribal society in nation building."
          ],
          [
           "The author is exploring the idea that Bhagwan Birsa Munda was a great freedom fighter who fought for the independence of India."
          ],
          [
           "The central theme of the text is the importance of the Comptroller and Auditor General of the country and the role it plays in ensuring accountability and transparency in government."
          ],
          [
           "The central theme of the text is the role of democracy in India."
          ],
          [
           "The author explores the central theme of how technology is changing everything and how this change is raising new questions on sovereignty, governance, ethics, law, rights and security."
          ],
          [
           "The author is exploring the idea that the banking sector can play a proactive role in making projects viable and boosting the economy."
          ],
          [
           "The central theme that the author is exploring is the idea that life is meaningless without service."
          ],
          [
           "I think the author is exploring the idea of what it means to be a revolutionary."
          ],
          [
           "2020.11.20 23:08 anony_mous_user_to_ask [HELP] The author of the text (Bharat Mata Ki Jai, Bharat Mata Ki JaiThe popular and Karmayogi Chief Minister of Uttar Pradesh, Shri Yogi Adityanath ji, our old energetic colleague and Deputy Chief Minister Shri"
          ],
          [
           "The author is exploring the role of the judiciary in a democracy, and how it is essential for the progress of the country."
          ],
          [
           "The author is exploring the idea that political parties in India are dynastic in nature, and that this is a threat to democracy in the country."
          ],
          [
           "The central theme of the author is the importance of the upcoming session of Parliament and the need for all citizens to work together for the development of the country."
          ],
          [
           "The central theme of the text is the strong relationship between India and Russia, and the subject is the 21st India-Russia Annual Summit."
          ],
          [
           "The central theme of the text is the development of the country."
          ],
          [
           "The central theme of the author is exploring is the importance of democracy and how it has positively impacted India."
          ],
          [
           "The central theme that the author is exploring is the difference between the government under the previous administrations and the government under Yogi Adityanath's administration."
          ],
          [
           "The central theme that the author is exploring is the financial inclusion of women in India."
          ],
          [
           "The central theme of the text is the glory and significance of the city of Kashi."
          ],
          [
           "The central theme that the author is exploring is the idea that humans can achieve divinity through their actions, or karma."
          ],
          [
           "The author is exploring the idea that Kashi has the potential to show the world the way to development."
          ],
          [
           "The central theme the author is exploring is the idea that natural farming is a more efficient and sustainable way of farming than traditional farming methods."
          ],
          [
           "The author is exploring the idea that the Ganga Expressway will bring many benefits to the people of Uttar Pradesh."
          ],
          [
           "There is no one-size-fits-all answer to this question. However, some tips that may help you score high in the UPSC exam include:1. Start preparing early and give yourself enough time to cover all the topics in the syllabus.2. Make a study schedule and stick to it.3. Understand the exam pattern and the marking scheme well so that you can focus your studies on the"
          ],
          [
           "The author is exploring the idea that the development of Purvanchal, Baba's work, and Vishwanath Dham's work are being objected to by some people."
          ],
          [
           "The central theme that the author is exploring is the idea that the Sikh Gurus have always been an inspiration for the country and have contributed immensely to its development."
          ],
          [
           "The central theme that the author is exploring is the importance of being careful and vigilant during the spread of the new Corona variant Omicron."
          ],
          [
           "The central theme that the author is exploring is the development of Himachal Pradesh."
          ],
          [
           "The central theme of the author's exploration is the need for students to be self-reliant and to think about the future of India."
          ]
         ],
         "hovertemplate": "cluster=C2<br>tenure=MS_Year_5<br>x=%{x}<br>y=%{y}<br>Topics=%{customdata[0]}<extra></extra>",
         "legendgroup": "C2",
         "marker": {
          "color": "darkturquoise",
          "symbol": "square"
         },
         "mode": "markers",
         "name": "C2",
         "showlegend": false,
         "type": "scattergl",
         "x": [
          8.447562217712402,
          8.527076721191406,
          9.199109077453613,
          8.395837783813477,
          9.179342269897461,
          8.476750373840332,
          9.204032897949219,
          8.822343826293945,
          9.123528480529785,
          8.960841178894043,
          8.84637451171875,
          7.952779769897461,
          7.861539363861084,
          9.370447158813477,
          8.390466690063477,
          8.447211265563965,
          7.631339073181152,
          9.364838600158691,
          8.302107810974121,
          7.814126014709473,
          9.054286003112793,
          9.06050968170166,
          9.270278930664062,
          8.956857681274414,
          8.389787673950195,
          8.176915168762207,
          8.643564224243164,
          8.216902732849121,
          8.05887222290039,
          8.09722900390625,
          7.710954666137695,
          8.716410636901855,
          8.515801429748535,
          8.065668106079102,
          7.928121566772461,
          8.13205337524414,
          8.294981956481934,
          8.47983169555664,
          9.280972480773926,
          8.524709701538086,
          8.17640209197998,
          7.997017860412598,
          9.174636840820312,
          8.883065223693848,
          8.357034683227539,
          8.26590633392334,
          8.833208084106445,
          8.564752578735352,
          8.515488624572754,
          8.38166618347168,
          8.538463592529297,
          8.208823204040527,
          8.3096342086792,
          8.346330642700195,
          8.598926544189453,
          8.998274803161621,
          8.267729759216309,
          8.16115951538086,
          8.23367977142334,
          8.273715019226074,
          9.184258460998535,
          8.635773658752441,
          8.640936851501465,
          9.553771018981934,
          8.433073043823242,
          9.149944305419922,
          8.631017684936523,
          8.278096199035645,
          8.954862594604492,
          8.554487228393555,
          8.640921592712402,
          8.508471488952637,
          8.472588539123535,
          8.292235374450684,
          8.711036682128906,
          8.563057899475098,
          8.842079162597656,
          8.898567199707031,
          8.639208793640137
         ],
         "xaxis": "x5",
         "y": [
          -1.1870601177215576,
          -1.3110127449035645,
          -0.46362802386283875,
          -0.20676909387111664,
          -0.586419939994812,
          -0.27436912059783936,
          -0.7281095385551453,
          -0.8914788961410522,
          -0.6042002439498901,
          -1.2699826955795288,
          -0.9929884076118469,
          -0.8503800630569458,
          -0.9228851199150085,
          -0.707324206829071,
          -0.3196265697479248,
          -0.4349384903907776,
          -1.1476259231567383,
          -0.36390209197998047,
          -1.0484157800674438,
          -1.1436303853988647,
          -0.4885134696960449,
          -0.4787850081920624,
          -0.31672751903533936,
          -0.5374644994735718,
          -0.4759509265422821,
          -0.6895503997802734,
          -0.6343051195144653,
          -0.70194411277771,
          -0.49255242943763733,
          -0.7535035014152527,
          -1.0280990600585938,
          -1.3380646705627441,
          -0.8919579386711121,
          -0.7333990335464478,
          -1.02852463722229,
          -0.5542595386505127,
          -0.41192424297332764,
          -1.1826165914535522,
          -0.38486266136169434,
          -0.9895110130310059,
          -0.5267146825790405,
          -1.1949540376663208,
          -0.2998587489128113,
          -0.33740121126174927,
          -0.5399579405784607,
          -0.8630727529525757,
          -0.17352451384067535,
          -0.8750250935554504,
          -0.6422311663627625,
          -0.2604972720146179,
          -0.7456061840057373,
          -0.9431551694869995,
          -0.5317683815956116,
          -0.8889309167861938,
          -1.5242321491241455,
          -0.1510230004787445,
          -0.724445641040802,
          -0.5076285600662231,
          -0.8590394854545593,
          -0.7937589883804321,
          -0.2640499472618103,
          -0.9177051186561584,
          -0.913034200668335,
          -0.7170909643173218,
          -0.941976010799408,
          -0.2855464518070221,
          -0.5552173256874084,
          -0.4979098439216614,
          -0.5401697158813477,
          -0.4803052544593811,
          -0.3159920275211334,
          -0.4025101065635681,
          -0.8641559481620789,
          -0.7856248021125793,
          -0.904849648475647,
          -0.5340211987495422,
          -0.43354058265686035,
          -0.2426290512084961,
          -1.0226155519485474
         ],
         "yaxis": "y5"
        },
        {
         "customdata": [
          [
           "The author is exploring the idea that progress can be made by taking small steps and working together."
          ],
          [
           "The author is exploring the potential of the youth in India and the need for a new approach to sports."
          ],
          [
           "A. The central theme of the text is the idea that states that lag behind in development can hinder the development of the nation as a whole."
          ],
          [
           "The author is exploring the importance of medical education and healthcare in India."
          ],
          [
           "A. The author is exploring the relationship between the youth and the nation."
          ],
          [
           "The author is exploring the idea that the Start-up India Innovation Week is a great opportunity for the young people of India to showcase their talents and creativity."
          ],
          [
           "Present with us in the program are Speaker of Lok Sabha Shri Om Birla ji, Governor of Rajasthan Shri Kalraj Mishra"
          ],
          [
           "The central theme of the author is exploring is the development of Tripura."
          ],
          [
           "D. The author is exploring the idea that tourism can help improve relations with other countries. The author is exploring the idea that tourism can help promote national integration."
          ],
          [
           "The author is exploring the development of Meghalaya and the central government's efforts to accelerate the development journey of Meghalaya."
          ],
          [
           "The central theme of the text is the development of Manipur."
          ],
          [
           "The author is exploring the successes of the Indian government's aspirational districts campaign, and how the same principles can be applied to other districts in order to further the country's development."
          ],
          [
           "The central theme of the author is that music is a complex subject and it is important to preserve Indian classical music tradition."
          ],
          [
           "The author is exploring the central theme of India's commitment to tackling the challenge of climate change in the agricultural sector."
          ],
          [
           "The Waste Land by T.S. Eliot is a poem about the modern world and how it is a wasteland because people are not living fulfilling lives."
          ],
          [
           "The author is exploring the subject of environmental sustainability and climate justice."
          ],
          [
           "A. The central theme of the text is the importance of cleanliness and the subject is the Gobar-Dhan plant in Indore."
          ],
          [
           "The central theme of the author is that the government is supportive of the drone industry and its potential to create new jobs and opportunities."
          ],
          [
           "The author is exploring the 50th anniversary of the name 'Arunachal Pradesh' and the central theme is the development of the state."
          ],
          [
           "The author explores the five important aspects of the education sector in the budget- universalization of quality education, skill development, urban planning and design, internationalization, and AVGC."
          ],
          [
           "The central theme of the author is to explore the idea of development and how it can be achieved by working together."
          ],
          [
           "A. The central theme of the author is to explore the potential of natural farming in India and to promote it among the masses."
          ],
          [
           "The central theme of the author's exploration is self-reliance in the defence sector."
          ],
          [
           "A. The central theme of the text is exploring the role of digital technology in healthcare."
          ],
          [
           "The central theme of the text is infrastructure development in India, and how it will create new employment opportunities and spur economic growth."
          ],
          [
           "The central theme and subject that the author is exploring is the importance of the 'Make in India' campaign in 21st century India."
          ],
          [
           "The central theme of the author is exploring is terrorism and how to effectively fight it."
          ]
         ],
         "hovertemplate": "cluster=C2<br>tenure=MS_Year_6<br>x=%{x}<br>y=%{y}<br>Topics=%{customdata[0]}<extra></extra>",
         "legendgroup": "C2",
         "marker": {
          "color": "darkturquoise",
          "symbol": "square"
         },
         "mode": "markers",
         "name": "C2",
         "showlegend": false,
         "type": "scattergl",
         "x": [
          8.625760078430176,
          8.826888084411621,
          8.450945854187012,
          8.804009437561035,
          8.593181610107422,
          8.439838409423828,
          8.886552810668945,
          8.462265014648438,
          8.585533142089844,
          8.722577095031738,
          8.7013578414917,
          8.701135635375977,
          8.639727592468262,
          8.82117748260498,
          8.518866539001465,
          8.817112922668457,
          9.263779640197754,
          8.6566162109375,
          8.726347923278809,
          8.871262550354004,
          8.545154571533203,
          8.60085678100586,
          8.745452880859375,
          8.535258293151855,
          8.928945541381836,
          9.01708698272705,
          9.25234317779541
         ],
         "xaxis": "x6",
         "y": [
          -0.4781850278377533,
          -0.4221319556236267,
          -0.25822049379348755,
          -0.6378386616706848,
          -0.21269629895687103,
          -0.5164618492126465,
          -0.24052412807941437,
          -0.31822505593299866,
          -0.2957247495651245,
          -0.36764979362487793,
          -0.16520696878433228,
          -0.2028411477804184,
          -0.1484474539756775,
          -0.41048750281333923,
          -0.15060828626155853,
          -0.46508970856666565,
          -0.24863013625144958,
          -0.25891971588134766,
          -0.3568800091743469,
          -0.14974379539489746,
          -0.09886862337589264,
          -0.17866984009742737,
          -0.27356767654418945,
          -0.03429223224520683,
          -0.23399710655212402,
          -0.2775150239467621,
          -0.36111512780189514
         ],
         "yaxis": "y6"
        },
        {
         "customdata": [
          [
           "The author is exploring the idea that women Sarpanchs can help improve the lives of village residents by ensuring access to cleanliness, education, and vaccinations."
          ],
          [
           "The author is exploring the idea that service to humanity is a form of pilgrimage."
          ]
         ],
         "hovertemplate": "cluster=C1<br>tenure=MS_Year_1<br>x=%{x}<br>y=%{y}<br>Topics=%{customdata[0]}<extra></extra>",
         "legendgroup": "C1",
         "marker": {
          "color": "royalblue",
          "symbol": "x"
         },
         "mode": "markers",
         "name": "C1",
         "showlegend": true,
         "type": "scattergl",
         "x": [
          7.047572612762451,
          5.696983337402344
         ],
         "xaxis": "x7",
         "y": [
          -1.2567484378814697,
          -0.8184236288070679
         ],
         "yaxis": "y7"
        },
        {
         "customdata": [
          [
           "The central theme that the author is exploring is the importance of cooperation and debate in the budget session of parliament."
          ],
          [
           "The central theme of the text is exploring the impact of digitalization on education in India."
          ],
          [
           "The central theme that the author is exploring is the dedication and valour of the Indian soldiers."
          ],
          [
           "The central theme of the author's exploration is the idea of a new India, and the need for the youth to be a part of it."
          ],
          [
           "The central theme of the author's exploration is the challenges of the global economy, and the need for cooperation between BRICS countries to address them."
          ],
          [
           "The author is exploring the central theme of India's growth story and its future direction."
          ],
          [
           "The central theme that the author is exploring is the relevance of Mahatma Gandhi in the current era."
          ],
          [
           "The central theme that the author is exploring is the power of innovation, teamwork, and technology and how they benefit everyone."
          ],
          [
           "The central theme of the text is the impact of technology and innovation on society and the economy."
          ],
          [
           "The central theme of the author is exploring is the idea that the civil servants of the country have a responsibility to make the lives of the citizens easier and by earnestly trying to work hard for their rights and what they deserve."
          ],
          [
           "The central theme of the author is exploring is the positive changes happening in India and how it is the best time to be in India."
          ],
          [
           "The author is exploring the idea that Guru Nanak Devji is not only the heritage of Sikhism and India, but also an inspiration for the entire humanity."
          ],
          [
           "The central theme of the text is the importance of the Rajya Sabha in the development of India."
          ],
          [
           "The central theme of the text is the government's efforts to improve the economy and make it easier for businesses to operate in India. The subject of the text is the goal of making India a $5 trillion economy."
          ],
          [
           "The author is exploring the idea that good governance is about solving problems and laying a foundation for future development."
          ]
         ],
         "hovertemplate": "cluster=C1<br>tenure=MS_Year_3<br>x=%{x}<br>y=%{y}<br>Topics=%{customdata[0]}<extra></extra>",
         "legendgroup": "C1",
         "marker": {
          "color": "royalblue",
          "symbol": "x"
         },
         "mode": "markers",
         "name": "C1",
         "showlegend": false,
         "type": "scattergl",
         "x": [
          6.670924186706543,
          6.466053009033203,
          6.588900566101074,
          6.650031566619873,
          5.999046802520752,
          6.81760311126709,
          6.821515083312988,
          8.25681209564209,
          6.616755485534668,
          5.7616119384765625,
          7.28016996383667,
          5.4451775550842285,
          6.76763916015625,
          6.367085933685303,
          6.2071428298950195
         ],
         "xaxis": "x9",
         "y": [
          -0.8785265684127808,
          -1.8948137760162354,
          -1.4830588102340698,
          -1.2100560665130615,
          -1.2834097146987915,
          -1.9808777570724487,
          -1.6896460056304932,
          0.10807209461927414,
          -1.181383728981018,
          -0.3272895812988281,
          -1.440767526626587,
          0.12879584729671478,
          -1.0561734437942505,
          -1.489627718925476,
          -1.6950099468231201
         ],
         "yaxis": "y9"
        },
        {
         "customdata": [
          [
           "The central theme that the author is exploring is the idea that India is a country with a long history of saints and sages who have helped to guide the country on the right path."
          ],
          [
           "The author is exploring the potential for agricultural exports in South India."
          ],
          [
           "The central theme of the author is exploring is the rich history and culture of Bengal and how it has influenced the world."
          ],
          [
           "The central theme of the text is the idea that service to others is the path to god."
          ],
          [
           "The author is discussing how India's values of peace, unity, and brotherhood have drawn the world to India, and how India's thought has the potential to contribute even more to the world."
          ],
          [
           "The central theme of the text is the close relationship between India and Nepal, and the author's wish for a prosperous future for both countries."
          ],
          [
           "The central theme is that India is a nation with a rich tradition and diverse culture. The author is exploring the idea that the unity of India lies in its diversity."
          ],
          [
           "The central theme of the text is the importance of childhood and the need to preserve it. The subject explored is how children can be encouraged to be more responsible and disciplined."
          ],
          [
           "The author is exploring the idea that every day is a new day and that change is inevitable."
          ],
          [
           "The central theme that the author is exploring is the potential for potatoes to help reduce hunger and poverty globally."
          ],
          [
           "The central theme that the author is exploring is the budget and its potential to increase employment in India."
          ],
          [
           "The author is exploring the idea that the government is not doing enough to improve the economic situation in the country."
          ],
          [
           "The author is exploring the idea that the government is working too quickly and that this is causing problems."
          ],
          [
           "The central theme that the author is exploring is the idea of peace and development in the North-East region of India."
          ],
          [
           "The central theme that the author is exploring is the need for every Indian to take a vow to pay taxes honestly to the country."
          ],
          [
           "The central theme of the author is to explore the different aspects of Kashi and to promote the products of Uttar Pradesh."
          ],
          [
           "The central theme of the text is the importance of saints and their teachings in India. The author is exploring how the saints have always played a major role in bringing education and culture to the people and how they continue to inspire the country even today."
          ],
          [
           "The central theme of the author is exploring is the changing world and how it will impact the judiciary."
          ],
          [
           "The central theme that the author is exploring is the growing friendship between India and America and the opportunities that this presents for both countries."
          ],
          [
           "The central theme of the author is exploring is the deep meaning of the word 'Namaste' and the strong relationship between India and America."
          ],
          [
           "The author is exploring the idea that the government is responsible for the welfare of all citizens, especially those with disabilities."
          ],
          [
           "The central theme that the author is exploring is the need for collaboration in order to create a better future."
          ],
          [
           "The author is exploring the benefits of the Jan Aushadhi scheme in India."
          ],
          [
           "The author is exploring the idea of collaboration among South Asian countries in order to combat the spread of the COVID-19 pandemic."
          ],
          [
           "The central theme that the author is exploring is the life and legacy of Sheikh Mujibur Rahman."
          ],
          [
           "The central theme the author is exploring is the idea of people's curfew."
          ],
          [
           "The central theme that the author is exploring is the importance of staying indoors and maintaining social distancing in order to combat the spread of the coronavirus."
          ],
          [
           "The author is exploring the idea that humans are not the only ones who are capable of experiencing and expressing emotions."
          ],
          [
           "The central theme and subject that the author is exploring is the fight against the Corona global pandemic and the extension of the lockdown in India."
          ],
          [
           "The author is exploring the idea that the Corona virus pandemic has changed the way we all work and has taught us the importance of self-sufficiency."
          ],
          [
           "The author is exploring the central theme and subject of the importance of following the teachings of Lord Basaveshwara in order to bring about meaningful change in society."
          ],
          [
           "The author is exploring the central theme and subject of the Buddha's message and how it is relevant in today's world."
          ],
          [
           "The author is exploring the idea that self-reliance is the only path for India to take in the 21st century."
          ],
          [
           "The central theme that the author is exploring is the loss caused by the cyclone and the different ways that the government is helping out with the situation."
          ],
          [
           "The author is exploring the theme of service and sacrifice in the fight against Corona."
          ],
          [
           "The author is exploring the central theme of advances in tele-medicine and the subject of Make in India in the health sector."
          ],
          [
           "The author is exploring the idea that despite the difficulties that the country is facing, it is still possible for it to get back on track and become successful."
          ],
          [
           "The author is exploring the concept of people, planet, and profit and how they are interconnected."
          ],
          [
           "The central theme of the author is exploring is the fight against the Corona pandemic."
          ],
          [
           "The author is exploring the life and work of Saint Acharya Shri Mahapragya Ji, and how his philosophy and teachings can be used to improve the lives of individuals and society as a whole."
          ],
          [
           "The central theme that the author is exploring is the success of the rural population in India in fighting the Coronavirus pandemic."
          ],
          [
           "The central theme that the author is exploring is the importance of yoga in boosting immunity and its ability to help people overcome crises."
          ],
          [
           "The author is exploring the success of the Uttar Pradesh government in handling the Coronavirus pandemic."
          ],
          [
           "The central theme of the author is exploring is the contribution of the Mar Thoma Church to India's growth trajectory."
          ],
          [
           "The central theme of the author is exploring is the importance of taking care of oneself during the season of increasing cases of cough, cold and fever and the importance of following the rules set by the government to contain the spread of the corona virus."
          ],
          [
           "The central theme of the author is to explore the valor and courage of the soldiers who were injured in the recent fighting."
          ],
          [
           "The central theme that the author is exploring is the importance of Lord Buddha's teachings in today's world."
          ],
          [
           "The central theme that the author is exploring is the potential for India to play a leading role in the global economy."
          ],
          [
           "The central theme of the text is the use of solar energy in India, and how it is beneficial for the country."
          ],
          [
           "The author is exploring the idea that skill is more important than knowledge in today's rapidly changing world."
          ],
          [
           "The author is exploring the central theme of the power of water and the central subject of the ease of living."
          ],
          [
           "The author is exploring the idea that people with evil intent naturally want to harm even those who wish them well."
          ],
          [
           "The central theme of the author is exploring is the fight against the Corona pandemic in India."
          ],
          [
           "The author is exploring the importance of education in 21st century India."
          ],
          [
           "The central theme that the author is exploring is the ubiquity of Lord Rama and how he is an inspiration to people across the globe."
          ],
          [
           "The central theme that the author is exploring is the importance of the National Education Policy and the need for everyone to work together to implement it effectively."
          ],
          [
           "The central theme of the author is exploring is the link between cleanliness and Swaraj, and how Gandhiji used sanitation as a medium to bring about change in India."
          ],
          [
           "The central theme of the text is the government's initiatives to improve the condition of farmers in India. The author discusses how the government is working to provide better infrastructure and opportunities for farmers, as well as how farmers can benefit from the new initiatives."
          ],
          [
           "The central theme of the text is the development of infrastructure in Andaman and Nicobar Islands."
          ],
          [
           "The central theme of the author is exploring is the new 21st century tax system 'Transparent Taxation - Honouring the Honest'."
          ],
          [
           "The author is exploring the idea of self-reliance in India."
          ],
          [
           "The central theme that the author is exploring is self-reliance in the defence sector in India."
          ],
          [
           "The author is exploring the need for a new roar from Jhansi in order to make the self-reliant India campaign a success."
          ],
          [
           "The central theme that the author is exploring is the importance of training for policemen."
          ],
          [
           "The central theme of the text is the National Education Policy, and the author is exploring the different aspects of the policy."
          ],
          [
           "The central theme and subject that the author is exploring is the importance of books and authors in society."
          ],
          [
           "The central theme of the author is exploring is the Pradhan Mantri Svanidhi Scheme, and how it has helped street vendors in India."
          ],
          [
           "The central theme that the author is exploring is the idea of self-reliance in 21st century India, and how this can be achieved through the development of the country's fisheries, dairy, animal husbandry, and agriculture sectors."
          ],
          [
           "The author says that every domain of the world has changed in the last three decades and every system has changed."
          ],
          [
           "The author is exploring the theme of development in Bihar and the subject of infrastructure projects in the state."
          ],
          [
           "The author is exploring the idea that contentment is satisfaction from the prevailing conditions."
          ],
          [
           "The author is exploring the central theme of urbanization and the subject of engineering."
          ],
          [
           "The author is exploring the theme of the importance of railroads in Bihar."
          ],
          [
           "The author is exploring the central theme and subject of the new agricultural reforms and how they will benefit the farmers of the country."
          ],
          [
           "The central theme of the text is the importance of knowledge and science in improving the lives of people and the country. The author is exploring how the National Education Policy can help students get more out of their education and how technology can help improve education."
          ],
          [
           "The central theme that the author is exploring is the fight against the Corona virus and the need for cooperation among the states."
          ],
          [
           "The central theme that the author is exploring is the importance of fitness and how it can benefit people of all ages."
          ],
          [
           "The author is exploring the potential for increased cooperation between India and Denmark in many areas, including in the area of vaccine development."
          ],
          [
           "The author is exploring the idea that some people are always opposing everything that is being done for the country."
          ],
          [
           "The author is exploring the importance of science and innovation in India."
          ],
          [
           "The author is exploring the central theme of India's rich textile traditions and the subject of how these traditions can contribute to a more vibrant textile sector."
          ],
          [
           "The central theme of the author is to explore the making of the Atal Tunnel and the benefits it will bring to the country."
          ],
          [
           "The central theme of the author is to explore the benefits that the Atal Tunnel will bring to the people of Lahaul-Spiti and the Pangi Valley."
          ],
          [
           "The author is exploring the life and work of Atal Bihari Vajpayee."
          ],
          [
           "The central theme of the author is exploring is that India is a great place to invest in and do business."
          ],
          [
           "The author is exploring the benefits of the SVAMITVA scheme for the residents of the villages."
          ],
          [
           "A. The central theme of the text is Narendra Modi's admiration for Rajmata Vijaya Raje Scindia and her impact on his life."
          ],
          [
           "The central theme that the author is exploring is the life and work of Dr. Balasaheb Vikhe Patil, and how he dedicated himself to the development of Maharashtra."
          ],
          [
           "The central theme that the author is exploring is the role of the World Food Programme in improving nutrition and food security around the world."
          ],
          [
           "The central theme that the author is exploring is the importance of education in one's life."
          ],
          [
           "The author is urging every citizen to be mindful of social distancing, frequent washing of hands with soap, and wearing a mask."
          ],
          [
           "The author is exploring the development of Gujarat through the inauguration of three important projects."
          ],
          [
           "The central theme of the text is that of the importance of local products and how they have the potential to go global."
          ],
          [
           "The central theme that the author is exploring is the happiness and surprise of the beneficiaries of the Pradhan Mantri SVANidhi Scheme, and how the scheme is helping them to restart their businesses."
          ],
          [
           "The central theme of the author is exploring is corruption and how it affects the development of the country."
          ],
          [
           "The author is exploring the life and legacy of Keshubhai Patel."
          ],
          [
           "The author is exploring the role of the younger generation in governance and how they can help achieve a self-reliant India."
          ],
          [
           "The central theme of the text is the importance of cooperation between India and Italy in the post-COVID world."
          ],
          [
           "The central theme that the author is exploring is the idea that technology can help make the world a better place by providing new opportunities for people to improve their lives."
          ],
          [
           "The central theme of the author is exploring is the economic benefits that the Ro-Pax ferry service between Hazira and Ghogha will have for the people of Gujarat."
          ],
          [
           "The central theme of the author is exploring is the development of Varanasi and how the city is benefitting from the decisions taken by the government."
          ],
          [
           "The central theme of the text is the importance of following one's dreams."
          ],
          [
           "The central theme of the text is the relationship between India and ASEAN, and the subject is the importance of connectivity between the two."
          ],
          [
           "The central theme and subject that the author is exploring is the importance of Ayurveda in the 21st century."
          ],
          [
           "The central theme of the text is the valor of the Indian armed forces, and the subject is the Prime Minister's visit to the Longewala post on the occasion of Diwali."
          ],
          [
           "The author is exploring the role of the military in protecting and serving the country."
          ],
          [
           "The author is exploring the life and contributions of Jainacharya Shree Vijay Vallabh Suri ji."
          ],
          [
           "The author is exploring the idea that the youth of today have the opportunity to make a difference in the world."
          ],
          [
           "The central theme and subject that the author is exploring is the need for a coordinated effort between the central government and state governments to combat the spread of the coronavirus in India."
          ],
          [
           "The author is exploring the potential and will-power of the University of Lucknow and its students."
          ],
          [
           "The central theme that the author is exploring is the role of the three wings of the Constitution in the development of India."
          ],
          [
           "The central theme of the text is the progress of renewable energy in India, and the subject is the potential for investment in the renewable energy sector in India."
          ],
          [
           "The author is exploring the idea that culture can help during crisis and can be used as an emotional recharge."
          ],
          [
           "The central theme of the text is the power of Dev Deepawali in Kashi."
          ],
          [
           ".The author is exploring the benefits of modern infrastructure for the farmers of Kashi."
          ],
          [
           "The author is exploring the idea that the collective force of the PanIIT movement can add momentum to our dream of becoming an Aatmnirbhar Bharat or self-reliant India."
          ],
          [
           "The central theme of the text is the development of Agra through the construction of the Metro project."
          ],
          [
           "The author is exploring how mobile technology can be used to improve lives in India."
          ],
          [
           "The central theme of the text is the construction of the new Parliament House of India and its significance."
          ],
          [
           "The author is exploring the central theme and subject of Subramania Bharathi's life and works."
          ],
          [
           "The author is exploring the theme of India's response to the global pandemic and the lessons learned from the experience."
          ],
          [
           "The author is exploring the theme of the importance of water conservation in the 21st century."
          ],
          [
           "The central theme and subject that the author is exploring is the relationship between India and Bangladesh, and how they are celebrating the Victory Day together."
          ],
          [
           "The central theme and subject that the author is exploring is the government's dedication to farmers and agricultural reform."
          ],
          [
           "The author is exploring the idea that the next 27 years are important for the future of ASSOCHAM and that the industry needs to be self-reliant."
          ],
          [
           "The central theme of the text is the importance of science and technology in India, and the subject is the government's efforts to promote scientific temper and innovation among the country's youth."
          ],
          [
           "The central theme that the author is exploring is the need for all citizens to work together to build a new India."
          ],
          [
           "The author is exploring the theme of the interconnectedness of all people and how everyone is connected to each other through their actions."
          ],
          [
           "The author is exploring the theme of political corruption and the double standard policies of some political parties."
          ],
          [
           "The author is exploring the theme of democracy and the subject of the Panchayati Raj system in Jammu-Kashmir."
          ],
          [
           "The author is exploring the theme of the role of government in protecting the rights of farmers and ensuring their access to markets."
          ],
          [
           "The central theme of the text is the importance of urbanization."
          ],
          [
           "The central theme that the author is exploring is the idea that infrastructure is the biggest source of competence of any nation."
          ],
          [
           "The central theme that the author is exploring is the importance of health and how it should be a priority for everyone."
          ]
         ],
         "hovertemplate": "cluster=C1<br>tenure=MS_Year_4<br>x=%{x}<br>y=%{y}<br>Topics=%{customdata[0]}<extra></extra>",
         "legendgroup": "C1",
         "marker": {
          "color": "royalblue",
          "symbol": "x"
         },
         "mode": "markers",
         "name": "C1",
         "showlegend": false,
         "type": "scattergl",
         "x": [
          7.192868232727051,
          6.536693096160889,
          6.113902568817139,
          5.481422424316406,
          7.520770072937012,
          6.727508068084717,
          5.667327880859375,
          6.120382308959961,
          6.251245975494385,
          6.463146209716797,
          6.09906530380249,
          7.780378818511963,
          6.390921115875244,
          6.757572650909424,
          6.172706604003906,
          7.099160671234131,
          5.616894721984863,
          5.862644195556641,
          7.5561017990112305,
          5.532036781311035,
          5.654107093811035,
          5.8652119636535645,
          5.657747745513916,
          6.836662769317627,
          6.046918869018555,
          7.516140937805176,
          7.676583766937256,
          6.879095077514648,
          6.914982795715332,
          5.870909690856934,
          6.301632881164551,
          8.278918266296387,
          5.981684684753418,
          7.298372745513916,
          6.393698692321777,
          5.869467735290527,
          5.782950401306152,
          6.4574079513549805,
          7.743597030639648,
          6.4821929931640625,
          6.365120887756348,
          7.332500457763672,
          6.082685470581055,
          5.9619293212890625,
          5.74975061416626,
          7.753480911254883,
          5.944143772125244,
          5.81477689743042,
          6.959636688232422,
          6.289988040924072,
          6.146439075469971,
          7.629929542541504,
          7.838222026824951,
          6.645144462585449,
          6.41997766494751,
          7.223006725311279,
          6.914485454559326,
          5.939794063568115,
          6.9949049949646,
          7.306869983673096,
          7.813155174255371,
          7.478899955749512,
          6.349641799926758,
          6.694067478179932,
          6.4005656242370605,
          5.875330924987793,
          6.222333908081055,
          6.942152976989746,
          6.347918510437012,
          5.796217441558838,
          6.741790294647217,
          6.6087751388549805,
          7.040465831756592,
          7.2079877853393555,
          6.5095367431640625,
          7.276462554931641,
          6.519423961639404,
          7.557551860809326,
          6.196869850158691,
          7.290653228759766,
          6.031449794769287,
          6.546835422515869,
          6.83547306060791,
          7.0255513191223145,
          8.03145980834961,
          6.716874122619629,
          6.649563312530518,
          7.575991630554199,
          6.377158164978027,
          6.875782012939453,
          8.039978981018066,
          6.696932315826416,
          6.307122707366943,
          6.249295711517334,
          6.348684787750244,
          6.732518672943115,
          6.476171970367432,
          7.592978477478027,
          7.139978408813477,
          7.0972747802734375,
          6.890252590179443,
          7.902862548828125,
          7.894083023071289,
          6.854227066040039,
          7.736359119415283,
          7.437954902648926,
          6.731793403625488,
          7.170042991638184,
          7.314879894256592,
          7.489597320556641,
          7.165416717529297,
          7.982959747314453,
          6.962769508361816,
          7.337113857269287,
          7.578129768371582,
          6.558412075042725,
          7.235777378082275,
          8.153496742248535,
          7.393762111663818,
          7.903380870819092,
          7.834936141967773,
          7.564723491668701,
          7.455760478973389,
          7.560393333435059,
          7.028836250305176,
          8.104697227478027,
          7.514474391937256,
          6.65095853805542,
          7.85593843460083,
          7.110162258148193,
          7.410363674163818,
          7.032590389251709,
          6.538457870483398,
          6.526355743408203
         ],
         "xaxis": "x4",
         "y": [
          -1.6781448125839233,
          -1.5298668146133423,
          -0.7814244031906128,
          0.6906861066818237,
          1.7453993558883667,
          0.8757383227348328,
          -0.9606865048408508,
          -0.4290260076522827,
          -1.0088012218475342,
          -1.4028998613357544,
          -0.543984055519104,
          1.0785571336746216,
          0.09590213000774384,
          -1.3505176305770874,
          -1.071668028831482,
          -1.389988899230957,
          -0.366181343793869,
          -0.4727083146572113,
          1.3708566427230835,
          -0.4970463514328003,
          1.0347900390625,
          -0.4053472578525543,
          1.019797444343567,
          1.7530409097671509,
          1.4068797826766968,
          1.0953155755996704,
          0.4142444431781769,
          -0.6533054113388062,
          1.368643045425415,
          0.3913346529006958,
          1.213394284248352,
          0.1066654846072197,
          0.70851069688797,
          -1.3477981090545654,
          -1.062179684638977,
          0.1304074376821518,
          0.46072646975517273,
          -0.8070862889289856,
          -0.9009414911270142,
          0.43360233306884766,
          -0.9371009469032288,
          -1.3910303115844727,
          -0.8487948179244995,
          0.6919241547584534,
          0.6290152072906494,
          1.6804119348526,
          0.5438998341560364,
          0.1747443526983261,
          -1.2542610168457031,
          1.4381835460662842,
          0.31930777430534363,
          1.3459234237670898,
          1.323195457458496,
          -0.8746232390403748,
          0.7148550152778625,
          0.4572947919368744,
          1.509161114692688,
          0.15801210701465607,
          0.7167568206787109,
          1.3140344619750977,
          1.2590924501419067,
          0.9887198805809021,
          1.2248451709747314,
          -0.05077449977397919,
          0.7577559947967529,
          -0.006175576709210873,
          -0.13052929937839508,
          0.10583390295505524,
          -0.14797276258468628,
          0.9054247736930847,
          -0.8829967379570007,
          1.5664311647415161,
          0.7763307690620422,
          0.9955664277076721,
          0.28021758794784546,
          0.4633731544017792,
          -0.3543335199356079,
          -0.6751796007156372,
          -0.11233103275299072,
          -0.8498601913452148,
          0.39960309863090515,
          0.9332006573677063,
          0.07110588997602463,
          1.3726515769958496,
          0.2854748070240021,
          -0.4351113438606262,
          -0.056215111166238785,
          1.3607343435287476,
          0.3455074727535248,
          1.2371851205825806,
          0.10966069996356964,
          1.0829033851623535,
          1.13213312625885,
          -0.09358185529708862,
          1.0860167741775513,
          0.9043324589729309,
          0.7915592789649963,
          0.5758994817733765,
          1.0478460788726807,
          0.23859867453575134,
          1.113344430923462,
          0.811255931854248,
          0.6795993447303772,
          0.579165518283844,
          1.6375266313552856,
          1.701493501663208,
          0.3642401099205017,
          1.1744533777236938,
          0.9153284430503845,
          1.1407082080841064,
          -0.3772229552268982,
          0.027421988546848297,
          0.4457435607910156,
          0.038364119827747345,
          -0.046650078147649765,
          -0.17748959362506866,
          0.06139970198273659,
          0.2106129229068756,
          0.6326377987861633,
          -0.16659560799598694,
          0.8244832754135132,
          0.18875257670879364,
          0.38380318880081177,
          0.9267945289611816,
          -0.6899574398994446,
          0.2938823699951172,
          0.8102359771728516,
          0.12627379596233368,
          0.9872241616249084,
          0.057596996426582336,
          0.8435137271881104,
          0.732576847076416,
          0.4368576407432556,
          -0.0031076264567673206
         ],
         "yaxis": "y4"
        },
        {
         "customdata": [
          [
           "The author is exploring the six light house projects that are being started at different sites from today and how they will benefit the country."
          ],
          [
           "The central theme that the author is exploring is the importance of IIM Sambalpur in the development of Odisha."
          ],
          [
           "The central theme of the essay is the idea of progress, and how it can be achieved through scientific innovation and research."
          ],
          [
           "The central theme the author is exploring is the benefits of the Kochi-Mangalore gas pipeline and the importance of a gas-based economy."
          ],
          [
           "https://www.insightsonindia.com/2020/12/insights-daily-current-affairs"
          ],
          [
           "The central theme of the author is exploring is the impact of the corona virus on the economy."
          ],
          [
           "The central theme of the text is the importance of youth in politics."
          ],
          [
           "The central theme and subject that the author is exploring is the impact of the digital revolution on business and society."
          ],
          [
           "A. the author is exploring the theme of the fragility of human life and the subject of a potential global health crisis."
          ],
          [
           "The central theme of the text is the development of Kevadiya as a tourist destination, and the subject is the infrastructure improvements made to accommodate this development."
          ],
          [
           "The author is exploring the idea that infrastructure projects can have a positive impact on people's lives."
          ],
          [
           "The author is exploring the central theme of the Pradhan Mantri Awas Yojana and the positive impacts it has had on the lives of rural families in Uttar Pradesh."
          ],
          [
           "The central theme of the text is the importance of vaccination in the fight against the Covid-19 pandemic."
          ],
          [
           ""
          ],
          [
           "The author is exploring the theme of self-reliance and the subject of the government's efforts to make India self-reliant."
          ],
          [
           "The author is exploring the life and legacy of Netaji Subhas Chandra Bose."
          ],
          [
           "The central theme that the author is exploring is the power of the Internet and how it can be used to improve the lives of people."
          ],
          [
           "The central theme of the text is the importance of children in the development of a society or country."
          ],
          [
           "The central theme of the author is exploring is the importance of discipline in social life and how it can help in the growth of the country."
          ],
          [
           "The author is exploring how India has effectively dealt with the Covid-19 pandemic and how this success can be attributed to the country's digital infrastructure."
          ],
          [
           "The central theme that the author is exploring is the idea of Swami Vivekananda's vision for India, and how it is being realized through the work of the journal Prabuddha Bharata."
          ],
          [
           "The central theme of the author is to explore the sacrifices made by the freedom fighters of Chauri Chaura and to resolve to pursue the change with collective participation."
          ],
          [
           "A. The central theme that the author is exploring is the idea of progress and development in Assam."
          ],
          [
           "The central theme of the author is exploring is the development of eastern India and the gas connectivity of the entire region."
          ],
          [
           "The author is exploring the idea that democracy is the mother of all institutions in India, and that India's democracy is strong and resilient."
          ],
          [
           "The central theme of the author is exploring is the importance of communication and bonding between people."
          ],
          [
           "The author is exploring the theme of democracy in India and how the country has progressed over the years."
          ],
          [
           "The author is exploring the theme of the dangers of nuclear warfare."
          ],
          [
           "The central theme that the author is exploring is the importance of yoga and meditation in today's world."
          ],
          [
           "The author is exploring the central theme of energy independence and sustainability for India through the use of renewable resources."
          ],
          [
           "The central theme that the author is exploring is the idea that India's IT industry has been a pillar of strength for the country during the Covid-19 pandemic."
          ],
          [
           "The central theme and subject that the author is exploring is the idea that the internet is a powerful tool that can be used to improve communication and collaboration between people."
          ],
          [
           "The central theme that the author is exploring is the development of Kerala and the role that the government is playing in this development."
          ],
          [
           "The central theme that the author is exploring is the contribution of the youth for India's self-esteem and self-reliance."
          ],
          [
           "The central theme that the author is exploring is the idea of a circular economy, and how it can be used to solve many of the world's problems."
          ],
          [
           "D. The subject of the text is the author's"
          ],
          [
           "The central theme of the text is the importance of self-sufficiency in the defence sector for the empowerment of the country."
          ],
          [
           "The central theme that the author is exploring is the development of Assam and the North East."
          ],
          [
           "The central theme of the author is exploring is the expansion of rail and metro connectivity in West Bengal and how it will improve the lives of millions of people in many districts."
          ],
          [
           "The central theme of the text is the importance of self-awareness, self-confidence, and selflessness in achieving success."
          ],
          [
           "The central theme of the text is the government's plans to privatize many public sector enterprises in India."
          ],
          [
           "The author is exploring the potential for development in the Puducherry area."
          ],
          [
           "The author is exploring the various development projects taking place in Tamil Nadu that will benefit the people of the state."
          ],
          [
           "The central theme that the author is exploring is the success of the students and the importance of women in the field of healthcare."
          ],
          [
           "The central theme of the author is that sports is not just a hobby or time pass, and it enhances confidence which is important for self-reliance."
          ],
          [
           "The central theme of the text is the government's commitment to the financial sector of the country."
          ],
          [
           "The central theme of the text is the role of toys in the development of children and the need for eco-friendly toys."
          ],
          [
           "The central theme and subject that the author is exploring is the importance of confidence among the youth of the country for building a self-reliant India."
          ],
          [
           "The author is exploring the idea that the production linked incentives scheme will help to expand manufacturing and exports in India."
          ],
          [
           "The central theme and subject that the author is exploring is climate change and the need for behavioural change to combat it."
          ],
          [
           "The central theme of the text is exploring the idea that the Janaushadhi scheme is a beneficial scheme for the poor and middle class families of India as it provides them with cheaper medicines and also creates employment opportunities."
          ],
          [
           "The central theme that the author is exploring is how the 75th year of Independence can become the festival of every person and his psyche."
          ],
          [
           "The central theme and subject that the author is exploring is the relevance of the Bhagavad Gita in modern times."
          ],
          [
           "The central theme that the author is exploring is the benefits of Ayurveda and its role in boosting immunity."
          ],
          [
           "The author is exploring the history of the freedom struggle in India and the journey of India after 75 years of independence."
          ],
          [
           "The central theme of the author's exploration is the potential for cooperation between India and Finland in various sectors."
          ],
          [
           "The central theme and subject that the author is exploring is the importance of cooperation and awareness in the battle against coronavirus."
          ],
          [
           "The central theme of the text is water conservation."
          ],
          [
           "The central theme of the text is the importance of bees and beekeeping in India."
          ],
          [
           "9. What is the author's purpose in writing"
          ],
          [
           "The central theme of the author is to explore how to take the life and teachings of Guru Tegh Bahadur ji as well as the entire Guru tradition to the world."
          ],
          [
           "The author is exploring the importance of proactive testing and tracking in order to contain the spread of the virus."
          ],
          [
           "The author is exploring the history of Odisha and the role it has played in the freedom struggle of India."
          ],
          [
           "The central theme of the author is the strong relations between India and Netherlands, and the subject is the recent virtual summit between the two countries."
          ],
          [
           "The author is exploring the idea of a 'Tika Utsav' as a way to fight against the spread of the Corona virus."
          ],
          [
           "The central theme that the author is exploring is the idea that democracy is an integral part of Indian civilization and way of life."
          ],
          [
           "The central theme that the author is exploring is the idea of perseverance and discipline in the face of adversity."
          ],
          [
           "The central theme and subject that the author is exploring is the role of Gram Panchayats in the development of villages."
          ],
          [
           "The author is exploring the theme of loss and grief in the face of the Covid-19 pandemic."
          ],
          [
           "The author is exploring the central theme and subject of the government's efforts to provide rapid and direct benefits to farmers in India."
          ],
          [
           "D. The author is exploring the subject of the human capacity for hope."
          ],
          [
           "The central theme and subject that the author is exploring is the importance of hard work and determination in the face of adversity."
          ],
          [
           "The central theme and subject that the author is exploring is the life and teachings of Lord Buddha."
          ],
          [
           "The author is exploring the idea that India is a country that is fighting against Covid-19 with all her might, and that the people of India are displaying courage and discipline in the face of this pandemic."
          ],
          [
           "The author is exploring the theme of honesty and its importance in the workplace."
          ],
          [
           "The central theme of the text is the contribution of scientists in India in the field of research and development, and the importance of science and technology in the country."
          ],
          [
           "The author is exploring the efforts made by the government to vaccinate the citizens of India against the coronavirus."
          ],
          [
           "The author is exploring the role of innovation in coping with the COVID-19 pandemic."
          ],
          [
           "The author is exploring the central theme and subject of the importance of the mantra of skill, re-skill and up-skill in the present day."
          ],
          [
           "The central theme and subject that the author is exploring is the benefits of yoga and how it has helped people during the coronavirus pandemic."
          ],
          [
           "The central theme of the author is exploring is the importance of toys and games in the development of a child's social life and the potential of the toy industry in India."
          ],
          [
           "The central theme and subject that the author is exploring is the importance of doctors and the medical profession."
          ],
          [
           "The central theme of the text is the potential and success of the Digital India campaign."
          ],
          [
           "The central theme of the author is that technology is integral to our fight against COVID-19, and that a digital approach is essential to vaccination and tracking."
          ],
          [
           "The central theme and subject that the author is exploring is the outbreak of the Covid-19 pandemic and the response of the Indian government to it."
          ],
          [
           "A. The central theme of the text is the power of prayer, and the subject is how prayer can help people in difficult times."
          ],
          [
           "The central theme that the author is exploring is the importance of skill development for the youth in India."
          ],
          [
           "The central theme of the author is that the states where cases are increasing need to take proactive measures to prevent any possibility of the third wave."
          ],
          [
           "The central theme that the author is exploring is the pride that everyone should feel that several women, people belonging to the SC and ST community, and children of farmers have become ministers."
          ],
          [
           "The central theme of the author is exploring is the importance of getting vaccinated in order to fight against the Corona virus."
          ],
          [
           "The central theme and subject that the author is exploring is the relevance of Lord Buddha's teachings in today's world."
          ],
          [
           "The central theme that the author is exploring is the idea of a nation and how it is built."
          ],
          [
           "The central theme of the story is that of justice and redemption. The author is exploring the idea that even though the law may not always provide justice, there is always the possibility for redemption and forgiveness."
          ],
          [
           "A. The author is exploring how technology is helping the poor and their progress."
          ],
          [
           "The author is exploring the idea that the Pradhan Mantri Garib Kalyan Anna Yojana is a scheme that is helping to empower the poor in India."
          ],
          [
           "The central theme that the author is exploring is the idea of using digital technology to empower the poor and marginalized."
          ],
          [
           "The central theme of the text is the government's commitment to encourage new crops and provide additional income to farmers."
          ],
          [
           "The central theme of the text is the empowerment of women through the Ujjwala scheme."
          ],
          [
           "A. The central theme of the text is the growing confidence of the people of India in the midst of the global pandemic."
          ],
          [
           "The author is exploring the benefits of the new National Automobile Scrappage Policy for the auto industry and for the country."
          ],
          [
           "The central theme of the author is exploring is that vehicle scrapping can help phase out unfit and polluting vehicles in an environment friendly manner."
          ],
          [
           "The author is exploring the theme of development in India."
          ],
          [
           "The central theme that the author is exploring is the history and development of the Somnath temple."
          ],
          [
           "The central theme of the author's exploration is the impact of the Jallianwala Bagh massacre on the Indian freedom struggle."
          ],
          [
           "The central theme of the text is the idea that India has a lot to offer the world in terms of knowledge and culture, and that this can be seen in the success of the Hare Krishna movement."
          ],
          [
           "The central theme that the author is exploring is the idea that knowledge is the greatest form of wealth."
          ],
          [
           "The central theme and subject that the author is exploring is the idea of the American Dream."
          ],
          [
           "The central theme of the author is exploring is the development of Aligarh in the defence sector and the establishment of Raja Mahendra Pratap Singh State University."
          ],
          [
           "The central theme of the text is the launch of Sansad TV, a new medium of communication and dialogue in India, on the International Day of Democracy. The subject explored is the role of the media in democracy and the importance of engaging the public in the political process."
          ],
          [
           "The author is exploring the central theme of the importance of modern infrastructure in developing the capital of India."
          ],
          [
           "The central theme and subject that the author is exploring is the Ayushman Bharat Digital Mission, which is a part of the continuous process to improve healthcare in India that has been underway for the last six to seven years."
          ],
          [
           "The central theme of the author is exploring is the importance of science and technology in agriculture."
          ],
          [
           "The central theme of the text is the development of Rajasthan."
          ],
          [
           "The author is exploring the theme of water conservation and the subject of the Jal Jeevan Mission."
          ],
          [
           "The author is exploring the idea that the government has made a lot of progress in improving the infrastructure of cities in India."
          ],
          [
           "The author is exploring the confidence and trust that the SVAMITVA scheme has instilled in the villages and the people."
          ],
          [
           "D. the author is exploring the idea that human rights are not important and that they should not be protected."
          ],
          [
           "The author is exploring the need for speed and power in order to propel India’s self-confidence towards the resolve of self-reliance."
          ],
          [
           "The central theme of the author is exploring is the development of healthcare infrastructure in India."
          ],
          [
           "The central theme and subject that the author is exploring is the importance of national unity and the role that every citizen can play in strengthening it."
          ],
          [
           "The central theme of the author is exploring is supply chain resilience and how to improve it."
          ],
          [
           "The author is exploring the idea that the Indian army is a force to be reckoned with, and that they are an important part of the country's history and culture."
          ],
          [
           "The main points that the author makes in the text are the RBI's efforts to improve the convenience of the common man, the launch of the Retail Direct Scheme, and the launch of the One Nation, One Ombudsman Scheme."
          ],
          [
           "The importance of innovation in the healthcare sector."
          ],
          [
           "A. The central theme of the text is the decline of the region of Bundelkhand and the subject is water scarcity."
          ],
          [
           "The central theme of the author is exploring is the development of Uttarakhand."
          ],
          [
           "The author is exploring the idea that cities should work towards being clean, healthy and have a strong sense of identity."
          ],
          [
           "The author is exploring the potential of the people of Kanpur."
          ],
          [
           "The author is exploring the potential of Uttarakhand to become a developed state in the next ten years."
          ]
         ],
         "hovertemplate": "cluster=C1<br>tenure=MS_Year_5<br>x=%{x}<br>y=%{y}<br>Topics=%{customdata[0]}<extra></extra>",
         "legendgroup": "C1",
         "marker": {
          "color": "royalblue",
          "symbol": "x"
         },
         "mode": "markers",
         "name": "C1",
         "showlegend": false,
         "type": "scattergl",
         "x": [
          6.920965671539307,
          6.841554641723633,
          6.456281661987305,
          6.8035407066345215,
          6.7263360023498535,
          7.514294147491455,
          7.813410758972168,
          6.601480960845947,
          7.246379375457764,
          7.321504592895508,
          6.81653356552124,
          7.0349225997924805,
          8.094512939453125,
          6.316209316253662,
          7.551857948303223,
          7.451600551605225,
          7.379812717437744,
          7.099183082580566,
          6.901412487030029,
          7.803267955780029,
          8.090436935424805,
          6.724480152130127,
          7.474708557128906,
          6.978471755981445,
          7.9429755210876465,
          7.4461236000061035,
          7.197869777679443,
          7.36578369140625,
          7.125481128692627,
          7.5115180015563965,
          7.427032947540283,
          7.170516490936279,
          8.04896068572998,
          6.979268550872803,
          8.236770629882812,
          7.732776165008545,
          7.523118019104004,
          7.635924339294434,
          7.285098075866699,
          6.919454574584961,
          8.081711769104004,
          7.1684136390686035,
          7.955273628234863,
          7.147407531738281,
          7.065463542938232,
          7.758544445037842,
          6.845211505889893,
          7.2290239334106445,
          8.020313262939453,
          7.775307655334473,
          7.157749652862549,
          8.00588607788086,
          7.162705421447754,
          6.225178241729736,
          7.406796932220459,
          7.987491607666016,
          7.591532230377197,
          7.098798751831055,
          7.481090068817139,
          7.472772598266602,
          7.503608703613281,
          7.645214080810547,
          7.37676477432251,
          7.965988636016846,
          7.699431896209717,
          7.1857147216796875,
          7.4792022705078125,
          6.937890529632568,
          7.441890716552734,
          7.174939155578613,
          7.76772928237915,
          7.6867828369140625,
          7.734717845916748,
          7.889517784118652,
          8.010112762451172,
          7.572794437408447,
          8.026009559631348,
          8.359731674194336,
          7.666620254516602,
          7.406858444213867,
          7.063868045806885,
          7.211514472961426,
          8.06180191040039,
          8.013861656188965,
          7.701728343963623,
          7.1695146560668945,
          7.413333892822266,
          7.749864101409912,
          7.837980270385742,
          7.844038963317871,
          8.329747200012207,
          7.406223773956299,
          8.105558395385742,
          7.829892158508301,
          7.766867637634277,
          7.8077497482299805,
          7.77913236618042,
          7.437388896942139,
          7.951528549194336,
          7.544051647186279,
          7.576817512512207,
          7.264194011688232,
          7.544477462768555,
          7.748935222625732,
          7.7411675453186035,
          7.587671279907227,
          7.682215213775635,
          7.632269859313965,
          7.733541011810303,
          7.7242817878723145,
          7.694274425506592,
          7.673896789550781,
          7.523989200592041,
          7.516233444213867,
          7.947695255279541,
          7.412092208862305,
          7.805544853210449,
          7.671133995056152,
          8.052849769592285,
          7.746391296386719,
          7.896144390106201,
          8.070728302001953,
          7.9871907234191895,
          8.105133056640625,
          8.19674015045166,
          7.900810718536377,
          8.249845504760742,
          8.200701713562012,
          7.868438243865967
         ],
         "xaxis": "x5",
         "y": [
          -0.5239703059196472,
          -0.04711921513080597,
          -0.034866370260715485,
          0.6500324010848999,
          -0.48366212844848633,
          0.1861194372177124,
          0.2712313234806061,
          0.3674064874649048,
          0.48684415221214294,
          0.20182563364505768,
          0.5488476753234863,
          0.4739433526992798,
          0.6922115683555603,
          0.22570165991783142,
          0.5546347498893738,
          0.2496476024389267,
          0.5433002710342407,
          -0.12589393556118011,
          0.7642561793327332,
          1.268530011177063,
          0.6594080328941345,
          0.21381422877311707,
          0.28305715322494507,
          -1.0828465223312378,
          0.9266687631607056,
          -1.2536952495574951,
          -0.8379517197608948,
          -0.15588971972465515,
          0.6284717321395874,
          -0.37523460388183594,
          -0.7486792802810669,
          0.9992085695266724,
          0.4552718997001648,
          0.3120732009410858,
          0.10629196465015411,
          -0.5829895734786987,
          0.2609899640083313,
          0.6672932505607605,
          0.3672803044319153,
          -0.01500776968896389,
          -0.1429254412651062,
          0.06627342849969864,
          0.3757890462875366,
          -0.7103595733642578,
          -0.4347665011882782,
          0.36007651686668396,
          -0.25125110149383545,
          0.1169293224811554,
          0.29589852690696716,
          -0.20910881459712982,
          -0.7113773822784424,
          0.7276908755302429,
          -0.5675631165504456,
          -0.44957438111305237,
          0.20409269630908966,
          -0.1205410286784172,
          0.38119104504585266,
          0.08131375163793564,
          -0.23482026159763336,
          -0.9639615416526794,
          -0.19424563646316528,
          0.5918937921524048,
          -0.12097840756177902,
          -0.23189891874790192,
          0.4533882439136505,
          -0.49015650153160095,
          0.13825415074825287,
          -0.16716468334197998,
          0.4091024696826935,
          -0.21080654859542847,
          0.49810174107551575,
          0.45469769835472107,
          -0.2240181416273117,
          -0.1724366843700409,
          0.10363325476646423,
          0.21361450850963593,
          0.020542288199067116,
          -0.010092233307659626,
          -0.28409722447395325,
          -0.4248940944671631,
          -0.22008125483989716,
          -0.2860061824321747,
          0.1630159169435501,
          -0.36284321546554565,
          0.43283239006996155,
          -0.6644290685653687,
          -0.9385358691215515,
          0.5888775587081909,
          0.17674018442630768,
          -0.5226656198501587,
          0.21238979697227478,
          -1.0011286735534668,
          -0.3877203166484833,
          -0.33162111043930054,
          -0.0072664800100028515,
          -0.08009126037359238,
          -0.2756117284297943,
          -0.3274613916873932,
          -0.2099577933549881,
          -0.019078582525253296,
          -0.289432555437088,
          -0.42945173382759094,
          -0.8899800181388855,
          -0.6541776657104492,
          -0.34896886348724365,
          -0.8668380379676819,
          -0.8127167224884033,
          -0.5036700367927551,
          -0.6380372047424316,
          -0.6686888933181763,
          -0.23179349303245544,
          -0.7909595966339111,
          -0.5828555226325989,
          -0.10578012466430664,
          -0.2978760004043579,
          -0.560210108757019,
          -0.7040452361106873,
          -0.996399462223053,
          -0.3759796619415283,
          -0.843438446521759,
          -0.7022914886474609,
          -0.08814790844917297,
          -0.2406487613916397,
          -0.399791419506073,
          0.007293072994798422,
          0.869159460067749,
          0.4246937036514282,
          0.028100257739424706,
          0.7938154339790344
         ],
         "yaxis": "y5"
        },
        {
         "customdata": [
          [
           "The author is exploring the idea that the world is a dangerous place and that people need to be careful."
          ],
          [
           "The central theme that the author is exploring is the battle against the Omicron variant of the coronavirus and the need for continued vigilance and preparation."
          ],
          [
           "The central theme of the author is that the Budget session is a very important opportunity for the country to take it to new economic heights."
          ],
          [
           ""
          ],
          [
           "The central theme that the author is exploring is the importance of experience and knowledge in making decisions."
          ],
          [
           "The central theme that the author is exploring is the importance of cooperation between the central and state governments in economic decisions in order to strengthen India’s economy."
          ]
         ],
         "hovertemplate": "cluster=C1<br>tenure=MS_Year_6<br>x=%{x}<br>y=%{y}<br>Topics=%{customdata[0]}<extra></extra>",
         "legendgroup": "C1",
         "marker": {
          "color": "royalblue",
          "symbol": "x"
         },
         "mode": "markers",
         "name": "C1",
         "showlegend": false,
         "type": "scattergl",
         "x": [
          8.308165550231934,
          7.795083522796631,
          8.027039527893066,
          8.228758811950684,
          8.209590911865234,
          7.913885116577148
         ],
         "xaxis": "x6",
         "y": [
          -0.1414729505777359,
          0.367529958486557,
          0.8817210793495178,
          0.2099231630563736,
          0.5701363682746887,
          0.4956105351448059
         ],
         "yaxis": "y6"
        }
       ],
       "layout": {
        "annotations": [
         {
          "font": {},
          "showarrow": false,
          "text": "tenure=MS_Year_7",
          "x": 0.15999999999999998,
          "xanchor": "center",
          "xref": "paper",
          "y": 0.2866666666666666,
          "yanchor": "bottom",
          "yref": "paper"
         },
         {
          "font": {},
          "showarrow": false,
          "text": "tenure=MS_Year_4",
          "x": 0.15999999999999998,
          "xanchor": "center",
          "xref": "paper",
          "y": 0.6433333333333333,
          "yanchor": "bottom",
          "yref": "paper"
         },
         {
          "font": {},
          "showarrow": false,
          "text": "tenure=MS_Year_5",
          "x": 0.49999999999999994,
          "xanchor": "center",
          "xref": "paper",
          "y": 0.6433333333333333,
          "yanchor": "bottom",
          "yref": "paper"
         },
         {
          "font": {},
          "showarrow": false,
          "text": "tenure=MS_Year_6",
          "x": 0.8399999999999999,
          "xanchor": "center",
          "xref": "paper",
          "y": 0.6433333333333333,
          "yanchor": "bottom",
          "yref": "paper"
         },
         {
          "font": {},
          "showarrow": false,
          "text": "tenure=MS_Year_1",
          "x": 0.15999999999999998,
          "xanchor": "center",
          "xref": "paper",
          "y": 0.9999999999999999,
          "yanchor": "bottom",
          "yref": "paper"
         },
         {
          "font": {},
          "showarrow": false,
          "text": "tenure=MS_Year_2",
          "x": 0.49999999999999994,
          "xanchor": "center",
          "xref": "paper",
          "y": 0.9999999999999999,
          "yanchor": "bottom",
          "yref": "paper"
         },
         {
          "font": {},
          "showarrow": false,
          "text": "tenure=MS_Year_3",
          "x": 0.8399999999999999,
          "xanchor": "center",
          "xref": "paper",
          "y": 0.9999999999999999,
          "yanchor": "bottom",
          "yref": "paper"
         }
        ],
        "height": 800,
        "legend": {
         "title": {
          "text": "cluster"
         },
         "tracegroupgap": 0
        },
        "margin": {
         "t": 60
        },
        "template": {
         "data": {
          "bar": [
           {
            "error_x": {
             "color": "#2a3f5f"
            },
            "error_y": {
             "color": "#2a3f5f"
            },
            "marker": {
             "line": {
              "color": "#E5ECF6",
              "width": 0.5
             },
             "pattern": {
              "fillmode": "overlay",
              "size": 10,
              "solidity": 0.2
             }
            },
            "type": "bar"
           }
          ],
          "barpolar": [
           {
            "marker": {
             "line": {
              "color": "#E5ECF6",
              "width": 0.5
             },
             "pattern": {
              "fillmode": "overlay",
              "size": 10,
              "solidity": 0.2
             }
            },
            "type": "barpolar"
           }
          ],
          "carpet": [
           {
            "aaxis": {
             "endlinecolor": "#2a3f5f",
             "gridcolor": "white",
             "linecolor": "white",
             "minorgridcolor": "white",
             "startlinecolor": "#2a3f5f"
            },
            "baxis": {
             "endlinecolor": "#2a3f5f",
             "gridcolor": "white",
             "linecolor": "white",
             "minorgridcolor": "white",
             "startlinecolor": "#2a3f5f"
            },
            "type": "carpet"
           }
          ],
          "choropleth": [
           {
            "colorbar": {
             "outlinewidth": 0,
             "ticks": ""
            },
            "type": "choropleth"
           }
          ],
          "contour": [
           {
            "colorbar": {
             "outlinewidth": 0,
             "ticks": ""
            },
            "colorscale": [
             [
              0,
              "#0d0887"
             ],
             [
              0.1111111111111111,
              "#46039f"
             ],
             [
              0.2222222222222222,
              "#7201a8"
             ],
             [
              0.3333333333333333,
              "#9c179e"
             ],
             [
              0.4444444444444444,
              "#bd3786"
             ],
             [
              0.5555555555555556,
              "#d8576b"
             ],
             [
              0.6666666666666666,
              "#ed7953"
             ],
             [
              0.7777777777777778,
              "#fb9f3a"
             ],
             [
              0.8888888888888888,
              "#fdca26"
             ],
             [
              1,
              "#f0f921"
             ]
            ],
            "type": "contour"
           }
          ],
          "contourcarpet": [
           {
            "colorbar": {
             "outlinewidth": 0,
             "ticks": ""
            },
            "type": "contourcarpet"
           }
          ],
          "heatmap": [
           {
            "colorbar": {
             "outlinewidth": 0,
             "ticks": ""
            },
            "colorscale": [
             [
              0,
              "#0d0887"
             ],
             [
              0.1111111111111111,
              "#46039f"
             ],
             [
              0.2222222222222222,
              "#7201a8"
             ],
             [
              0.3333333333333333,
              "#9c179e"
             ],
             [
              0.4444444444444444,
              "#bd3786"
             ],
             [
              0.5555555555555556,
              "#d8576b"
             ],
             [
              0.6666666666666666,
              "#ed7953"
             ],
             [
              0.7777777777777778,
              "#fb9f3a"
             ],
             [
              0.8888888888888888,
              "#fdca26"
             ],
             [
              1,
              "#f0f921"
             ]
            ],
            "type": "heatmap"
           }
          ],
          "heatmapgl": [
           {
            "colorbar": {
             "outlinewidth": 0,
             "ticks": ""
            },
            "colorscale": [
             [
              0,
              "#0d0887"
             ],
             [
              0.1111111111111111,
              "#46039f"
             ],
             [
              0.2222222222222222,
              "#7201a8"
             ],
             [
              0.3333333333333333,
              "#9c179e"
             ],
             [
              0.4444444444444444,
              "#bd3786"
             ],
             [
              0.5555555555555556,
              "#d8576b"
             ],
             [
              0.6666666666666666,
              "#ed7953"
             ],
             [
              0.7777777777777778,
              "#fb9f3a"
             ],
             [
              0.8888888888888888,
              "#fdca26"
             ],
             [
              1,
              "#f0f921"
             ]
            ],
            "type": "heatmapgl"
           }
          ],
          "histogram": [
           {
            "marker": {
             "pattern": {
              "fillmode": "overlay",
              "size": 10,
              "solidity": 0.2
             }
            },
            "type": "histogram"
           }
          ],
          "histogram2d": [
           {
            "colorbar": {
             "outlinewidth": 0,
             "ticks": ""
            },
            "colorscale": [
             [
              0,
              "#0d0887"
             ],
             [
              0.1111111111111111,
              "#46039f"
             ],
             [
              0.2222222222222222,
              "#7201a8"
             ],
             [
              0.3333333333333333,
              "#9c179e"
             ],
             [
              0.4444444444444444,
              "#bd3786"
             ],
             [
              0.5555555555555556,
              "#d8576b"
             ],
             [
              0.6666666666666666,
              "#ed7953"
             ],
             [
              0.7777777777777778,
              "#fb9f3a"
             ],
             [
              0.8888888888888888,
              "#fdca26"
             ],
             [
              1,
              "#f0f921"
             ]
            ],
            "type": "histogram2d"
           }
          ],
          "histogram2dcontour": [
           {
            "colorbar": {
             "outlinewidth": 0,
             "ticks": ""
            },
            "colorscale": [
             [
              0,
              "#0d0887"
             ],
             [
              0.1111111111111111,
              "#46039f"
             ],
             [
              0.2222222222222222,
              "#7201a8"
             ],
             [
              0.3333333333333333,
              "#9c179e"
             ],
             [
              0.4444444444444444,
              "#bd3786"
             ],
             [
              0.5555555555555556,
              "#d8576b"
             ],
             [
              0.6666666666666666,
              "#ed7953"
             ],
             [
              0.7777777777777778,
              "#fb9f3a"
             ],
             [
              0.8888888888888888,
              "#fdca26"
             ],
             [
              1,
              "#f0f921"
             ]
            ],
            "type": "histogram2dcontour"
           }
          ],
          "mesh3d": [
           {
            "colorbar": {
             "outlinewidth": 0,
             "ticks": ""
            },
            "type": "mesh3d"
           }
          ],
          "parcoords": [
           {
            "line": {
             "colorbar": {
              "outlinewidth": 0,
              "ticks": ""
             }
            },
            "type": "parcoords"
           }
          ],
          "pie": [
           {
            "automargin": true,
            "type": "pie"
           }
          ],
          "scatter": [
           {
            "fillpattern": {
             "fillmode": "overlay",
             "size": 10,
             "solidity": 0.2
            },
            "type": "scatter"
           }
          ],
          "scatter3d": [
           {
            "line": {
             "colorbar": {
              "outlinewidth": 0,
              "ticks": ""
             }
            },
            "marker": {
             "colorbar": {
              "outlinewidth": 0,
              "ticks": ""
             }
            },
            "type": "scatter3d"
           }
          ],
          "scattercarpet": [
           {
            "marker": {
             "colorbar": {
              "outlinewidth": 0,
              "ticks": ""
             }
            },
            "type": "scattercarpet"
           }
          ],
          "scattergeo": [
           {
            "marker": {
             "colorbar": {
              "outlinewidth": 0,
              "ticks": ""
             }
            },
            "type": "scattergeo"
           }
          ],
          "scattergl": [
           {
            "marker": {
             "colorbar": {
              "outlinewidth": 0,
              "ticks": ""
             }
            },
            "type": "scattergl"
           }
          ],
          "scattermapbox": [
           {
            "marker": {
             "colorbar": {
              "outlinewidth": 0,
              "ticks": ""
             }
            },
            "type": "scattermapbox"
           }
          ],
          "scatterpolar": [
           {
            "marker": {
             "colorbar": {
              "outlinewidth": 0,
              "ticks": ""
             }
            },
            "type": "scatterpolar"
           }
          ],
          "scatterpolargl": [
           {
            "marker": {
             "colorbar": {
              "outlinewidth": 0,
              "ticks": ""
             }
            },
            "type": "scatterpolargl"
           }
          ],
          "scatterternary": [
           {
            "marker": {
             "colorbar": {
              "outlinewidth": 0,
              "ticks": ""
             }
            },
            "type": "scatterternary"
           }
          ],
          "surface": [
           {
            "colorbar": {
             "outlinewidth": 0,
             "ticks": ""
            },
            "colorscale": [
             [
              0,
              "#0d0887"
             ],
             [
              0.1111111111111111,
              "#46039f"
             ],
             [
              0.2222222222222222,
              "#7201a8"
             ],
             [
              0.3333333333333333,
              "#9c179e"
             ],
             [
              0.4444444444444444,
              "#bd3786"
             ],
             [
              0.5555555555555556,
              "#d8576b"
             ],
             [
              0.6666666666666666,
              "#ed7953"
             ],
             [
              0.7777777777777778,
              "#fb9f3a"
             ],
             [
              0.8888888888888888,
              "#fdca26"
             ],
             [
              1,
              "#f0f921"
             ]
            ],
            "type": "surface"
           }
          ],
          "table": [
           {
            "cells": {
             "fill": {
              "color": "#EBF0F8"
             },
             "line": {
              "color": "white"
             }
            },
            "header": {
             "fill": {
              "color": "#C8D4E3"
             },
             "line": {
              "color": "white"
             }
            },
            "type": "table"
           }
          ]
         },
         "layout": {
          "annotationdefaults": {
           "arrowcolor": "#2a3f5f",
           "arrowhead": 0,
           "arrowwidth": 1
          },
          "autotypenumbers": "strict",
          "coloraxis": {
           "colorbar": {
            "outlinewidth": 0,
            "ticks": ""
           }
          },
          "colorscale": {
           "diverging": [
            [
             0,
             "#8e0152"
            ],
            [
             0.1,
             "#c51b7d"
            ],
            [
             0.2,
             "#de77ae"
            ],
            [
             0.3,
             "#f1b6da"
            ],
            [
             0.4,
             "#fde0ef"
            ],
            [
             0.5,
             "#f7f7f7"
            ],
            [
             0.6,
             "#e6f5d0"
            ],
            [
             0.7,
             "#b8e186"
            ],
            [
             0.8,
             "#7fbc41"
            ],
            [
             0.9,
             "#4d9221"
            ],
            [
             1,
             "#276419"
            ]
           ],
           "sequential": [
            [
             0,
             "#0d0887"
            ],
            [
             0.1111111111111111,
             "#46039f"
            ],
            [
             0.2222222222222222,
             "#7201a8"
            ],
            [
             0.3333333333333333,
             "#9c179e"
            ],
            [
             0.4444444444444444,
             "#bd3786"
            ],
            [
             0.5555555555555556,
             "#d8576b"
            ],
            [
             0.6666666666666666,
             "#ed7953"
            ],
            [
             0.7777777777777778,
             "#fb9f3a"
            ],
            [
             0.8888888888888888,
             "#fdca26"
            ],
            [
             1,
             "#f0f921"
            ]
           ],
           "sequentialminus": [
            [
             0,
             "#0d0887"
            ],
            [
             0.1111111111111111,
             "#46039f"
            ],
            [
             0.2222222222222222,
             "#7201a8"
            ],
            [
             0.3333333333333333,
             "#9c179e"
            ],
            [
             0.4444444444444444,
             "#bd3786"
            ],
            [
             0.5555555555555556,
             "#d8576b"
            ],
            [
             0.6666666666666666,
             "#ed7953"
            ],
            [
             0.7777777777777778,
             "#fb9f3a"
            ],
            [
             0.8888888888888888,
             "#fdca26"
            ],
            [
             1,
             "#f0f921"
            ]
           ]
          },
          "colorway": [
           "#636efa",
           "#EF553B",
           "#00cc96",
           "#ab63fa",
           "#FFA15A",
           "#19d3f3",
           "#FF6692",
           "#B6E880",
           "#FF97FF",
           "#FECB52"
          ],
          "font": {
           "color": "#2a3f5f"
          },
          "geo": {
           "bgcolor": "white",
           "lakecolor": "white",
           "landcolor": "#E5ECF6",
           "showlakes": true,
           "showland": true,
           "subunitcolor": "white"
          },
          "hoverlabel": {
           "align": "left"
          },
          "hovermode": "closest",
          "mapbox": {
           "style": "light"
          },
          "paper_bgcolor": "white",
          "plot_bgcolor": "#E5ECF6",
          "polar": {
           "angularaxis": {
            "gridcolor": "white",
            "linecolor": "white",
            "ticks": ""
           },
           "bgcolor": "#E5ECF6",
           "radialaxis": {
            "gridcolor": "white",
            "linecolor": "white",
            "ticks": ""
           }
          },
          "scene": {
           "xaxis": {
            "backgroundcolor": "#E5ECF6",
            "gridcolor": "white",
            "gridwidth": 2,
            "linecolor": "white",
            "showbackground": true,
            "ticks": "",
            "zerolinecolor": "white"
           },
           "yaxis": {
            "backgroundcolor": "#E5ECF6",
            "gridcolor": "white",
            "gridwidth": 2,
            "linecolor": "white",
            "showbackground": true,
            "ticks": "",
            "zerolinecolor": "white"
           },
           "zaxis": {
            "backgroundcolor": "#E5ECF6",
            "gridcolor": "white",
            "gridwidth": 2,
            "linecolor": "white",
            "showbackground": true,
            "ticks": "",
            "zerolinecolor": "white"
           }
          },
          "shapedefaults": {
           "line": {
            "color": "#2a3f5f"
           }
          },
          "ternary": {
           "aaxis": {
            "gridcolor": "white",
            "linecolor": "white",
            "ticks": ""
           },
           "baxis": {
            "gridcolor": "white",
            "linecolor": "white",
            "ticks": ""
           },
           "bgcolor": "#E5ECF6",
           "caxis": {
            "gridcolor": "white",
            "linecolor": "white",
            "ticks": ""
           }
          },
          "title": {
           "x": 0.05
          },
          "xaxis": {
           "automargin": true,
           "gridcolor": "white",
           "linecolor": "white",
           "ticks": "",
           "title": {
            "standoff": 15
           },
           "zerolinecolor": "white",
           "zerolinewidth": 2
          },
          "yaxis": {
           "automargin": true,
           "gridcolor": "white",
           "linecolor": "white",
           "ticks": "",
           "title": {
            "standoff": 15
           },
           "zerolinecolor": "white",
           "zerolinewidth": 2
          }
         }
        },
        "width": 1000,
        "xaxis": {
         "anchor": "y",
         "domain": [
          0,
          0.31999999999999995
         ],
         "title": {
          "text": "x"
         }
        },
        "xaxis2": {
         "anchor": "y2",
         "domain": [
          0.33999999999999997,
          0.6599999999999999
         ],
         "matches": "x",
         "title": {
          "text": "x"
         }
        },
        "xaxis3": {
         "anchor": "y3",
         "domain": [
          0.6799999999999999,
          0.9999999999999999
         ],
         "matches": "x",
         "title": {
          "text": "x"
         }
        },
        "xaxis4": {
         "anchor": "y4",
         "domain": [
          0,
          0.31999999999999995
         ],
         "matches": "x",
         "showticklabels": false
        },
        "xaxis5": {
         "anchor": "y5",
         "domain": [
          0.33999999999999997,
          0.6599999999999999
         ],
         "matches": "x",
         "showticklabels": false
        },
        "xaxis6": {
         "anchor": "y6",
         "domain": [
          0.6799999999999999,
          0.9999999999999999
         ],
         "matches": "x",
         "showticklabels": false
        },
        "xaxis7": {
         "anchor": "y7",
         "domain": [
          0,
          0.31999999999999995
         ],
         "matches": "x",
         "showticklabels": false
        },
        "xaxis8": {
         "anchor": "y8",
         "domain": [
          0.33999999999999997,
          0.6599999999999999
         ],
         "matches": "x",
         "showticklabels": false
        },
        "xaxis9": {
         "anchor": "y9",
         "domain": [
          0.6799999999999999,
          0.9999999999999999
         ],
         "matches": "x",
         "showticklabels": false
        },
        "yaxis": {
         "anchor": "x",
         "domain": [
          0,
          0.2866666666666666
         ],
         "title": {
          "text": "y"
         }
        },
        "yaxis2": {
         "anchor": "x2",
         "domain": [
          0,
          0.2866666666666666
         ],
         "matches": "y",
         "showticklabels": false
        },
        "yaxis3": {
         "anchor": "x3",
         "domain": [
          0,
          0.2866666666666666
         ],
         "matches": "y",
         "showticklabels": false
        },
        "yaxis4": {
         "anchor": "x4",
         "domain": [
          0.35666666666666663,
          0.6433333333333333
         ],
         "matches": "y",
         "title": {
          "text": "y"
         }
        },
        "yaxis5": {
         "anchor": "x5",
         "domain": [
          0.35666666666666663,
          0.6433333333333333
         ],
         "matches": "y",
         "showticklabels": false
        },
        "yaxis6": {
         "anchor": "x6",
         "domain": [
          0.35666666666666663,
          0.6433333333333333
         ],
         "matches": "y",
         "showticklabels": false
        },
        "yaxis7": {
         "anchor": "x7",
         "domain": [
          0.7133333333333333,
          0.9999999999999999
         ],
         "matches": "y",
         "title": {
          "text": "y"
         }
        },
        "yaxis8": {
         "anchor": "x8",
         "domain": [
          0.7133333333333333,
          0.9999999999999999
         ],
         "matches": "y",
         "showticklabels": false
        },
        "yaxis9": {
         "anchor": "x9",
         "domain": [
          0.7133333333333333,
          0.9999999999999999
         ],
         "matches": "y",
         "showticklabels": false
        }
       }
      }
     },
     "metadata": {},
     "output_type": "display_data"
    }
   ],
   "source": [
    "import plotly.express as px\n",
    "fig = px.scatter(df_dim_date, x='x', y='y', color='cluster', symbol = 'cluster', color_discrete_map = {'CO':'lavender', 'C1':'royalblue', 'C2':'darkturquoise', 'C3':'maroon'}, \n",
    "                facet_col='tenure', facet_col_wrap=3, size_max = 12, hover_data = 'Topics')\n",
    "fig.update_layout(height=800, width=1000)\n",
    "fig.show() "
   ]
  },
  {
   "cell_type": "code",
   "execution_count": 30,
   "metadata": {},
   "outputs": [],
   "source": [
    "import plotly.io as pio\n",
    "\n",
    "# Set the desired DPI value\n",
    "dpi = 200\n",
    "\n",
    "# Calculate the scale factor based on the desired DPI\n",
    "scale = dpi / 96\n",
    "\n",
    "# Save the figure as a PNG image with custom width and height\n",
    "pio.write_image(fig, 'NM_yearwise_cluster.png', width=800, height=600, format = 'png', scale = scale)\n",
    "\n"
   ]
  },
  {
   "cell_type": "code",
   "execution_count": 31,
   "metadata": {},
   "outputs": [],
   "source": [
    "\n",
    "# K-means clustering, cluster map, put clustering figures\n",
    "# 3 panel- corpus level comparision over yrs for clusters then NM+MS\n",
    "# Topic of each cluster (Annotate on basis of personal understanding) \n"
   ]
  },
  {
   "attachments": {},
   "cell_type": "markdown",
   "metadata": {},
   "source": []
  }
 ],
 "metadata": {
  "kernelspec": {
   "display_name": "Python 3",
   "language": "python",
   "name": "python3"
  },
  "language_info": {
   "codemirror_mode": {
    "name": "ipython",
    "version": 3
   },
   "file_extension": ".py",
   "mimetype": "text/x-python",
   "name": "python",
   "nbconvert_exporter": "python",
   "pygments_lexer": "ipython3",
   "version": "3.11.1"
  },
  "orig_nbformat": 4
 },
 "nbformat": 4,
 "nbformat_minor": 2
}
