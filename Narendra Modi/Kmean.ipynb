{
 "cells": [
  {
   "cell_type": "code",
   "execution_count": 1,
   "metadata": {},
   "outputs": [
    {
     "name": "stdout",
     "output_type": "stream",
     "text": [
      "Collecting seaborn\n",
      "  Downloading seaborn-0.12.2-py3-none-any.whl (293 kB)\n",
      "     -------------------------------------- 293.3/293.3 kB 4.6 MB/s eta 0:00:00\n",
      "Requirement already satisfied: numpy!=1.24.0,>=1.17 in c:\\users\\abcd\\appdata\\local\\programs\\python\\python311\\lib\\site-packages (from seaborn) (1.24.2)\n",
      "Requirement already satisfied: pandas>=0.25 in c:\\users\\abcd\\appdata\\local\\programs\\python\\python311\\lib\\site-packages (from seaborn) (2.0.0)\n",
      "Collecting matplotlib!=3.6.1,>=3.1\n",
      "  Downloading matplotlib-3.7.1-cp311-cp311-win_amd64.whl (7.6 MB)\n",
      "     ---------------------------------------- 7.6/7.6 MB 3.3 MB/s eta 0:00:00\n",
      "Collecting contourpy>=1.0.1\n",
      "  Downloading contourpy-1.0.7-cp311-cp311-win_amd64.whl (162 kB)\n",
      "     -------------------------------------- 163.0/163.0 kB 3.2 MB/s eta 0:00:00\n",
      "Collecting cycler>=0.10\n",
      "  Downloading cycler-0.11.0-py3-none-any.whl (6.4 kB)\n",
      "Collecting fonttools>=4.22.0\n",
      "  Downloading fonttools-4.39.3-py3-none-any.whl (1.0 MB)\n",
      "     ---------------------------------------- 1.0/1.0 MB 318.0 kB/s eta 0:00:00\n",
      "Collecting kiwisolver>=1.0.1\n",
      "  Downloading kiwisolver-1.4.4-cp311-cp311-win_amd64.whl (55 kB)\n",
      "     -------------------------------------- 55.4/55.4 kB 960.7 kB/s eta 0:00:00\n",
      "Requirement already satisfied: packaging>=20.0 in c:\\users\\abcd\\appdata\\roaming\\python\\python311\\site-packages (from matplotlib!=3.6.1,>=3.1->seaborn) (23.0)\n",
      "Requirement already satisfied: pillow>=6.2.0 in c:\\users\\abcd\\appdata\\local\\programs\\python\\python311\\lib\\site-packages (from matplotlib!=3.6.1,>=3.1->seaborn) (9.5.0)\n",
      "Collecting pyparsing>=2.3.1\n",
      "  Downloading pyparsing-3.0.9-py3-none-any.whl (98 kB)\n",
      "     ---------------------------------------- 98.3/98.3 kB 1.9 MB/s eta 0:00:00\n",
      "Requirement already satisfied: python-dateutil>=2.7 in c:\\users\\abcd\\appdata\\roaming\\python\\python311\\site-packages (from matplotlib!=3.6.1,>=3.1->seaborn) (2.8.2)\n",
      "Requirement already satisfied: pytz>=2020.1 in c:\\users\\abcd\\appdata\\local\\programs\\python\\python311\\lib\\site-packages (from pandas>=0.25->seaborn) (2023.3)\n",
      "Requirement already satisfied: tzdata>=2022.1 in c:\\users\\abcd\\appdata\\local\\programs\\python\\python311\\lib\\site-packages (from pandas>=0.25->seaborn) (2023.3)\n",
      "Requirement already satisfied: six>=1.5 in c:\\users\\abcd\\appdata\\roaming\\python\\python311\\site-packages (from python-dateutil>=2.7->matplotlib!=3.6.1,>=3.1->seaborn) (1.16.0)\n",
      "Installing collected packages: pyparsing, kiwisolver, fonttools, cycler, contourpy, matplotlib, seaborn\n",
      "Successfully installed contourpy-1.0.7 cycler-0.11.0 fonttools-4.39.3 kiwisolver-1.4.4 matplotlib-3.7.1 pyparsing-3.0.9 seaborn-0.12.2\n",
      "Note: you may need to restart the kernel to use updated packages.\n"
     ]
    },
    {
     "name": "stderr",
     "output_type": "stream",
     "text": [
      "\n",
      "[notice] A new release of pip available: 22.3.1 -> 23.1.2\n",
      "[notice] To update, run: python.exe -m pip install --upgrade pip\n"
     ]
    }
   ],
   "source": [
    "%pip install seaborn"
   ]
  },
  {
   "cell_type": "code",
   "execution_count": 6,
   "metadata": {},
   "outputs": [
    {
     "name": "stdout",
     "output_type": "stream",
     "text": [
      "Note: you may need to restart the kernel to use updated packages.\n"
     ]
    },
    {
     "name": "stderr",
     "output_type": "stream",
     "text": [
      "ERROR: Could not find a version that satisfies the requirement sklearn.dataset (from versions: none)\n",
      "ERROR: No matching distribution found for sklearn.dataset\n",
      "\n",
      "[notice] A new release of pip available: 22.3.1 -> 23.1.2\n",
      "[notice] To update, run: python.exe -m pip install --upgrade pip\n"
     ]
    }
   ],
   "source": [
    "pip install sklearn.dataset"
   ]
  },
  {
   "cell_type": "code",
   "execution_count": 8,
   "metadata": {},
   "outputs": [
    {
     "name": "stdout",
     "output_type": "stream",
     "text": [
      "Collecting scikit-learn\n",
      "  Downloading scikit_learn-1.2.2-cp311-cp311-win_amd64.whl (8.3 MB)\n",
      "     ---------------------------------------- 8.3/8.3 MB 2.9 MB/s eta 0:00:00\n",
      "Requirement already satisfied: numpy>=1.17.3 in c:\\users\\abcd\\appdata\\local\\programs\\python\\python311\\lib\\site-packages (from scikit-learn) (1.24.2)\n",
      "Requirement already satisfied: scipy>=1.3.2 in c:\\users\\abcd\\appdata\\local\\programs\\python\\python311\\lib\\site-packages (from scikit-learn) (1.10.1)\n",
      "Requirement already satisfied: joblib>=1.1.1 in c:\\users\\abcd\\appdata\\local\\programs\\python\\python311\\lib\\site-packages (from scikit-learn) (1.2.0)\n",
      "Collecting threadpoolctl>=2.0.0\n",
      "  Downloading threadpoolctl-3.1.0-py3-none-any.whl (14 kB)\n",
      "Installing collected packages: threadpoolctl, scikit-learn\n",
      "Successfully installed scikit-learn-1.2.2 threadpoolctl-3.1.0\n",
      "Note: you may need to restart the kernel to use updated packages.\n"
     ]
    },
    {
     "name": "stderr",
     "output_type": "stream",
     "text": [
      "\n",
      "[notice] A new release of pip available: 22.3.1 -> 23.1.2\n",
      "[notice] To update, run: python.exe -m pip install --upgrade pip\n"
     ]
    }
   ],
   "source": [
    "pip install scikit-learn"
   ]
  },
  {
   "cell_type": "code",
   "execution_count": 7,
   "metadata": {},
   "outputs": [],
   "source": [
    "import pandas as pd\n",
    "import nltk \n",
    "from nltk.stem import WordNetLemmatizer\n",
    "from gensim.models import Word2Vec\n",
    "import pickle\n",
    "df_data = pd.read_csv(\"C:/Users/abcd/Downloads/FINAL_PM_Modi_Speech_Cleaned_string.csv\")\n",
    "\n",
    "def model(corpus):\n",
    "    corpus_tokenized = [nltk.word_tokenize(sentence) for sentence in corpus]\n",
    "    model = Word2Vec(sentences=corpus_tokenized, vector_size=300, window=5, min_count=5, workers=4)\n",
    "    return model \n",
    "\n",
    "\n",
    "def predict(model, speech):\n",
    "    vectors = []\n",
    "\n",
    "    for sentence in speech:\n",
    "        sent_vec = []\n",
    "        for word in sentence:\n",
    "            if word in model.wv.key_to_index:\n",
    "                # If the word is in the Word2Vec model's vocabulary, extract its vector\n",
    "                word_vector = model.wv.get_vector(word)\n",
    "                sent_vec.append(word_vector)\n",
    "        vectors.append(sent_vec)\n",
    "\n",
    "    return vectors \n",
    "\n",
    "\n",
    "def count_unique_words(j):\n",
    "    m = j.replace('[','').replace(']','').replace(\"'\",\"\").split(', ')\n",
    "    l = []\n",
    "    for k in m:\n",
    "        l += k.split(\" \")\n",
    "    length = len(l)\n",
    "    return length \n",
    "\n",
    "corpus_Modi = []\n",
    "for i in df_data['Cleaned_Speech']:\n",
    "    corpus_Modi += i.replace('[','').replace(']','').replace(\"'\",\"\").split(', ')\n",
    "\n",
    "\n",
    "model_modi = model(corpus_Modi)\n",
    "\n",
    "speech_modi = []\n",
    "for i in df_data['Cleaned_Speech']:\n",
    "    speech_modi.append(i.replace('[','').replace(']','').replace(\"'\",\"\").split(', '))\n",
    "\n",
    "speech_modi_vector = []\n",
    "for sp in speech_modi:\n",
    "    speech_modi_vector.append(predict(model_modi, sp)) "
   ]
  },
  {
   "cell_type": "code",
   "execution_count": 26,
   "metadata": {},
   "outputs": [
    {
     "data": {
      "text/plain": [
       "120"
      ]
     },
     "execution_count": 26,
     "metadata": {},
     "output_type": "execute_result"
    }
   ],
   "source": [
    "len(speech_modi_vector[1][163])"
   ]
  },
  {
   "cell_type": "code",
   "execution_count": 9,
   "metadata": {},
   "outputs": [],
   "source": [
    "import seaborn as sns\n",
    "from sklearn.datasets import make_blobs\n",
    "import matplotlib.pyplot as plt\n",
    "from sklearn.preprocessing import StandardScaler\n",
    "import pickle\n",
    "from sklearn.cluster import KMeans\n",
    "import numpy as np\n"
   ]
  },
  {
   "cell_type": "code",
   "execution_count": 10,
   "metadata": {},
   "outputs": [],
   "source": [
    "vectors = []\n",
    "for speech_vector in speech_modi_vector:\n",
    "    for sentence_vector in speech_vector:\n",
    "        for word_vector in sentence_vector:\n",
    "            vectors.append(word_vector)\n",
    "\n"
   ]
  },
  {
   "cell_type": "code",
   "execution_count": 14,
   "metadata": {},
   "outputs": [
    {
     "data": {
      "text/plain": [
       "11329938"
      ]
     },
     "execution_count": 14,
     "metadata": {},
     "output_type": "execute_result"
    }
   ],
   "source": [
    "len(vectors)"
   ]
  },
  {
   "cell_type": "code",
   "execution_count": 11,
   "metadata": {},
   "outputs": [],
   "source": [
    "vectors_array = np.array(vectors)"
   ]
  },
  {
   "cell_type": "code",
   "execution_count": 12,
   "metadata": {},
   "outputs": [
    {
     "data": {
      "text/plain": [
       "array([ 0.08234656, -0.1723154 , -0.5344149 ,  0.33968133, -0.3637537 ,\n",
       "       -0.15715198,  0.15061568,  0.3342749 , -0.55180985, -0.15226135,\n",
       "        0.43968406, -0.5208001 , -0.43223163, -0.7227796 ,  0.28997466,\n",
       "       -0.31489354,  0.6297472 , -0.13485493, -0.16673923,  0.55388844,\n",
       "       -0.2749492 , -0.05134691,  0.6810767 , -0.21346281, -0.5004884 ,\n",
       "        0.08793508, -0.36392012, -0.8177474 ,  0.70852596,  0.2103638 ,\n",
       "        0.8109037 , -0.58465207, -0.07021086,  0.25636315,  0.7333711 ,\n",
       "        0.6849588 ,  0.24471207, -0.21877027,  0.3016004 , -0.72964776,\n",
       "       -0.6474324 ,  0.15177064,  0.47088563, -0.45200408,  0.09081335,\n",
       "       -0.4279317 ,  0.27281895, -0.4169457 , -0.147294  , -0.71504396,\n",
       "        0.29558432,  0.17136976, -0.40411857, -0.9832511 , -0.33267322,\n",
       "        0.38595244, -1.1791675 ,  0.5304845 ,  0.48329118, -0.41781592,\n",
       "       -0.24619894,  0.15278792, -0.0662683 , -0.04212743,  0.28843683,\n",
       "        0.46471068,  0.6684713 , -0.54828167, -0.36898524, -0.07092683,\n",
       "        0.24245903, -0.02754048,  0.9139589 ,  0.6913744 , -0.61922944,\n",
       "       -0.47307554,  0.562115  ,  0.2237523 ,  0.11481684, -0.16377507,\n",
       "        0.31357864, -0.24020678, -0.6386583 ,  0.03644273, -0.549323  ,\n",
       "       -0.21473257, -1.2537564 , -0.9789646 ,  0.51836354,  0.53655684,\n",
       "        0.6645738 ,  0.00587966,  0.7521401 ,  0.00919319, -0.734665  ,\n",
       "        0.54477406,  0.6590673 ,  0.90177613, -0.19648786, -0.17623524,\n",
       "       -0.14493175, -0.55365574, -0.02572052,  0.38170215,  0.40447164,\n",
       "       -0.6783777 ,  0.84157735,  0.4101756 , -0.19002946, -0.5376866 ,\n",
       "       -0.20966174, -0.75304645,  1.541928  ,  0.21161559,  0.5227933 ,\n",
       "        0.4816232 ,  0.4058735 ,  0.58139014,  1.2092948 ,  0.04929669,\n",
       "       -0.6337517 ,  0.38219675,  0.24706544,  0.6042994 ,  0.0031441 ,\n",
       "        0.12460919,  0.06374042, -0.37237978,  0.01262059,  0.16481078,\n",
       "        0.14223021, -0.1597983 ,  0.0187156 , -0.11199616,  0.13208142,\n",
       "        0.41469046,  0.20549501, -0.05732401, -0.04268986,  0.457661  ,\n",
       "       -0.29597765,  0.01245977, -0.00990671, -0.36635977, -0.7146505 ,\n",
       "       -0.5999451 ,  0.3099202 , -0.17481896, -0.07797799,  0.14300075,\n",
       "       -0.14623255, -0.06341314,  0.15818425,  0.10126083,  0.3326393 ,\n",
       "        0.04179175, -0.43700764, -0.3188149 , -1.2372664 , -0.12525551,\n",
       "       -0.5149741 ,  0.11424887, -0.07066122,  0.9690561 ,  0.11356968,\n",
       "       -0.02220906,  0.13443993,  0.16258869,  0.38498482,  0.25991014,\n",
       "       -0.31101122,  0.0614508 , -0.6620322 ,  0.27319077, -0.7912053 ,\n",
       "        1.2034118 ,  0.25971392, -0.02112612,  0.15322867, -0.35337868,\n",
       "       -0.29437113, -0.4869104 , -0.4321408 , -0.5628379 , -1.2294571 ,\n",
       "       -0.30871302,  0.19889285,  0.1305367 ,  0.4019564 , -0.65056294,\n",
       "       -0.5804956 , -0.6831402 , -0.49898228,  0.03948259, -0.10292169,\n",
       "       -0.57155204,  0.06385548, -0.3149571 , -0.00632159,  0.25947598,\n",
       "        0.15061864, -0.35695848,  0.05080409,  0.05931976, -0.42553565,\n",
       "       -0.0128201 , -0.05385849, -1.0076704 , -0.18440358,  0.4007706 ,\n",
       "       -0.5020114 , -0.39882007,  0.6629091 ,  0.1876064 ,  0.428404  ,\n",
       "        0.26285928, -0.09549358,  0.17370978,  0.18408245, -0.46374348,\n",
       "        0.19304256, -1.1351206 ,  0.0395893 , -0.03721846, -0.2718448 ,\n",
       "       -0.6078084 ,  0.45041236,  0.25863454, -0.7885894 , -0.5333357 ,\n",
       "        0.45491356,  0.7236325 , -1.3249755 ,  0.09725159, -0.517589  ,\n",
       "       -0.02522515,  0.39181447, -0.07530286, -1.0512961 , -0.85409695,\n",
       "       -0.04060841,  1.383908  , -0.20943736, -0.54810977,  0.3323962 ,\n",
       "       -0.7262939 , -0.02513623,  0.47887996,  0.05574737,  1.0479667 ,\n",
       "        0.24584047,  0.11048678,  0.46604368, -0.38118985, -0.16141404,\n",
       "        0.8905749 , -0.19294262, -0.11141102, -0.16754329, -0.32820097,\n",
       "       -1.2085086 ,  0.43332782,  0.6531283 , -0.61030436,  0.35986093,\n",
       "        0.2865193 ,  0.18539986, -0.10245153,  0.42723113,  0.1315925 ,\n",
       "       -0.31666118,  0.25850818, -0.53274536,  0.01885699, -0.05916822,\n",
       "       -0.00978348,  0.5256247 ,  0.87453014, -0.55561996, -0.55096245,\n",
       "       -0.7679887 , -0.22277749, -0.11076146, -0.7490811 , -0.68397266,\n",
       "        0.44004512, -1.1251421 ,  0.48569113,  0.27622375,  0.96959555,\n",
       "        0.683497  ,  0.7162154 , -1.0170343 ,  0.09916468, -0.1336108 ,\n",
       "        0.3211097 ,  0.45679185, -0.4684872 ,  0.10421406,  0.00583812],\n",
       "      dtype=float32)"
      ]
     },
     "execution_count": 12,
     "metadata": {},
     "output_type": "execute_result"
    }
   ],
   "source": [
    "vectors_array[0]"
   ]
  },
  {
   "cell_type": "code",
   "execution_count": null,
   "metadata": {},
   "outputs": [],
   "source": []
  },
  {
   "cell_type": "code",
   "execution_count": 13,
   "metadata": {},
   "outputs": [
    {
     "ename": "MemoryError",
     "evalue": "Unable to allocate 12.7 GiB for an array with shape (11329938, 300) and data type float32",
     "output_type": "error",
     "traceback": [
      "\u001b[1;31m---------------------------------------------------------------------------\u001b[0m",
      "\u001b[1;31mMemoryError\u001b[0m                               Traceback (most recent call last)",
      "Cell \u001b[1;32mIn[13], line 5\u001b[0m\n\u001b[0;32m      2\u001b[0m num_clusters \u001b[39m=\u001b[39m \u001b[39m5\u001b[39m\n\u001b[0;32m      4\u001b[0m \u001b[39m# perform k-means clustering\u001b[39;00m\n\u001b[1;32m----> 5\u001b[0m kmeans \u001b[39m=\u001b[39m KMeans(n_clusters\u001b[39m=\u001b[39;49mnum_clusters, random_state\u001b[39m=\u001b[39;49m\u001b[39m0\u001b[39;49m)\u001b[39m.\u001b[39;49mfit(vectors_array)\n\u001b[0;32m      7\u001b[0m \u001b[39m# print the cluster labels\u001b[39;00m\n\u001b[0;32m      8\u001b[0m \u001b[39mprint\u001b[39m(kmeans\u001b[39m.\u001b[39mlabels_)\n",
      "File \u001b[1;32mc:\\Users\\abcd\\AppData\\Local\\Programs\\Python\\Python311\\Lib\\site-packages\\sklearn\\cluster\\_kmeans.py:1417\u001b[0m, in \u001b[0;36mKMeans.fit\u001b[1;34m(self, X, y, sample_weight)\u001b[0m\n\u001b[0;32m   1390\u001b[0m \u001b[39m\u001b[39m\u001b[39m\"\"\"Compute k-means clustering.\u001b[39;00m\n\u001b[0;32m   1391\u001b[0m \n\u001b[0;32m   1392\u001b[0m \u001b[39mParameters\u001b[39;00m\n\u001b[1;32m   (...)\u001b[0m\n\u001b[0;32m   1413\u001b[0m \u001b[39m    Fitted estimator.\u001b[39;00m\n\u001b[0;32m   1414\u001b[0m \u001b[39m\"\"\"\u001b[39;00m\n\u001b[0;32m   1415\u001b[0m \u001b[39mself\u001b[39m\u001b[39m.\u001b[39m_validate_params()\n\u001b[1;32m-> 1417\u001b[0m X \u001b[39m=\u001b[39m \u001b[39mself\u001b[39;49m\u001b[39m.\u001b[39;49m_validate_data(\n\u001b[0;32m   1418\u001b[0m     X,\n\u001b[0;32m   1419\u001b[0m     accept_sparse\u001b[39m=\u001b[39;49m\u001b[39m\"\u001b[39;49m\u001b[39mcsr\u001b[39;49m\u001b[39m\"\u001b[39;49m,\n\u001b[0;32m   1420\u001b[0m     dtype\u001b[39m=\u001b[39;49m[np\u001b[39m.\u001b[39;49mfloat64, np\u001b[39m.\u001b[39;49mfloat32],\n\u001b[0;32m   1421\u001b[0m     order\u001b[39m=\u001b[39;49m\u001b[39m\"\u001b[39;49m\u001b[39mC\u001b[39;49m\u001b[39m\"\u001b[39;49m,\n\u001b[0;32m   1422\u001b[0m     copy\u001b[39m=\u001b[39;49m\u001b[39mself\u001b[39;49m\u001b[39m.\u001b[39;49mcopy_x,\n\u001b[0;32m   1423\u001b[0m     accept_large_sparse\u001b[39m=\u001b[39;49m\u001b[39mFalse\u001b[39;49;00m,\n\u001b[0;32m   1424\u001b[0m )\n\u001b[0;32m   1426\u001b[0m \u001b[39mself\u001b[39m\u001b[39m.\u001b[39m_check_params_vs_input(X)\n\u001b[0;32m   1428\u001b[0m random_state \u001b[39m=\u001b[39m check_random_state(\u001b[39mself\u001b[39m\u001b[39m.\u001b[39mrandom_state)\n",
      "File \u001b[1;32mc:\\Users\\abcd\\AppData\\Local\\Programs\\Python\\Python311\\Lib\\site-packages\\sklearn\\base.py:565\u001b[0m, in \u001b[0;36mBaseEstimator._validate_data\u001b[1;34m(self, X, y, reset, validate_separately, **check_params)\u001b[0m\n\u001b[0;32m    563\u001b[0m     \u001b[39mraise\u001b[39;00m \u001b[39mValueError\u001b[39;00m(\u001b[39m\"\u001b[39m\u001b[39mValidation should be done on X, y or both.\u001b[39m\u001b[39m\"\u001b[39m)\n\u001b[0;32m    564\u001b[0m \u001b[39melif\u001b[39;00m \u001b[39mnot\u001b[39;00m no_val_X \u001b[39mand\u001b[39;00m no_val_y:\n\u001b[1;32m--> 565\u001b[0m     X \u001b[39m=\u001b[39m check_array(X, input_name\u001b[39m=\u001b[39;49m\u001b[39m\"\u001b[39;49m\u001b[39mX\u001b[39;49m\u001b[39m\"\u001b[39;49m, \u001b[39m*\u001b[39;49m\u001b[39m*\u001b[39;49mcheck_params)\n\u001b[0;32m    566\u001b[0m     out \u001b[39m=\u001b[39m X\n\u001b[0;32m    567\u001b[0m \u001b[39melif\u001b[39;00m no_val_X \u001b[39mand\u001b[39;00m \u001b[39mnot\u001b[39;00m no_val_y:\n",
      "File \u001b[1;32mc:\\Users\\abcd\\AppData\\Local\\Programs\\Python\\Python311\\Lib\\site-packages\\sklearn\\utils\\validation.py:950\u001b[0m, in \u001b[0;36mcheck_array\u001b[1;34m(array, accept_sparse, accept_large_sparse, dtype, order, copy, force_all_finite, ensure_2d, allow_nd, ensure_min_samples, ensure_min_features, estimator, input_name)\u001b[0m\n\u001b[0;32m    947\u001b[0m \u001b[39mif\u001b[39;00m xp\u001b[39m.\u001b[39m\u001b[39m__name__\u001b[39m \u001b[39min\u001b[39;00m {\u001b[39m\"\u001b[39m\u001b[39mnumpy\u001b[39m\u001b[39m\"\u001b[39m, \u001b[39m\"\u001b[39m\u001b[39mnumpy.array_api\u001b[39m\u001b[39m\"\u001b[39m}:\n\u001b[0;32m    948\u001b[0m     \u001b[39m# only make a copy if `array` and `array_orig` may share memory`\u001b[39;00m\n\u001b[0;32m    949\u001b[0m     \u001b[39mif\u001b[39;00m np\u001b[39m.\u001b[39mmay_share_memory(array, array_orig):\n\u001b[1;32m--> 950\u001b[0m         array \u001b[39m=\u001b[39m _asarray_with_order(\n\u001b[0;32m    951\u001b[0m             array, dtype\u001b[39m=\u001b[39;49mdtype, order\u001b[39m=\u001b[39;49morder, copy\u001b[39m=\u001b[39;49m\u001b[39mTrue\u001b[39;49;00m, xp\u001b[39m=\u001b[39;49mxp\n\u001b[0;32m    952\u001b[0m         )\n\u001b[0;32m    953\u001b[0m \u001b[39melse\u001b[39;00m:\n\u001b[0;32m    954\u001b[0m     \u001b[39m# always make a copy for non-numpy arrays\u001b[39;00m\n\u001b[0;32m    955\u001b[0m     array \u001b[39m=\u001b[39m _asarray_with_order(\n\u001b[0;32m    956\u001b[0m         array, dtype\u001b[39m=\u001b[39mdtype, order\u001b[39m=\u001b[39morder, copy\u001b[39m=\u001b[39m\u001b[39mTrue\u001b[39;00m, xp\u001b[39m=\u001b[39mxp\n\u001b[0;32m    957\u001b[0m     )\n",
      "File \u001b[1;32mc:\\Users\\abcd\\AppData\\Local\\Programs\\Python\\Python311\\Lib\\site-packages\\sklearn\\utils\\_array_api.py:186\u001b[0m, in \u001b[0;36m_asarray_with_order\u001b[1;34m(array, dtype, order, copy, xp)\u001b[0m\n\u001b[0;32m    183\u001b[0m \u001b[39mif\u001b[39;00m xp\u001b[39m.\u001b[39m\u001b[39m__name__\u001b[39m \u001b[39min\u001b[39;00m {\u001b[39m\"\u001b[39m\u001b[39mnumpy\u001b[39m\u001b[39m\"\u001b[39m, \u001b[39m\"\u001b[39m\u001b[39mnumpy.array_api\u001b[39m\u001b[39m\"\u001b[39m}:\n\u001b[0;32m    184\u001b[0m     \u001b[39m# Use NumPy API to support order\u001b[39;00m\n\u001b[0;32m    185\u001b[0m     array \u001b[39m=\u001b[39m numpy\u001b[39m.\u001b[39masarray(array, order\u001b[39m=\u001b[39morder, dtype\u001b[39m=\u001b[39mdtype)\n\u001b[1;32m--> 186\u001b[0m     \u001b[39mreturn\u001b[39;00m xp\u001b[39m.\u001b[39;49masarray(array, copy\u001b[39m=\u001b[39;49mcopy)\n\u001b[0;32m    187\u001b[0m \u001b[39melse\u001b[39;00m:\n\u001b[0;32m    188\u001b[0m     \u001b[39mreturn\u001b[39;00m xp\u001b[39m.\u001b[39masarray(array, dtype\u001b[39m=\u001b[39mdtype, copy\u001b[39m=\u001b[39mcopy)\n",
      "File \u001b[1;32mc:\\Users\\abcd\\AppData\\Local\\Programs\\Python\\Python311\\Lib\\site-packages\\sklearn\\utils\\_array_api.py:73\u001b[0m, in \u001b[0;36m_NumPyApiWrapper.asarray\u001b[1;34m(self, x, dtype, device, copy)\u001b[0m\n\u001b[0;32m     70\u001b[0m \u001b[39mdef\u001b[39;00m \u001b[39masarray\u001b[39m(\u001b[39mself\u001b[39m, x, \u001b[39m*\u001b[39m, dtype\u001b[39m=\u001b[39m\u001b[39mNone\u001b[39;00m, device\u001b[39m=\u001b[39m\u001b[39mNone\u001b[39;00m, copy\u001b[39m=\u001b[39m\u001b[39mNone\u001b[39;00m):\n\u001b[0;32m     71\u001b[0m     \u001b[39m# Support copy in NumPy namespace\u001b[39;00m\n\u001b[0;32m     72\u001b[0m     \u001b[39mif\u001b[39;00m copy \u001b[39mis\u001b[39;00m \u001b[39mTrue\u001b[39;00m:\n\u001b[1;32m---> 73\u001b[0m         \u001b[39mreturn\u001b[39;00m numpy\u001b[39m.\u001b[39;49marray(x, copy\u001b[39m=\u001b[39;49m\u001b[39mTrue\u001b[39;49;00m, dtype\u001b[39m=\u001b[39;49mdtype)\n\u001b[0;32m     74\u001b[0m     \u001b[39melse\u001b[39;00m:\n\u001b[0;32m     75\u001b[0m         \u001b[39mreturn\u001b[39;00m numpy\u001b[39m.\u001b[39masarray(x, dtype\u001b[39m=\u001b[39mdtype)\n",
      "\u001b[1;31mMemoryError\u001b[0m: Unable to allocate 12.7 GiB for an array with shape (11329938, 300) and data type float32"
     ]
    }
   ],
   "source": [
    "# set the number of clusters\n",
    "num_clusters = 5\n",
    "\n",
    "# perform k-means clustering\n",
    "kmeans = KMeans(n_clusters=num_clusters, random_state=0).fit(vectors_array)\n",
    "\n",
    "# print the cluster labels\n",
    "print(kmeans.labels_)\n"
   ]
  },
  {
   "cell_type": "code",
   "execution_count": null,
   "metadata": {},
   "outputs": [],
   "source": [
    "import numpy as np\n",
    "from sklearn.cluster import KMeans\n",
    "\n",
    "# Load the dataset (assuming it's a CSV file)\n",
    "data = np.genfromtxt('dataset.csv', delimiter=',')\n",
    "\n",
    "# Create a KMeans object with the desired number of clusters\n",
    "kmeans = KMeans(n_clusters=5)\n",
    "\n",
    "# Fit the KMeans object to the data\n",
    "kmeans.fit(data)\n",
    "\n",
    "# Get the cluster labels for each data point\n",
    "labels = kmeans.labels_\n",
    "\n",
    "# Print the cluster labels\n",
    "print(labels)\n"
   ]
  }
 ],
 "metadata": {
  "kernelspec": {
   "display_name": "Python 3",
   "language": "python",
   "name": "python3"
  },
  "language_info": {
   "codemirror_mode": {
    "name": "ipython",
    "version": 3
   },
   "file_extension": ".py",
   "mimetype": "text/x-python",
   "name": "python",
   "nbconvert_exporter": "python",
   "pygments_lexer": "ipython3",
   "version": "3.11.1"
  },
  "orig_nbformat": 4
 },
 "nbformat": 4,
 "nbformat_minor": 2
}
