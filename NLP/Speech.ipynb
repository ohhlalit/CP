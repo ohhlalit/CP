{
 "cells": [
  {
   "cell_type": "code",
   "execution_count": 45,
   "metadata": {},
   "outputs": [],
   "source": [
    "speech = [\"\"\"Bharat Mata Ki Jai!\n",
    "\n",
    "Bharat Mata Ki Jai!\n",
    "\n",
    "The Governor of Madhya Pradesh  Shri Mangubhai Patel, Chief Minister Shivraj ji, Railway Minister Ashwini ji, all other dignitaries, and my dear brothers and sisters of Bhopal who have come in large numbers!\n",
    "\n",
    "First of all, I express my grief over the tragedy at the Indore temple on Ramnavami. I pay my tribute to those who left us untimely due to this accident and express my condolences to their families. I also wish for the speedy recovery of the injured devotees who are undergoing treatment at the hospital.\n",
    "\n",
    "Friends, Today MP got its first Vande Bharat Express train. Vande Bharat Express will make the journey between Bhopal and Delhi faster. This train will bring new facilities for professionals, youth and businessmen.\n",
    "\n",
    "Friends, I have had the privilege of inaugurating the modern and grand Rani Kamalapati station where this event is being held. Today, you have given me the opportunity to flag off India's most modern Vande Bharat train from here to Delhi. In the history of Railways, it is very rare that a Prime Minister would come again at the same station in such a short interval. But in modern India, new culture and new systems are being developed. Today's event is also a perfect example of the same.\n",
    "\n",
    "Friends, Just a short while back, I spent a few moments and interacted with some school children who were travelling as passengers. The curiosity and enthusiasm they had about this train was worth seeing. That is, in a way, the Vande Bharat train is a symbol of the enthusiasm and wave of development taking place in India. And when today's event was being finalised, I was told that the event would be on the 1st. I asked, why are you keeping it on 1st April? When the news comes out in the newspapers that Modi ji is going to flag off the Vande Bharat train on 1st April, then our friends from Congress will definitely give a statement that Modi is going to befool people on April Fool Day. But you see, this train has really been flagged off on 1st April itself.\n",
    "\n",
    "Friends, It is also a symbol of our skill, our capability and confidence. And this train to Bhopal is going to help boost tourism the most. Consequently, the number of tourists in tourist places like Sanchi Stupa, Bhimbetka, Bhojpur and Udayagiri caves is going to increase further. And you know very well that when tourism expands, many employment opportunities start rising and people's income also increases. That means, this Vande Bharat will also become a medium to increase the income of the people. And it will also become a medium to ensure the development of the region.\n",
    "\n",
    "Friends, India of the 21st century is now working with a new thinking and a new approach. The previous governments were so busy in appeasement that they did not pay any attention to the contentment of the countrymen. They were busy with vote bank politics. But we are dedicated to the contentment of the countrymen. During the regime of previous governments, there was a lot of emphasis on one more thing. Those governments kept considering only one family of the country as the first family of the country. The poor and middle class families of the country were left to fend for themselves. There was no one to listen to the hopes and aspirations of these families. Our Indian Railways has been a living example of the same. Indian Railways is actually the transport of the ordinary Indian family. Parents, children, grandparents, maternal grandparents and everyone travel together in trains. So for decades, rail has been the biggest means of transportation for the people. Shouldn't this mode of transportation of the typical Indian family have been modernized with the time? Was it right to leave the railways in such a ramshackle condition?\n",
    "\n",
    "Friends, After independence, India had got a huge ready-made railway network. If the governments of that time wanted, they could have modernized the railways very quickly. But for the sake of political expediency, for the sake of populist promises, the development of railways itself was sacrificed. The situation was such that even after so many decades of independence, our North Eastern states were not connected by trains. In the year 2014, when you gave me the opportunity to serve, I decided that this would not happen anymore. Now the railways would be revived. In the last 9 years, it has been our constant endeavour to ensure that Indian Railways becomes the best rail network in the world. You are very well aware of the news stories related to the Indian Railways before the year 2014. Such a huge rail network had thousands of unmanned gates all over the place. There were frequent reports of accidents. Sometimes there were heart wrenching news stories about the death of school children. Today the broad gauge network is free from unmanned gates. Earlier, news related to train accidents and loss of life and property would be heard every other day. Today Indian Railways has become much safer. 'Made in India' Kavach train protection system is being expanded in Railways to strengthen passenger safety.\n",
    "\n",
    "Friends, This safety is not only from accidents. If a passenger has a complaint during the journey, prompt action is taken. In case of emergency, assistance is provided quickly. Our sisters and daughters have benefitted the most from such an arrangement. Earlier there used to be a lot of complaints regarding cleanliness. Even staying for a while at railway stations seemed like a punishment. Moreover, the trains used to run late for several hours. Today the cleanliness is better and the complaints about the delay of trains are also continuously decreasing. Earlier the situation was such that people had stopped complaining because there was no one to listen to these complaints. You might remember that earlier black marketing of tickets was a very common complaint. Sting operations related to this were shown in the media. But today by using technology, we have solved many such problems.\n",
    "\n",
    "Friends, Today, Indian Railways is also becoming a major medium to take the products of small craftsmen and artisans to every nook and corner of the country. Under the 'One Station, One Product' scheme, famous clothes, artworks, paintings, handicrafts, utensils etc. of the area in which the station is situated can be bought by passengers at the station itself. For this too, about 600 outlets have been set up in the country. I am glad that in a very short span of time more than one lakh passengers have made purchases from these outlets.\n",
    "\n",
    "Friends, Today, Indian Railways is becoming synonymous with convenience for the ordinary families of the country. Today many railway stations are being modernized in the country. Today, Wi-Fi facilities are being provided at 6000 stations in the country. The installation of CCTVs at more than 900 major railway stations of the country has been completed. Our Vande Bharat Express has become a super hit in the whole country, especially among our young generation. The seats in these trains are getting filled throughout the year. There is a demand from every corner of the country for these Vande Bharat trains. Earlier the letters from MPs demanded that a certain train should have a stoppage at a particular station; or currently it stops at two stations but the stoppage should be increased to three, so on and so forth. Today I am proud to say that the MPs today write letters demanding Vande Bharat in their area as soon as possible.\n",
    "\n",
    "Friends, This initiative to expand the facilities for railway passengers is going on continuously at a rapid pace. In this year's budget too, a record amount has been allocated to the Railways. There was a time when people talked of losses as soon as the development of railways was being talked about. But if there is willpower for development, the intention is clear and the loyalty is firm, then new paths also emerge. In the last 9 years, we have continuously increased the budget of the Railways. For Madhya Pradesh also this time a railway budget of more than Rs 13,000 crore has been allocated. Before 2014, the average railway budget for Madhya Pradesh was Rs 600 crore every year;  just Rs 600 crore! Compare 600, with 13,000 crores today!\n",
    "\n",
    "Friends, Today, the work of electrification is an example of the kind of modernization happening in the railways. Today, you are hearing every day that 100% electrification of the railway network has been achieved in one or the other part of the country. Madhya Pradesh is also included in the 11 states where 100 percent electrification has been achieved. Before 2014, every year on an average 600 kilometres of railway route was electrified. Now, on an average, 6000 kilometres are being electrified every year. This is the speed with which our government is working.\n",
    "\n",
    "Friends, I am glad that today Madhya Pradesh has left the old days behind. Now Madhya Pradesh is writing a new saga of perpetual  development. Be it agriculture or industry, today the strength of MP is expanding the strength of India. The performance of MP is commendable in most of the same parameters of development on which Madhya Pradesh was once called BIMARU. Today MP is among the leading states in building houses for the poor. Madhya Pradesh is also doing a good job in providing water to every household. Our farmers of Madhya Pradesh are creating new records in the production of various crops including wheat. Even in terms of industries, this state is now relentlessly moving towards new records. All these efforts are also creating possibilities of endless opportunities for the youth here.\n",
    "\n",
    "Friends, In the midst of these efforts being made for the development of the country, I would like to draw the attention of all the countrymen towards one more thing. There are some people in our country who have been determined since 2014 and have also spoken publicly and declared their resolution. So what have they done? They have declared their resolution to tarnish the image of Modi. For this, these people have given contracts to a number of different people and are also leading from the front. Some people are inside the country to support these people and some are outside the country doing that work. These people have been continuously trying to somehow tarnish the image of Modi. But today India's poor, India's middle class, India's tribals, India's Dalit-backward, and every Indian has become Modi's protective shield. And that's why these people are furious. These people are adopting new tricks. In 2014, they took a pledge to tarnish Modi's image. Now these people have taken a pledge – Modi, your grave will be dug. In the midst of their conspiracies, you, every countryman, have to pay attention to the development of the country and nation building. We have to further increase the role of Madhya Pradesh to achieve our aim of a developed India. This new Vande Bharat Express is a part of this resolution. Once again, my heartiest congratulations to all the people of Madhya Pradesh, and my brothers and sisters of Bhopal for this modern train. May we all have a pleasant journey! Thank you very much! Best wishes.\"\"\"]"
   ]
  },
  {
   "attachments": {},
   "cell_type": "markdown",
   "metadata": {},
   "source": [
    "# DATA CLEANING"
   ]
  },
  {
   "cell_type": "code",
   "execution_count": 6,
   "metadata": {},
   "outputs": [
    {
     "name": "stdout",
     "output_type": "stream",
     "text": [
      "Collecting spacy-cleaner"
     ]
    },
    {
     "name": "stderr",
     "output_type": "stream",
     "text": [
      "\n",
      "[notice] A new release of pip available: 22.3.1 -> 23.0.1\n",
      "[notice] To update, run: python.exe -m pip install --upgrade pip\n"
     ]
    },
    {
     "name": "stdout",
     "output_type": "stream",
     "text": [
      "\n",
      "  Using cached spacy_cleaner-3.1.0-py3-none-any.whl (14 kB)\n",
      "Requirement already satisfied: spacy<3.5.0,>=3.4.1 in c:\\users\\hp\\appdata\\local\\programs\\python\\python311\\lib\\site-packages (from spacy-cleaner) (3.4.4)\n",
      "Requirement already satisfied: spacy-lookups-data<1.1.0,>=1.0.3 in c:\\users\\hp\\appdata\\local\\programs\\python\\python311\\lib\\site-packages (from spacy-cleaner) (1.0.3)\n",
      "Requirement already satisfied: tqdm<4.65.0,>=4.64.0 in c:\\users\\hp\\appdata\\local\\programs\\python\\python311\\lib\\site-packages (from spacy-cleaner) (4.64.1)\n",
      "Requirement already satisfied: spacy-legacy<3.1.0,>=3.0.10 in c:\\users\\hp\\appdata\\local\\programs\\python\\python311\\lib\\site-packages (from spacy<3.5.0,>=3.4.1->spacy-cleaner) (3.0.12)\n",
      "Requirement already satisfied: spacy-loggers<2.0.0,>=1.0.0 in c:\\users\\hp\\appdata\\local\\programs\\python\\python311\\lib\\site-packages (from spacy<3.5.0,>=3.4.1->spacy-cleaner) (1.0.4)\n",
      "Requirement already satisfied: murmurhash<1.1.0,>=0.28.0 in c:\\users\\hp\\appdata\\local\\programs\\python\\python311\\lib\\site-packages (from spacy<3.5.0,>=3.4.1->spacy-cleaner) (1.0.9)\n",
      "Requirement already satisfied: cymem<2.1.0,>=2.0.2 in c:\\users\\hp\\appdata\\local\\programs\\python\\python311\\lib\\site-packages (from spacy<3.5.0,>=3.4.1->spacy-cleaner) (2.0.7)\n",
      "Requirement already satisfied: preshed<3.1.0,>=3.0.2 in c:\\users\\hp\\appdata\\local\\programs\\python\\python311\\lib\\site-packages (from spacy<3.5.0,>=3.4.1->spacy-cleaner) (3.0.8)\n",
      "Requirement already satisfied: thinc<8.2.0,>=8.1.0 in c:\\users\\hp\\appdata\\local\\programs\\python\\python311\\lib\\site-packages (from spacy<3.5.0,>=3.4.1->spacy-cleaner) (8.1.9)\n",
      "Requirement already satisfied: wasabi<1.1.0,>=0.9.1 in c:\\users\\hp\\appdata\\local\\programs\\python\\python311\\lib\\site-packages (from spacy<3.5.0,>=3.4.1->spacy-cleaner) (0.10.1)\n",
      "Requirement already satisfied: srsly<3.0.0,>=2.4.3 in c:\\users\\hp\\appdata\\local\\programs\\python\\python311\\lib\\site-packages (from spacy<3.5.0,>=3.4.1->spacy-cleaner) (2.4.6)\n",
      "Requirement already satisfied: catalogue<2.1.0,>=2.0.6 in c:\\users\\hp\\appdata\\local\\programs\\python\\python311\\lib\\site-packages (from spacy<3.5.0,>=3.4.1->spacy-cleaner) (2.0.8)\n",
      "Requirement already satisfied: typer<0.8.0,>=0.3.0 in c:\\users\\hp\\appdata\\local\\programs\\python\\python311\\lib\\site-packages (from spacy<3.5.0,>=3.4.1->spacy-cleaner) (0.7.0)\n",
      "Requirement already satisfied: pathy>=0.3.5 in c:\\users\\hp\\appdata\\local\\programs\\python\\python311\\lib\\site-packages (from spacy<3.5.0,>=3.4.1->spacy-cleaner) (0.10.1)\n",
      "Requirement already satisfied: smart-open<7.0.0,>=5.2.1 in c:\\users\\hp\\appdata\\local\\programs\\python\\python311\\lib\\site-packages (from spacy<3.5.0,>=3.4.1->spacy-cleaner) (6.3.0)\n",
      "Requirement already satisfied: numpy>=1.15.0 in c:\\users\\hp\\appdata\\local\\programs\\python\\python311\\lib\\site-packages (from spacy<3.5.0,>=3.4.1->spacy-cleaner) (1.24.2)\n",
      "Requirement already satisfied: requests<3.0.0,>=2.13.0 in c:\\users\\hp\\appdata\\local\\programs\\python\\python311\\lib\\site-packages (from spacy<3.5.0,>=3.4.1->spacy-cleaner) (2.28.2)\n",
      "Requirement already satisfied: pydantic!=1.8,!=1.8.1,<1.11.0,>=1.7.4 in c:\\users\\hp\\appdata\\local\\programs\\python\\python311\\lib\\site-packages (from spacy<3.5.0,>=3.4.1->spacy-cleaner) (1.10.7)\n",
      "Requirement already satisfied: jinja2 in c:\\users\\hp\\appdata\\local\\programs\\python\\python311\\lib\\site-packages (from spacy<3.5.0,>=3.4.1->spacy-cleaner) (3.1.2)\n",
      "Requirement already satisfied: setuptools in c:\\users\\hp\\appdata\\local\\programs\\python\\python311\\lib\\site-packages (from spacy<3.5.0,>=3.4.1->spacy-cleaner) (65.5.0)\n",
      "Requirement already satisfied: packaging>=20.0 in c:\\users\\hp\\appdata\\roaming\\python\\python311\\site-packages (from spacy<3.5.0,>=3.4.1->spacy-cleaner) (23.0)\n",
      "Requirement already satisfied: langcodes<4.0.0,>=3.2.0 in c:\\users\\hp\\appdata\\local\\programs\\python\\python311\\lib\\site-packages (from spacy<3.5.0,>=3.4.1->spacy-cleaner) (3.3.0)\n",
      "Requirement already satisfied: colorama in c:\\users\\hp\\appdata\\roaming\\python\\python311\\site-packages (from tqdm<4.65.0,>=4.64.0->spacy-cleaner) (0.4.6)\n",
      "Requirement already satisfied: typing-extensions>=4.2.0 in c:\\users\\hp\\appdata\\local\\programs\\python\\python311\\lib\\site-packages (from pydantic!=1.8,!=1.8.1,<1.11.0,>=1.7.4->spacy<3.5.0,>=3.4.1->spacy-cleaner) (4.5.0)\n",
      "Requirement already satisfied: charset-normalizer<4,>=2 in c:\\users\\hp\\appdata\\local\\programs\\python\\python311\\lib\\site-packages (from requests<3.0.0,>=2.13.0->spacy<3.5.0,>=3.4.1->spacy-cleaner) (3.1.0)\n",
      "Requirement already satisfied: idna<4,>=2.5 in c:\\users\\hp\\appdata\\local\\programs\\python\\python311\\lib\\site-packages (from requests<3.0.0,>=2.13.0->spacy<3.5.0,>=3.4.1->spacy-cleaner) (3.4)\n",
      "Requirement already satisfied: urllib3<1.27,>=1.21.1 in c:\\users\\hp\\appdata\\local\\programs\\python\\python311\\lib\\site-packages (from requests<3.0.0,>=2.13.0->spacy<3.5.0,>=3.4.1->spacy-cleaner) (1.26.15)\n",
      "Requirement already satisfied: certifi>=2017.4.17 in c:\\users\\hp\\appdata\\local\\programs\\python\\python311\\lib\\site-packages (from requests<3.0.0,>=2.13.0->spacy<3.5.0,>=3.4.1->spacy-cleaner) (2022.12.7)\n",
      "Requirement already satisfied: blis<0.8.0,>=0.7.8 in c:\\users\\hp\\appdata\\local\\programs\\python\\python311\\lib\\site-packages (from thinc<8.2.0,>=8.1.0->spacy<3.5.0,>=3.4.1->spacy-cleaner) (0.7.9)\n",
      "Requirement already satisfied: confection<1.0.0,>=0.0.1 in c:\\users\\hp\\appdata\\local\\programs\\python\\python311\\lib\\site-packages (from thinc<8.2.0,>=8.1.0->spacy<3.5.0,>=3.4.1->spacy-cleaner) (0.0.4)\n",
      "Requirement already satisfied: click<9.0.0,>=7.1.1 in c:\\users\\hp\\appdata\\local\\programs\\python\\python311\\lib\\site-packages (from typer<0.8.0,>=0.3.0->spacy<3.5.0,>=3.4.1->spacy-cleaner) (8.1.3)\n",
      "Requirement already satisfied: MarkupSafe>=2.0 in c:\\users\\hp\\appdata\\local\\programs\\python\\python311\\lib\\site-packages (from jinja2->spacy<3.5.0,>=3.4.1->spacy-cleaner) (2.1.2)\n",
      "Installing collected packages: spacy-cleaner\n",
      "Successfully installed spacy-cleaner-3.1.0\n"
     ]
    }
   ],
   "source": [
    "! pip install spacy-cleaner"
   ]
  },
  {
   "cell_type": "code",
   "execution_count": null,
   "metadata": {},
   "outputs": [],
   "source": []
  },
  {
   "attachments": {},
   "cell_type": "markdown",
   "metadata": {},
   "source": [
    "## Method - 1 (pipeline)"
   ]
  },
  {
   "cell_type": "code",
   "execution_count": 7,
   "metadata": {},
   "outputs": [],
   "source": [
    "import spacy\n",
    "import spacy_cleaner\n",
    "from spacy_cleaner.processing import removers, replacers, mutators\n",
    "\n",
    "model = spacy.load(\"en_core_web_sm\")"
   ]
  },
  {
   "cell_type": "code",
   "execution_count": 60,
   "metadata": {},
   "outputs": [
    {
     "name": "stderr",
     "output_type": "stream",
     "text": [
      "Cleaning Progress: 100%|██████████| 1/1 [00:01<00:00,  1.10s/it]\n"
     ]
    },
    {
     "data": {
      "text/plain": [
       "'Bharat Mata Ki Jai  Bharat Mata Ki Jai  Governor Madhya Pradesh Shri Mangubhai Patel  Chief Minister Shivraj ji  Railway Minister Ashwini ji  dignitary  dear brother sister Bhopal come large number   express grief tragedy Indore temple Ramnavami  pay tribute leave untimely accident express condolence family  wish speedy recovery injure devotee undergo treatment hospital  friend  today MP get Vande Bharat Express train  Vande Bharat Express journey Bhopal Delhi fast  train bring new facility professional  youth businessman  friend  privilege inaugurate modern grand Rani Kamalapati station event hold  today  give opportunity flag India modern Vande Bharat train Delhi  history Railways  rare Prime Minister come station short interval  modern India  new culture new system develop  today event perfect example  friend  short  spend moment interact school child travel passenger  curiosity enthusiasm train worth see   way  Vande Bharat train symbol enthusiasm wave development take place India  today event finalise  tell event 1st  ask  keep 1st April  news come newspaper modi ji go flag Vande Bharat train 1st April  friend Congress definitely statement Modi go befool people April Fool Day   train flag 1st April  friend  symbol skill  capability confidence  train Bhopal go help boost tourism  consequently  number tourist tourist place like Sanchi Stupa  Bhimbetka  Bhojpur Udayagiri cave go increase  know tourism expand  employment opportunity start rise people income increase  mean  Vande Bharat medium increase income people  medium ensure development region  friend  India 21st century work new thinking new approach  previous government busy appeasement pay attention contentment countryman  busy vote bank politic  dedicated contentment countryman  regime previous government  lot emphasis thing  government keep consider family country family country  poor middle class family country leave fend  listen hope aspiration family  Indian Railways live example  Indian Railways actually transport ordinary indian family  parent  child  grandparent  maternal grandparent travel train  decade  rail big mean transportation people  mode transportation typical indian family modernize time  right leave railway ramshackle condition  friend  independence  India get huge ready  railway network  government time want  modernize railway quickly  sake political expediency  sake populist promise  development railway sacrifice  situation decade independence  north eastern state connect train  year 2014  give opportunity serve  decide happen anymore  railway revive  9 year  constant endeavour ensure Indian Railways good rail network world  aware news story relate Indian Railways year 2014  huge rail network thousand unmanned gate place  frequent report accident  heart wrench news story death school child  today broad gauge network free unmanned gate  early  news relate train accident loss life property hear day  today Indian Railways safe   India  Kavach train protection system expand railway strengthen passenger safety  friend  safety accident  passenger complaint journey  prompt action take  case emergency  assistance provide quickly  sister daughter benefit arrangement  early lot complaint cleanliness  stay railway station like punishment   train run late hour  today cleanliness well complaint delay train continuously decrease  early situation people stop complain listen complaint  remember early black marketing ticket common complaint  ste operation relate show medium  today technology  solve problem  friend  Today  Indian Railways major medium product small craftsman artisan nook corner country   Station  product  scheme  famous clothe  artwork  painting  handicraft  utensil etc  area station situate buy passenger station   600 outlet set country  glad short span time lakh passenger purchase outlet  friend  Today  Indian Railways synonymous convenience ordinary family country  today railway station modernize country  today  Wi  fi facility provide 6000 station country  installation cctv 900 major railway station country complete  Vande Bharat Express super hit country  especially young generation  seat train getting fill year  demand corner country Vande Bharat train  early letter mps demand certain train stoppage particular station  currently stop station stoppage increase  forth  today proud mps today write letter demand Vande Bharat area soon possible  friend  initiative expand facility railway passenger go continuously rapid pace  year budget  record allocate Railways  time people talk loss soon development railway talk  willpower development  intention clear loyalty firm  new path emerge  9 year  continuously increase budget Railways  Madhya Pradesh time railway budget r 13,000 crore allocate  2014  average railway budget Madhya Pradesh rs 600 crore year  rs 600 crore  compare 600  13,000 crore today  friend  Today  work electrification example kind modernization happen railway  today  hear day 100  electrification railway network achieve country  Madhya Pradesh include 11 state 100 percent electrification achieve  2014  year average 600 kilometre railway route electrify   average  6000 kilometre electrify year  speed government work  friend  glad today Madhya Pradesh leave old day  Madhya Pradesh write new saga perpetual development  agriculture industry  today strength MP expand strength India  performance MP commendable parameter development Madhya Pradesh call BIMARU  today MP lead state build house poor  Madhya Pradesh good job provide water household  farmer Madhya Pradesh create new record production crop include wheat  term industry  state relentlessly move new record  effort create possibility endless opportunity youth  friend  midst effort development country  like draw attention countryman thing  people country determine 2014 speak publicly declare resolution   declare resolution tarnish image Modi   people give contract number different people lead  people inside country support people outside country work  people continuously try tarnish image Modi  today India poor  India middle class  India tribal  India Dalit  backward  Indian Modi protective shield  people furious  people adopt new trick  2014  take pledge tarnish Modi image  people take pledge  Modi  grave dig  midst conspiracy   countryman  pay attention development country nation building  increase role Madhya Pradesh achieve aim develop India  new Vande Bharat Express resolution   heartiest congratulation people Madhya Pradesh  brother sister Bhopal modern train  pleasant journey  thank  good wish '"
      ]
     },
     "execution_count": 60,
     "metadata": {},
     "output_type": "execute_result"
    }
   ],
   "source": [
    "pipeline = spacy_cleaner.Pipeline(\n",
    "    model,\n",
    "    removers.remove_stopword_token,\n",
    "    replacers.replace_punctuation_token,\n",
    "    mutators.mutate_lemma_token,\n",
    ")\n",
    "\n",
    "cleaned_speech = pipeline.clean(speech)\n",
    "cleaned_speech = cleaned_speech[0].replace(\"_IS_PUNCT_\", \"\")\n",
    "cleaned_speech"
   ]
  },
  {
   "attachments": {},
   "cell_type": "markdown",
   "metadata": {},
   "source": [
    "## Method - 2 (sense2vec)"
   ]
  },
  {
   "cell_type": "code",
   "execution_count": 38,
   "metadata": {},
   "outputs": [
    {
     "ename": "ValueError",
     "evalue": "[E002] Can't find factory for 'sense2vec' for language English (en). This usually happens when spaCy calls `nlp.create_pipe` with a custom component name that's not registered on the current language class. If you're using a Transformer, make sure to install 'spacy-transformers'. If you're using a custom component, make sure you've added the decorator `@Language.component` (for function components) or `@Language.factory` (for class components).\n\nAvailable factories: attribute_ruler, tok2vec, merge_noun_chunks, merge_entities, merge_subtokens, token_splitter, doc_cleaner, parser, beam_parser, lemmatizer, trainable_lemmatizer, entity_linker, ner, beam_ner, entity_ruler, tagger, morphologizer, senter, sentencizer, textcat, spancat, spancat_singlelabel, future_entity_ruler, span_ruler, textcat_multilabel, en.lemmatizer",
     "output_type": "error",
     "traceback": [
      "\u001b[1;31m---------------------------------------------------------------------------\u001b[0m",
      "\u001b[1;31mValueError\u001b[0m                                Traceback (most recent call last)",
      "Cell \u001b[1;32mIn[38], line 1\u001b[0m\n\u001b[1;32m----> 1\u001b[0m s2v \u001b[39m=\u001b[39m model\u001b[39m.\u001b[39;49madd_pipe(\u001b[39m\"\u001b[39;49m\u001b[39msense2vec\u001b[39;49m\u001b[39m\"\u001b[39;49m)\n\u001b[0;32m      2\u001b[0m s2v\u001b[39m.\u001b[39mfrom_disk(\u001b[39m\"\u001b[39m\u001b[39m/path/to/s2v_reddit_2015_md\u001b[39m\u001b[39m\"\u001b[39m)\n\u001b[0;32m      4\u001b[0m doc \u001b[39m=\u001b[39m model(cleaned_speech)\n",
      "File \u001b[1;32mc:\\Users\\hp\\AppData\\Local\\Programs\\Python\\Python311\\Lib\\site-packages\\spacy\\language.py:786\u001b[0m, in \u001b[0;36madd_pipe\u001b[1;34m(self, factory_name, name, before, after, first, last, source, config, raw_config, validate)\u001b[0m\n\u001b[0;32m    784\u001b[0m \u001b[39mif\u001b[39;00m \u001b[39m\"\u001b[39m\u001b[39mname\u001b[39m\u001b[39m\"\u001b[39m \u001b[39min\u001b[39;00m config:\n\u001b[0;32m    785\u001b[0m     warnings\u001b[39m.\u001b[39mwarn(Warnings\u001b[39m.\u001b[39mW119\u001b[39m.\u001b[39mformat(name_in_config\u001b[39m=\u001b[39mconfig\u001b[39m.\u001b[39mpop(\u001b[39m\"\u001b[39m\u001b[39mname\u001b[39m\u001b[39m\"\u001b[39m)))\n\u001b[1;32m--> 786\u001b[0m \u001b[39mif\u001b[39;00m source \u001b[39mis\u001b[39;00m \u001b[39mnot\u001b[39;00m \u001b[39mNone\u001b[39;00m:\n\u001b[0;32m    787\u001b[0m     \u001b[39m# We're loading the component from a model. After loading the\u001b[39;00m\n\u001b[0;32m    788\u001b[0m     \u001b[39m# component, we know its real factory name\u001b[39;00m\n\u001b[0;32m    789\u001b[0m     pipe_component, factory_name \u001b[39m=\u001b[39m \u001b[39mself\u001b[39m\u001b[39m.\u001b[39mcreate_pipe_from_source(\n\u001b[0;32m    790\u001b[0m         factory_name, source, name\u001b[39m=\u001b[39mname\n\u001b[0;32m    791\u001b[0m     )\n\u001b[0;32m    792\u001b[0m \u001b[39melse\u001b[39;00m:\n",
      "File \u001b[1;32mc:\\Users\\hp\\AppData\\Local\\Programs\\Python\\Python311\\Lib\\site-packages\\spacy\\language.py:660\u001b[0m, in \u001b[0;36mcreate_pipe\u001b[1;34m(self, factory_name, name, config, raw_config, validate)\u001b[0m\n\u001b[0;32m    652\u001b[0m     \u001b[39mraise\u001b[39;00m \u001b[39mValueError\u001b[39;00m(Errors\u001b[39m.\u001b[39mE961\u001b[39m.\u001b[39mformat(config\u001b[39m=\u001b[39mconfig))\n\u001b[0;32m    653\u001b[0m \u001b[39mif\u001b[39;00m \u001b[39mnot\u001b[39;00m \u001b[39mself\u001b[39m\u001b[39m.\u001b[39mhas_factory(factory_name):\n\u001b[0;32m    654\u001b[0m     err \u001b[39m=\u001b[39m Errors\u001b[39m.\u001b[39mE002\u001b[39m.\u001b[39mformat(\n\u001b[0;32m    655\u001b[0m         name\u001b[39m=\u001b[39mfactory_name,\n\u001b[0;32m    656\u001b[0m         opts\u001b[39m=\u001b[39m\u001b[39m\"\u001b[39m\u001b[39m, \u001b[39m\u001b[39m\"\u001b[39m\u001b[39m.\u001b[39mjoin(\u001b[39mself\u001b[39m\u001b[39m.\u001b[39mfactory_names),\n\u001b[0;32m    657\u001b[0m         method\u001b[39m=\u001b[39m\u001b[39m\"\u001b[39m\u001b[39mcreate_pipe\u001b[39m\u001b[39m\"\u001b[39m,\n\u001b[0;32m    658\u001b[0m         lang\u001b[39m=\u001b[39mutil\u001b[39m.\u001b[39mget_object_name(\u001b[39mself\u001b[39m),\n\u001b[0;32m    659\u001b[0m         lang_code\u001b[39m=\u001b[39m\u001b[39mself\u001b[39m\u001b[39m.\u001b[39mlang,\n\u001b[1;32m--> 660\u001b[0m     )\n\u001b[0;32m    661\u001b[0m     \u001b[39mraise\u001b[39;00m \u001b[39mValueError\u001b[39;00m(err)\n\u001b[0;32m    662\u001b[0m pipe_meta \u001b[39m=\u001b[39m \u001b[39mself\u001b[39m\u001b[39m.\u001b[39mget_factory_meta(factory_name)\n",
      "\u001b[1;31mValueError\u001b[0m: [E002] Can't find factory for 'sense2vec' for language English (en). This usually happens when spaCy calls `nlp.create_pipe` with a custom component name that's not registered on the current language class. If you're using a Transformer, make sure to install 'spacy-transformers'. If you're using a custom component, make sure you've added the decorator `@Language.component` (for function components) or `@Language.factory` (for class components).\n\nAvailable factories: attribute_ruler, tok2vec, merge_noun_chunks, merge_entities, merge_subtokens, token_splitter, doc_cleaner, parser, beam_parser, lemmatizer, trainable_lemmatizer, entity_linker, ner, beam_ner, entity_ruler, tagger, morphologizer, senter, sentencizer, textcat, spancat, spancat_singlelabel, future_entity_ruler, span_ruler, textcat_multilabel, en.lemmatizer"
     ]
    }
   ],
   "source": [
    "\n",
    "s2v = model.add_pipe(\"sense2vec\")\n",
    "s2v.from_disk(\"/path/to/s2v_reddit_2015_md\")\n",
    "\n",
    "doc = model(cleaned_speech)\n",
    "#assert doc[3:6].text == \"natural language processing\"\n",
    "freq = doc[3:6]._.s2v_freq\n",
    "vector = doc[3:6]._.s2v_vec\n",
    "most_similar = doc[3:6]._.s2v_most_similar(3)\n",
    "# [(('machine learning', 'NOUN'), 0.8986967),\n",
    "#  (('computer vision', 'NOUN'), 0.8636297),\n",
    "#  (('deep learning', 'NOUN'), 0.8573361)]"
   ]
  },
  {
   "attachments": {},
   "cell_type": "markdown",
   "metadata": {},
   "source": [
    "## Method 3 -(nltk)"
   ]
  },
  {
   "cell_type": "code",
   "execution_count": 48,
   "metadata": {},
   "outputs": [],
   "source": [
    "from nltk.stem import WordNetLemmatizer\n",
    "\n",
    "# Initiate an object \n",
    "lemmatizer = WordNetLemmatizer()\n",
    "\n",
    "from nltk.corpus import stopwords"
   ]
  },
  {
   "cell_type": "code",
   "execution_count": 49,
   "metadata": {},
   "outputs": [],
   "source": [
    "import re \n",
    "\n",
    "corpus = []\n",
    "\n",
    "for i in range(len(speech)):\n",
    "    review = re.sub(\"[^a-zA-Z]\", \" \", speech[i])\n",
    "    review = review.lower()\n",
    "    review = review.split()\n",
    "    review = [lemmatizer.lemmatize(word) for word in review if word not in set(stopwords.words(\"english\"))]\n",
    "    review = ' '.join(review)\n",
    "    corpus.append(review)"
   ]
  },
  {
   "cell_type": "code",
   "execution_count": 50,
   "metadata": {},
   "outputs": [
    {
     "data": {
      "text/plain": [
       "['bharat mata ki jai bharat mata ki jai governor madhya pradesh shri mangubhai patel chief minister shivraj ji railway minister ashwini ji dignitary dear brother sister bhopal come large number first express grief tragedy indore temple ramnavami pay tribute left u untimely due accident express condolence family also wish speedy recovery injured devotee undergoing treatment hospital friend today mp got first vande bharat express train vande bharat express make journey bhopal delhi faster train bring new facility professional youth businessmen friend privilege inaugurating modern grand rani kamalapati station event held today given opportunity flag india modern vande bharat train delhi history railway rare prime minister would come station short interval modern india new culture new system developed today event also perfect example friend short back spent moment interacted school child travelling passenger curiosity enthusiasm train worth seeing way vande bharat train symbol enthusiasm wave development taking place india today event finalised told event would st asked keeping st april news come newspaper modi ji going flag vande bharat train st april friend congress definitely give statement modi going befool people april fool day see train really flagged st april friend also symbol skill capability confidence train bhopal going help boost tourism consequently number tourist tourist place like sanchi stupa bhimbetka bhojpur udayagiri cave going increase know well tourism expands many employment opportunity start rising people income also increase mean vande bharat also become medium increase income people also become medium ensure development region friend india st century working new thinking new approach previous government busy appeasement pay attention contentment countryman busy vote bank politics dedicated contentment countryman regime previous government lot emphasis one thing government kept considering one family country first family country poor middle class family country left fend one listen hope aspiration family indian railway living example indian railway actually transport ordinary indian family parent child grandparent maternal grandparent everyone travel together train decade rail biggest mean transportation people mode transportation typical indian family modernized time right leave railway ramshackle condition friend independence india got huge ready made railway network government time wanted could modernized railway quickly sake political expediency sake populist promise development railway sacrificed situation even many decade independence north eastern state connected train year gave opportunity serve decided would happen anymore railway would revived last year constant endeavour ensure indian railway becomes best rail network world well aware news story related indian railway year huge rail network thousand unmanned gate place frequent report accident sometimes heart wrenching news story death school child today broad gauge network free unmanned gate earlier news related train accident loss life property would heard every day today indian railway become much safer made india kavach train protection system expanded railway strengthen passenger safety friend safety accident passenger complaint journey prompt action taken case emergency assistance provided quickly sister daughter benefitted arrangement earlier used lot complaint regarding cleanliness even staying railway station seemed like punishment moreover train used run late several hour today cleanliness better complaint delay train also continuously decreasing earlier situation people stopped complaining one listen complaint might remember earlier black marketing ticket common complaint sting operation related shown medium today using technology solved many problem friend today indian railway also becoming major medium take product small craftsman artisan every nook corner country one station one product scheme famous clothes artwork painting handicraft utensil etc area station situated bought passenger station outlet set country glad short span time one lakh passenger made purchase outlet friend today indian railway becoming synonymous convenience ordinary family country today many railway station modernized country today wi fi facility provided station country installation cctvs major railway station country completed vande bharat express become super hit whole country especially among young generation seat train getting filled throughout year demand every corner country vande bharat train earlier letter mp demanded certain train stoppage particular station currently stop two station stoppage increased three forth today proud say mp today write letter demanding vande bharat area soon possible friend initiative expand facility railway passenger going continuously rapid pace year budget record amount allocated railway time people talked loss soon development railway talked willpower development intention clear loyalty firm new path also emerge last year continuously increased budget railway madhya pradesh also time railway budget r crore allocated average railway budget madhya pradesh r crore every year r crore compare crore today friend today work electrification example kind modernization happening railway today hearing every day electrification railway network achieved one part country madhya pradesh also included state percent electrification achieved every year average kilometre railway route electrified average kilometre electrified every year speed government working friend glad today madhya pradesh left old day behind madhya pradesh writing new saga perpetual development agriculture industry today strength mp expanding strength india performance mp commendable parameter development madhya pradesh called bimaru today mp among leading state building house poor madhya pradesh also good job providing water every household farmer madhya pradesh creating new record production various crop including wheat even term industry state relentlessly moving towards new record effort also creating possibility endless opportunity youth friend midst effort made development country would like draw attention countryman towards one thing people country determined since also spoken publicly declared resolution done declared resolution tarnish image modi people given contract number different people also leading front people inside country support people outside country work people continuously trying somehow tarnish image modi today india poor india middle class india tribals india dalit backward every indian become modi protective shield people furious people adopting new trick took pledge tarnish modi image people taken pledge modi grave dug midst conspiracy every countryman pay attention development country nation building increase role madhya pradesh achieve aim developed india new vande bharat express part resolution heartiest congratulation people madhya pradesh brother sister bhopal modern train may pleasant journey thank much best wish']"
      ]
     },
     "execution_count": 50,
     "metadata": {},
     "output_type": "execute_result"
    }
   ],
   "source": [
    "corpus "
   ]
  },
  {
   "attachments": {},
   "cell_type": "markdown",
   "metadata": {},
   "source": [
    "# VECTORIZATION"
   ]
  },
  {
   "attachments": {},
   "cell_type": "markdown",
   "metadata": {},
   "source": [
    "### Method 1 (Count Vectorization)"
   ]
  },
  {
   "cell_type": "code",
   "execution_count": 63,
   "metadata": {},
   "outputs": [
    {
     "data": {
      "text/plain": [
       "['Bharat Mata Ki Jai  Bharat Mata Ki Jai  Governor Madhya Pradesh Shri Mangubhai Patel  Chief Minister Shivraj ji  Railway Minister Ashwini ji  dignitary  dear brother sister Bhopal come large number   express grief tragedy Indore temple Ramnavami  pay tribute leave untimely accident express condolence family  wish speedy recovery injure devotee undergo treatment hospital  friend  today MP get Vande Bharat Express train  Vande Bharat Express journey Bhopal Delhi fast  train bring new facility professional  youth businessman  friend  privilege inaugurate modern grand Rani Kamalapati station event hold  today  give opportunity flag India modern Vande Bharat train Delhi  history Railways  rare Prime Minister come station short interval  modern India  new culture new system develop  today event perfect example  friend  short  spend moment interact school child travel passenger  curiosity enthusiasm train worth see   way  Vande Bharat train symbol enthusiasm wave development take place India  today event finalise  tell event 1st  ask  keep 1st April  news come newspaper modi ji go flag Vande Bharat train 1st April  friend Congress definitely statement Modi go befool people April Fool Day   train flag 1st April  friend  symbol skill  capability confidence  train Bhopal go help boost tourism  consequently  number tourist tourist place like Sanchi Stupa  Bhimbetka  Bhojpur Udayagiri cave go increase  know tourism expand  employment opportunity start rise people income increase  mean  Vande Bharat medium increase income people  medium ensure development region  friend  India 21st century work new thinking new approach  previous government busy appeasement pay attention contentment countryman  busy vote bank politic  dedicated contentment countryman  regime previous government  lot emphasis thing  government keep consider family country family country  poor middle class family country leave fend  listen hope aspiration family  Indian Railways live example  Indian Railways actually transport ordinary indian family  parent  child  grandparent  maternal grandparent travel train  decade  rail big mean transportation people  mode transportation typical indian family modernize time  right leave railway ramshackle condition  friend  independence  India get huge ready  railway network  government time want  modernize railway quickly  sake political expediency  sake populist promise  development railway sacrifice  situation decade independence  north eastern state connect train  year 2014  give opportunity serve  decide happen anymore  railway revive  9 year  constant endeavour ensure Indian Railways good rail network world  aware news story relate Indian Railways year 2014  huge rail network thousand unmanned gate place  frequent report accident  heart wrench news story death school child  today broad gauge network free unmanned gate  early  news relate train accident loss life property hear day  today Indian Railways safe   India  Kavach train protection system expand railway strengthen passenger safety  friend  safety accident  passenger complaint journey  prompt action take  case emergency  assistance provide quickly  sister daughter benefit arrangement  early lot complaint cleanliness  stay railway station like punishment   train run late hour  today cleanliness well complaint delay train continuously decrease  early situation people stop complain listen complaint  remember early black marketing ticket common complaint  ste operation relate show medium  today technology  solve problem  friend  Today  Indian Railways major medium product small craftsman artisan nook corner country   Station  product  scheme  famous clothe  artwork  painting  handicraft  utensil etc  area station situate buy passenger station   600 outlet set country  glad short span time lakh passenger purchase outlet  friend  Today  Indian Railways synonymous convenience ordinary family country  today railway station modernize country  today  Wi  fi facility provide 6000 station country  installation cctv 900 major railway station country complete  Vande Bharat Express super hit country  especially young generation  seat train getting fill year  demand corner country Vande Bharat train  early letter mps demand certain train stoppage particular station  currently stop station stoppage increase  forth  today proud mps today write letter demand Vande Bharat area soon possible  friend  initiative expand facility railway passenger go continuously rapid pace  year budget  record allocate Railways  time people talk loss soon development railway talk  willpower development  intention clear loyalty firm  new path emerge  9 year  continuously increase budget Railways  Madhya Pradesh time railway budget r 13,000 crore allocate  2014  average railway budget Madhya Pradesh rs 600 crore year  rs 600 crore  compare 600  13,000 crore today  friend  Today  work electrification example kind modernization happen railway  today  hear day 100  electrification railway network achieve country  Madhya Pradesh include 11 state 100 percent electrification achieve  2014  year average 600 kilometre railway route electrify   average  6000 kilometre electrify year  speed government work  friend  glad today Madhya Pradesh leave old day  Madhya Pradesh write new saga perpetual development  agriculture industry  today strength MP expand strength India  performance MP commendable parameter development Madhya Pradesh call BIMARU  today MP lead state build house poor  Madhya Pradesh good job provide water household  farmer Madhya Pradesh create new record production crop include wheat  term industry  state relentlessly move new record  effort create possibility endless opportunity youth  friend  midst effort development country  like draw attention countryman thing  people country determine 2014 speak publicly declare resolution   declare resolution tarnish image Modi   people give contract number different people lead  people inside country support people outside country work  people continuously try tarnish image Modi  today India poor  India middle class  India tribal  India Dalit  backward  Indian Modi protective shield  people furious  people adopt new trick  2014  take pledge tarnish Modi image  people take pledge  Modi  grave dig  midst conspiracy   countryman  pay attention development country nation building  increase role Madhya Pradesh achieve aim develop India  new Vande Bharat Express resolution   heartiest congratulation people Madhya Pradesh  brother sister Bhopal modern train  pleasant journey  thank  good wish ']"
      ]
     },
     "execution_count": 63,
     "metadata": {},
     "output_type": "execute_result"
    }
   ],
   "source": [
    "clean_speech = []\n",
    "clean_speech.append(cleaned_speech)\n",
    "clean_speech"
   ]
  },
  {
   "cell_type": "code",
   "execution_count": 65,
   "metadata": {},
   "outputs": [],
   "source": [
    "from sklearn.feature_extraction.text import CountVectorizer\n",
    "cv = CountVectorizer()\n",
    "X = cv.fit_transform(clean_speech).toarray()"
   ]
  },
  {
   "cell_type": "code",
   "execution_count": 66,
   "metadata": {},
   "outputs": [
    {
     "data": {
      "text/plain": [
       "array([[ 2,  2,  1,  2,  4,  6,  1,  5,  2,  1,  4,  3,  1,  1,  1,  1,\n",
       "         1,  2,  1,  1,  1,  4,  2,  1,  1,  1,  1,  1,  1,  1,  3,  3,\n",
       "         1,  1,  1,  1,  1, 12,  1,  1,  4,  1,  1,  1,  1,  1,  1,  2,\n",
       "         4,  1,  1,  1,  2,  1,  1,  1,  1,  1,  1,  1,  1,  1,  3,  2,\n",
       "         2,  1,  1,  3,  1,  1,  1,  1,  5,  1,  1,  1,  1,  1,  1,  1,\n",
       "         1,  1,  1,  1,  2,  4,  1,  1,  2, 17,  4,  1,  2,  1,  4,  1,\n",
       "         1,  1,  1,  1,  4,  1,  1,  2,  1,  2,  1,  1,  1,  1,  2,  3,\n",
       "         1,  2,  9,  1,  1,  1,  1,  1,  5,  1,  2,  3,  2,  1,  1,  1,\n",
       "         1,  1,  1,  2,  2,  1,  1,  4,  3,  4,  1,  6,  3,  8,  1,  1,\n",
       "         1,  1,  1,  1,  1,  1,  3,  1,  1,  1,  1, 14,  1,  2,  1,  1,\n",
       "         2,  1,  3,  2,  5,  3,  5,  1,  1,  2,  1,  1,  1,  2,  2,  1,\n",
       "         1,  1,  1,  1,  1,  1,  1,  1,  1,  1,  2,  3,  1,  2,  2,  6,\n",
       "         2, 12, 10,  1,  2,  1,  1,  1,  1,  1,  1,  1,  2,  3,  1,  3,\n",
       "         1,  1,  2,  2,  2,  1,  1,  1,  1,  1,  2,  4,  2,  1,  3,  2,\n",
       "         1,  2,  2,  1, 11,  2,  1,  1,  2,  1,  2,  4,  2,  2,  3,  1,\n",
       "         4,  1,  3,  7,  1,  1,  4,  2,  1,  5, 11,  4,  1,  1,  1,  3,\n",
       "         1,  1,  4,  2,  2,  1,  1,  1,  1,  1,  1,  6,  1,  1,  3, 16,\n",
       "         1,  1,  1,  1,  3,  1,  2,  1,  1,  3,  1,  1,  1, 11,  2,  1,\n",
       "         1,  1,  2,  1,  1,  1,  1,  1,  1,  1,  1,  3,  1,  1,  1,  2,\n",
       "         3, 17, 10,  1,  1,  1,  1,  1,  1,  3,  1,  1,  1,  3,  1,  1,\n",
       "         1,  3,  1,  1,  1,  1,  1,  2,  1,  1,  1,  2,  1,  2,  1,  1,\n",
       "         2,  1,  1,  1,  1,  1,  1,  3,  1,  1,  3,  1,  2,  1,  1,  1,\n",
       "         2,  1,  1,  1,  1,  1,  1,  4,  1, 11,  1,  1,  2,  2,  2,  2,\n",
       "         1,  1,  1,  1,  2,  1,  2,  4,  2,  3,  1,  1,  1,  1,  1,  2,\n",
       "         1,  1,  1,  5, 21,  2,  2,  1, 18,  1,  2,  2,  1,  1,  1,  1,\n",
       "         1,  1,  1,  1,  2,  1,  1, 10,  1,  1,  1,  1,  1,  1,  1,  1,\n",
       "         1,  2,  4,  1,  1,  1,  2,  9,  1,  2]], dtype=int64)"
      ]
     },
     "execution_count": 66,
     "metadata": {},
     "output_type": "execute_result"
    }
   ],
   "source": [
    "X"
   ]
  },
  {
   "attachments": {},
   "cell_type": "markdown",
   "metadata": {},
   "source": [
    "### Method 2 (TF-IDF)"
   ]
  },
  {
   "cell_type": "code",
   "execution_count": 67,
   "metadata": {},
   "outputs": [],
   "source": [
    "from sklearn.feature_extraction.text import TfidfVectorizer\n",
    "cv = TfidfVectorizer()\n",
    "X = cv.fit_transform(clean_speech).toarray()"
   ]
  },
  {
   "cell_type": "code",
   "execution_count": 71,
   "metadata": {},
   "outputs": [],
   "source": [
    "import pandas as pd \n",
    "\n",
    "X = cv.fit_transform(clean_speech)\n",
    "df = pd.DataFrame(X[0].T.todense(),\n",
    "    \tindex=cv.get_feature_names_out(), columns=[\"TF-IDF\"])\n",
    "df = df.sort_values('TF-IDF', ascending=False)"
   ]
  },
  {
   "cell_type": "code",
   "execution_count": 74,
   "metadata": {},
   "outputs": [
    {
     "data": {
      "text/html": [
       "<div>\n",
       "<style scoped>\n",
       "    .dataframe tbody tr th:only-of-type {\n",
       "        vertical-align: middle;\n",
       "    }\n",
       "\n",
       "    .dataframe tbody tr th {\n",
       "        vertical-align: top;\n",
       "    }\n",
       "\n",
       "    .dataframe thead th {\n",
       "        text-align: right;\n",
       "    }\n",
       "</style>\n",
       "<table border=\"1\" class=\"dataframe\">\n",
       "  <thead>\n",
       "    <tr style=\"text-align: right;\">\n",
       "      <th></th>\n",
       "      <th>TF-IDF</th>\n",
       "    </tr>\n",
       "  </thead>\n",
       "  <tbody>\n",
       "    <tr>\n",
       "      <th>today</th>\n",
       "      <td>0.308890</td>\n",
       "    </tr>\n",
       "    <tr>\n",
       "      <th>train</th>\n",
       "      <td>0.264763</td>\n",
       "    </tr>\n",
       "    <tr>\n",
       "      <th>railway</th>\n",
       "      <td>0.250054</td>\n",
       "    </tr>\n",
       "    <tr>\n",
       "      <th>country</th>\n",
       "      <td>0.250054</td>\n",
       "    </tr>\n",
       "    <tr>\n",
       "      <th>people</th>\n",
       "      <td>0.235345</td>\n",
       "    </tr>\n",
       "    <tr>\n",
       "      <th>friend</th>\n",
       "      <td>0.205927</td>\n",
       "    </tr>\n",
       "    <tr>\n",
       "      <th>bharat</th>\n",
       "      <td>0.176509</td>\n",
       "    </tr>\n",
       "    <tr>\n",
       "      <th>india</th>\n",
       "      <td>0.176509</td>\n",
       "    </tr>\n",
       "    <tr>\n",
       "      <th>station</th>\n",
       "      <td>0.161800</td>\n",
       "    </tr>\n",
       "    <tr>\n",
       "      <th>new</th>\n",
       "      <td>0.161800</td>\n",
       "    </tr>\n",
       "    <tr>\n",
       "      <th>pradesh</th>\n",
       "      <td>0.161800</td>\n",
       "    </tr>\n",
       "    <tr>\n",
       "      <th>madhya</th>\n",
       "      <td>0.161800</td>\n",
       "    </tr>\n",
       "    <tr>\n",
       "      <th>indian</th>\n",
       "      <td>0.147091</td>\n",
       "    </tr>\n",
       "    <tr>\n",
       "      <th>vande</th>\n",
       "      <td>0.147091</td>\n",
       "    </tr>\n",
       "    <tr>\n",
       "      <th>railways</th>\n",
       "      <td>0.147091</td>\n",
       "    </tr>\n",
       "    <tr>\n",
       "      <th>year</th>\n",
       "      <td>0.132382</td>\n",
       "    </tr>\n",
       "    <tr>\n",
       "      <th>development</th>\n",
       "      <td>0.132382</td>\n",
       "    </tr>\n",
       "    <tr>\n",
       "      <th>family</th>\n",
       "      <td>0.117673</td>\n",
       "    </tr>\n",
       "    <tr>\n",
       "      <th>modi</th>\n",
       "      <td>0.102963</td>\n",
       "    </tr>\n",
       "    <tr>\n",
       "      <th>increase</th>\n",
       "      <td>0.088254</td>\n",
       "    </tr>\n",
       "  </tbody>\n",
       "</table>\n",
       "</div>"
      ],
      "text/plain": [
       "               TF-IDF\n",
       "today        0.308890\n",
       "train        0.264763\n",
       "railway      0.250054\n",
       "country      0.250054\n",
       "people       0.235345\n",
       "friend       0.205927\n",
       "bharat       0.176509\n",
       "india        0.176509\n",
       "station      0.161800\n",
       "new          0.161800\n",
       "pradesh      0.161800\n",
       "madhya       0.161800\n",
       "indian       0.147091\n",
       "vande        0.147091\n",
       "railways     0.147091\n",
       "year         0.132382\n",
       "development  0.132382\n",
       "family       0.117673\n",
       "modi         0.102963\n",
       "increase     0.088254"
      ]
     },
     "execution_count": 74,
     "metadata": {},
     "output_type": "execute_result"
    }
   ],
   "source": [
    "df.head(20)"
   ]
  },
  {
   "attachments": {},
   "cell_type": "markdown",
   "metadata": {},
   "source": [
    "### Method 3 (wprd2vec)"
   ]
  },
  {
   "cell_type": "code",
   "execution_count": null,
   "metadata": {},
   "outputs": [],
   "source": []
  },
  {
   "cell_type": "code",
   "execution_count": null,
   "metadata": {},
   "outputs": [],
   "source": []
  },
  {
   "cell_type": "code",
   "execution_count": null,
   "metadata": {},
   "outputs": [],
   "source": []
  },
  {
   "cell_type": "code",
   "execution_count": 10,
   "metadata": {},
   "outputs": [
    {
     "name": "stdout",
     "output_type": "stream",
     "text": [
      "Collecting yake"
     ]
    },
    {
     "name": "stderr",
     "output_type": "stream",
     "text": [
      "\n",
      "[notice] A new release of pip available: 22.3.1 -> 23.0.1\n",
      "[notice] To update, run: python.exe -m pip install --upgrade pip\n"
     ]
    },
    {
     "name": "stdout",
     "output_type": "stream",
     "text": [
      "\n",
      "  Downloading yake-0.4.8-py2.py3-none-any.whl (60 kB)\n",
      "     -------------------------------------- 60.2/60.2 kB 792.4 kB/s eta 0:00:00\n",
      "Collecting tabulate\n",
      "  Downloading tabulate-0.9.0-py3-none-any.whl (35 kB)\n",
      "Requirement already satisfied: click>=6.0 in c:\\users\\hp\\appdata\\local\\programs\\python\\python311\\lib\\site-packages (from yake) (8.1.3)\n",
      "Requirement already satisfied: numpy in c:\\users\\hp\\appdata\\local\\programs\\python\\python311\\lib\\site-packages (from yake) (1.24.2)\n",
      "Collecting segtok\n",
      "  Downloading segtok-1.5.11-py3-none-any.whl (24 kB)\n",
      "Collecting networkx\n",
      "  Downloading networkx-3.1-py3-none-any.whl (2.1 MB)\n",
      "     ---------------------------------------- 2.1/2.1 MB 1.6 MB/s eta 0:00:00\n",
      "Collecting jellyfish\n",
      "  Downloading jellyfish-0.11.2-cp311-none-win_amd64.whl (208 kB)\n",
      "     ------------------------------------ 208.0/208.0 kB 974.4 kB/s eta 0:00:00\n",
      "Requirement already satisfied: colorama in c:\\users\\hp\\appdata\\roaming\\python\\python311\\site-packages (from click>=6.0->yake) (0.4.6)\n",
      "Requirement already satisfied: regex in c:\\users\\hp\\appdata\\local\\programs\\python\\python311\\lib\\site-packages (from segtok->yake) (2023.3.23)\n",
      "Installing collected packages: tabulate, segtok, networkx, jellyfish, yake\n",
      "Successfully installed jellyfish-0.11.2 networkx-3.1 segtok-1.5.11 tabulate-0.9.0 yake-0.4.8\n"
     ]
    }
   ],
   "source": [
    "! pip install yake"
   ]
  },
  {
   "cell_type": "code",
   "execution_count": 11,
   "metadata": {},
   "outputs": [
    {
     "name": "stdout",
     "output_type": "stream",
     "text": [
      "('Vande Bharat Express', 0.002460177530081599)\n",
      "('Vande Bharat', 0.0037610126765277377)\n",
      "('Vande Bharat train', 0.004564761120422223)\n",
      "('Madhya Pradesh', 0.005297483650132029)\n",
      "('Indian Railways', 0.006589777365851182)\n",
      "('Mata Ki Jai', 0.007682636591933844)\n",
      "('Railways', 0.01082180576038467)\n",
      "('Bharat Express', 0.01104386936245572)\n",
      "('Bharat Mata', 0.011064849321160877)\n",
      "('Today', 0.013125389295712183)\n",
      "('Today Indian Railways', 0.01407611379168932)\n",
      "('Bharat', 0.014606747289911685)\n",
      "('Bharat Express train', 0.016235406433140948)\n",
      "('India', 0.017747421085453158)\n",
      "('today Madhya Pradesh', 0.017943411094709698)\n",
      "('Railway Minister Ashwini', 0.01801774605836731)\n",
      "('Railway', 0.01839706979265394)\n",
      "('Madhya Pradesh Shri', 0.018514703364155734)\n",
      "('country', 0.01990823363461122)\n",
      "('Bharat train', 0.02020050199707556)\n"
     ]
    }
   ],
   "source": [
    "import yake\n",
    "kw_extractor = yake.KeywordExtractor()\n",
    "language = \"en\"\n",
    "max_ngram_size = 3\n",
    "deduplication_threshold = 0.9\n",
    "numOfKeywords = 20\n",
    "custom_kw_extractor = yake.KeywordExtractor(lan=language, n=max_ngram_size, dedupLim=deduplication_threshold, top=numOfKeywords, features=None)\n",
    "keywords = custom_kw_extractor.extract_keywords(speech)\n",
    "for kw in keywords:\n",
    "    print(kw)"
   ]
  },
  {
   "cell_type": "code",
   "execution_count": null,
   "metadata": {},
   "outputs": [],
   "source": []
  }
 ],
 "metadata": {
  "kernelspec": {
   "display_name": "Python 3",
   "language": "python",
   "name": "python3"
  },
  "language_info": {
   "codemirror_mode": {
    "name": "ipython",
    "version": 3
   },
   "file_extension": ".py",
   "mimetype": "text/x-python",
   "name": "python",
   "nbconvert_exporter": "python",
   "pygments_lexer": "ipython3",
   "version": "3.11.1"
  },
  "orig_nbformat": 4
 },
 "nbformat": 4,
 "nbformat_minor": 2
}
