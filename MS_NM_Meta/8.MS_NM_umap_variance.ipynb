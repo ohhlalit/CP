{
 "cells": [
  {
   "cell_type": "code",
   "execution_count": 6,
   "metadata": {},
   "outputs": [],
   "source": [
    "#import necessary libraries\n",
    "import pandas as pd\n",
    "from sklearn.metrics import r2_score\n",
    "from sklearn.cross_decomposition import PLSRegression"
   ]
  },
  {
   "cell_type": "code",
   "execution_count": 7,
   "metadata": {},
   "outputs": [
    {
     "data": {
      "text/html": [
       "<div>\n",
       "<style scoped>\n",
       "    .dataframe tbody tr th:only-of-type {\n",
       "        vertical-align: middle;\n",
       "    }\n",
       "\n",
       "    .dataframe tbody tr th {\n",
       "        vertical-align: top;\n",
       "    }\n",
       "\n",
       "    .dataframe thead th {\n",
       "        text-align: right;\n",
       "    }\n",
       "</style>\n",
       "<table border=\"1\" class=\"dataframe\">\n",
       "  <thead>\n",
       "    <tr style=\"text-align: right;\">\n",
       "      <th></th>\n",
       "      <th>index</th>\n",
       "      <th>x</th>\n",
       "      <th>y</th>\n",
       "      <th>z</th>\n",
       "      <th>Date</th>\n",
       "      <th>cluster</th>\n",
       "      <th>Person</th>\n",
       "    </tr>\n",
       "  </thead>\n",
       "  <tbody>\n",
       "    <tr>\n",
       "      <th>0</th>\n",
       "      <td>MSS1</td>\n",
       "      <td>2.898594</td>\n",
       "      <td>9.928911</td>\n",
       "      <td>7.609050</td>\n",
       "      <td>2004</td>\n",
       "      <td>3</td>\n",
       "      <td>Manmohan Singh</td>\n",
       "    </tr>\n",
       "    <tr>\n",
       "      <th>1</th>\n",
       "      <td>MSS2</td>\n",
       "      <td>1.586409</td>\n",
       "      <td>7.393669</td>\n",
       "      <td>8.650178</td>\n",
       "      <td>2004</td>\n",
       "      <td>1</td>\n",
       "      <td>Manmohan Singh</td>\n",
       "    </tr>\n",
       "    <tr>\n",
       "      <th>2</th>\n",
       "      <td>MSS3</td>\n",
       "      <td>1.872317</td>\n",
       "      <td>7.604838</td>\n",
       "      <td>10.589667</td>\n",
       "      <td>2004</td>\n",
       "      <td>1</td>\n",
       "      <td>Manmohan Singh</td>\n",
       "    </tr>\n",
       "    <tr>\n",
       "      <th>3</th>\n",
       "      <td>MSS4</td>\n",
       "      <td>2.857250</td>\n",
       "      <td>8.581143</td>\n",
       "      <td>10.284215</td>\n",
       "      <td>2004</td>\n",
       "      <td>4</td>\n",
       "      <td>Manmohan Singh</td>\n",
       "    </tr>\n",
       "    <tr>\n",
       "      <th>4</th>\n",
       "      <td>MSS5</td>\n",
       "      <td>2.992122</td>\n",
       "      <td>10.393358</td>\n",
       "      <td>7.404863</td>\n",
       "      <td>2004</td>\n",
       "      <td>3</td>\n",
       "      <td>Manmohan Singh</td>\n",
       "    </tr>\n",
       "    <tr>\n",
       "      <th>...</th>\n",
       "      <td>...</td>\n",
       "      <td>...</td>\n",
       "      <td>...</td>\n",
       "      <td>...</td>\n",
       "      <td>...</td>\n",
       "      <td>...</td>\n",
       "      <td>...</td>\n",
       "    </tr>\n",
       "    <tr>\n",
       "      <th>2528</th>\n",
       "      <td>NMS1178</td>\n",
       "      <td>2.797319</td>\n",
       "      <td>9.819474</td>\n",
       "      <td>9.748168</td>\n",
       "      <td>2023</td>\n",
       "      <td>0</td>\n",
       "      <td>Narendra Modi</td>\n",
       "    </tr>\n",
       "    <tr>\n",
       "      <th>2529</th>\n",
       "      <td>NMS1179</td>\n",
       "      <td>3.103824</td>\n",
       "      <td>9.280266</td>\n",
       "      <td>10.570699</td>\n",
       "      <td>2023</td>\n",
       "      <td>4</td>\n",
       "      <td>Narendra Modi</td>\n",
       "    </tr>\n",
       "    <tr>\n",
       "      <th>2530</th>\n",
       "      <td>NMS1180</td>\n",
       "      <td>2.909471</td>\n",
       "      <td>9.555931</td>\n",
       "      <td>9.597327</td>\n",
       "      <td>2023</td>\n",
       "      <td>4</td>\n",
       "      <td>Narendra Modi</td>\n",
       "    </tr>\n",
       "    <tr>\n",
       "      <th>2531</th>\n",
       "      <td>NMS1181</td>\n",
       "      <td>2.989243</td>\n",
       "      <td>9.807272</td>\n",
       "      <td>10.071255</td>\n",
       "      <td>2023</td>\n",
       "      <td>3</td>\n",
       "      <td>Narendra Modi</td>\n",
       "    </tr>\n",
       "    <tr>\n",
       "      <th>2532</th>\n",
       "      <td>NMS1182</td>\n",
       "      <td>2.860325</td>\n",
       "      <td>9.838757</td>\n",
       "      <td>10.185248</td>\n",
       "      <td>2023</td>\n",
       "      <td>3</td>\n",
       "      <td>Narendra Modi</td>\n",
       "    </tr>\n",
       "  </tbody>\n",
       "</table>\n",
       "<p>2533 rows × 7 columns</p>\n",
       "</div>"
      ],
      "text/plain": [
       "        index         x          y          z  Date  cluster          Person\n",
       "0        MSS1  2.898594   9.928911   7.609050  2004        3  Manmohan Singh\n",
       "1        MSS2  1.586409   7.393669   8.650178  2004        1  Manmohan Singh\n",
       "2        MSS3  1.872317   7.604838  10.589667  2004        1  Manmohan Singh\n",
       "3        MSS4  2.857250   8.581143  10.284215  2004        4  Manmohan Singh\n",
       "4        MSS5  2.992122  10.393358   7.404863  2004        3  Manmohan Singh\n",
       "...       ...       ...        ...        ...   ...      ...             ...\n",
       "2528  NMS1178  2.797319   9.819474   9.748168  2023        0   Narendra Modi\n",
       "2529  NMS1179  3.103824   9.280266  10.570699  2023        4   Narendra Modi\n",
       "2530  NMS1180  2.909471   9.555931   9.597327  2023        4   Narendra Modi\n",
       "2531  NMS1181  2.989243   9.807272  10.071255  2023        3   Narendra Modi\n",
       "2532  NMS1182  2.860325   9.838757  10.185248  2023        3   Narendra Modi\n",
       "\n",
       "[2533 rows x 7 columns]"
      ]
     },
     "execution_count": 7,
     "metadata": {},
     "output_type": "execute_result"
    }
   ],
   "source": [
    "#loading the dataframe\n",
    "df_umap = pd.read_csv(\"D:\\Python project\\CP\\MS_NM_Meta\\df_umap.csv\")\n",
    "df_umap"
   ]
  },
  {
   "attachments": {},
   "cell_type": "markdown",
   "metadata": {},
   "source": [
    "TO CHECK THE VARIATION IN SPEECHES EXPLAINED BY EACH CLUSTER\n"
   ]
  },
  {
   "cell_type": "code",
   "execution_count": 10,
   "metadata": {},
   "outputs": [
    {
     "data": {
      "text/html": [
       "<div>\n",
       "<style scoped>\n",
       "    .dataframe tbody tr th:only-of-type {\n",
       "        vertical-align: middle;\n",
       "    }\n",
       "\n",
       "    .dataframe tbody tr th {\n",
       "        vertical-align: top;\n",
       "    }\n",
       "\n",
       "    .dataframe thead th {\n",
       "        text-align: right;\n",
       "    }\n",
       "</style>\n",
       "<table border=\"1\" class=\"dataframe\">\n",
       "  <thead>\n",
       "    <tr style=\"text-align: right;\">\n",
       "      <th></th>\n",
       "      <th>x</th>\n",
       "      <th>y</th>\n",
       "      <th>z</th>\n",
       "    </tr>\n",
       "  </thead>\n",
       "  <tbody>\n",
       "    <tr>\n",
       "      <th>0</th>\n",
       "      <td>2.898594</td>\n",
       "      <td>9.928911</td>\n",
       "      <td>7.609050</td>\n",
       "    </tr>\n",
       "    <tr>\n",
       "      <th>1</th>\n",
       "      <td>1.586409</td>\n",
       "      <td>7.393669</td>\n",
       "      <td>8.650178</td>\n",
       "    </tr>\n",
       "    <tr>\n",
       "      <th>2</th>\n",
       "      <td>1.872317</td>\n",
       "      <td>7.604838</td>\n",
       "      <td>10.589667</td>\n",
       "    </tr>\n",
       "    <tr>\n",
       "      <th>3</th>\n",
       "      <td>2.857250</td>\n",
       "      <td>8.581143</td>\n",
       "      <td>10.284215</td>\n",
       "    </tr>\n",
       "    <tr>\n",
       "      <th>4</th>\n",
       "      <td>2.992122</td>\n",
       "      <td>10.393358</td>\n",
       "      <td>7.404863</td>\n",
       "    </tr>\n",
       "    <tr>\n",
       "      <th>...</th>\n",
       "      <td>...</td>\n",
       "      <td>...</td>\n",
       "      <td>...</td>\n",
       "    </tr>\n",
       "    <tr>\n",
       "      <th>2528</th>\n",
       "      <td>2.797319</td>\n",
       "      <td>9.819474</td>\n",
       "      <td>9.748168</td>\n",
       "    </tr>\n",
       "    <tr>\n",
       "      <th>2529</th>\n",
       "      <td>3.103824</td>\n",
       "      <td>9.280266</td>\n",
       "      <td>10.570699</td>\n",
       "    </tr>\n",
       "    <tr>\n",
       "      <th>2530</th>\n",
       "      <td>2.909471</td>\n",
       "      <td>9.555931</td>\n",
       "      <td>9.597327</td>\n",
       "    </tr>\n",
       "    <tr>\n",
       "      <th>2531</th>\n",
       "      <td>2.989243</td>\n",
       "      <td>9.807272</td>\n",
       "      <td>10.071255</td>\n",
       "    </tr>\n",
       "    <tr>\n",
       "      <th>2532</th>\n",
       "      <td>2.860325</td>\n",
       "      <td>9.838757</td>\n",
       "      <td>10.185248</td>\n",
       "    </tr>\n",
       "  </tbody>\n",
       "</table>\n",
       "<p>2533 rows × 3 columns</p>\n",
       "</div>"
      ],
      "text/plain": [
       "             x          y          z\n",
       "0     2.898594   9.928911   7.609050\n",
       "1     1.586409   7.393669   8.650178\n",
       "2     1.872317   7.604838  10.589667\n",
       "3     2.857250   8.581143  10.284215\n",
       "4     2.992122  10.393358   7.404863\n",
       "...        ...        ...        ...\n",
       "2528  2.797319   9.819474   9.748168\n",
       "2529  3.103824   9.280266  10.570699\n",
       "2530  2.909471   9.555931   9.597327\n",
       "2531  2.989243   9.807272  10.071255\n",
       "2532  2.860325   9.838757  10.185248\n",
       "\n",
       "[2533 rows x 3 columns]"
      ]
     },
     "execution_count": 10,
     "metadata": {},
     "output_type": "execute_result"
    }
   ],
   "source": [
    "UMAP_matrix = df_umap[['x','y','z']]\n",
    "UMAP_matrix"
   ]
  },
  {
   "cell_type": "code",
   "execution_count": null,
   "metadata": {},
   "outputs": [],
   "source": [
    "#defining the model of Partial Least Squares\n",
    "pls = PLSRegression(n_components = 1)"
   ]
  },
  {
   "cell_type": "code",
   "execution_count": null,
   "metadata": {},
   "outputs": [],
   "source": [
    "pls.fit(UMAP_matrix, X)\n",
    "y_pred = pls.predict(UMAP_matrix)\n",
    "print(r2_score(X, y_pred, multioutput = 'variance_weighted'))"
   ]
  },
  {
   "cell_type": "code",
   "execution_count": 11,
   "metadata": {},
   "outputs": [
    {
     "data": {
      "text/html": [
       "<div>\n",
       "<style scoped>\n",
       "    .dataframe tbody tr th:only-of-type {\n",
       "        vertical-align: middle;\n",
       "    }\n",
       "\n",
       "    .dataframe tbody tr th {\n",
       "        vertical-align: top;\n",
       "    }\n",
       "\n",
       "    .dataframe thead th {\n",
       "        text-align: right;\n",
       "    }\n",
       "</style>\n",
       "<table border=\"1\" class=\"dataframe\">\n",
       "  <thead>\n",
       "    <tr style=\"text-align: right;\">\n",
       "      <th></th>\n",
       "      <th>index</th>\n",
       "      <th>x</th>\n",
       "      <th>y</th>\n",
       "      <th>z</th>\n",
       "      <th>Date</th>\n",
       "      <th>cluster</th>\n",
       "      <th>Person</th>\n",
       "    </tr>\n",
       "  </thead>\n",
       "  <tbody>\n",
       "    <tr>\n",
       "      <th>0</th>\n",
       "      <td>MSS1</td>\n",
       "      <td>2.898594</td>\n",
       "      <td>9.928911</td>\n",
       "      <td>7.609050</td>\n",
       "      <td>2004</td>\n",
       "      <td>3</td>\n",
       "      <td>Manmohan Singh</td>\n",
       "    </tr>\n",
       "    <tr>\n",
       "      <th>1</th>\n",
       "      <td>MSS2</td>\n",
       "      <td>1.586409</td>\n",
       "      <td>7.393669</td>\n",
       "      <td>8.650178</td>\n",
       "      <td>2004</td>\n",
       "      <td>1</td>\n",
       "      <td>Manmohan Singh</td>\n",
       "    </tr>\n",
       "    <tr>\n",
       "      <th>2</th>\n",
       "      <td>MSS3</td>\n",
       "      <td>1.872317</td>\n",
       "      <td>7.604838</td>\n",
       "      <td>10.589667</td>\n",
       "      <td>2004</td>\n",
       "      <td>1</td>\n",
       "      <td>Manmohan Singh</td>\n",
       "    </tr>\n",
       "    <tr>\n",
       "      <th>3</th>\n",
       "      <td>MSS4</td>\n",
       "      <td>2.857250</td>\n",
       "      <td>8.581143</td>\n",
       "      <td>10.284215</td>\n",
       "      <td>2004</td>\n",
       "      <td>4</td>\n",
       "      <td>Manmohan Singh</td>\n",
       "    </tr>\n",
       "    <tr>\n",
       "      <th>4</th>\n",
       "      <td>MSS5</td>\n",
       "      <td>2.992122</td>\n",
       "      <td>10.393358</td>\n",
       "      <td>7.404863</td>\n",
       "      <td>2004</td>\n",
       "      <td>3</td>\n",
       "      <td>Manmohan Singh</td>\n",
       "    </tr>\n",
       "    <tr>\n",
       "      <th>...</th>\n",
       "      <td>...</td>\n",
       "      <td>...</td>\n",
       "      <td>...</td>\n",
       "      <td>...</td>\n",
       "      <td>...</td>\n",
       "      <td>...</td>\n",
       "      <td>...</td>\n",
       "    </tr>\n",
       "    <tr>\n",
       "      <th>2528</th>\n",
       "      <td>NMS1178</td>\n",
       "      <td>2.797319</td>\n",
       "      <td>9.819474</td>\n",
       "      <td>9.748168</td>\n",
       "      <td>2023</td>\n",
       "      <td>0</td>\n",
       "      <td>Narendra Modi</td>\n",
       "    </tr>\n",
       "    <tr>\n",
       "      <th>2529</th>\n",
       "      <td>NMS1179</td>\n",
       "      <td>3.103824</td>\n",
       "      <td>9.280266</td>\n",
       "      <td>10.570699</td>\n",
       "      <td>2023</td>\n",
       "      <td>4</td>\n",
       "      <td>Narendra Modi</td>\n",
       "    </tr>\n",
       "    <tr>\n",
       "      <th>2530</th>\n",
       "      <td>NMS1180</td>\n",
       "      <td>2.909471</td>\n",
       "      <td>9.555931</td>\n",
       "      <td>9.597327</td>\n",
       "      <td>2023</td>\n",
       "      <td>4</td>\n",
       "      <td>Narendra Modi</td>\n",
       "    </tr>\n",
       "    <tr>\n",
       "      <th>2531</th>\n",
       "      <td>NMS1181</td>\n",
       "      <td>2.989243</td>\n",
       "      <td>9.807272</td>\n",
       "      <td>10.071255</td>\n",
       "      <td>2023</td>\n",
       "      <td>3</td>\n",
       "      <td>Narendra Modi</td>\n",
       "    </tr>\n",
       "    <tr>\n",
       "      <th>2532</th>\n",
       "      <td>NMS1182</td>\n",
       "      <td>2.860325</td>\n",
       "      <td>9.838757</td>\n",
       "      <td>10.185248</td>\n",
       "      <td>2023</td>\n",
       "      <td>3</td>\n",
       "      <td>Narendra Modi</td>\n",
       "    </tr>\n",
       "  </tbody>\n",
       "</table>\n",
       "<p>2533 rows × 7 columns</p>\n",
       "</div>"
      ],
      "text/plain": [
       "        index         x          y          z  Date  cluster          Person\n",
       "0        MSS1  2.898594   9.928911   7.609050  2004        3  Manmohan Singh\n",
       "1        MSS2  1.586409   7.393669   8.650178  2004        1  Manmohan Singh\n",
       "2        MSS3  1.872317   7.604838  10.589667  2004        1  Manmohan Singh\n",
       "3        MSS4  2.857250   8.581143  10.284215  2004        4  Manmohan Singh\n",
       "4        MSS5  2.992122  10.393358   7.404863  2004        3  Manmohan Singh\n",
       "...       ...       ...        ...        ...   ...      ...             ...\n",
       "2528  NMS1178  2.797319   9.819474   9.748168  2023        0   Narendra Modi\n",
       "2529  NMS1179  3.103824   9.280266  10.570699  2023        4   Narendra Modi\n",
       "2530  NMS1180  2.909471   9.555931   9.597327  2023        4   Narendra Modi\n",
       "2531  NMS1181  2.989243   9.807272  10.071255  2023        3   Narendra Modi\n",
       "2532  NMS1182  2.860325   9.838757  10.185248  2023        3   Narendra Modi\n",
       "\n",
       "[2533 rows x 7 columns]"
      ]
     },
     "execution_count": 11,
     "metadata": {},
     "output_type": "execute_result"
    }
   ],
   "source": [
    "df_umap"
   ]
  },
  {
   "cell_type": "code",
   "execution_count": 17,
   "metadata": {},
   "outputs": [],
   "source": [
    "df_cluster= df_umap[['x','y','z','cluster']]"
   ]
  },
  {
   "cell_type": "code",
   "execution_count": 19,
   "metadata": {},
   "outputs": [
    {
     "name": "stdout",
     "output_type": "stream",
     "text": [
      "Cluster Means:\n",
      "                x         y         z\n",
      "cluster                              \n",
      "0        2.077547  9.741822  9.049467\n",
      "1        1.839656  7.538860  9.500932\n",
      "2        1.794201  8.727962  9.154440\n",
      "3        3.548724  9.958176  8.281031\n",
      "4        2.916596  8.899159  9.082470\n"
     ]
    }
   ],
   "source": [
    "# Group the data by cluster\n",
    "cluster =df_cluster.groupby('cluster')\n",
    "cluster_means = cluster.mean()\n",
    "print(\"Cluster Means:\")\n",
    "print(cluster_means)"
   ]
  },
  {
   "cell_type": "code",
   "execution_count": 20,
   "metadata": {},
   "outputs": [
    {
     "name": "stdout",
     "output_type": "stream",
     "text": [
      "\n",
      "Cluster Variances:\n",
      "                x         y         z\n",
      "cluster                              \n",
      "0        0.143317  0.099652  0.715633\n",
      "1        0.299612  0.123891  0.447486\n",
      "2        0.183583  0.094627  0.830771\n",
      "3        0.115816  0.144956  0.650685\n",
      "4        0.104245  0.141601  0.787325\n"
     ]
    }
   ],
   "source": [
    "# Calculate the variance of each feature within each cluster\n",
    "cluster_variances = cluster.var()\n",
    "print(\"\\nCluster Variances:\")\n",
    "print(cluster_variances)"
   ]
  },
  {
   "attachments": {},
   "cell_type": "markdown",
   "metadata": {},
   "source": [
    "ENTROPY\n",
    "\n",
    " Entropy measures the level of uncertainty or randomness in a given probability distribution. When applied to cluster analysis, it can provide insights into the diversity or spread of values within each cluster."
   ]
  },
  {
   "cell_type": "code",
   "execution_count": 21,
   "metadata": {},
   "outputs": [],
   "source": [
    "from scipy.stats import entropy"
   ]
  },
  {
   "cell_type": "code",
   "execution_count": 25,
   "metadata": {},
   "outputs": [
    {
     "data": {
      "text/plain": [
       "cluster\n",
       "0    457\n",
       "1    500\n",
       "2    487\n",
       "3    448\n",
       "4    641\n",
       "dtype: int64"
      ]
     },
     "execution_count": 25,
     "metadata": {},
     "output_type": "execute_result"
    }
   ],
   "source": [
    "cluster.size() "
   ]
  },
  {
   "cell_type": "code",
   "execution_count": 26,
   "metadata": {},
   "outputs": [
    {
     "data": {
      "text/plain": [
       "2533"
      ]
     },
     "execution_count": 26,
     "metadata": {},
     "output_type": "execute_result"
    }
   ],
   "source": [
    "len(df_cluster)"
   ]
  },
  {
   "cell_type": "code",
   "execution_count": 28,
   "metadata": {},
   "outputs": [
    {
     "data": {
      "text/plain": [
       "cluster\n",
       "0    0.180418\n",
       "1    0.197394\n",
       "2    0.192262\n",
       "3    0.176865\n",
       "4    0.253060\n",
       "dtype: float64"
      ]
     },
     "execution_count": 28,
     "metadata": {},
     "output_type": "execute_result"
    }
   ],
   "source": [
    "cluster_distribution"
   ]
  },
  {
   "cell_type": "code",
   "execution_count": 23,
   "metadata": {},
   "outputs": [
    {
     "name": "stdout",
     "output_type": "stream",
     "text": [
      "\n",
      "Cluster Entropy:\n",
      "1.6003976141552356\n"
     ]
    }
   ],
   "source": [
    "# Calculate the entropy of the overall cluster distribution\n",
    "cluster_distribution = cluster.size()() / len(df_cluster)\n",
    "cluster_entropy = entropy(cluster_distribution)\n",
    "print(\"\\nCluster Entropy:\")\n",
    "print(cluster_entropy)"
   ]
  }
 ],
 "metadata": {
  "kernelspec": {
   "display_name": "Python 3",
   "language": "python",
   "name": "python3"
  },
  "language_info": {
   "codemirror_mode": {
    "name": "ipython",
    "version": 3
   },
   "file_extension": ".py",
   "mimetype": "text/x-python",
   "name": "python",
   "nbconvert_exporter": "python",
   "pygments_lexer": "ipython3",
   "version": "3.11.3"
  },
  "orig_nbformat": 4
 },
 "nbformat": 4,
 "nbformat_minor": 2
}
