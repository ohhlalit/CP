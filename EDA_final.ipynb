{
 "cells": [
  {
   "cell_type": "code",
   "execution_count": 1,
   "metadata": {},
   "outputs": [],
   "source": [
    "# Importing the Libraries\n",
    "import nltk \n",
    "from nltk.stem import PorterStemmer\n",
    "from nltk.corpus import stopwords\n",
    "import re\n",
    "from nltk.stem import WordNetLemmatizer"
   ]
  },
  {
   "cell_type": "code",
   "execution_count": 6,
   "metadata": {},
   "outputs": [],
   "source": [
    "import gensim\n",
    "from gensim.models import Word2Vec"
   ]
  },
  {
   "cell_type": "code",
   "execution_count": 2,
   "metadata": {},
   "outputs": [],
   "source": [
    "speech = \"\"\"Bharat Mata Ki Jai!\n",
    "\n",
    "Bharat Mata Ki Jai!\n",
    "\n",
    "The Governor of Madhya Pradesh  Shri Mangubhai Patel, Chief Minister Shivraj ji, Railway Minister Ashwini ji, all other dignitaries, and my dear brothers and sisters of Bhopal who have come in large numbers!\n",
    "\n",
    "First of all, I express my grief over the tragedy at the Indore temple on Ramnavami. I pay my tribute to those who left us untimely due to this accident and express my condolences to their families. I also wish for the speedy recovery of the injured devotees who are undergoing treatment at the hospital.\n",
    "\n",
    "Friends, Today MP got its first Vande Bharat Express train. Vande Bharat Express will make the journey between Bhopal and Delhi faster. This train will bring new facilities for professionals, youth and businessmen.\n",
    "\n",
    "Friends, I have had the privilege of inaugurating the modern and grand Rani Kamalapati station where this event is being held. Today, you have given me the opportunity to flag off India's most modern Vande Bharat train from here to Delhi. In the history of Railways, it is very rare that a Prime Minister would come again at the same station in such a short interval. But in modern India, new culture and new systems are being developed. Today's event is also a perfect example of the same.\n",
    "\n",
    "Friends, Just a short while back, I spent a few moments and interacted with some school children who were travelling as passengers. The curiosity and enthusiasm they had about this train was worth seeing. That is, in a way, the Vande Bharat train is a symbol of the enthusiasm and wave of development taking place in India. And when today's event was being finalised, I was told that the event would be on the 1st. I asked, why are you keeping it on 1st April? When the news comes out in the newspapers that Modi ji is going to flag off the Vande Bharat train on 1st April, then our friends from Congress will definitely give a statement that Modi is going to befool people on April Fool Day. But you see, this train has really been flagged off on 1st April itself.\n",
    "\n",
    "Friends, It is also a symbol of our skill, our capability and confidence. And this train to Bhopal is going to help boost tourism the most. Consequently, the number of tourists in tourist places like Sanchi Stupa, Bhimbetka, Bhojpur and Udayagiri caves is going to increase further. And you know very well that when tourism expands, many employment opportunities start rising and people's income also increases. That means, this Vande Bharat will also become a medium to increase the income of the people. And it will also become a medium to ensure the development of the region.\n",
    "\n",
    "Friends, India of the 21st century is now working with a new thinking and a new approach. The previous governments were so busy in appeasement that they did not pay any attention to the contentment of the countrymen. They were busy with vote bank politics. But we are dedicated to the contentment of the countrymen. During the regime of previous governments, there was a lot of emphasis on one more thing. Those governments kept considering only one family of the country as the first family of the country. The poor and middle class families of the country were left to fend for themselves. There was no one to listen to the hopes and aspirations of these families. Our Indian Railways has been a living example of the same. Indian Railways is actually the transport of the ordinary Indian family. Parents, children, grandparents, maternal grandparents and everyone travel together in trains. So for decades, rail has been the biggest means of transportation for the people. Shouldn't this mode of transportation of the typical Indian family have been modernized with the time? Was it right to leave the railways in such a ramshackle condition?\n",
    "\n",
    "Friends, After independence, India had got a huge ready-made railway network. If the governments of that time wanted, they could have modernized the railways very quickly. But for the sake of political expediency, for the sake of populist promises, the development of railways itself was sacrificed. The situation was such that even after so many decades of independence, our North Eastern states were not connected by trains. In the year 2014, when you gave me the opportunity to serve, I decided that this would not happen anymore. Now the railways would be revived. In the last 9 years, it has been our constant endeavour to ensure that Indian Railways becomes the best rail network in the world. You are very well aware of the news stories related to the Indian Railways before the year 2014. Such a huge rail network had thousands of unmanned gates all over the place. There were frequent reports of accidents. Sometimes there were heart wrenching news stories about the death of school children. Today the broad gauge network is free from unmanned gates. Earlier, news related to train accidents and loss of life and property would be heard every other day. Today Indian Railways has become much safer. 'Made in India' Kavach train protection system is being expanded in Railways to strengthen passenger safety.\n",
    "\n",
    "Friends, This safety is not only from accidents. If a passenger has a complaint during the journey, prompt action is taken. In case of emergency, assistance is provided quickly. Our sisters and daughters have benefitted the most from such an arrangement. Earlier there used to be a lot of complaints regarding cleanliness. Even staying for a while at railway stations seemed like a punishment. Moreover, the trains used to run late for several hours. Today the cleanliness is better and the complaints about the delay of trains are also continuously decreasing. Earlier the situation was such that people had stopped complaining because there was no one to listen to these complaints. You might remember that earlier black marketing of tickets was a very common complaint. Sting operations related to this were shown in the media. But today by using technology, we have solved many such problems.\n",
    "\n",
    "Friends, Today, Indian Railways is also becoming a major medium to take the products of small craftsmen and artisans to every nook and corner of the country. Under the 'One Station, One Product' scheme, famous clothes, artworks, paintings, handicrafts, utensils etc. of the area in which the station is situated can be bought by passengers at the station itself. For this too, about 600 outlets have been set up in the country. I am glad that in a very short span of time more than one lakh passengers have made purchases from these outlets.\n",
    "\n",
    "Friends, Today, Indian Railways is becoming synonymous with convenience for the ordinary families of the country. Today many railway stations are being modernized in the country. Today, Wi-Fi facilities are being provided at 6000 stations in the country. The installation of CCTVs at more than 900 major railway stations of the country has been completed. Our Vande Bharat Express has become a super hit in the whole country, especially among our young generation. The seats in these trains are getting filled throughout the year. There is a demand from every corner of the country for these Vande Bharat trains. Earlier the letters from MPs demanded that a certain train should have a stoppage at a particular station; or currently it stops at two stations but the stoppage should be increased to three, so on and so forth. Today I am proud to say that the MPs today write letters demanding Vande Bharat in their area as soon as possible.\n",
    "\n",
    "Friends, This initiative to expand the facilities for railway passengers is going on continuously at a rapid pace. In this year's budget too, a record amount has been allocated to the Railways. There was a time when people talked of losses as soon as the development of railways was being talked about. But if there is willpower for development, the intention is clear and the loyalty is firm, then new paths also emerge. In the last 9 years, we have continuously increased the budget of the Railways. For Madhya Pradesh also this time a railway budget of more than Rs 13,000 crore has been allocated. Before 2014, the average railway budget for Madhya Pradesh was Rs 600 crore every year;  just Rs 600 crore! Compare 600, with 13,000 crores today!\n",
    "\n",
    "Friends, Today, the work of electrification is an example of the kind of modernization happening in the railways. Today, you are hearing every day that 100% electrification of the railway network has been achieved in one or the other part of the country. Madhya Pradesh is also included in the 11 states where 100 percent electrification has been achieved. Before 2014, every year on an average 600 kilometres of railway route was electrified. Now, on an average, 6000 kilometres are being electrified every year. This is the speed with which our government is working.\n",
    "\n",
    "Friends, I am glad that today Madhya Pradesh has left the old days behind. Now Madhya Pradesh is writing a new saga of perpetual  development. Be it agriculture or industry, today the strength of MP is expanding the strength of India. The performance of MP is commendable in most of the same parameters of development on which Madhya Pradesh was once called BIMARU. Today MP is among the leading states in building houses for the poor. Madhya Pradesh is also doing a good job in providing water to every household. Our farmers of Madhya Pradesh are creating new records in the production of various crops including wheat. Even in terms of industries, this state is now relentlessly moving towards new records. All these efforts are also creating possibilities of endless opportunities for the youth here.\n",
    "\n",
    "Friends, In the midst of these efforts being made for the development of the country, I would like to draw the attention of all the countrymen towards one more thing. There are some people in our country who have been determined since 2014 and have also spoken publicly and declared their resolution. So what have they done? They have declared their resolution to tarnish the image of Modi. For this, these people have given contracts to a number of different people and are also leading from the front. Some people are inside the country to support these people and some are outside the country doing that work. These people have been continuously trying to somehow tarnish the image of Modi. But today India's poor, India's middle class, India's tribals, India's Dalit-backward, and every Indian has become Modi's protective shield. And that's why these people are furious. These people are adopting new tricks. In 2014, they took a pledge to tarnish Modi's image. Now these people have taken a pledge – Modi, your grave will be dug. In the midst of their conspiracies, you, every countryman, have to pay attention to the development of the country and nation building. We have to further increase the role of Madhya Pradesh to achieve our aim of a developed India. This new Vande Bharat Express is a part of this resolution. Once again, my heartiest congratulations to all the people of Madhya Pradesh, and my brothers and sisters of Bhopal for this modern train. May we all have a pleasant journey! Thank you very much! Best wishes.\"\"\""
   ]
  },
  {
   "cell_type": "code",
   "execution_count": 3,
   "metadata": {},
   "outputs": [],
   "source": [
    "# Sentence Tokenization\n",
    "sentence = nltk.sent_tokenize(speech)"
   ]
  },
  {
   "cell_type": "code",
   "execution_count": 5,
   "metadata": {},
   "outputs": [],
   "source": [
    "# Initiating the model \n",
    "lemmatizer = WordNetLemmatizer()\n",
    "\n",
    "# # Creating a list of sentences \n",
    "corpus = []\n",
    "\n",
    "for i in range(len(sentence)):\n",
    "    review = re.sub(\"[^a-zA-Z]\", \" \", sentence[i])\n",
    "    review = review.lower()\n",
    "    review = review.split()\n",
    "    review = [lemmatizer.lemmatize(word) for word in review if word not in set(stopwords.words(\"english\"))]\n",
    "    review = ' '.join(review)\n",
    "    corpus.append(review)"
   ]
  },
  {
   "cell_type": "code",
   "execution_count": 7,
   "metadata": {},
   "outputs": [],
   "source": [
    "# split each sentence into a list of words\n",
    "corpus_tokenized = [nltk.word_tokenize(sentence) for sentence in corpus]\n",
    "\n",
    "# train the Word2Vec model on the tokenized corpus\n",
    "model = Word2Vec(sentences=corpus_tokenized, vector_size=300, window=5, min_count=1, workers=4)"
   ]
  },
  {
   "cell_type": "code",
   "execution_count": 9,
   "metadata": {},
   "outputs": [
    {
     "name": "stdout",
     "output_type": "stream",
     "text": [
      "[ 2.69178324e-03 -1.38065312e-03 -3.57260200e-04  3.89581692e-04\n",
      " -5.04316013e-05  2.66184739e-04  2.09256774e-03  2.31265993e-04\n",
      " -1.02993019e-03 -6.09209761e-04  2.01569754e-03  3.88860935e-04\n",
      " -2.49592267e-04  3.08319810e-03 -1.73933583e-03 -3.18590057e-04\n",
      "  3.13560967e-03  2.26313388e-03  5.64605230e-04 -2.96369521e-03\n",
      "  3.07403243e-04 -7.43705838e-04  3.20058991e-03  3.86495871e-04\n",
      "  5.71205455e-04  8.40260065e-04 -8.15916748e-04 -1.68600213e-03\n",
      " -2.92170153e-05 -8.30207544e-04  2.25275592e-03  2.87995767e-03\n",
      " -2.12777377e-04  1.02874846e-03 -2.05477024e-03  5.88168507e-04\n",
      " -2.30085547e-03 -3.07237683e-03 -2.00779992e-03 -2.95289094e-03\n",
      "  2.37363996e-03 -1.90717715e-03  2.70854635e-03 -2.51728599e-03\n",
      "  1.21403160e-03  3.37229110e-03 -2.49906513e-03 -3.30989505e-03\n",
      " -1.40831887e-03 -7.88502162e-04 -3.71604838e-05 -2.91494979e-03\n",
      " -2.90589384e-03  1.00466853e-03 -2.75549083e-03 -2.85822339e-03\n",
      " -6.53529889e-04 -2.91975727e-03 -2.35460233e-03 -2.84878048e-03\n",
      " -1.35719369e-04 -1.61674200e-03  2.20167427e-03  5.35906351e-04\n",
      " -1.07698899e-03  2.07104883e-03 -2.07584747e-03 -1.58754201e-03\n",
      " -2.41974369e-03 -1.49620359e-03 -5.64743998e-04  2.24040868e-03\n",
      " -7.89542042e-04  1.53051526e-03  2.29267613e-03 -2.42053461e-03\n",
      "  1.32576784e-03  2.10307725e-03 -1.03107316e-03  2.32104026e-03\n",
      "  1.99052948e-03 -2.20880844e-03 -2.26937793e-03  1.08033756e-03\n",
      " -5.07243094e-04 -2.03140522e-03  3.10097332e-03 -1.72788580e-03\n",
      " -2.10546027e-03 -4.96320354e-06 -8.25907977e-04  6.56287157e-05\n",
      " -1.15167990e-03 -8.29113997e-05 -1.50668115e-04  4.23291174e-04\n",
      "  2.84321746e-03 -1.98259926e-03 -6.05577137e-04  1.90204743e-03\n",
      "  2.68128817e-03 -1.49855088e-03  3.04055982e-03  2.76858988e-03\n",
      " -1.44790160e-03  1.45494841e-05  1.39425008e-03 -1.32473058e-03\n",
      " -1.96219049e-03 -2.09853239e-03 -3.94796894e-04 -7.95998130e-05\n",
      "  1.41831429e-03 -6.68941822e-04  3.21550106e-05  8.89317598e-04\n",
      "  1.57750724e-03  6.12850090e-06 -2.00462597e-03 -3.16189695e-03\n",
      "  9.38929297e-05  2.25375104e-03  5.57172520e-04 -3.02893110e-03\n",
      " -2.66411295e-03  2.20739515e-03 -1.19667302e-03  1.93378807e-03\n",
      " -2.28310050e-03  2.89178523e-03 -2.09293957e-03  1.22198102e-03\n",
      " -3.24012828e-04 -2.37675128e-03 -1.04022282e-03 -3.31210758e-04\n",
      " -1.87312474e-03 -4.21665376e-04 -2.65975250e-03  7.45540077e-04\n",
      "  3.02243629e-03 -9.12804098e-04 -2.82464433e-04  1.28676137e-03\n",
      "  2.90342863e-03 -2.03893287e-03 -2.47702794e-03 -1.06508657e-03\n",
      "  3.18654696e-03  2.28236429e-04 -2.86793965e-03 -6.99346827e-04\n",
      "  3.03049013e-03 -2.61208299e-03 -1.76326360e-03  3.17894504e-03\n",
      " -3.14283208e-03  1.24036823e-03  2.29598576e-04  2.33655376e-03\n",
      "  2.83061783e-03 -8.48593074e-04 -1.50189572e-03  3.04836431e-03\n",
      "  5.25947602e-04  2.16367748e-03 -3.15062888e-03  3.16192815e-03\n",
      " -4.99547226e-04 -1.83024246e-03  9.31141083e-04 -1.33462847e-04\n",
      "  1.67965621e-03 -7.15125119e-04 -1.34680921e-03  8.17091030e-04\n",
      "  2.81631248e-03 -1.78744190e-03  9.60596255e-04 -2.71852501e-03\n",
      " -2.32794229e-03 -1.05134204e-04 -2.99692340e-03  9.02560831e-04\n",
      "  5.41429501e-04 -7.10465654e-04  1.78553339e-03  3.42483353e-03\n",
      "  2.84701888e-03 -7.38764880e-04  6.75762480e-04 -1.33892219e-03\n",
      " -2.86580762e-03  2.08748761e-03 -5.69362019e-04 -2.75380677e-04\n",
      " -5.92119468e-04 -1.60542736e-03  1.43428764e-03 -1.43171195e-03\n",
      " -3.40493862e-03  2.99958093e-03  1.31508149e-03  3.00936471e-03\n",
      "  2.19012355e-03  9.42139653e-04  3.21941962e-03 -1.47784571e-03\n",
      " -2.28655245e-03  1.38451625e-03  1.28246169e-03 -1.94719620e-03\n",
      "  3.16085434e-03 -1.19005155e-03  3.18237394e-03  1.27578154e-04\n",
      " -2.16712453e-03 -9.20440070e-04 -2.66533904e-03 -1.12259889e-03\n",
      "  4.70937899e-04  3.18923662e-03  3.04567022e-03 -2.23365030e-03\n",
      "  1.12579379e-03  6.40679093e-04 -8.41984467e-04 -3.12407501e-03\n",
      "  2.50917888e-04 -2.64346506e-03  2.20446149e-03 -1.96282472e-03\n",
      "  1.77418487e-03  3.33635998e-03 -9.28380541e-05  1.61825714e-03\n",
      " -6.21927844e-04  2.43008044e-03  1.31387589e-03 -3.20103252e-03\n",
      " -7.86845107e-04  1.15945272e-03 -5.55423139e-05 -3.73490329e-04\n",
      " -4.23040823e-04 -7.11016473e-04  2.09986596e-04  1.47767703e-03\n",
      " -1.42273388e-03 -1.20249228e-03  3.06241745e-05  1.17107760e-04\n",
      "  4.83445001e-05 -1.53894129e-03  1.26847078e-03 -8.04362586e-04\n",
      "  8.89761897e-04  2.70290591e-04  1.79233321e-03 -2.36858125e-03\n",
      " -2.18107738e-03 -1.43195712e-03  3.13738012e-03 -6.90157351e-04\n",
      " -3.21177486e-03 -2.35221465e-04 -1.49978383e-03  2.06390908e-03\n",
      " -3.29787750e-03  9.28850553e-04 -3.16258986e-03  4.33915906e-04\n",
      "  1.99301797e-03  2.40981136e-03 -2.46267882e-03 -2.04074266e-03\n",
      " -2.20739655e-03 -2.61280453e-03 -3.25088878e-03 -7.52310094e-04\n",
      " -1.38972915e-04 -2.38962681e-03  2.21543061e-03  4.57712100e-04\n",
      "  1.98714132e-03  4.91495011e-04  8.02836803e-05 -2.44276132e-03\n",
      " -7.16243347e-04  1.56623556e-03 -1.67222449e-03  5.38237218e-04\n",
      "  1.04179303e-03 -5.02086710e-04  3.42296879e-03  2.95046228e-03\n",
      "  7.85525073e-04  2.25766050e-03  2.03747442e-03 -1.92641898e-03]\n"
     ]
    }
   ],
   "source": [
    "word = \"train\"\n",
    "if word in model.wv.key_to_index:\n",
    "    word_vector = model.wv.get_vector(word)\n",
    "    print(word_vector)\n",
    "else:\n",
    "    print(f\"{word} not in vocabulary.\")"
   ]
  },
  {
   "cell_type": "code",
   "execution_count": null,
   "metadata": {},
   "outputs": [],
   "source": []
  }
 ],
 "metadata": {
  "kernelspec": {
   "display_name": "Python 3",
   "language": "python",
   "name": "python3"
  },
  "language_info": {
   "codemirror_mode": {
    "name": "ipython",
    "version": 3
   },
   "file_extension": ".py",
   "mimetype": "text/x-python",
   "name": "python",
   "nbconvert_exporter": "python",
   "pygments_lexer": "ipython3",
   "version": "3.11.1"
  },
  "orig_nbformat": 4
 },
 "nbformat": 4,
 "nbformat_minor": 2
}
