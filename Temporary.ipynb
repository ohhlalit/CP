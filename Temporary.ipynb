{
 "cells": [
  {
   "cell_type": "code",
   "execution_count": 2,
   "metadata": {},
   "outputs": [],
   "source": [
    "import pandas as pd"
   ]
  },
  {
   "attachments": {},
   "cell_type": "markdown",
   "metadata": {},
   "source": [
    "### CLUSTER 1"
   ]
  },
  {
   "cell_type": "code",
   "execution_count": 3,
   "metadata": {},
   "outputs": [],
   "source": [
    "df = pd.read_csv(\"E:\\Tarang\\Ashoka\\Python\\PYTHON PROJECT\\output.csv\")"
   ]
  },
  {
   "cell_type": "code",
   "execution_count": 4,
   "metadata": {},
   "outputs": [
    {
     "data": {
      "text/plain": [
       "2533"
      ]
     },
     "execution_count": 4,
     "metadata": {},
     "output_type": "execute_result"
    }
   ],
   "source": [
    "len(df)"
   ]
  },
  {
   "cell_type": "code",
   "execution_count": 9,
   "metadata": {},
   "outputs": [],
   "source": [
    "df = df[df['cluster'] == 1]"
   ]
  },
  {
   "cell_type": "code",
   "execution_count": 10,
   "metadata": {},
   "outputs": [],
   "source": [
    "df = df.drop(['Date','Cleaned_Speech','Cleaned_Speech_string','cluster', 'Unnamed: 0'], axis =1 )"
   ]
  },
  {
   "cell_type": "code",
   "execution_count": 11,
   "metadata": {},
   "outputs": [
    {
     "data": {
      "text/html": [
       "<div>\n",
       "<style scoped>\n",
       "    .dataframe tbody tr th:only-of-type {\n",
       "        vertical-align: middle;\n",
       "    }\n",
       "\n",
       "    .dataframe tbody tr th {\n",
       "        vertical-align: top;\n",
       "    }\n",
       "\n",
       "    .dataframe thead th {\n",
       "        text-align: right;\n",
       "    }\n",
       "</style>\n",
       "<table border=\"1\" class=\"dataframe\">\n",
       "  <thead>\n",
       "    <tr style=\"text-align: right;\">\n",
       "      <th></th>\n",
       "      <th>index</th>\n",
       "      <th>Title</th>\n",
       "      <th>Speech</th>\n",
       "    </tr>\n",
       "  </thead>\n",
       "  <tbody>\n",
       "    <tr>\n",
       "      <th>425</th>\n",
       "      <td>MSS1032</td>\n",
       "      <td>PM's speech to the Indian Community, Dar es Sa...</td>\n",
       "      <td>I am delighted to be here among you today in D...</td>\n",
       "    </tr>\n",
       "    <tr>\n",
       "      <th>426</th>\n",
       "      <td>MSS1117</td>\n",
       "      <td>PM's speech at the release of HUNGaMA (Hunger ...</td>\n",
       "      <td>\\n\\t“There are nearly 16 crore children in the...</td>\n",
       "    </tr>\n",
       "    <tr>\n",
       "      <th>427</th>\n",
       "      <td>MSS937</td>\n",
       "      <td>PM's address at the opening ceremony of 19th C...</td>\n",
       "      <td>The people of India are delighted to host the ...</td>\n",
       "    </tr>\n",
       "    <tr>\n",
       "      <th>428</th>\n",
       "      <td>MSS810</td>\n",
       "      <td>Extracts from Introductory Remarks by Prime Mi...</td>\n",
       "      <td>\\tLet me thank you for being present for a ver...</td>\n",
       "    </tr>\n",
       "    <tr>\n",
       "      <th>429</th>\n",
       "      <td>MSS1114</td>\n",
       "      <td>PM's address at the World Sanskrit Conference</td>\n",
       "      <td>\\n\\t“Sanskrit Bharat ki aatma hai. Iss liye mu...</td>\n",
       "    </tr>\n",
       "    <tr>\n",
       "      <th>...</th>\n",
       "      <td>...</td>\n",
       "      <td>...</td>\n",
       "      <td>...</td>\n",
       "    </tr>\n",
       "    <tr>\n",
       "      <th>985</th>\n",
       "      <td>MSS49</td>\n",
       "      <td>PM's address at  diamond jubilee celebrations ...</td>\n",
       "      <td>\"I am doubly delighted to be amongst you this...</td>\n",
       "    </tr>\n",
       "    <tr>\n",
       "      <th>986</th>\n",
       "      <td>MSS570</td>\n",
       "      <td>PM's remarks at the Book Release Function of D...</td>\n",
       "      <td>It is really an honour for us to have Shri Dev...</td>\n",
       "    </tr>\n",
       "    <tr>\n",
       "      <th>987</th>\n",
       "      <td>MSS571</td>\n",
       "      <td>PM's remarks at the Release of Book \"Mr. &amp; Mrs...</td>\n",
       "      <td>\"I am truly delighted to associate myself with...</td>\n",
       "    </tr>\n",
       "    <tr>\n",
       "      <th>988</th>\n",
       "      <td>MSS318</td>\n",
       "      <td>PM's speech at the banquet hosted by Uzbek Pre...</td>\n",
       "      <td>\"I would like to express my deep appreciation ...</td>\n",
       "    </tr>\n",
       "    <tr>\n",
       "      <th>989</th>\n",
       "      <td>MSS162</td>\n",
       "      <td>PM releases biography of Shri O P Jindal</td>\n",
       "      <td>\"I deem it a privilege to release this  book o...</td>\n",
       "    </tr>\n",
       "  </tbody>\n",
       "</table>\n",
       "<p>565 rows × 3 columns</p>\n",
       "</div>"
      ],
      "text/plain": [
       "       index                                              Title  \\\n",
       "425  MSS1032  PM's speech to the Indian Community, Dar es Sa...   \n",
       "426  MSS1117  PM's speech at the release of HUNGaMA (Hunger ...   \n",
       "427   MSS937  PM's address at the opening ceremony of 19th C...   \n",
       "428   MSS810  Extracts from Introductory Remarks by Prime Mi...   \n",
       "429  MSS1114      PM's address at the World Sanskrit Conference   \n",
       "..       ...                                                ...   \n",
       "985    MSS49  PM's address at  diamond jubilee celebrations ...   \n",
       "986   MSS570  PM's remarks at the Book Release Function of D...   \n",
       "987   MSS571  PM's remarks at the Release of Book \"Mr. & Mrs...   \n",
       "988   MSS318  PM's speech at the banquet hosted by Uzbek Pre...   \n",
       "989   MSS162           PM releases biography of Shri O P Jindal   \n",
       "\n",
       "                                                Speech  \n",
       "425  I am delighted to be here among you today in D...  \n",
       "426  \\n\\t“There are nearly 16 crore children in the...  \n",
       "427  The people of India are delighted to host the ...  \n",
       "428  \\tLet me thank you for being present for a ver...  \n",
       "429  \\n\\t“Sanskrit Bharat ki aatma hai. Iss liye mu...  \n",
       "..                                                 ...  \n",
       "985   \"I am doubly delighted to be amongst you this...  \n",
       "986  It is really an honour for us to have Shri Dev...  \n",
       "987  \"I am truly delighted to associate myself with...  \n",
       "988  \"I would like to express my deep appreciation ...  \n",
       "989  \"I deem it a privilege to release this  book o...  \n",
       "\n",
       "[565 rows x 3 columns]"
      ]
     },
     "execution_count": 11,
     "metadata": {},
     "output_type": "execute_result"
    }
   ],
   "source": [
    "df"
   ]
  },
  {
   "cell_type": "code",
   "execution_count": 11,
   "metadata": {},
   "outputs": [],
   "source": [
    "pd.set_option('display.max_colwidth', 100000)\n",
    "pd.set_option('display.max_rows', None)"
   ]
  },
  {
   "cell_type": "code",
   "execution_count": 13,
   "metadata": {},
   "outputs": [],
   "source": [
    "# Create a boolean mask for values starting with 'NM'\n",
    "mask_NM = df['index'].str.startswith('NM')\n",
    "\n",
    "# Create a boolean mask for values starting with 'MS'\n",
    "mask_MS = df['index'].str.startswith('MS')"
   ]
  },
  {
   "cell_type": "code",
   "execution_count": 19,
   "metadata": {},
   "outputs": [
    {
     "data": {
      "text/plain": [
       "181"
      ]
     },
     "execution_count": 19,
     "metadata": {},
     "output_type": "execute_result"
    }
   ],
   "source": [
    "count_true_NM = mask_NM.sum()\n",
    "count_true_NM"
   ]
  },
  {
   "cell_type": "code",
   "execution_count": 18,
   "metadata": {},
   "outputs": [
    {
     "data": {
      "text/plain": [
       "384"
      ]
     },
     "execution_count": 18,
     "metadata": {},
     "output_type": "execute_result"
    }
   ],
   "source": [
    "count_true = mask_MS.sum()\n",
    "count_true"
   ]
  },
  {
   "cell_type": "code",
   "execution_count": 14,
   "metadata": {},
   "outputs": [
    {
     "data": {
      "text/html": [
       "<div>\n",
       "<style scoped>\n",
       "    .dataframe tbody tr th:only-of-type {\n",
       "        vertical-align: middle;\n",
       "    }\n",
       "\n",
       "    .dataframe tbody tr th {\n",
       "        vertical-align: top;\n",
       "    }\n",
       "\n",
       "    .dataframe thead th {\n",
       "        text-align: right;\n",
       "    }\n",
       "</style>\n",
       "<table border=\"1\" class=\"dataframe\">\n",
       "  <thead>\n",
       "    <tr style=\"text-align: right;\">\n",
       "      <th></th>\n",
       "      <th>index</th>\n",
       "      <th>Title</th>\n",
       "      <th>Speech</th>\n",
       "    </tr>\n",
       "  </thead>\n",
       "  <tbody>\n",
       "    <tr>\n",
       "      <th>425</th>\n",
       "      <td>MSS1032</td>\n",
       "      <td>PM's speech to the Indian Community, Dar es Sa...</td>\n",
       "      <td>I am delighted to be here among you today in D...</td>\n",
       "    </tr>\n",
       "    <tr>\n",
       "      <th>426</th>\n",
       "      <td>MSS1117</td>\n",
       "      <td>PM's speech at the release of HUNGaMA (Hunger ...</td>\n",
       "      <td>\\n\\t“There are nearly 16 crore children in the...</td>\n",
       "    </tr>\n",
       "    <tr>\n",
       "      <th>427</th>\n",
       "      <td>MSS937</td>\n",
       "      <td>PM's address at the opening ceremony of 19th C...</td>\n",
       "      <td>The people of India are delighted to host the ...</td>\n",
       "    </tr>\n",
       "    <tr>\n",
       "      <th>428</th>\n",
       "      <td>MSS810</td>\n",
       "      <td>Extracts from Introductory Remarks by Prime Mi...</td>\n",
       "      <td>\\tLet me thank you for being present for a ver...</td>\n",
       "    </tr>\n",
       "    <tr>\n",
       "      <th>429</th>\n",
       "      <td>MSS1114</td>\n",
       "      <td>PM's address at the World Sanskrit Conference</td>\n",
       "      <td>\\n\\t“Sanskrit Bharat ki aatma hai. Iss liye mu...</td>\n",
       "    </tr>\n",
       "    <tr>\n",
       "      <th>...</th>\n",
       "      <td>...</td>\n",
       "      <td>...</td>\n",
       "      <td>...</td>\n",
       "    </tr>\n",
       "    <tr>\n",
       "      <th>985</th>\n",
       "      <td>MSS49</td>\n",
       "      <td>PM's address at  diamond jubilee celebrations ...</td>\n",
       "      <td>\"I am doubly delighted to be amongst you this...</td>\n",
       "    </tr>\n",
       "    <tr>\n",
       "      <th>986</th>\n",
       "      <td>MSS570</td>\n",
       "      <td>PM's remarks at the Book Release Function of D...</td>\n",
       "      <td>It is really an honour for us to have Shri Dev...</td>\n",
       "    </tr>\n",
       "    <tr>\n",
       "      <th>987</th>\n",
       "      <td>MSS571</td>\n",
       "      <td>PM's remarks at the Release of Book \"Mr. &amp; Mrs...</td>\n",
       "      <td>\"I am truly delighted to associate myself with...</td>\n",
       "    </tr>\n",
       "    <tr>\n",
       "      <th>988</th>\n",
       "      <td>MSS318</td>\n",
       "      <td>PM's speech at the banquet hosted by Uzbek Pre...</td>\n",
       "      <td>\"I would like to express my deep appreciation ...</td>\n",
       "    </tr>\n",
       "    <tr>\n",
       "      <th>989</th>\n",
       "      <td>MSS162</td>\n",
       "      <td>PM releases biography of Shri O P Jindal</td>\n",
       "      <td>\"I deem it a privilege to release this  book o...</td>\n",
       "    </tr>\n",
       "  </tbody>\n",
       "</table>\n",
       "<p>565 rows × 3 columns</p>\n",
       "</div>"
      ],
      "text/plain": [
       "       index                                              Title  \\\n",
       "425  MSS1032  PM's speech to the Indian Community, Dar es Sa...   \n",
       "426  MSS1117  PM's speech at the release of HUNGaMA (Hunger ...   \n",
       "427   MSS937  PM's address at the opening ceremony of 19th C...   \n",
       "428   MSS810  Extracts from Introductory Remarks by Prime Mi...   \n",
       "429  MSS1114      PM's address at the World Sanskrit Conference   \n",
       "..       ...                                                ...   \n",
       "985    MSS49  PM's address at  diamond jubilee celebrations ...   \n",
       "986   MSS570  PM's remarks at the Book Release Function of D...   \n",
       "987   MSS571  PM's remarks at the Release of Book \"Mr. & Mrs...   \n",
       "988   MSS318  PM's speech at the banquet hosted by Uzbek Pre...   \n",
       "989   MSS162           PM releases biography of Shri O P Jindal   \n",
       "\n",
       "                                                Speech  \n",
       "425  I am delighted to be here among you today in D...  \n",
       "426  \\n\\t“There are nearly 16 crore children in the...  \n",
       "427  The people of India are delighted to host the ...  \n",
       "428  \\tLet me thank you for being present for a ver...  \n",
       "429  \\n\\t“Sanskrit Bharat ki aatma hai. Iss liye mu...  \n",
       "..                                                 ...  \n",
       "985   \"I am doubly delighted to be amongst you this...  \n",
       "986  It is really an honour for us to have Shri Dev...  \n",
       "987  \"I am truly delighted to associate myself with...  \n",
       "988  \"I would like to express my deep appreciation ...  \n",
       "989  \"I deem it a privilege to release this  book o...  \n",
       "\n",
       "[565 rows x 3 columns]"
      ]
     },
     "execution_count": 14,
     "metadata": {},
     "output_type": "execute_result"
    }
   ],
   "source": [
    "df"
   ]
  },
  {
   "cell_type": "code",
   "execution_count": 20,
   "metadata": {},
   "outputs": [],
   "source": [
    "pd.set_option('display.max_colwidth', 100000)\n",
    "pd.set_option('display.max_rows', None)"
   ]
  },
  {
   "cell_type": "code",
   "execution_count": 22,
   "metadata": {},
   "outputs": [],
   "source": [
    "# df\n",
    "# Run this code to see complete speeches in cluster 1"
   ]
  },
  {
   "attachments": {},
   "cell_type": "markdown",
   "metadata": {},
   "source": [
    "### CLUSTER 2"
   ]
  },
  {
   "cell_type": "code",
   "execution_count": 23,
   "metadata": {},
   "outputs": [],
   "source": [
    "df_s = pd.read_csv(\"C:/Users/HP/Downloads/output.csv\")"
   ]
  },
  {
   "cell_type": "code",
   "execution_count": 25,
   "metadata": {},
   "outputs": [],
   "source": [
    "df_s = df_s[df_s['cluster'] == 2]"
   ]
  },
  {
   "cell_type": "code",
   "execution_count": 26,
   "metadata": {},
   "outputs": [],
   "source": [
    "df_s = df_s.drop(['Date','Cleaned_Speech','Cleaned_Speech_string','cluster', 'Unnamed: 0'], axis =1 )"
   ]
  },
  {
   "cell_type": "code",
   "execution_count": 27,
   "metadata": {},
   "outputs": [],
   "source": [
    "pd.set_option('display.max_colwidth', 100000)\n",
    "pd.set_option('display.max_rows', None)"
   ]
  },
  {
   "cell_type": "code",
   "execution_count": 30,
   "metadata": {},
   "outputs": [],
   "source": [
    "# Create a boolean mask for values starting with 'NM'\n",
    "mask_NM = df_s['index'].str.startswith('NM')\n",
    "\n",
    "# Create a boolean mask for values starting with 'MS'\n",
    "mask_MS = df_s['index'].str.startswith('MS')"
   ]
  },
  {
   "cell_type": "code",
   "execution_count": 31,
   "metadata": {},
   "outputs": [
    {
     "data": {
      "text/plain": [
       "320"
      ]
     },
     "execution_count": 31,
     "metadata": {},
     "output_type": "execute_result"
    }
   ],
   "source": [
    "count_true_NM = mask_NM.sum()\n",
    "count_true_NM"
   ]
  },
  {
   "cell_type": "code",
   "execution_count": 32,
   "metadata": {},
   "outputs": [
    {
     "data": {
      "text/plain": [
       "184"
      ]
     },
     "execution_count": 32,
     "metadata": {},
     "output_type": "execute_result"
    }
   ],
   "source": [
    "count_true = mask_MS.sum()\n",
    "count_true"
   ]
  },
  {
   "cell_type": "code",
   "execution_count": 35,
   "metadata": {},
   "outputs": [],
   "source": [
    "# Use this code to see whole speech in cluster 2\n",
    "#df_s\n"
   ]
  },
  {
   "attachments": {},
   "cell_type": "markdown",
   "metadata": {},
   "source": [
    "### CLUSTER 3"
   ]
  },
  {
   "cell_type": "code",
   "execution_count": 54,
   "metadata": {},
   "outputs": [],
   "source": [
    "df_3 = pd.read_csv(\"C:/Users/HP/Downloads/output.csv\")"
   ]
  },
  {
   "cell_type": "code",
   "execution_count": 55,
   "metadata": {},
   "outputs": [],
   "source": [
    "df_3 = df_3[df_3['cluster'] == 3]\n",
    "df_3 = df_3.drop(['Date','Cleaned_Speech','Cleaned_Speech_string','cluster', 'Unnamed: 0'], axis =1 )\n",
    "pd.set_option('display.max_colwidth', 100000)\n",
    "pd.set_option('display.max_rows', None)\n",
    "# Create a boolean mask for values starting with 'NM'\n",
    "mask_NM = df_3['index'].str.startswith('NM')\n",
    "\n",
    "# Create a boolean mask for values starting with 'MS'\n",
    "mask_MS = df_3['index'].str.startswith('MS')\n"
   ]
  },
  {
   "cell_type": "code",
   "execution_count": 56,
   "metadata": {},
   "outputs": [
    {
     "data": {
      "text/plain": [
       "91"
      ]
     },
     "execution_count": 56,
     "metadata": {},
     "output_type": "execute_result"
    }
   ],
   "source": [
    "count_true_NM = mask_NM.sum()\n",
    "count_true_NM"
   ]
  },
  {
   "cell_type": "code",
   "execution_count": 57,
   "metadata": {},
   "outputs": [
    {
     "data": {
      "text/plain": [
       "363"
      ]
     },
     "execution_count": 57,
     "metadata": {},
     "output_type": "execute_result"
    }
   ],
   "source": [
    "count_true = mask_MS.sum()\n",
    "count_true"
   ]
  },
  {
   "cell_type": "code",
   "execution_count": 59,
   "metadata": {},
   "outputs": [],
   "source": [
    "# Run this code to see all speeches for this cluster\n",
    "# df_3\n"
   ]
  },
  {
   "attachments": {},
   "cell_type": "markdown",
   "metadata": {},
   "source": [
    "### CLUSTER 0 "
   ]
  },
  {
   "cell_type": "code",
   "execution_count": 60,
   "metadata": {},
   "outputs": [],
   "source": [
    "df_0 = pd.read_csv(\"C:/Users/HP/Downloads/output.csv\")"
   ]
  },
  {
   "cell_type": "code",
   "execution_count": 61,
   "metadata": {},
   "outputs": [],
   "source": [
    "df_0 = df_0[df_0['cluster'] == 0]\n",
    "df_0 = df_0.drop(['Date','Cleaned_Speech','Cleaned_Speech_string','cluster', 'Unnamed: 0'], axis =1 )\n",
    "pd.set_option('display.max_colwidth', 100000)\n",
    "pd.set_option('display.max_rows', None)\n",
    "# Create a boolean mask for values starting with 'NM'\n",
    "mask_NM = df_0['index'].str.startswith('NM')\n",
    "\n",
    "# Create a boolean mask for values starting with 'MS'\n",
    "mask_MS = df_0['index'].str.startswith('MS')"
   ]
  },
  {
   "cell_type": "code",
   "execution_count": 62,
   "metadata": {},
   "outputs": [
    {
     "data": {
      "text/plain": [
       "137"
      ]
     },
     "execution_count": 62,
     "metadata": {},
     "output_type": "execute_result"
    }
   ],
   "source": [
    "count_true_NM = mask_NM.sum()\n",
    "count_true_NM"
   ]
  },
  {
   "cell_type": "code",
   "execution_count": 63,
   "metadata": {},
   "outputs": [
    {
     "data": {
      "text/plain": [
       "288"
      ]
     },
     "execution_count": 63,
     "metadata": {},
     "output_type": "execute_result"
    }
   ],
   "source": [
    "count_true = mask_MS.sum()\n",
    "count_true"
   ]
  },
  {
   "cell_type": "code",
   "execution_count": 1,
   "metadata": {},
   "outputs": [],
   "source": [
    "# df_0\n",
    "# Run this code to see all speeches"
   ]
  },
  {
   "attachments": {},
   "cell_type": "markdown",
   "metadata": {},
   "source": [
    "### CLUSTER 4"
   ]
  },
  {
   "cell_type": "code",
   "execution_count": 4,
   "metadata": {},
   "outputs": [],
   "source": [
    "import pandas as pd\n",
    "df_4 = pd.read_csv(\"C:/Users/HP/Downloads/output.csv\")"
   ]
  },
  {
   "cell_type": "code",
   "execution_count": 5,
   "metadata": {},
   "outputs": [],
   "source": [
    "df_4 = df_4[df_0['cluster'] == 4]\n",
    "df_4 = df_4.drop(['Date','Cleaned_Speech','Cleaned_Speech_string','cluster', 'Unnamed: 0'], axis =1 )\n",
    "pd.set_option('display.max_colwidth', 100000)\n",
    "pd.set_option('display.max_rows', None)\n",
    "# Create a boolean mask for values starting with 'NM'\n",
    "mask_NM = df_4['index'].str.startswith('NM')\n",
    "\n",
    "# Create a boolean mask for values starting with 'MS'\n",
    "mask_MS = df_4['index'].str.startswith('MS')"
   ]
  },
  {
   "cell_type": "code",
   "execution_count": 6,
   "metadata": {},
   "outputs": [
    {
     "data": {
      "text/plain": [
       "453"
      ]
     },
     "execution_count": 6,
     "metadata": {},
     "output_type": "execute_result"
    }
   ],
   "source": [
    "count_true_NM = mask_NM.sum()\n",
    "count_true_NM"
   ]
  },
  {
   "cell_type": "code",
   "execution_count": 7,
   "metadata": {},
   "outputs": [
    {
     "data": {
      "text/plain": [
       "132"
      ]
     },
     "execution_count": 7,
     "metadata": {},
     "output_type": "execute_result"
    }
   ],
   "source": [
    "count_true = mask_MS.sum()\n",
    "count_true"
   ]
  },
  {
   "cell_type": "code",
   "execution_count": 10,
   "metadata": {},
   "outputs": [],
   "source": [
    "# Run this code to see full text of speeches\n",
    "#df_4"
   ]
  }
 ],
 "metadata": {
  "kernelspec": {
   "display_name": "Python 3",
   "language": "python",
   "name": "python3"
  },
  "language_info": {
   "codemirror_mode": {
    "name": "ipython",
    "version": 3
   },
   "file_extension": ".py",
   "mimetype": "text/x-python",
   "name": "python",
   "nbconvert_exporter": "python",
   "pygments_lexer": "ipython3",
   "version": "3.11.1"
  },
  "orig_nbformat": 4
 },
 "nbformat": 4,
 "nbformat_minor": 2
}
